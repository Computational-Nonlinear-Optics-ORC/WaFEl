{
 "cells": [
  {
   "cell_type": "code",
   "execution_count": 1,
   "metadata": {
    "collapsed": false
   },
   "outputs": [
    {
     "name": "stdout",
     "output_type": "stream",
     "text": [
      "2.17882294985\n",
      "Doing calculation for:  1.445 1.444 1.55e-06 1e-05\n",
      "(1.44447081948-2.16958859839e-16j)\n",
      "Info    : Running 'gmsh fenics_mesh/Output.geo -2 -o fenics_mesh/output_small.msh' [Gmsh 2.12.0, 1 node, max. 1 thread]\n",
      "Info    : Started on Wed Aug 10 15:04:32 2016\n",
      "Info    : Reading 'fenics_mesh/Output.geo'...\n",
      "Info    : Done reading 'fenics_mesh/Output.geo'\n",
      "Info    : Meshing 1D...\n",
      "Info    : Meshing curve 1 (Circle)\n",
      "Info    : Meshing curve 2 (Circle)\n",
      "Info    : Meshing curve 3 (Circle)\n",
      "Info    : Meshing curve 4 (Circle)\n",
      "Info    : Meshing curve 5 (Circle)\n",
      "Info    : Meshing curve 6 (Circle)\n",
      "Info    : Meshing curve 7 (Circle)\n",
      "Info    : Meshing curve 8 (Circle)\n",
      "Info    : Meshing curve 9 (Circle)\n",
      "Info    : Meshing curve 10 (Circle)\n",
      "Info    : Meshing curve 11 (Circle)\n",
      "Info    : Meshing curve 12 (Circle)\n",
      "Info    : Meshing curve 13 (Circle)\n",
      "Info    : Meshing curve 14 (Circle)\n",
      "Info    : Meshing curve 15 (Circle)\n",
      "Info    : Meshing curve 16 (Circle)\n",
      "Info    : Meshing curve 17 (Line)\n",
      "Info    : Meshing curve 18 (Line)\n",
      "Info    : Meshing curve 19 (Line)\n",
      "Info    : Meshing curve 20 (Line)\n",
      "Info    : Done meshing 1D (0.004 s)\n",
      "Info    : Meshing 2D...\n",
      "Info    : Meshing surface 23 (Plane, Delaunay)\n",
      "Info    : Meshing surface 25 (Plane, Delaunay)\n",
      "Info    : Meshing surface 26 (Plane, Delaunay)\n",
      "Info    : Done meshing 2D (0.0157962 s)\n",
      "Info    : 397 vertices 867 elements\n",
      "Info    : Writing 'fenics_mesh/output_small.msh'...\n",
      "Info    : Done writing 'fenics_mesh/output_small.msh'\n",
      "Info    : Stopped on Wed Aug 10 15:04:32 2016\n",
      "\n",
      "Converting from Gmsh format (.msh, .gmsh) to DOLFIN XML format\n",
      "Expecting 396 vertices\n",
      "Found all vertices\n",
      "Expecting 778 cells\n",
      "Found all cells\n",
      "Conversion done\n",
      "\n",
      "assembling FEniCS matrixes.........\n"
     ]
    },
    {
     "ename": "NameError",
     "evalue": "global name 'r_core' is not defined",
     "output_type": "error",
     "traceback": [
      "\u001b[1;31m---------------------------------------------------------------------------\u001b[0m",
      "\u001b[1;31mNameError\u001b[0m                                 Traceback (most recent call last)",
      "\u001b[1;32m/home/john/storage/Dropbox/PhD_year_1/Fenics_mode_finder/testing.py\u001b[0m in \u001b[0;36m<module>\u001b[1;34m()\u001b[0m\n\u001b[0;32m     57\u001b[0m \t\t\tnum,lam_mult,mesh_refinement,ref_single_step,extinction_single_step)\n\u001b[0;32m     58\u001b[0m \u001b[1;32mif\u001b[0m \u001b[0m__name__\u001b[0m \u001b[1;33m==\u001b[0m \u001b[1;34m'__main__'\u001b[0m\u001b[1;33m:\u001b[0m\u001b[1;33m\u001b[0m\u001b[0m\n\u001b[1;32m---> 59\u001b[1;33m         \u001b[0mtest_single_mode_real\u001b[0m\u001b[1;33m(\u001b[0m\u001b[1;33m)\u001b[0m\u001b[1;33m\u001b[0m\u001b[0m\n\u001b[0m",
      "\u001b[1;32m/home/john/storage/Dropbox/PhD_year_1/Fenics_mode_finder/testing.py\u001b[0m in \u001b[0;36mtest_single_mode_real\u001b[1;34m()\u001b[0m\n\u001b[0;32m     55\u001b[0m         \u001b[0mmesh_refinement\u001b[0m \u001b[1;33m=\u001b[0m \u001b[1;36m0\u001b[0m\u001b[1;33m\u001b[0m\u001b[0m\n\u001b[0;32m     56\u001b[0m \tmain_t(a,b,lamda,r_core,r_clad,ncore,nclad,neff_g,\n\u001b[1;32m---> 57\u001b[1;33m \t\t\tnum,lam_mult,mesh_refinement,ref_single_step,extinction_single_step)\n\u001b[0m\u001b[0;32m     58\u001b[0m \u001b[1;32mif\u001b[0m \u001b[0m__name__\u001b[0m \u001b[1;33m==\u001b[0m \u001b[1;34m'__main__'\u001b[0m\u001b[1;33m:\u001b[0m\u001b[1;33m\u001b[0m\u001b[0m\n\u001b[0;32m     59\u001b[0m         \u001b[0mtest_single_mode_real\u001b[0m\u001b[1;33m(\u001b[0m\u001b[1;33m)\u001b[0m\u001b[1;33m\u001b[0m\u001b[0m\n",
      "\u001b[1;32m/home/john/storage/Dropbox/PhD_year_1/Fenics_mode_finder/testing.py\u001b[0m in \u001b[0;36mmain_t\u001b[1;34m(a, b, lamda, r_core, r_clad, ncore, nclad, neff_g, num, lam_mult, mesh_refinement, ref, extinction)\u001b[0m\n\u001b[0;32m     14\u001b[0m         \u001b[0mbox_domain\u001b[0m \u001b[1;33m=\u001b[0m \u001b[0mbox_domains\u001b[0m\u001b[1;33m(\u001b[0m\u001b[0ma\u001b[0m\u001b[1;33m,\u001b[0m\u001b[0mb\u001b[0m\u001b[1;33m)\u001b[0m\u001b[1;33m\u001b[0m\u001b[0m\n\u001b[0;32m     15\u001b[0m \tmodes_vec = main(box_domain,waveguide,vector_order,nodal_order,num,neff_g,lam_mult,k = 0,\\\n\u001b[1;32m---> 16\u001b[1;33m \t                 size1 = 512,size2 = 512, mesh_plot = False,filename = 'geometry_test.geo')\n\u001b[0m\u001b[0;32m     17\u001b[0m         \u001b[0mmesh\u001b[0m \u001b[1;33m=\u001b[0m \u001b[0mmodes_vec\u001b[0m\u001b[1;33m[\u001b[0m\u001b[1;33m-\u001b[0m\u001b[1;36m1\u001b[0m\u001b[1;33m]\u001b[0m\u001b[1;33m\u001b[0m\u001b[0m\n\u001b[0;32m     18\u001b[0m         \u001b[0mmodes_vec\u001b[0m \u001b[1;33m=\u001b[0m\u001b[0mmodes_vec\u001b[0m\u001b[1;33m[\u001b[0m\u001b[1;33m:\u001b[0m\u001b[1;33m-\u001b[0m\u001b[1;36m1\u001b[0m\u001b[1;33m]\u001b[0m\u001b[1;33m\u001b[0m\u001b[0m\n",
      "\u001b[1;32m/home/john/storage/Dropbox/PhD_year_1/Fenics_mode_finder/functions_dispersion_analysis.py\u001b[0m in \u001b[0;36mmain\u001b[1;34m(box_domain, waveguide, vector_order, nodal_order, num, neff_g, lam_mult, min_max, gmesh_mesh_new, k, size1, size2, mesh_plot, filename, mesh_refinement, mesh)\u001b[0m\n\u001b[0;32m    573\u001b[0m     \u001b[1;32mprint\u001b[0m\u001b[1;33m(\u001b[0m\u001b[1;34m\"assembling FEniCS matrixes.........\"\u001b[0m\u001b[1;33m,\u001b[0m\u001b[1;33m)\u001b[0m\u001b[1;33m\u001b[0m\u001b[0m\n\u001b[0;32m    574\u001b[0m     combined_space, A, B, A_complex, B_complex = Matrix_creation(mesh,waveguide.mu_r,k,waveguide.k0,waveguide.ref,\n\u001b[1;32m--> 575\u001b[1;33m                                                                waveguide.extinction,vector_order,nodal_order)\n\u001b[0m\u001b[0;32m    576\u001b[0m     \u001b[1;32mprint\u001b[0m\u001b[1;33m(\u001b[0m\u001b[1;34m\"OK\\n\"\u001b[0m\u001b[1;33m)\u001b[0m\u001b[1;33m\u001b[0m\u001b[0m\n\u001b[0;32m    577\u001b[0m \u001b[1;33m\u001b[0m\u001b[0m\n",
      "\u001b[1;32m/home/john/storage/Dropbox/PhD_year_1/Fenics_mode_finder/functions_dispersion_analysis.py\u001b[0m in \u001b[0;36mMatrix_creation\u001b[1;34m(mesh, mu_r, k, k0, ref, extinction, vector_order, nodal_order)\u001b[0m\n\u001b[0;32m    247\u001b[0m     \u001b[1;33m(\u001b[0m\u001b[0mN_i\u001b[0m\u001b[1;33m,\u001b[0m\u001b[0mL_i\u001b[0m\u001b[1;33m)\u001b[0m \u001b[1;33m=\u001b[0m \u001b[0mdf\u001b[0m\u001b[1;33m.\u001b[0m\u001b[0mTestFunctions\u001b[0m\u001b[1;33m(\u001b[0m\u001b[0mcombined_space\u001b[0m\u001b[1;33m)\u001b[0m\u001b[1;33m\u001b[0m\u001b[0m\n\u001b[0;32m    248\u001b[0m     \u001b[1;33m(\u001b[0m\u001b[0mN_j\u001b[0m\u001b[1;33m,\u001b[0m\u001b[0mL_j\u001b[0m\u001b[1;33m)\u001b[0m \u001b[1;33m=\u001b[0m \u001b[0mdf\u001b[0m\u001b[1;33m.\u001b[0m\u001b[0mTrialFunctions\u001b[0m\u001b[1;33m(\u001b[0m\u001b[0mcombined_space\u001b[0m\u001b[1;33m)\u001b[0m\u001b[1;33m\u001b[0m\u001b[0m\n\u001b[1;32m--> 249\u001b[1;33m     \u001b[0me_r_real\u001b[0m \u001b[1;33m=\u001b[0m \u001b[0mepsilon_real\u001b[0m\u001b[1;33m(\u001b[0m\u001b[0mref\u001b[0m\u001b[1;33m,\u001b[0m\u001b[0mr_core\u001b[0m\u001b[1;33m,\u001b[0m\u001b[0mr_clad\u001b[0m\u001b[1;33m,\u001b[0m\u001b[0mncore\u001b[0m\u001b[1;33m,\u001b[0m\u001b[0mnclad\u001b[0m\u001b[1;33m,\u001b[0m\u001b[1;33m)\u001b[0m\u001b[1;33m\u001b[0m\u001b[0m\n\u001b[0m\u001b[0;32m    250\u001b[0m \u001b[1;33m\u001b[0m\u001b[0m\n\u001b[0;32m    251\u001b[0m     \u001b[0ms_tt_ij\u001b[0m \u001b[1;33m=\u001b[0m \u001b[1;36m1.0\u001b[0m\u001b[1;33m/\u001b[0m\u001b[0mmu_r\u001b[0m\u001b[1;33m*\u001b[0m\u001b[0mdf\u001b[0m\u001b[1;33m.\u001b[0m\u001b[0minner\u001b[0m\u001b[1;33m(\u001b[0m\u001b[0mdf\u001b[0m\u001b[1;33m.\u001b[0m\u001b[0mcurl\u001b[0m\u001b[1;33m(\u001b[0m\u001b[0mN_i\u001b[0m\u001b[1;33m)\u001b[0m\u001b[1;33m,\u001b[0m\u001b[0mdf\u001b[0m\u001b[1;33m.\u001b[0m\u001b[0mcurl\u001b[0m\u001b[1;33m(\u001b[0m\u001b[0mN_j\u001b[0m\u001b[1;33m)\u001b[0m\u001b[1;33m)\u001b[0m\u001b[1;33m\u001b[0m\u001b[0m\n",
      "\u001b[1;31mNameError\u001b[0m: global name 'r_core' is not defined"
     ]
    }
   ],
   "source": [
    "%run testing.py"
   ]
  },
  {
   "cell_type": "code",
   "execution_count": null,
   "metadata": {
    "collapsed": true
   },
   "outputs": [],
   "source": []
  },
  {
   "cell_type": "code",
   "execution_count": null,
   "metadata": {
    "collapsed": true
   },
   "outputs": [],
   "source": []
  }
 ],
 "metadata": {
  "kernelspec": {
   "display_name": "Python 2",
   "language": "python",
   "name": "python2"
  },
  "language_info": {
   "codemirror_mode": {
    "name": "ipython",
    "version": 2
   },
   "file_extension": ".py",
   "mimetype": "text/x-python",
   "name": "python",
   "nbconvert_exporter": "python",
   "pygments_lexer": "ipython2",
   "version": "2.7.12"
  }
 },
 "nbformat": 4,
 "nbformat_minor": 0
}
