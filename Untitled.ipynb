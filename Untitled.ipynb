{
 "cells": [
  {
   "cell_type": "code",
   "execution_count": 1,
   "metadata": {
    "collapsed": true
   },
   "outputs": [],
   "source": [
    "from dolfin import *\n",
    "import numpy as np\n",
    "if not has_linear_algebra_backend(\"PETSc\"):\n",
    "    print(\"DOLFIN has not been configured with PETSc. Exiting.\")\n",
    "    exit()\n",
    "if not has_slepc():\n",
    "    print(\"DOLFIN has not been configured with SLEPc. Exiting.\")\n",
    "    exit()"
   ]
  },
  {
   "cell_type": "code",
   "execution_count": 4,
   "metadata": {
    "collapsed": false
   },
   "outputs": [],
   "source": [
    "def eigenvalues(V, bcs):\n",
    "    #\n",
    "    # Define the bilinear forms on the right- and left-hand sides\n",
    "    u = TrialFunction(V)\n",
    "    v = TestFunction(V)\n",
    "    a = inner(curl(u), curl(v))*dx\n",
    "    b = inner(u, v)*dx\n",
    "    #\n",
    "    # Assemble into PETSc matrices\n",
    "    dummy = v[0]*dx\n",
    "    A = PETScMatrix()\n",
    "    assemble_system(a, dummy, bcs, A_tensor=A)\n",
    "    B = PETScMatrix()\n",
    "    assemble_system(b, dummy, bcs, A_tensor=B)\n",
    "    #\n",
    "    [bc.zero(B) for bc in bcs]\n",
    "    #\n",
    "    solver = SLEPcEigenSolver(A, B)\n",
    "    solver.parameters[\"solver\"] = \"krylov-schur\"\n",
    "    solver.parameters[\"problem_type\"] = \"gen_hermitian\"\n",
    "    #\n",
    "    solver.parameters[\"spectrum\"] = \"target magnitude\"\n",
    "    solver.parameters[\"spectral_transform\"] = \"shift-and-invert\"\n",
    "    solver.parameters[\"spectral_shift\"] = 5.5\n",
    "    neigs = 12\n",
    "    solver.solve(neigs)\n",
    "    #\n",
    "    # Return the computed eigenvalues in a sorted array\n",
    "    computed_eigenvalues = []\n",
    "    for i in range(min(neigs, solver.get_number_converged())):\n",
    "        r, _ = solver.get_eigenvalue(i) # ignore the imaginary part\n",
    "        computed_eigenvalues.append(r)\n",
    "    return np.sort(np.array(computed_eigenvalues))\n"
   ]
  },
  {
   "cell_type": "code",
   "execution_count": 6,
   "metadata": {
    "collapsed": true
   },
   "outputs": [],
   "source": [
    "def print_eigenvalues(mesh):\n",
    "    #\n",
    "    nedelec_V   = FunctionSpace(mesh, \"N1curl\", 1)\n",
    "    nedelec_bcs = [DirichletBC(nedelec_V, Constant((0.0, 0.0)), DomainBoundary())]\n",
    "    nedelec_eig = eigenvalues(nedelec_V, nedelec_bcs)\n",
    "#\n",
    "    lagrange_V   = VectorFunctionSpace(mesh, \"Lagrange\", 1)\n",
    "    lagrange_bcs = [DirichletBC(lagrange_V.sub(1), 0, \"near(x[0], 0) || near(x[0], pi)\"),\n",
    "                    DirichletBC(lagrange_V.sub(0), 0, \"near(x[1], 0) || near(x[1], pi)\")]\n",
    "    lagrange_eig = eigenvalues(lagrange_V, lagrange_bcs)\n",
    "    #\n",
    "    true_eig = np.sort(np.array([float(m**2 + n**2) for m in range(6) for n in range(6)]))[1:13]\n",
    "    #\n",
    "    np.set_printoptions(formatter={'float': '{:5.2f}'.format})\n",
    "    print(\"Nedelec:  {}\".format(nedelec_eig))\n",
    "    print(\"Lagrange: {}\".format(lagrange_eig))\n",
    "    print(\"Exact:    {}\".format(true_eig))\n"
   ]
  },
  {
   "cell_type": "code",
   "execution_count": 7,
   "metadata": {
    "collapsed": false
   },
   "outputs": [
    {
     "name": "stdout",
     "output_type": "stream",
     "text": [
      "\n",
      "diagonal mesh\n",
      "Calling FFC just-in-time (JIT) compiler, this may take some time.\n",
      "Calling FFC just-in-time (JIT) compiler, this may take some time.\n",
      "Calling FFC just-in-time (JIT) compiler, this may take some time.\n",
      "Calling FFC just-in-time (JIT) compiler, this may take some time.\n",
      "Calling FFC just-in-time (JIT) compiler, this may take some time.\n",
      "Calling FFC just-in-time (JIT) compiler, this may take some time.\n",
      "Calling FFC just-in-time (JIT) compiler, this may take some time.\n",
      "Calling FFC just-in-time (JIT) compiler, this may take some time.\n",
      "Nedelec:  [ 1.00  1.00  2.00  4.00  4.00  5.00  5.00  8.01  8.98  8.99  9.99  9.99]\n",
      "Lagrange: [ 5.16  5.26  5.26  5.30  5.39  5.45  5.53  5.61  5.61  5.62  5.71  5.73]\n",
      "Exact:    [ 1.00  1.00  2.00  4.00  4.00  5.00  5.00  8.00  9.00  9.00 10.00 10.00]\n",
      "\n",
      "crossed mesh\n",
      "Nedelec:  [ 1.00  1.00  2.00  4.00  4.00  5.00  5.00  7.99  9.00  9.00 10.00 10.00]\n",
      "Lagrange: [ 1.00  1.00  2.00  4.00  4.00  5.00  5.00  6.00  8.01  9.01  9.01 10.02]\n",
      "Exact:    [ 1.00  1.00  2.00  4.00  4.00  5.00  5.00  8.00  9.00  9.00 10.00 10.00]\n"
     ]
    }
   ],
   "source": [
    "mesh = RectangleMesh(Point(0, 0), Point(pi, pi), 40, 40)\n",
    "print(\"\\ndiagonal mesh\")\n",
    "print_eigenvalues(mesh)\n",
    "\n",
    "mesh = RectangleMesh(Point(0, 0), Point(pi, pi), 40, 40, \"crossed\")\n",
    "print(\"\\ncrossed mesh\")\n",
    "print_eigenvalues(mesh)"
   ]
  },
  {
   "cell_type": "code",
   "execution_count": null,
   "metadata": {
    "collapsed": true
   },
   "outputs": [],
   "source": []
  }
 ],
 "metadata": {
  "kernelspec": {
   "display_name": "Python 2",
   "language": "python",
   "name": "python2"
  },
  "language_info": {
   "codemirror_mode": {
    "name": "ipython",
    "version": 2
   },
   "file_extension": ".py",
   "mimetype": "text/x-python",
   "name": "python",
   "nbconvert_exporter": "python",
   "pygments_lexer": "ipython2",
   "version": "2.7.12"
  }
 },
 "nbformat": 4,
 "nbformat_minor": 0
}
