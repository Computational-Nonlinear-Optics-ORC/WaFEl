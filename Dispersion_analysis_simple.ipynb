{
 "cells": [
  {
   "cell_type": "code",
   "execution_count": 1,
   "metadata": {
    "collapsed": false
   },
   "outputs": [],
   "source": [
    "from __future__ import division#, print_function\n",
    "import numpy as np\n",
    "from scipy.constants import c,pi\n",
    "from scipy.sparse.linalg import eigs, eigsh\n",
    "from scipy.linalg import eig\n",
    "from scipy.sparse import csr_matrix, lil_matrix, csc_matrix\n",
    "import matplotlib.pylab as plt\n",
    "from matplotlib.colors import from_levels_and_colors\n",
    "import time\n",
    "from functions_dispersion_analysis import *"
   ]
  },
  {
   "cell_type": "code",
   "execution_count": 2,
   "metadata": {
    "collapsed": true
   },
   "outputs": [],
   "source": [
    "%matplotlib inline"
   ]
  },
  {
   "cell_type": "code",
   "execution_count": 3,
   "metadata": {
    "collapsed": true
   },
   "outputs": [],
   "source": [
    "a = 1e-4\n",
    "b = 1e-4\n"
   ]
  },
  {
   "cell_type": "code",
   "execution_count": 4,
   "metadata": {
    "collapsed": true
   },
   "outputs": [],
   "source": [
    "mu_r = 1.0\n",
    "lamda = 1.55e-6\n",
    "r_core = 0.2e-5 # radius of core\n",
    "r_clad = 5e-5 #radius of the fibre\n",
    "nclad = 1.444# - 0.1e-4j# ref index of cladding\n",
    "ncore = 1.5# - 1e-4j # ref index of core\n",
    "neff_g = ncore # Guess of the modes\n",
    "num= 20   #The number of modes guess \n",
    "#neff_g= ncore\n",
    "lam_mult = 1\n",
    "# Asks GMSH to create a mesh that has this number multiplied by the wavelength \n",
    "mesh_refinement = 0 # number of times to uniformly refine the mesh (used for convergence plots and better results)\n",
    "vector_order = 3\n",
    "nodal_order = 3"
   ]
  },
  {
   "cell_type": "code",
   "execution_count": 6,
   "metadata": {
    "collapsed": false
   },
   "outputs": [
    {
     "name": "stdout",
     "output_type": "stream",
     "text": [
      "3.29185791881\n"
     ]
    }
   ],
   "source": [
    "#from testing.Single_mode_fibre.Single_mode_theoretical import *\n",
    "#neff_th, Aeff_th = main_test(ncore,nclad,lamda,r_core,r_clad)\n",
    "k =0 \n",
    "\n",
    "if k ==0:\n",
    "    V = 2*pi/lamda*r_core*(ncore**2 - nclad**2)**0.5\n",
    "    print(V)\n"
   ]
  },
  {
   "cell_type": "code",
   "execution_count": 7,
   "metadata": {
    "collapsed": true
   },
   "outputs": [],
   "source": [
    "def ref(x,values = np.zeros(1)):\n",
    "    point = (x[0]**2+ x[1]**2)**0.5\n",
    "    if  point<= r_core:\n",
    "        values[0] = ncore.real**2 - ncore.imag**2\n",
    "    elif point > r_core and point <= r_clad:\n",
    "        values[0] = nclad.real**2 - nclad.imag**2\n",
    "    else:\n",
    "        values[0] = 1.\n",
    "    return values\n",
    "\n",
    "def extinction(x,values = np.zeros(1)):\n",
    "    point = (x[0]**2+ x[1]**2)**0.5\n",
    "    if  point<= r_core:\n",
    "        values[0] = -2*ncore.imag*ncore.real\n",
    "    elif point > r_core and point <= r_clad:\n",
    "        values[0] = -2*nclad.imag*ncore.real\n",
    "    else:\n",
    "        values[0] = 0\n",
    "    return values"
   ]
  },
  {
   "cell_type": "code",
   "execution_count": 8,
   "metadata": {
    "collapsed": false
   },
   "outputs": [],
   "source": [
    "waveguide = waveguide_inputs(lamda,ref,extinction)\n",
    "waveguide.fibre(True,r_core,r_clad,ncore,nclad)\n",
    "k = is_loss(ncore,nclad)\n",
    "box_domain = box_domains(a,a)"
   ]
  },
  {
   "cell_type": "code",
   "execution_count": 9,
   "metadata": {
    "collapsed": true
   },
   "outputs": [],
   "source": [
    "mesh = None"
   ]
  },
  {
   "cell_type": "markdown",
   "metadata": {},
   "source": [
    "## Main function"
   ]
  },
  {
   "cell_type": "code",
   "execution_count": 10,
   "metadata": {
    "collapsed": false
   },
   "outputs": [],
   "source": [
    "#min_max = (-box_domain.a, box_domain.a,-box_domain.b, box_domain.b)"
   ]
  },
  {
   "cell_type": "code",
   "execution_count": 11,
   "metadata": {
    "collapsed": false
   },
   "outputs": [
    {
     "name": "stdout",
     "output_type": "stream",
     "text": [
      "Info    : Running 'gmsh fenics_mesh/Output.geo -2 -o fenics_mesh/output_small.msh' [Gmsh 2.12.0, 1 node, max. 1 thread]\n",
      "Info    : Started on Wed Aug 17 17:31:58 2016\n",
      "Info    : Reading 'fenics_mesh/Output.geo'...\n",
      "Info    : Done reading 'fenics_mesh/Output.geo'\n",
      "Info    : Meshing 1D...\n",
      "Info    : Meshing curve 1 (Circle)\n",
      "Info    : Meshing curve 2 (Circle)\n",
      "Info    : Meshing curve 3 (Circle)\n",
      "Info    : Meshing curve 4 (Circle)\n",
      "Info    : Meshing curve 5 (Circle)\n",
      "Info    : Meshing curve 6 (Circle)\n",
      "Info    : Meshing curve 7 (Circle)\n",
      "Info    : Meshing curve 8 (Circle)\n",
      "Info    : Meshing curve 9 (Circle)\n",
      "Info    : Meshing curve 10 (Circle)\n",
      "Info    : Meshing curve 11 (Circle)\n",
      "Info    : Meshing curve 12 (Circle)\n",
      "Info    : Meshing curve 13 (Circle)\n",
      "Info    : Meshing curve 14 (Circle)\n",
      "Info    : Meshing curve 15 (Circle)\n",
      "Info    : Meshing curve 16 (Circle)\n",
      "Info    : Meshing curve 17 (Circle)\n",
      "Info    : Meshing curve 18 (Circle)\n",
      "Info    : Meshing curve 19 (Circle)\n",
      "Info    : Meshing curve 20 (Circle)\n",
      "Info    : Done meshing 1D (0.004 s)\n",
      "Info    : Meshing 2D...\n",
      "Info    : Meshing surface 23 (Plane, Delaunay)\n",
      "Info    : Meshing surface 25 (Plane, Delaunay)\n",
      "Info    : Meshing surface 26 (Plane, Delaunay)\n",
      "Info    : Done meshing 2D (0.00443101 s)\n",
      "Info    : 112 vertices 265 elements\n",
      "Info    : Writing 'fenics_mesh/output_small.msh'...\n",
      "Info    : Done writing 'fenics_mesh/output_small.msh'\n",
      "Info    : Stopped on Wed Aug 17 17:31:58 2016\n",
      "\n",
      "Converting from Gmsh format (.msh, .gmsh) to DOLFIN XML format\n",
      "Expecting 111 vertices\n",
      "Found all vertices\n",
      "Expecting 212 cells\n",
      "Found all cells\n",
      "Conversion done\n",
      "\n",
      "assembling FEniCS matrixes.........\n",
      "OK\n",
      "\n",
      "Applying Boundary conditions.........\n",
      "OK \n",
      "\n",
      "converting to Scipy CSR Matrixes.........\n",
      "OK \n",
      "\n",
      "Solving for eigenvalues, this may take some time........\n",
      "OK \n",
      "\n",
      "The effective index of the most dominant modes are:\n",
      "[ 1.48470572+0.j  1.46326715+0.j  1.46288513+0.j  1.46276581+0.j\n",
      "  1.46278949+0.j  1.48470879+0.j]\n",
      "\n",
      " \n",
      "  Calculating the electric field of the modes.......\n",
      "Interpolating mode: 0\n",
      "Interpolating mode: 1\n",
      "Interpolating mode: 2\n",
      "Interpolating mode: 3\n",
      "Interpolating mode: 4\n",
      "Interpolating mode: 5\n",
      "Done\n"
     ]
    }
   ],
   "source": [
    "\n",
    "modes_vec = main(box_domain,waveguide,vector_order,nodal_order,num,neff_g,lam_mult,min_max=None,k = 0,\\\n",
    "                 size1 = 512,size2 = 512, mesh_plot = False,filename = 'geometry_circular.geo')\n",
    "mesh = modes_vec[-1]\n",
    "modes_vec =modes_vec[:-1]"
   ]
  },
  {
   "cell_type": "markdown",
   "metadata": {},
   "source": [
    "## Postprocesing"
   ]
  },
  {
   "cell_type": "code",
   "execution_count": null,
   "metadata": {
    "collapsed": false
   },
   "outputs": [],
   "source": [
    "for mode in modes_vec:\n",
    "    mode.plot_electric_field(scales = 150000*8,sp=30,cont_scale=700)\n",
    "    #np.abs(neff_th - mode.neff).real\n",
    "    #np.abs(neff_th - mode.neff).imag"
   ]
  },
  {
   "cell_type": "code",
   "execution_count": null,
   "metadata": {
    "collapsed": true
   },
   "outputs": [],
   "source": []
  },
  {
   "cell_type": "code",
   "execution_count": null,
   "metadata": {
    "collapsed": true
   },
   "outputs": [],
   "source": []
  }
 ],
 "metadata": {
  "kernelspec": {
   "display_name": "Python 2",
   "language": "python",
   "name": "python2"
  },
  "language_info": {
   "codemirror_mode": {
    "name": "ipython",
    "version": 2
   },
   "file_extension": ".py",
   "mimetype": "text/x-python",
   "name": "python",
   "nbconvert_exporter": "python",
   "pygments_lexer": "ipython2",
   "version": "2.7.12"
  }
 },
 "nbformat": 4,
 "nbformat_minor": 0
}
