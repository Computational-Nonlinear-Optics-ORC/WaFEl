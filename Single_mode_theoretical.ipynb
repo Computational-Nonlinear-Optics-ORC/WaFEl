{
 "cells": [
  {
   "cell_type": "markdown",
   "metadata": {},
   "source": [
    "# Single mode fibre\n",
    "This uses the theoretical result of the single mode optical fibre in order to form a point of comparison to the Fenics solver. "
   ]
  },
  {
   "cell_type": "code",
   "execution_count": 2,
   "metadata": {
    "collapsed": false
   },
   "outputs": [
    {
     "name": "stderr",
     "output_type": "stream",
     "text": [
      "/usr/local/lib/python2.7/dist-packages/matplotlib/font_manager.py:273: UserWarning: Matplotlib is building the font cache using fc-list. This may take a moment.\n",
      "  warnings.warn('Matplotlib is building the font cache using fc-list. This may take a moment.')\n"
     ]
    }
   ],
   "source": [
    "from __future__ import division\n",
    "import numpy as np\n",
    "import matplotlib.pylab as plt\n",
    "from scipy.constants import c,pi\n",
    "from scipy.special import jv,kv\n",
    "from scipy.optimize import fsolve\n",
    "from math import atan\n",
    "from scipy.integrate import dblquad "
   ]
  },
  {
   "cell_type": "code",
   "execution_count": 3,
   "metadata": {
    "collapsed": false
   },
   "outputs": [],
   "source": [
    "#Inputs:\n",
    "n1 = 1.444\n",
    "n0 = 1.445\n",
    "lamda = 1.55e-6\n",
    "a = 1e-5\n",
    "V  = a*2*pi/lamda*(n0**2 - n1**2)**0.5\n",
    "Delta = (n0**2 - n1**2)/(2*n1**2)"
   ]
  },
  {
   "cell_type": "code",
   "execution_count": 4,
   "metadata": {
    "collapsed": false
   },
   "outputs": [],
   "source": [
    "def system(vec,V,Delta):\n",
    "    u,w = vec\n",
    "    return u**2+w**2 - V**2, jv(0,u)/(u*jv(1,u)) - (1-Delta)*kv(0,w)/(w*kv(1,w))"
   ]
  },
  {
   "cell_type": "code",
   "execution_count": 5,
   "metadata": {
    "collapsed": false
   },
   "outputs": [],
   "source": [
    "u,w = fsolve(system,[1,1],args=(V,Delta))"
   ]
  },
  {
   "cell_type": "code",
   "execution_count": 6,
   "metadata": {
    "collapsed": false
   },
   "outputs": [],
   "source": [
    "neff = (((n1/u)**2 + (n0/w)**2)/((1/u)**2 + (1/w)**2))**0.5\n",
    "beta = neff*2*pi/lamda"
   ]
  },
  {
   "cell_type": "code",
   "execution_count": 7,
   "metadata": {
    "collapsed": false
   },
   "outputs": [
    {
     "data": {
      "text/plain": [
       "1.4445293532400976"
      ]
     },
     "execution_count": 7,
     "metadata": {},
     "output_type": "execute_result"
    }
   ],
   "source": [
    "neff"
   ]
  },
  {
   "cell_type": "code",
   "execution_count": 8,
   "metadata": {
    "collapsed": false
   },
   "outputs": [],
   "source": [
    "def sigma(u,w,V,Delta):\n",
    "    return -1 - u**2 * w**2 * Delta * jv(0,u)/(V**2 * u * jv(1,u))\n"
   ]
  },
  {
   "cell_type": "code",
   "execution_count": 9,
   "metadata": {
    "collapsed": true
   },
   "outputs": [],
   "source": [
    "def cart_to_cyl(x,y,z):\n",
    "    \"\"\"\n",
    "    Transforms cartesian coordinates to cylyndrical coordinates\n",
    "    input x, y, z\n",
    "    returns tuple:  r, theta, z \n",
    "    \"\"\"\n",
    "    try:\n",
    "        return (x**2 + y**2)**0.5, atan(y/x),z\n",
    "    except ZeroDivisionError:\n",
    "        \n",
    "        return (x**2 + y**2)**0.5, atan(np.inf),z"
   ]
  },
  {
   "cell_type": "code",
   "execution_count": 10,
   "metadata": {
    "collapsed": false
   },
   "outputs": [],
   "source": [
    "x = np.linspace(-2*a,2*a,512)\n",
    "y = np.linspace(-2*a,2*a,512)"
   ]
  },
  {
   "cell_type": "code",
   "execution_count": 11,
   "metadata": {
    "collapsed": false
   },
   "outputs": [],
   "source": [
    "def electric_field(x,y,u,w,beta,a,V,psi,n):\n",
    "    n+=1\n",
    "    r,theta,z = cart_to_cyl(x,y,0)\n",
    "    s = sigma(u,w,V,Delta)\n",
    "    if r <=a:\n",
    "        er = (-1j* beta* a/u)*np.cos(n*theta +psi)*(0.5*(1-s)*jv(n-1,u*r/a) - 0.5*(1+s)*jv(n+1,u*r/a))\n",
    "        etheta = (1j*beta*a/u)*np.sin(n*theta+psi)*(0.5*(1-s)*jv(n-1,u*r/a)+0.5*(1+s)*jv(n+1,u*r/a))\n",
    "        ez = jv(n,u*r/a)*np.cos(n*theta+psi)\n",
    "    else:\n",
    "        er = -1j*beta *a *jv(n,u)/(w*kv(n,w))*(0.5*(1-s)*kv(n-1,w*r/a)+0.5*(1+s)*kv(n+1,w*r/a))*np.cos(n*theta + psi)\n",
    "        etheta = 1j*beta *a *jv(n,u)/(w*kv(n,w))*(0.5*(1-s)*kv(n-1,w*r/a)-0.5*(1+s)*kv(n+1,w*r/a))*np.sin(n*theta + psi)\n",
    "        ez = (jv(n,u)/w*kv(n,w))*np.cos(n*theta+psi) \n",
    "    ex = er*np.cos(theta) - etheta*np.sin(theta)\n",
    "    ey =er*np.sin(theta) + etheta*np.cos(theta)\n",
    "    return ex,ey,ez    "
   ]
  },
  {
   "cell_type": "code",
   "execution_count": 12,
   "metadata": {
    "collapsed": false
   },
   "outputs": [],
   "source": [
    "def plot_electric(x,y,u,w,beta,a,V):\n",
    "    ele = np.zeros([3,len(x),len(y)],dtype=np.complex128)\n",
    "    for i,xx in enumerate(x):\n",
    "        for j, yy in enumerate(y):\n",
    "            ele[:,i,j] = electric_field(xx,yy,u,w,beta,a,V,0,0)\n",
    "    abss = (np.abs(ele[0,:,:])**2 + np.abs(ele[1,:,:])**2 + np.abs(ele[2,:,:])**2)**0.5\n",
    "    X,Y = np.meshgrid(x,y)\n",
    "    fig = plt.figure()\n",
    "    plt.contourf(X,Y,abss)\n",
    "    plt.show\n",
    "    return 0\n",
    "    "
   ]
  },
  {
   "cell_type": "code",
   "execution_count": 13,
   "metadata": {
    "collapsed": false
   },
   "outputs": [
    {
     "data": {
      "text/plain": [
       "0"
      ]
     },
     "execution_count": 13,
     "metadata": {},
     "output_type": "execute_result"
    }
   ],
   "source": [
    "plot_electric(x,y,u,w,beta,a,V)"
   ]
  },
  {
   "cell_type": "code",
   "execution_count": 14,
   "metadata": {
    "collapsed": false
   },
   "outputs": [],
   "source": [
    "def I(y,x,u,w,beta,a,V,psi,n,po):\n",
    "    ex,ey,ez = electric_field(x,y,u,w,beta,a,V,psi,n)\n",
    "    return np.abs(np.abs(ex)**2 +np.abs(ex)**2 + np.abs(ex)**2)**po"
   ]
  },
  {
   "cell_type": "code",
   "execution_count": 15,
   "metadata": {
    "collapsed": false
   },
   "outputs": [],
   "source": [
    "def effective_area(a,u,w,beta,V,n):\n",
    "    top = dblquad(I,-2*a,2*a,lambda x : -2*a,lambda x: 2*a,args = (u,w,beta,a,V,0,n,1))\n",
    "    bottom = dblquad(I,-2*a,2*a,lambda x : -2*a,lambda x: 2*a,args = (u,w,beta,a,V,0,n,2))\n",
    "    A_eff = top[0]**2/bottom[0]\n",
    "    return A_eff"
   ]
  },
  {
   "cell_type": "code",
   "execution_count": 16,
   "metadata": {
    "collapsed": false
   },
   "outputs": [
    {
     "name": "stderr",
     "output_type": "stream",
     "text": [
      "/usr/local/lib/python2.7/dist-packages/scipy/integrate/quadpack.py:357: IntegrationWarning: The occurrence of roundoff error is detected, which prevents \n",
      "  the requested tolerance from being achieved.  The error may be \n",
      "  underestimated.\n",
      "  warnings.warn(msg, IntegrationWarning)\n"
     ]
    },
    {
     "data": {
      "text/plain": [
       "4.115536353963241e-10"
      ]
     },
     "execution_count": 16,
     "metadata": {},
     "output_type": "execute_result"
    }
   ],
   "source": [
    "effective_area(a,u,w,beta,V,0)"
   ]
  },
  {
   "cell_type": "code",
   "execution_count": null,
   "metadata": {
    "collapsed": true
   },
   "outputs": [],
   "source": []
  }
 ],
 "metadata": {
  "kernelspec": {
   "display_name": "Python 2",
   "language": "python",
   "name": "python2"
  },
  "language_info": {
   "codemirror_mode": {
    "name": "ipython",
    "version": 2
   },
   "file_extension": ".py",
   "mimetype": "text/x-python",
   "name": "python",
   "nbconvert_exporter": "python",
   "pygments_lexer": "ipython2",
   "version": "2.7.6"
  }
 },
 "nbformat": 4,
 "nbformat_minor": 0
}
