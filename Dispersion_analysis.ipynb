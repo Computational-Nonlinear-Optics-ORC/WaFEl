{
 "cells": [
  {
   "cell_type": "markdown",
   "metadata": {
    "slideshow": {
     "slide_type": "slide"
    }
   },
   "source": [
    "## Theory\n",
    "(taken from the fenics book)\n",
    "\n",
    "We are solving the Helmholtz equation:\n",
    "                       "
   ]
  },
  {
   "cell_type": "markdown",
   "metadata": {
    "slideshow": {
     "slide_type": "slide"
    }
   },
   "source": [
    " $$\\nabla \\times \\frac{1}{\\mu_r}\\nabla \\times \\boldsymbol{E} - k_0^2 \\epsilon_r \\boldsymbol{E}=0,$$ with the boundary condition of electric mirrors.\n",
    " $$k_0 = \\frac{2\\pi f_0}{c_0}$$\n",
    " \n",
    " $$\\epsilon_r = (n+\\mathrm{i}k)^2$$"
   ]
  },
  {
   "cell_type": "markdown",
   "metadata": {
    "slideshow": {
     "slide_type": "slide"
    }
   },
   "source": [
    "The functional is:\n",
    "$$F(\\boldsymbol{E}) = \\frac{1}{2} \\int_\\Omega \\left[\\frac{1}{\\mu_r} \\left(\\nabla \\times \\boldsymbol{E}\\right)\\cdot \\left(\\nabla \\times \\boldsymbol{E}\\right) - k^2_0 \\epsilon_r \\boldsymbol{E}\\boldsymbol{E}\\right]dx$$"
   ]
  },
  {
   "cell_type": "markdown",
   "metadata": {
    "slideshow": {
     "slide_type": "slide"
    }
   },
   "source": [
    "In order to find it the vector is split in to the transverse and axial components.\n",
    "\n",
    "$$\\nabla = \\nabla_t + \\nabla_z,$$\n",
    "with $$\\nabla_t = \\hat{e_x}\\frac{\\partial}{\\partial x} + \\hat{e_y}\\frac{\\partial}{\\partial y}$$\n",
    "and $$\\nabla_z = \\hat{e_z}\\frac{\\partial}{\\partial z}$$\n",
    "We also assume that the electric field can be split like:\n",
    "$$\\boldsymbol{E}(x,y,z) = \\left[E_t(x,y) + \\hat{e_z} E_z(x,y) \\right] e^{-\\beta z}$$\n",
    "where $\\beta$ is the complex propagation constant,\n",
    "$$\\boldsymbol{E}_t = \\hat{e_x} E_x + \\hat{e_y} E_y$$ and $$ \\boldsymbol{E}_{axial} = \\hat{e_z} E_z$$"
   ]
  },
  {
   "cell_type": "markdown",
   "metadata": {
    "slideshow": {
     "slide_type": "slide"
    }
   },
   "source": [
    "By splitting the $\\nabla$ and by substituting the above for the electric field the functional becomes:\n",
    "                               $$ F_{\\beta}(\\boldsymbol{E}) =  \\int_{\\Omega} \\frac{1}{\\mu_r} \\left(\\nabla_t \\times \\boldsymbol{E}_{t,\\beta}\\right) \\cdot \\left(\\nabla_t \\times \\boldsymbol{E}_{t,\\beta}\\right) -k^2_0 \\epsilon_r E_{t,\\beta}E_{t,\\beta} \\\\ + \\beta^2 \\left[\\frac{1}{\\mu_r} \\left(\\nabla_t E_z+\\beta E_{t,\\gamma}\\right)\\left(\\nabla_t E_z+\\beta E_{t,\\gamma}\\right) - k^2_0 \\epsilon_r E_z E_z dx \\right]$$"
   ]
  },
  {
   "cell_type": "markdown",
   "metadata": {
    "slideshow": {
     "slide_type": "slide"
    }
   },
   "source": [
    "Since the functional is built now the electric field components need to be discetized in order to be calculated. \n",
    "The axial component can be discretised by nodal basis functions (Lagrandge) but the transverse need to be by two dimensional curl-conforming vector basis functions(Nedelec).\n",
    "\n",
    "The electric field in the nedelec space is described by:\n",
    "$$E_{t} = \\sum_{i=1}^{N_{N}} (e_t)_i N_i$$\n",
    "\n",
    "and the axial in lagrange elements as:\n",
    "\n",
    "$$E_z = \\sum_{i=1}^{N_{L}} (e_z)_i L_i$$\n",
    " Where $N_N$ and $N_L$ are the number of nedelec and lagrange elements respectively. $N_i$, $L_i$ are the basis functions and $e_t$, $e_z$ are the equivalent coefficients."
   ]
  },
  {
   "cell_type": "markdown",
   "metadata": {
    "slideshow": {
     "slide_type": "slide"
    }
   },
   "source": [
    "While the cuttoff method is easier to implement it only prety much finds the cuttoff wavenumber (shown in fenics book and in other papers). This is not what is of interest. I am interested in calculating the propagation constants $\\beta$ and by extension the effective indices and the Electric field that they equate to."
   ]
  },
  {
   "cell_type": "markdown",
   "metadata": {
    "slideshow": {
     "slide_type": "slide"
    }
   },
   "source": [
    "The matrix eqution to be solved is\n",
    "\n",
    "$$\\begin{bmatrix}\n",
    "    A_{tt}       & 0 \\\\\n",
    "    0       & 0 \n",
    "\\end{bmatrix}\\begin{bmatrix}\n",
    "    e_t \\\\\n",
    "    e_z      \n",
    "\\end{bmatrix} = -\\beta^2\n",
    "\\begin{bmatrix}\n",
    "    B_{tt}       & B_{tz} \\\\\n",
    "    B_{zt}       & B_{zz} \n",
    "\\end{bmatrix}\\begin{bmatrix}\n",
    "    e_t \\\\\n",
    "    e_z      \n",
    "\\end{bmatrix}\n",
    "$$"
   ]
  },
  {
   "cell_type": "markdown",
   "metadata": {
    "slideshow": {
     "slide_type": "slide"
    }
   },
   "source": [
    "Where $$A_{tt} = S_{tt} - k^2_0 T_{tt} = \\int_{\\Omega} \\frac{1}{\\mu_r} \\left(\\nabla_t \\times N_i \\right) \\left(\\nabla_t \\times N_j \\right)dx \\\\ - k^2_0 \\int_{\\omega} \\epsilon_r N_i N_jdx$$\n",
    "\n",
    "$$B_{zz} = S_{zz} - k^2_0 T_{zz} = \\int_{\\Omega} \\frac{1}{\\mu_r} \\left(\\nabla_t L_i \\right) \\left(\\nabla_t L_j \\right)dx \\\\ - k^2_0 \\int_{\\omega} \\epsilon_r L_i L_j dx$$"
   ]
  },
  {
   "cell_type": "markdown",
   "metadata": {
    "slideshow": {
     "slide_type": "slide"
    }
   },
   "source": [
    "$$ B_{tt} = \\int_{\\Omega} \\frac{1}{\\mu_r} N_i \\cdot  N_j dx$$\n",
    "\n",
    "$$ B_{tz} = \\int_{\\Omega} \\frac{1}{\\mu_r} N_i \\cdot  \\nabla_t L_j dx$$\n",
    "\n",
    "$$ B_{zt} = \\int_{\\Omega} \\frac{1}{\\mu_r} \\nabla_t L_i \\cdot  N_j dx$$"
   ]
  },
  {
   "cell_type": "markdown",
   "metadata": {
    "slideshow": {
     "slide_type": "slide"
    }
   },
   "source": [
    "### Code\n",
    "Import the required modules"
   ]
  },
  {
   "cell_type": "code",
   "execution_count": 1,
   "metadata": {
    "collapsed": false,
    "slideshow": {
     "slide_type": "slide"
    }
   },
   "outputs": [],
   "source": [
    "%matplotlib notebook\n",
    "from __future__ import division#, print_function\n",
    "import numpy as np\n",
    "from scipy.constants import c,pi\n",
    "from scipy.sparse.linalg import eigs, eigsh\n",
    "from scipy.linalg import eig\n",
    "from scipy.sparse import csr_matrix, lil_matrix, csc_matrix\n",
    "import matplotlib.pyplot as plt\n",
    "from matplotlib import tri\n",
    "from scipy.integrate import simps\n",
    "import os\n",
    "from matplotlib.colors import from_levels_and_colors\n",
    "from dolfin import *\n",
    "import time\n",
    "from functions_dispersion_analysis import *"
   ]
  },
  {
   "cell_type": "markdown",
   "metadata": {
    "slideshow": {
     "slide_type": "slide"
    }
   },
   "source": [
    "The box domain:"
   ]
  },
  {
   "cell_type": "code",
   "execution_count": 2,
   "metadata": {
    "collapsed": false,
    "slideshow": {
     "slide_type": "-"
    }
   },
   "outputs": [],
   "source": [
    "a = 2e-4\n",
    "b = 2e-4"
   ]
  },
  {
   "cell_type": "markdown",
   "metadata": {
    "slideshow": {
     "slide_type": "slide"
    }
   },
   "source": [
    "Inputs of the problem"
   ]
  },
  {
   "cell_type": "code",
   "execution_count": 3,
   "metadata": {
    "collapsed": false
   },
   "outputs": [],
   "source": [
    "mu_r = 1.0 \n",
    "lamda = 1.55e-6\n",
    "r_core = 1e-5 # radius of core\n",
    "r_clad = 10e-5 #radius of the fibre\n",
    "nclad = 1.444#- 0.1e-4j# ref index of cladding\n",
    "ncore = 1.445 - 1e-4j # ref index of core\n",
    "#neff_g = 1.4445 # Guess of the modes\n",
    "num= 10   # The number of modes guess \n",
    "neff_g= ncore\n",
    "mesh_refinement = 0 # number of times to uniformly refine the mesh (used for convergence plots and better results)\n",
    "sparse_ =True"
   ]
  },
  {
   "cell_type": "code",
   "execution_count": 4,
   "metadata": {
    "collapsed": false
   },
   "outputs": [
    {
     "name": "stdout",
     "output_type": "stream",
     "text": [
      "(2.18153612913-0.108843319296j)\n",
      "Doing calculation for:  (1.445-0.0001j) 1.444 1.55e-06 1e-05\n",
      "((1.4444696341894405-7.8562093865609619e-05j), 4.160317256055599e-10)\n"
     ]
    }
   ],
   "source": [
    "from testing.Single_mode_fibre.Single_mode_theoretical import *\n",
    "neff_th, Aeff_th = main_test(ncore,nclad,lamda,r_core,r_clad)\n",
    "print(neff_th,Aeff_th)"
   ]
  },
  {
   "cell_type": "code",
   "execution_count": 5,
   "metadata": {
    "collapsed": false
   },
   "outputs": [],
   "source": [
    "k = is_loss(ncore,nclad)\n",
    "if k ==0:\n",
    "    V = 2*pi/lamda*r_core*(ncore**2 - nclad**2)**0.5\n",
    "    print(V)\n",
    "k0 = 2*pi/lamda"
   ]
  },
  {
   "cell_type": "code",
   "execution_count": 6,
   "metadata": {
    "collapsed": false,
    "slideshow": {
     "slide_type": "slide"
    }
   },
   "outputs": [],
   "source": [
    "def ref(x,values = np.zeros(1)):\n",
    "    point = (x[0]**2+ x[1]**2)**0.5\n",
    "    if  point<= r_core:\n",
    "        values[0] = ncore.real**2 - ncore.imag**2\n",
    "    elif point > r_core and point <= r_clad:\n",
    "        values[0] = nclad.real**2 - nclad.imag**2\n",
    "    else:\n",
    "        values[0] = 1.\n",
    "    return values\n",
    "\n",
    "def extinction(x,values = np.zeros(1)):\n",
    "    point = (x[0]**2+ x[1]**2)**0.5\n",
    "    if  point<= r_core:\n",
    "        values[0] = -2*ncore.imag*ncore.real\n",
    "    elif point > r_core and point <= r_clad:\n",
    "        values[0] = -2*nclad.imag*ncore.real\n",
    "    else:\n",
    "        values[0] = 0\n",
    "    return values"
   ]
  },
  {
   "cell_type": "markdown",
   "metadata": {
    "collapsed": false,
    "slideshow": {
     "slide_type": "slide"
    }
   },
   "source": [
    "x = np.linspace(-a,a,512)\n",
    "y = np.linspace(-b,b,512)\n",
    "n_prof,k_prof = geometry_plot(x,y,a,b,ref,extinction,nclad,ncore,r_core,r_clad)\n"
   ]
  },
  {
   "cell_type": "code",
   "execution_count": 7,
   "metadata": {
    "collapsed": false,
    "slideshow": {
     "slide_type": "slide"
    }
   },
   "outputs": [],
   "source": [
    "class epsilon_real(Expression):\n",
    "    def eval(self, values, x):\n",
    "       values = ref(x,values)\n",
    "\n",
    "class epsilon_imag(Expression):\n",
    "    def eval(self, values, x):\n",
    "       values = extinction(x,values)"
   ]
  },
  {
   "cell_type": "markdown",
   "metadata": {
    "slideshow": {
     "slide_type": "slide"
    }
   },
   "source": [
    "## Mesh"
   ]
  },
  {
   "cell_type": "markdown",
   "metadata": {},
   "source": [
    "Load the gmsh file and if asked for refine the mesh."
   ]
  },
  {
   "cell_type": "code",
   "execution_count": 8,
   "metadata": {
    "collapsed": false
   },
   "outputs": [
    {
     "name": "stdout",
     "output_type": "stream",
     "text": [
      "Info    : Running 'gmsh fenics_mesh/Output.geo -2 -o fenics_mesh/output_small.msh' [Gmsh 2.12.0, 1 node, max. 1 thread]\n",
      "Info    : Started on Mon Jun 27 14:17:57 2016\n",
      "Info    : Reading 'fenics_mesh/Output.geo'...\n",
      "Info    : Done reading 'fenics_mesh/Output.geo'\n",
      "Info    : Meshing 1D...\n",
      "Info    : Meshing curve 1 (Circle)\n",
      "Info    : Meshing curve 2 (Circle)\n",
      "Info    : Meshing curve 3 (Circle)\n",
      "Info    : Meshing curve 4 (Circle)\n",
      "Info    : Meshing curve 5 (Circle)\n",
      "Info    : Meshing curve 6 (Circle)\n",
      "Info    : Meshing curve 7 (Circle)\n",
      "Info    : Meshing curve 8 (Circle)\n",
      "Info    : Meshing curve 9 (Line)\n",
      "Info    : Meshing curve 10 (Line)\n",
      "Info    : Meshing curve 11 (Line)\n",
      "Info    : Meshing curve 12 (Line)\n",
      "Info    : Meshing curve 13 (Line)\n",
      "Info    : Meshing curve 14 (Line)\n",
      "Info    : Meshing curve 15 (Line)\n",
      "Info    : Meshing curve 16 (Line)\n",
      "Info    : Meshing curve 17 (Line)\n",
      "Info    : Meshing curve 18 (Line)\n",
      "Info    : Meshing curve 19 (Line)\n",
      "Info    : Meshing curve 20 (Line)\n",
      "Info    : Done meshing 1D (0.032 s)\n",
      "Info    : Meshing 2D...\n",
      "Info    : Meshing surface 22 (Plane, Delaunay)\n",
      "Info    : Meshing surface 24 (Plane, Delaunay)\n",
      "Info    : Meshing surface 26 (Plane, Delaunay)\n",
      "Info    : Meshing surface 28 (Plane, Delaunay)\n",
      "Info    : Meshing surface 30 (Plane, Delaunay)\n",
      "Info    : Meshing surface 32 (Plane, Delaunay)\n",
      "Info    : Meshing surface 34 (Plane, Delaunay)\n",
      "Info    : Meshing surface 36 (Plane, Delaunay)\n",
      "Info    : Meshing surface 38 (Plane, Delaunay)\n",
      "Info    : Done meshing 2D (0.2485 s)\n",
      "Info    : 6479 vertices 13331 elements\n",
      "Info    : Writing 'fenics_mesh/output_small.msh'...\n",
      "Info    : Done writing 'fenics_mesh/output_small.msh'\n",
      "Info    : Stopped on Mon Jun 27 14:17:57 2016\n",
      "\n",
      "Converting from Gmsh format (.msh, .gmsh) to DOLFIN XML format\n",
      "Expecting 6478 vertices\n",
      "Found all vertices\n",
      "Expecting 12942 cells\n",
      "Found all cells\n",
      "Conversion done\n",
      "\n"
     ]
    }
   ],
   "source": [
    "mesh = gmesh_mesh_new(\"step_index_fibre.geo\",a,b,r_core,r_clad,mesh_refinement,lamda,5)"
   ]
  },
  {
   "cell_type": "code",
   "execution_count": 9,
   "metadata": {
    "collapsed": false
   },
   "outputs": [
    {
     "data": {
      "application/javascript": [
       "/* Put everything inside the global mpl namespace */\n",
       "window.mpl = {};\n",
       "\n",
       "mpl.get_websocket_type = function() {\n",
       "    if (typeof(WebSocket) !== 'undefined') {\n",
       "        return WebSocket;\n",
       "    } else if (typeof(MozWebSocket) !== 'undefined') {\n",
       "        return MozWebSocket;\n",
       "    } else {\n",
       "        alert('Your browser does not have WebSocket support.' +\n",
       "              'Please try Chrome, Safari or Firefox ≥ 6. ' +\n",
       "              'Firefox 4 and 5 are also supported but you ' +\n",
       "              'have to enable WebSockets in about:config.');\n",
       "    };\n",
       "}\n",
       "\n",
       "mpl.figure = function(figure_id, websocket, ondownload, parent_element) {\n",
       "    this.id = figure_id;\n",
       "\n",
       "    this.ws = websocket;\n",
       "\n",
       "    this.supports_binary = (this.ws.binaryType != undefined);\n",
       "\n",
       "    if (!this.supports_binary) {\n",
       "        var warnings = document.getElementById(\"mpl-warnings\");\n",
       "        if (warnings) {\n",
       "            warnings.style.display = 'block';\n",
       "            warnings.textContent = (\n",
       "                \"This browser does not support binary websocket messages. \" +\n",
       "                    \"Performance may be slow.\");\n",
       "        }\n",
       "    }\n",
       "\n",
       "    this.imageObj = new Image();\n",
       "\n",
       "    this.context = undefined;\n",
       "    this.message = undefined;\n",
       "    this.canvas = undefined;\n",
       "    this.rubberband_canvas = undefined;\n",
       "    this.rubberband_context = undefined;\n",
       "    this.format_dropdown = undefined;\n",
       "\n",
       "    this.image_mode = 'full';\n",
       "\n",
       "    this.root = $('<div/>');\n",
       "    this._root_extra_style(this.root)\n",
       "    this.root.attr('style', 'display: inline-block');\n",
       "\n",
       "    $(parent_element).append(this.root);\n",
       "\n",
       "    this._init_header(this);\n",
       "    this._init_canvas(this);\n",
       "    this._init_toolbar(this);\n",
       "\n",
       "    var fig = this;\n",
       "\n",
       "    this.waiting = false;\n",
       "\n",
       "    this.ws.onopen =  function () {\n",
       "            fig.send_message(\"supports_binary\", {value: fig.supports_binary});\n",
       "            fig.send_message(\"send_image_mode\", {});\n",
       "            fig.send_message(\"refresh\", {});\n",
       "        }\n",
       "\n",
       "    this.imageObj.onload = function() {\n",
       "            if (fig.image_mode == 'full') {\n",
       "                // Full images could contain transparency (where diff images\n",
       "                // almost always do), so we need to clear the canvas so that\n",
       "                // there is no ghosting.\n",
       "                fig.context.clearRect(0, 0, fig.canvas.width, fig.canvas.height);\n",
       "            }\n",
       "            fig.context.drawImage(fig.imageObj, 0, 0);\n",
       "        };\n",
       "\n",
       "    this.imageObj.onunload = function() {\n",
       "        this.ws.close();\n",
       "    }\n",
       "\n",
       "    this.ws.onmessage = this._make_on_message_function(this);\n",
       "\n",
       "    this.ondownload = ondownload;\n",
       "}\n",
       "\n",
       "mpl.figure.prototype._init_header = function() {\n",
       "    var titlebar = $(\n",
       "        '<div class=\"ui-dialog-titlebar ui-widget-header ui-corner-all ' +\n",
       "        'ui-helper-clearfix\"/>');\n",
       "    var titletext = $(\n",
       "        '<div class=\"ui-dialog-title\" style=\"width: 100%; ' +\n",
       "        'text-align: center; padding: 3px;\"/>');\n",
       "    titlebar.append(titletext)\n",
       "    this.root.append(titlebar);\n",
       "    this.header = titletext[0];\n",
       "}\n",
       "\n",
       "\n",
       "\n",
       "mpl.figure.prototype._canvas_extra_style = function(canvas_div) {\n",
       "\n",
       "}\n",
       "\n",
       "\n",
       "mpl.figure.prototype._root_extra_style = function(canvas_div) {\n",
       "\n",
       "}\n",
       "\n",
       "mpl.figure.prototype._init_canvas = function() {\n",
       "    var fig = this;\n",
       "\n",
       "    var canvas_div = $('<div/>');\n",
       "\n",
       "    canvas_div.attr('style', 'position: relative; clear: both; outline: 0');\n",
       "\n",
       "    function canvas_keyboard_event(event) {\n",
       "        return fig.key_event(event, event['data']);\n",
       "    }\n",
       "\n",
       "    canvas_div.keydown('key_press', canvas_keyboard_event);\n",
       "    canvas_div.keyup('key_release', canvas_keyboard_event);\n",
       "    this.canvas_div = canvas_div\n",
       "    this._canvas_extra_style(canvas_div)\n",
       "    this.root.append(canvas_div);\n",
       "\n",
       "    var canvas = $('<canvas/>');\n",
       "    canvas.addClass('mpl-canvas');\n",
       "    canvas.attr('style', \"left: 0; top: 0; z-index: 0; outline: 0\")\n",
       "\n",
       "    this.canvas = canvas[0];\n",
       "    this.context = canvas[0].getContext(\"2d\");\n",
       "\n",
       "    var rubberband = $('<canvas/>');\n",
       "    rubberband.attr('style', \"position: absolute; left: 0; top: 0; z-index: 1;\")\n",
       "\n",
       "    var pass_mouse_events = true;\n",
       "\n",
       "    canvas_div.resizable({\n",
       "        start: function(event, ui) {\n",
       "            pass_mouse_events = false;\n",
       "        },\n",
       "        resize: function(event, ui) {\n",
       "            fig.request_resize(ui.size.width, ui.size.height);\n",
       "        },\n",
       "        stop: function(event, ui) {\n",
       "            pass_mouse_events = true;\n",
       "            fig.request_resize(ui.size.width, ui.size.height);\n",
       "        },\n",
       "    });\n",
       "\n",
       "    function mouse_event_fn(event) {\n",
       "        if (pass_mouse_events)\n",
       "            return fig.mouse_event(event, event['data']);\n",
       "    }\n",
       "\n",
       "    rubberband.mousedown('button_press', mouse_event_fn);\n",
       "    rubberband.mouseup('button_release', mouse_event_fn);\n",
       "    // Throttle sequential mouse events to 1 every 20ms.\n",
       "    rubberband.mousemove('motion_notify', mouse_event_fn);\n",
       "\n",
       "    rubberband.mouseenter('figure_enter', mouse_event_fn);\n",
       "    rubberband.mouseleave('figure_leave', mouse_event_fn);\n",
       "\n",
       "    canvas_div.on(\"wheel\", function (event) {\n",
       "        event = event.originalEvent;\n",
       "        event['data'] = 'scroll'\n",
       "        if (event.deltaY < 0) {\n",
       "            event.step = 1;\n",
       "        } else {\n",
       "            event.step = -1;\n",
       "        }\n",
       "        mouse_event_fn(event);\n",
       "    });\n",
       "\n",
       "    canvas_div.append(canvas);\n",
       "    canvas_div.append(rubberband);\n",
       "\n",
       "    this.rubberband = rubberband;\n",
       "    this.rubberband_canvas = rubberband[0];\n",
       "    this.rubberband_context = rubberband[0].getContext(\"2d\");\n",
       "    this.rubberband_context.strokeStyle = \"#000000\";\n",
       "\n",
       "    this._resize_canvas = function(width, height) {\n",
       "        // Keep the size of the canvas, canvas container, and rubber band\n",
       "        // canvas in synch.\n",
       "        canvas_div.css('width', width)\n",
       "        canvas_div.css('height', height)\n",
       "\n",
       "        canvas.attr('width', width);\n",
       "        canvas.attr('height', height);\n",
       "\n",
       "        rubberband.attr('width', width);\n",
       "        rubberband.attr('height', height);\n",
       "    }\n",
       "\n",
       "    // Set the figure to an initial 600x600px, this will subsequently be updated\n",
       "    // upon first draw.\n",
       "    this._resize_canvas(600, 600);\n",
       "\n",
       "    // Disable right mouse context menu.\n",
       "    $(this.rubberband_canvas).bind(\"contextmenu\",function(e){\n",
       "        return false;\n",
       "    });\n",
       "\n",
       "    function set_focus () {\n",
       "        canvas.focus();\n",
       "        canvas_div.focus();\n",
       "    }\n",
       "\n",
       "    window.setTimeout(set_focus, 100);\n",
       "}\n",
       "\n",
       "mpl.figure.prototype._init_toolbar = function() {\n",
       "    var fig = this;\n",
       "\n",
       "    var nav_element = $('<div/>')\n",
       "    nav_element.attr('style', 'width: 100%');\n",
       "    this.root.append(nav_element);\n",
       "\n",
       "    // Define a callback function for later on.\n",
       "    function toolbar_event(event) {\n",
       "        return fig.toolbar_button_onclick(event['data']);\n",
       "    }\n",
       "    function toolbar_mouse_event(event) {\n",
       "        return fig.toolbar_button_onmouseover(event['data']);\n",
       "    }\n",
       "\n",
       "    for(var toolbar_ind in mpl.toolbar_items) {\n",
       "        var name = mpl.toolbar_items[toolbar_ind][0];\n",
       "        var tooltip = mpl.toolbar_items[toolbar_ind][1];\n",
       "        var image = mpl.toolbar_items[toolbar_ind][2];\n",
       "        var method_name = mpl.toolbar_items[toolbar_ind][3];\n",
       "\n",
       "        if (!name) {\n",
       "            // put a spacer in here.\n",
       "            continue;\n",
       "        }\n",
       "        var button = $('<button/>');\n",
       "        button.addClass('ui-button ui-widget ui-state-default ui-corner-all ' +\n",
       "                        'ui-button-icon-only');\n",
       "        button.attr('role', 'button');\n",
       "        button.attr('aria-disabled', 'false');\n",
       "        button.click(method_name, toolbar_event);\n",
       "        button.mouseover(tooltip, toolbar_mouse_event);\n",
       "\n",
       "        var icon_img = $('<span/>');\n",
       "        icon_img.addClass('ui-button-icon-primary ui-icon');\n",
       "        icon_img.addClass(image);\n",
       "        icon_img.addClass('ui-corner-all');\n",
       "\n",
       "        var tooltip_span = $('<span/>');\n",
       "        tooltip_span.addClass('ui-button-text');\n",
       "        tooltip_span.html(tooltip);\n",
       "\n",
       "        button.append(icon_img);\n",
       "        button.append(tooltip_span);\n",
       "\n",
       "        nav_element.append(button);\n",
       "    }\n",
       "\n",
       "    var fmt_picker_span = $('<span/>');\n",
       "\n",
       "    var fmt_picker = $('<select/>');\n",
       "    fmt_picker.addClass('mpl-toolbar-option ui-widget ui-widget-content');\n",
       "    fmt_picker_span.append(fmt_picker);\n",
       "    nav_element.append(fmt_picker_span);\n",
       "    this.format_dropdown = fmt_picker[0];\n",
       "\n",
       "    for (var ind in mpl.extensions) {\n",
       "        var fmt = mpl.extensions[ind];\n",
       "        var option = $(\n",
       "            '<option/>', {selected: fmt === mpl.default_extension}).html(fmt);\n",
       "        fmt_picker.append(option)\n",
       "    }\n",
       "\n",
       "    // Add hover states to the ui-buttons\n",
       "    $( \".ui-button\" ).hover(\n",
       "        function() { $(this).addClass(\"ui-state-hover\");},\n",
       "        function() { $(this).removeClass(\"ui-state-hover\");}\n",
       "    );\n",
       "\n",
       "    var status_bar = $('<span class=\"mpl-message\"/>');\n",
       "    nav_element.append(status_bar);\n",
       "    this.message = status_bar[0];\n",
       "}\n",
       "\n",
       "mpl.figure.prototype.request_resize = function(x_pixels, y_pixels) {\n",
       "    // Request matplotlib to resize the figure. Matplotlib will then trigger a resize in the client,\n",
       "    // which will in turn request a refresh of the image.\n",
       "    this.send_message('resize', {'width': x_pixels, 'height': y_pixels});\n",
       "}\n",
       "\n",
       "mpl.figure.prototype.send_message = function(type, properties) {\n",
       "    properties['type'] = type;\n",
       "    properties['figure_id'] = this.id;\n",
       "    this.ws.send(JSON.stringify(properties));\n",
       "}\n",
       "\n",
       "mpl.figure.prototype.send_draw_message = function() {\n",
       "    if (!this.waiting) {\n",
       "        this.waiting = true;\n",
       "        this.ws.send(JSON.stringify({type: \"draw\", figure_id: this.id}));\n",
       "    }\n",
       "}\n",
       "\n",
       "\n",
       "mpl.figure.prototype.handle_save = function(fig, msg) {\n",
       "    var format_dropdown = fig.format_dropdown;\n",
       "    var format = format_dropdown.options[format_dropdown.selectedIndex].value;\n",
       "    fig.ondownload(fig, format);\n",
       "}\n",
       "\n",
       "\n",
       "mpl.figure.prototype.handle_resize = function(fig, msg) {\n",
       "    var size = msg['size'];\n",
       "    if (size[0] != fig.canvas.width || size[1] != fig.canvas.height) {\n",
       "        fig._resize_canvas(size[0], size[1]);\n",
       "        fig.send_message(\"refresh\", {});\n",
       "    };\n",
       "}\n",
       "\n",
       "mpl.figure.prototype.handle_rubberband = function(fig, msg) {\n",
       "    var x0 = msg['x0'];\n",
       "    var y0 = fig.canvas.height - msg['y0'];\n",
       "    var x1 = msg['x1'];\n",
       "    var y1 = fig.canvas.height - msg['y1'];\n",
       "    x0 = Math.floor(x0) + 0.5;\n",
       "    y0 = Math.floor(y0) + 0.5;\n",
       "    x1 = Math.floor(x1) + 0.5;\n",
       "    y1 = Math.floor(y1) + 0.5;\n",
       "    var min_x = Math.min(x0, x1);\n",
       "    var min_y = Math.min(y0, y1);\n",
       "    var width = Math.abs(x1 - x0);\n",
       "    var height = Math.abs(y1 - y0);\n",
       "\n",
       "    fig.rubberband_context.clearRect(\n",
       "        0, 0, fig.canvas.width, fig.canvas.height);\n",
       "\n",
       "    fig.rubberband_context.strokeRect(min_x, min_y, width, height);\n",
       "}\n",
       "\n",
       "mpl.figure.prototype.handle_figure_label = function(fig, msg) {\n",
       "    // Updates the figure title.\n",
       "    fig.header.textContent = msg['label'];\n",
       "}\n",
       "\n",
       "mpl.figure.prototype.handle_cursor = function(fig, msg) {\n",
       "    var cursor = msg['cursor'];\n",
       "    switch(cursor)\n",
       "    {\n",
       "    case 0:\n",
       "        cursor = 'pointer';\n",
       "        break;\n",
       "    case 1:\n",
       "        cursor = 'default';\n",
       "        break;\n",
       "    case 2:\n",
       "        cursor = 'crosshair';\n",
       "        break;\n",
       "    case 3:\n",
       "        cursor = 'move';\n",
       "        break;\n",
       "    }\n",
       "    fig.rubberband_canvas.style.cursor = cursor;\n",
       "}\n",
       "\n",
       "mpl.figure.prototype.handle_message = function(fig, msg) {\n",
       "    fig.message.textContent = msg['message'];\n",
       "}\n",
       "\n",
       "mpl.figure.prototype.handle_draw = function(fig, msg) {\n",
       "    // Request the server to send over a new figure.\n",
       "    fig.send_draw_message();\n",
       "}\n",
       "\n",
       "mpl.figure.prototype.handle_image_mode = function(fig, msg) {\n",
       "    fig.image_mode = msg['mode'];\n",
       "}\n",
       "\n",
       "mpl.figure.prototype.updated_canvas_event = function() {\n",
       "    // Called whenever the canvas gets updated.\n",
       "    this.send_message(\"ack\", {});\n",
       "}\n",
       "\n",
       "// A function to construct a web socket function for onmessage handling.\n",
       "// Called in the figure constructor.\n",
       "mpl.figure.prototype._make_on_message_function = function(fig) {\n",
       "    return function socket_on_message(evt) {\n",
       "        if (evt.data instanceof Blob) {\n",
       "            /* FIXME: We get \"Resource interpreted as Image but\n",
       "             * transferred with MIME type text/plain:\" errors on\n",
       "             * Chrome.  But how to set the MIME type?  It doesn't seem\n",
       "             * to be part of the websocket stream */\n",
       "            evt.data.type = \"image/png\";\n",
       "\n",
       "            /* Free the memory for the previous frames */\n",
       "            if (fig.imageObj.src) {\n",
       "                (window.URL || window.webkitURL).revokeObjectURL(\n",
       "                    fig.imageObj.src);\n",
       "            }\n",
       "\n",
       "            fig.imageObj.src = (window.URL || window.webkitURL).createObjectURL(\n",
       "                evt.data);\n",
       "            fig.updated_canvas_event();\n",
       "            fig.waiting = false;\n",
       "            return;\n",
       "        }\n",
       "        else if (typeof evt.data === 'string' && evt.data.slice(0, 21) == \"data:image/png;base64\") {\n",
       "            fig.imageObj.src = evt.data;\n",
       "            fig.updated_canvas_event();\n",
       "            fig.waiting = false;\n",
       "            return;\n",
       "        }\n",
       "\n",
       "        var msg = JSON.parse(evt.data);\n",
       "        var msg_type = msg['type'];\n",
       "\n",
       "        // Call the  \"handle_{type}\" callback, which takes\n",
       "        // the figure and JSON message as its only arguments.\n",
       "        try {\n",
       "            var callback = fig[\"handle_\" + msg_type];\n",
       "        } catch (e) {\n",
       "            console.log(\"No handler for the '\" + msg_type + \"' message type: \", msg);\n",
       "            return;\n",
       "        }\n",
       "\n",
       "        if (callback) {\n",
       "            try {\n",
       "                // console.log(\"Handling '\" + msg_type + \"' message: \", msg);\n",
       "                callback(fig, msg);\n",
       "            } catch (e) {\n",
       "                console.log(\"Exception inside the 'handler_\" + msg_type + \"' callback:\", e, e.stack, msg);\n",
       "            }\n",
       "        }\n",
       "    };\n",
       "}\n",
       "\n",
       "// from http://stackoverflow.com/questions/1114465/getting-mouse-location-in-canvas\n",
       "mpl.findpos = function(e) {\n",
       "    //this section is from http://www.quirksmode.org/js/events_properties.html\n",
       "    var targ;\n",
       "    if (!e)\n",
       "        e = window.event;\n",
       "    if (e.target)\n",
       "        targ = e.target;\n",
       "    else if (e.srcElement)\n",
       "        targ = e.srcElement;\n",
       "    if (targ.nodeType == 3) // defeat Safari bug\n",
       "        targ = targ.parentNode;\n",
       "\n",
       "    // jQuery normalizes the pageX and pageY\n",
       "    // pageX,Y are the mouse positions relative to the document\n",
       "    // offset() returns the position of the element relative to the document\n",
       "    var x = e.pageX - $(targ).offset().left;\n",
       "    var y = e.pageY - $(targ).offset().top;\n",
       "\n",
       "    return {\"x\": x, \"y\": y};\n",
       "};\n",
       "\n",
       "/*\n",
       " * return a copy of an object with only non-object keys\n",
       " * we need this to avoid circular references\n",
       " * http://stackoverflow.com/a/24161582/3208463\n",
       " */\n",
       "function simpleKeys (original) {\n",
       "  return Object.keys(original).reduce(function (obj, key) {\n",
       "    if (typeof original[key] !== 'object')\n",
       "        obj[key] = original[key]\n",
       "    return obj;\n",
       "  }, {});\n",
       "}\n",
       "\n",
       "mpl.figure.prototype.mouse_event = function(event, name) {\n",
       "    var canvas_pos = mpl.findpos(event)\n",
       "\n",
       "    if (name === 'button_press')\n",
       "    {\n",
       "        this.canvas.focus();\n",
       "        this.canvas_div.focus();\n",
       "    }\n",
       "\n",
       "    var x = canvas_pos.x;\n",
       "    var y = canvas_pos.y;\n",
       "\n",
       "    this.send_message(name, {x: x, y: y, button: event.button,\n",
       "                             step: event.step,\n",
       "                             guiEvent: simpleKeys(event)});\n",
       "\n",
       "    /* This prevents the web browser from automatically changing to\n",
       "     * the text insertion cursor when the button is pressed.  We want\n",
       "     * to control all of the cursor setting manually through the\n",
       "     * 'cursor' event from matplotlib */\n",
       "    event.preventDefault();\n",
       "    return false;\n",
       "}\n",
       "\n",
       "mpl.figure.prototype._key_event_extra = function(event, name) {\n",
       "    // Handle any extra behaviour associated with a key event\n",
       "}\n",
       "\n",
       "mpl.figure.prototype.key_event = function(event, name) {\n",
       "\n",
       "    // Prevent repeat events\n",
       "    if (name == 'key_press')\n",
       "    {\n",
       "        if (event.which === this._key)\n",
       "            return;\n",
       "        else\n",
       "            this._key = event.which;\n",
       "    }\n",
       "    if (name == 'key_release')\n",
       "        this._key = null;\n",
       "\n",
       "    var value = '';\n",
       "    if (event.ctrlKey && event.which != 17)\n",
       "        value += \"ctrl+\";\n",
       "    if (event.altKey && event.which != 18)\n",
       "        value += \"alt+\";\n",
       "    if (event.shiftKey && event.which != 16)\n",
       "        value += \"shift+\";\n",
       "\n",
       "    value += 'k';\n",
       "    value += event.which.toString();\n",
       "\n",
       "    this._key_event_extra(event, name);\n",
       "\n",
       "    this.send_message(name, {key: value,\n",
       "                             guiEvent: simpleKeys(event)});\n",
       "    return false;\n",
       "}\n",
       "\n",
       "mpl.figure.prototype.toolbar_button_onclick = function(name) {\n",
       "    if (name == 'download') {\n",
       "        this.handle_save(this, null);\n",
       "    } else {\n",
       "        this.send_message(\"toolbar_button\", {name: name});\n",
       "    }\n",
       "};\n",
       "\n",
       "mpl.figure.prototype.toolbar_button_onmouseover = function(tooltip) {\n",
       "    this.message.textContent = tooltip;\n",
       "};\n",
       "mpl.toolbar_items = [[\"Home\", \"Reset original view\", \"fa fa-home icon-home\", \"home\"], [\"Back\", \"Back to  previous view\", \"fa fa-arrow-left icon-arrow-left\", \"back\"], [\"Forward\", \"Forward to next view\", \"fa fa-arrow-right icon-arrow-right\", \"forward\"], [\"\", \"\", \"\", \"\"], [\"Pan\", \"Pan axes with left mouse, zoom with right\", \"fa fa-arrows icon-move\", \"pan\"], [\"Zoom\", \"Zoom to rectangle\", \"fa fa-square-o icon-check-empty\", \"zoom\"], [\"\", \"\", \"\", \"\"], [\"Download\", \"Download plot\", \"fa fa-floppy-o icon-save\", \"download\"]];\n",
       "\n",
       "mpl.extensions = [\"eps\", \"jpeg\", \"pdf\", \"png\", \"ps\", \"raw\", \"svg\", \"tif\"];\n",
       "\n",
       "mpl.default_extension = \"png\";var comm_websocket_adapter = function(comm) {\n",
       "    // Create a \"websocket\"-like object which calls the given IPython comm\n",
       "    // object with the appropriate methods. Currently this is a non binary\n",
       "    // socket, so there is still some room for performance tuning.\n",
       "    var ws = {};\n",
       "\n",
       "    ws.close = function() {\n",
       "        comm.close()\n",
       "    };\n",
       "    ws.send = function(m) {\n",
       "        //console.log('sending', m);\n",
       "        comm.send(m);\n",
       "    };\n",
       "    // Register the callback with on_msg.\n",
       "    comm.on_msg(function(msg) {\n",
       "        //console.log('receiving', msg['content']['data'], msg);\n",
       "        // Pass the mpl event to the overriden (by mpl) onmessage function.\n",
       "        ws.onmessage(msg['content']['data'])\n",
       "    });\n",
       "    return ws;\n",
       "}\n",
       "\n",
       "mpl.mpl_figure_comm = function(comm, msg) {\n",
       "    // This is the function which gets called when the mpl process\n",
       "    // starts-up an IPython Comm through the \"matplotlib\" channel.\n",
       "\n",
       "    var id = msg.content.data.id;\n",
       "    // Get hold of the div created by the display call when the Comm\n",
       "    // socket was opened in Python.\n",
       "    var element = $(\"#\" + id);\n",
       "    var ws_proxy = comm_websocket_adapter(comm)\n",
       "\n",
       "    function ondownload(figure, format) {\n",
       "        window.open(figure.imageObj.src);\n",
       "    }\n",
       "\n",
       "    var fig = new mpl.figure(id, ws_proxy,\n",
       "                           ondownload,\n",
       "                           element.get(0));\n",
       "\n",
       "    // Call onopen now - mpl needs it, as it is assuming we've passed it a real\n",
       "    // web socket which is closed, not our websocket->open comm proxy.\n",
       "    ws_proxy.onopen();\n",
       "\n",
       "    fig.parent_element = element.get(0);\n",
       "    fig.cell_info = mpl.find_output_cell(\"<div id='\" + id + \"'></div>\");\n",
       "    if (!fig.cell_info) {\n",
       "        console.error(\"Failed to find cell for figure\", id, fig);\n",
       "        return;\n",
       "    }\n",
       "\n",
       "    var output_index = fig.cell_info[2]\n",
       "    var cell = fig.cell_info[0];\n",
       "\n",
       "};\n",
       "\n",
       "mpl.figure.prototype.handle_close = function(fig, msg) {\n",
       "    fig.root.unbind('remove')\n",
       "\n",
       "    // Update the output cell to use the data from the current canvas.\n",
       "    fig.push_to_output();\n",
       "    var dataURL = fig.canvas.toDataURL();\n",
       "    // Re-enable the keyboard manager in IPython - without this line, in FF,\n",
       "    // the notebook keyboard shortcuts fail.\n",
       "    IPython.keyboard_manager.enable()\n",
       "    $(fig.parent_element).html('<img src=\"' + dataURL + '\">');\n",
       "    fig.close_ws(fig, msg);\n",
       "}\n",
       "\n",
       "mpl.figure.prototype.close_ws = function(fig, msg){\n",
       "    fig.send_message('closing', msg);\n",
       "    // fig.ws.close()\n",
       "}\n",
       "\n",
       "mpl.figure.prototype.push_to_output = function(remove_interactive) {\n",
       "    // Turn the data on the canvas into data in the output cell.\n",
       "    var dataURL = this.canvas.toDataURL();\n",
       "    this.cell_info[1]['text/html'] = '<img src=\"' + dataURL + '\">';\n",
       "}\n",
       "\n",
       "mpl.figure.prototype.updated_canvas_event = function() {\n",
       "    // Tell IPython that the notebook contents must change.\n",
       "    IPython.notebook.set_dirty(true);\n",
       "    this.send_message(\"ack\", {});\n",
       "    var fig = this;\n",
       "    // Wait a second, then push the new image to the DOM so\n",
       "    // that it is saved nicely (might be nice to debounce this).\n",
       "    setTimeout(function () { fig.push_to_output() }, 1000);\n",
       "}\n",
       "\n",
       "mpl.figure.prototype._init_toolbar = function() {\n",
       "    var fig = this;\n",
       "\n",
       "    var nav_element = $('<div/>')\n",
       "    nav_element.attr('style', 'width: 100%');\n",
       "    this.root.append(nav_element);\n",
       "\n",
       "    // Define a callback function for later on.\n",
       "    function toolbar_event(event) {\n",
       "        return fig.toolbar_button_onclick(event['data']);\n",
       "    }\n",
       "    function toolbar_mouse_event(event) {\n",
       "        return fig.toolbar_button_onmouseover(event['data']);\n",
       "    }\n",
       "\n",
       "    for(var toolbar_ind in mpl.toolbar_items){\n",
       "        var name = mpl.toolbar_items[toolbar_ind][0];\n",
       "        var tooltip = mpl.toolbar_items[toolbar_ind][1];\n",
       "        var image = mpl.toolbar_items[toolbar_ind][2];\n",
       "        var method_name = mpl.toolbar_items[toolbar_ind][3];\n",
       "\n",
       "        if (!name) { continue; };\n",
       "\n",
       "        var button = $('<button class=\"btn btn-default\" href=\"#\" title=\"' + name + '\"><i class=\"fa ' + image + ' fa-lg\"></i></button>');\n",
       "        button.click(method_name, toolbar_event);\n",
       "        button.mouseover(tooltip, toolbar_mouse_event);\n",
       "        nav_element.append(button);\n",
       "    }\n",
       "\n",
       "    // Add the status bar.\n",
       "    var status_bar = $('<span class=\"mpl-message\" style=\"text-align:right; float: right;\"/>');\n",
       "    nav_element.append(status_bar);\n",
       "    this.message = status_bar[0];\n",
       "\n",
       "    // Add the close button to the window.\n",
       "    var buttongrp = $('<div class=\"btn-group inline pull-right\"></div>');\n",
       "    var button = $('<button class=\"btn btn-mini btn-primary\" href=\"#\" title=\"Stop Interaction\"><i class=\"fa fa-power-off icon-remove icon-large\"></i></button>');\n",
       "    button.click(function (evt) { fig.handle_close(fig, {}); } );\n",
       "    button.mouseover('Stop Interaction', toolbar_mouse_event);\n",
       "    buttongrp.append(button);\n",
       "    var titlebar = this.root.find($('.ui-dialog-titlebar'));\n",
       "    titlebar.prepend(buttongrp);\n",
       "}\n",
       "\n",
       "mpl.figure.prototype._root_extra_style = function(el){\n",
       "    var fig = this\n",
       "    el.on(\"remove\", function(){\n",
       "\tfig.close_ws(fig, {});\n",
       "    });\n",
       "}\n",
       "\n",
       "mpl.figure.prototype._canvas_extra_style = function(el){\n",
       "    // this is important to make the div 'focusable\n",
       "    el.attr('tabindex', 0)\n",
       "    // reach out to IPython and tell the keyboard manager to turn it's self\n",
       "    // off when our div gets focus\n",
       "\n",
       "    // location in version 3\n",
       "    if (IPython.notebook.keyboard_manager) {\n",
       "        IPython.notebook.keyboard_manager.register_events(el);\n",
       "    }\n",
       "    else {\n",
       "        // location in version 2\n",
       "        IPython.keyboard_manager.register_events(el);\n",
       "    }\n",
       "\n",
       "}\n",
       "\n",
       "mpl.figure.prototype._key_event_extra = function(event, name) {\n",
       "    var manager = IPython.notebook.keyboard_manager;\n",
       "    if (!manager)\n",
       "        manager = IPython.keyboard_manager;\n",
       "\n",
       "    // Check for shift+enter\n",
       "    if (event.shiftKey && event.which == 13) {\n",
       "        this.canvas_div.blur();\n",
       "        event.shiftKey = false;\n",
       "        // Send a \"J\" for go to next cell\n",
       "        event.which = 74;\n",
       "        event.keyCode = 74;\n",
       "        manager.command_mode();\n",
       "        manager.handle_keydown(event);\n",
       "    }\n",
       "}\n",
       "\n",
       "mpl.figure.prototype.handle_save = function(fig, msg) {\n",
       "    fig.ondownload(fig, null);\n",
       "}\n",
       "\n",
       "\n",
       "mpl.find_output_cell = function(html_output) {\n",
       "    // Return the cell and output element which can be found *uniquely* in the notebook.\n",
       "    // Note - this is a bit hacky, but it is done because the \"notebook_saving.Notebook\"\n",
       "    // IPython event is triggered only after the cells have been serialised, which for\n",
       "    // our purposes (turning an active figure into a static one), is too late.\n",
       "    var cells = IPython.notebook.get_cells();\n",
       "    var ncells = cells.length;\n",
       "    for (var i=0; i<ncells; i++) {\n",
       "        var cell = cells[i];\n",
       "        if (cell.cell_type === 'code'){\n",
       "            for (var j=0; j<cell.output_area.outputs.length; j++) {\n",
       "                var data = cell.output_area.outputs[j];\n",
       "                if (data.data) {\n",
       "                    // IPython >= 3 moved mimebundle to data attribute of output\n",
       "                    data = data.data;\n",
       "                }\n",
       "                if (data['text/html'] == html_output) {\n",
       "                    return [cell, data, j];\n",
       "                }\n",
       "            }\n",
       "        }\n",
       "    }\n",
       "}\n",
       "\n",
       "// Register the function which deals with the matplotlib target/channel.\n",
       "// The kernel may be null if the page has been refreshed.\n",
       "if (IPython.notebook.kernel != null) {\n",
       "    IPython.notebook.kernel.comm_manager.register_target('matplotlib', mpl.mpl_figure_comm);\n",
       "}\n"
      ],
      "text/plain": [
       "<IPython.core.display.Javascript object>"
      ]
     },
     "metadata": {},
     "output_type": "display_data"
    },
    {
     "data": {
      "text/html": [
       "<img src=\"data:image/png;base64,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\">"
      ],
      "text/plain": [
       "<IPython.core.display.HTML object>"
      ]
     },
     "metadata": {},
     "output_type": "display_data"
    }
   ],
   "source": [
    "n = mesh.num_vertices()\n",
    "d = mesh.geometry().dim()\n",
    "\n",
    "# Create the triangulation\n",
    "mesh_coordinates = mesh.coordinates().reshape((n, d))\n",
    "triangles = np.asarray([cell.entities(0) for cell in cells(mesh)])\n",
    "triangulation = tri.Triangulation(mesh_coordinates[:, 0],\n",
    "                                  mesh_coordinates[:, 1],\n",
    "                                  triangles)\n",
    "\n",
    "triangulation.x *=1e6 \n",
    "triangulation.y *=1e6 \n",
    "# Plot the mesh\n",
    "fig = plt.figure(figsize=(7.0, 7.0))\n",
    "plt.triplot(triangulation)\n",
    "plt.xlabel(r'$x(\\mu m)$')\n",
    "plt.ylabel(r'$y(\\mu m)$')\n",
    "\n",
    "plt.savefig('mesh.png',bbox_inches='tight')\n",
    "plt.show()"
   ]
  },
  {
   "cell_type": "markdown",
   "metadata": {},
   "source": [
    "### Define the orders of the fucntion spaces for vector and nodal basis functions"
   ]
  },
  {
   "cell_type": "code",
   "execution_count": 10,
   "metadata": {
    "collapsed": false
   },
   "outputs": [],
   "source": [
    "vector_order = 3\n",
    "nodal_order = 3"
   ]
  },
  {
   "cell_type": "markdown",
   "metadata": {
    "slideshow": {
     "slide_type": "slide"
    }
   },
   "source": [
    "Define the test and trial functions from the combined space here N_i and N_j are Nedelec basis functions and L_i and L_j are Lagrange basis functions"
   ]
  },
  {
   "cell_type": "markdown",
   "metadata": {
    "slideshow": {
     "slide_type": "slide"
    }
   },
   "source": [
    "## Creating the matrix equation."
   ]
  },
  {
   "cell_type": "markdown",
   "metadata": {},
   "source": [
    "$$\\begin{bmatrix}\n",
    "    A_{tt}       & 0 \\\\\n",
    "    0       & 0 \n",
    "\\end{bmatrix}\\begin{bmatrix}\n",
    "    e_t \\\\\n",
    "    e_z      \n",
    "\\end{bmatrix} = -\\beta^2\n",
    "\\begin{bmatrix}\n",
    "    B_{tt}       & B_{tz} \\\\\n",
    "    B_{zt}       & B_{zz} \n",
    "\\end{bmatrix}\\begin{bmatrix}\n",
    "    e_t \\\\\n",
    "    e_z      \n",
    "\\end{bmatrix}\n",
    "$$"
   ]
  },
  {
   "cell_type": "markdown",
   "metadata": {
    "slideshow": {
     "slide_type": "slide"
    }
   },
   "source": [
    "Define the forms (matrix elements) for dispersion analysis into the basis functions"
   ]
  },
  {
   "cell_type": "code",
   "execution_count": 11,
   "metadata": {
    "collapsed": false
   },
   "outputs": [
    {
     "name": "stderr",
     "output_type": "stream",
     "text": [
      "DEBUG:FFC:Reusing form from cache.\n",
      "DEBUG:FFC:Reusing form from cache.\n",
      "DEBUG:FFC:Reusing form from cache.\n",
      "DEBUG:FFC:Reusing form from cache.\n",
      "DEBUG:FFC:Reusing form from cache.\n",
      "DEBUG:FFC:Reusing form from cache.\n",
      "DEBUG:FFC:Reusing form from cache.\n"
     ]
    }
   ],
   "source": [
    "combined_space, A,B, A_complex,B_complex = Matrix_creation(mesh,epsilon_real,epsilon_imag,mu_r,k,k0,vector_order,nodal_order)"
   ]
  },
  {
   "cell_type": "markdown",
   "metadata": {
    "slideshow": {
     "slide_type": "slide"
    }
   },
   "source": [
    "post-multiplication by dx will result in integration over the domain of the mesh at assembly time"
   ]
  },
  {
   "cell_type": "markdown",
   "metadata": {
    "slideshow": {
     "slide_type": "slide"
    }
   },
   "source": [
    "## Implement boundary conditions"
   ]
  },
  {
   "cell_type": "code",
   "execution_count": 14,
   "metadata": {
    "collapsed": false
   },
   "outputs": [],
   "source": [
    "A,B,A_complex,B_complex,electric_wall = Mirror_boundary(mesh,combined_space,A,B,A_complex,B_complex,k)\n",
    "#free_dofs = boundary_marker_locator(A,electric_wall)\n",
    "free_dofs = boundary_marker_locator(A,electric_wall)"
   ]
  },
  {
   "cell_type": "markdown",
   "metadata": {
    "slideshow": {
     "slide_type": "slide"
    }
   },
   "source": [
    "### Free the vectors and make numpy arrays to solve with scipy"
   ]
  },
  {
   "cell_type": "code",
   "execution_count": 15,
   "metadata": {
    "collapsed": false
   },
   "outputs": [
    {
     "data": {
      "text/plain": [
       "False"
      ]
     },
     "execution_count": 15,
     "metadata": {},
     "output_type": "execute_result"
    }
   ],
   "source": [
    "'A_np' in locals()"
   ]
  },
  {
   "cell_type": "markdown",
   "metadata": {
    "slideshow": {
     "slide_type": "-"
    }
   },
   "source": [
    "Find what part of the vectors are not ascociated with the boundary values"
   ]
  },
  {
   "cell_type": "markdown",
   "metadata": {
    "slideshow": {
     "slide_type": "slide"
    }
   },
   "source": [
    "### Solve the eigenvalue system using scipy.linalg.eig"
   ]
  },
  {
   "cell_type": "code",
   "execution_count": null,
   "metadata": {
    "collapsed": false
   },
   "outputs": [],
   "source": [
    "if ('A_np' in locals()) and ('B_np' in locals()):\n",
    "    eigen,ev,A_np,B_np = find_eigenvalues(A,B,A_complex,B_complex,neff_g,1000,k0,free_dofs,k,sparse_,A_np,B_np)\n",
    "else:\n",
    "    eigen,ev,A_np,B_np = find_eigenvalues(A,B,A_complex,B_complex,neff_g,1000,k0,free_dofs,k,sparse_,None,None)"
   ]
  },
  {
   "cell_type": "markdown",
   "metadata": {
    "collapsed": false
   },
   "source": [
    "dot_sparse = csc_matrix.dot\n",
    "eigen, ev =scipy_sparse_eigensolver(dot_sparse(conj_trans(B_np),A_np),dot_sparse(conj_trans(B_np),B_np),neff_g,70,k0)"
   ]
  },
  {
   "cell_type": "markdown",
   "metadata": {
    "slideshow": {
     "slide_type": "slide"
    }
   },
   "source": [
    "Find $\\beta$ from the eigenvalue."
   ]
  },
  {
   "cell_type": "markdown",
   "metadata": {
    "collapsed": false
   },
   "source": [
    "neff_g = 1.4444696250032485-7.8560918745118053e-5j"
   ]
  },
  {
   "cell_type": "code",
   "execution_count": null,
   "metadata": {
    "collapsed": false
   },
   "outputs": [],
   "source": [
    "beta =1j*(eigen)**0.5 \n",
    "beta = np.abs(np.real(beta)) -1j*np.imag(beta)"
   ]
  },
  {
   "cell_type": "markdown",
   "metadata": {
    "slideshow": {
     "slide_type": "slide"
    }
   },
   "source": [
    "sort the calculated values"
   ]
  },
  {
   "cell_type": "code",
   "execution_count": null,
   "metadata": {
    "collapsed": false
   },
   "outputs": [],
   "source": [
    "sort_index = np.argsort(beta.imag)[::-1]"
   ]
  },
  {
   "cell_type": "code",
   "execution_count": null,
   "metadata": {
    "collapsed": false
   },
   "outputs": [],
   "source": [
    "propagating_modes = np.where(((beta[sort_index]/k0).real>nclad.real) & ((beta[sort_index]/k0).real<ncore))\n",
    "propagating_modes = propagating_modes[0][:]"
   ]
  },
  {
   "cell_type": "markdown",
   "metadata": {
    "slideshow": {
     "slide_type": "slide"
    }
   },
   "source": [
    "Print the first four effective indices. ((1.44446963419-7.85620938656e-05j))"
   ]
  },
  {
   "cell_type": "code",
   "execution_count": null,
   "metadata": {
    "collapsed": false
   },
   "outputs": [],
   "source": [
    "print(\"The effective index of the modes are:\")\n",
    "print(beta[sort_index][propagating_modes]/k0)"
   ]
  },
  {
   "cell_type": "code",
   "execution_count": null,
   "metadata": {
    "collapsed": false
   },
   "outputs": [],
   "source": [
    "beta[sort_index][:]/k0"
   ]
  },
  {
   "cell_type": "code",
   "execution_count": null,
   "metadata": {
    "collapsed": false
   },
   "outputs": [],
   "source": [
    "neff_th"
   ]
  },
  {
   "cell_type": "code",
   "execution_count": null,
   "metadata": {
    "collapsed": false
   },
   "outputs": [],
   "source": [
    "neff = beta[sort_index][propagating_modes]/k0"
   ]
  },
  {
   "cell_type": "markdown",
   "metadata": {},
   "source": [
    "Comsol : 1.4444696250032485-7.856091874511805E-5i"
   ]
  },
  {
   "cell_type": "markdown",
   "metadata": {
    "slideshow": {
     "slide_type": "slide"
    }
   },
   "source": [
    "### Plot the results"
   ]
  },
  {
   "cell_type": "code",
   "execution_count": null,
   "metadata": {
    "collapsed": true
   },
   "outputs": [],
   "source": [
    "from scipy.io import savemat"
   ]
  },
  {
   "cell_type": "code",
   "execution_count": null,
   "metadata": {
    "collapsed": false
   },
   "outputs": [],
   "source": [
    "size1,size2 = 512,512\n",
    "min_max = (-3*r_core,3*r_core,-3*r_core,3*r_core)"
   ]
  },
  {
   "cell_type": "code",
   "execution_count": null,
   "metadata": {
    "collapsed": false
   },
   "outputs": [],
   "source": [
    "mode0 = modes(3,size1,size2,min_max,propagating_modes,beta,sort_index,k0)\n",
    "mode0.electric_field_full(k,A,ev,sort_index,free_dofs,combined_space)\n"
   ]
  },
  {
   "cell_type": "code",
   "execution_count": null,
   "metadata": {
    "collapsed": false
   },
   "outputs": [],
   "source": [
    "mode0.plot_electric_field(scales = 1,sp=40,cont_scale=700)"
   ]
  },
  {
   "cell_type": "code",
   "execution_count": null,
   "metadata": {
    "collapsed": false
   },
   "outputs": [],
   "source": [
    "from scipy.io import loadmat\n",
    "def plot_convergence(x,y,name):\n",
    "    fig = plt.figure(figsize=(10,7))\n",
    "    plt.semilogx(x,y,'-o')\n",
    "    plt.xlabel(r'$log(N_{c})$')\n",
    "    plt.ylabel(name)\n",
    "    plt.savefig(name+'.eps',bbox_inches = 'tight')\n",
    "    plt.savefig(name+'.png',bbox_inches = 'tight')\n",
    "    plt.show()\n",
    "N_complex = []\n",
    "A = []\n",
    "I = [0,0,0,9]\n",
    "C = []\n",
    "for refine in range(4):\n",
    "    D = loadmat('convergence'+str(refine)+'.mat')\n",
    "    i = I[refine]\n",
    "    A.append(D['Aeff_simps'][0][i])\n",
    "    #if refine ==2:\n",
    "    #    N_complex.append(1.44446548 -7.87245719e-05j)\n",
    "    #else:\n",
    "    N_complex.append(D['neff'][0][i])\n",
    "    #I.append(i)\n",
    "    C.append(D['cells'][0][0])\n",
    "plot_convergence(C,100*(1/np.abs(neff_th.imag))*np.abs(neff_th.imag*np.ones(len(N_complex)) - np.imag(N_complex)),r'$\\delta \\left(Im(n_{eff})\\right)\\%$')\n",
    "plot_convergence(C,100*(1/Aeff_th)*np.abs(Aeff_th.real*np.ones(len(N_complex)) - np.real(A)),r'$\\delta \\left(A_{eff}\\right)\\%$')\n",
    "plot_convergence(C,100*(1/neff_th.real)*np.abs(neff_th.real*np.ones(len(N_complex)) - np.real(N_complex)),r'$\\delta \\left( Re(n_{eff})\\right)\\%$')"
   ]
  },
  {
   "cell_type": "code",
   "execution_count": null,
   "metadata": {
    "collapsed": false
   },
   "outputs": [],
   "source": [
    "\n",
    "class modes(object):\n",
    "    def __init__(self,mode,size1,size2,min_max,propagating_modes,beta,sort_index,k0):\n",
    "        self.mode = mode\n",
    "        self.mode_idx = propagating_modes[self.mode]\n",
    "        self.neff = beta[sort_index][self.mode_idx]/k0\n",
    "        \n",
    "        self.xmin, self.xmax,self.ymin,self.ymax = min_max\n",
    "        \n",
    "        self.x = np.linspace(self.xmin,self.ymax,size1)\n",
    "        self.y = np.linspace(self.ymin,self.ymax,size2)\n",
    "        self.E = None\n",
    "        self.E_axial = None\n",
    "\n",
    "\n",
    "    def dolfin_functions(self,k,A,ev,sort_index,free_dofs,combined_space):\n",
    "        #post-process the coefficients to map back to the full matrix\n",
    "        coefficiants_global = np.zeros(A.size(0),dtype=np.complex)\n",
    "        coefficiants_global[free_dofs] = ev[:,sort_index[self.mode_idx]]\n",
    "        #Create a Function on the combined space\n",
    "        mode_re = Function(combined_space)\n",
    "        mode_im = Function(combined_space)\n",
    "        #Assign the coefficients of the function to the calculated values\n",
    "        mode_re.vector().set_local(np.real(coefficiants_global))\n",
    "        mode_im.vector().set_local(np.imag(coefficiants_global))\n",
    "        #Split the function into the parts in each of the functions spaces in combined_space\n",
    "        #This is done using DOLFINs Function.split()\n",
    "        (TE_re,TM_re) = mode_re.split()\n",
    "        (TE_im,TM_im) = mode_im.split()\n",
    "        self.TE_re = TE_re\n",
    "        self.TE_im = TE_im\n",
    "        self.TM_re = TM_re\n",
    "        self.TM_im = TM_im\n",
    "        return None#TE_re,TE_re,TM_re,TM_im\n",
    "\n",
    "    def effective_area(self,k,A,ev,sort_index,free_dofs,combined_space,lim):\n",
    "        try:\n",
    "            temp = self.TE_re\n",
    "        except AttributeError:\n",
    "            self.dolfin_functions(k,A,ev,sort_index,free_dofs,combined_space)\n",
    "            pass\n",
    "        integrand1 = dblquad(self.Eabs2, -lim, lim, lambda x: -lim,lambda x: lim)\n",
    "        integrand2 = dblquad(lambda y,x: self.Eabs2(y,x)**2, -lim, lim, lambda x: -lim,lambda x: lim)\n",
    "        \n",
    "        self.Aeff =  integrand1[0]**2/integrand2[0]\n",
    "\n",
    "\n",
    "    def Eabs2(self,y,x):\n",
    "        E_ = self.Efun(y,x)\n",
    "        return (E_[0]*E_[0].conjugate() + E_[1]*E_[1].conjugate()).real\n",
    "    def Efun(self,y,x):\n",
    "        point = Point(x,y)\n",
    "        E = self.TE_re(point)+1j*self.TE_im(point)\n",
    "        return E[0],E[1]\n",
    "\n",
    "\n",
    "    def effective_area_simps(self,k,A,ev,sort_index,free_dofs,combined_space):\n",
    "        if self.E ==None:\n",
    "            self.electric_field_full(k,A,ev,sort_index,free_dofs,combined_space)\n",
    "        \n",
    "        integrand1 = (self.E[:,:,0].conjugate()*self.E[:,:,0] + self.E[:,:,1].conjugate()*self.E[:,:,1]).real   \n",
    "        Over = integration2d_simps(self.x,self.y,integrand1)\n",
    "            \n",
    "        integrand2 = integrand1**2\n",
    "        under = integration2d_simps(self.x,self.y,integrand2)\n",
    "        self.Aeff = Over**2/under    \n",
    "        return Over**2/under\n",
    "    def electric_field_full(self,k,A,ev,sort_index,free_dofs,combined_space):\n",
    "        \"\"\"\n",
    "        Releases the electric field from the calculated eigenvalus and eigen vectors\n",
    "        \n",
    "        Returns::\n",
    "        E[size,size,2],E_axial(Ez)\n",
    "        \"\"\"\n",
    "        try:\n",
    "            temp = self.TE_re\n",
    "        except AttributeError:\n",
    "            self.dolfin_functions(k,A,ev,sort_index,free_dofs,combined_space)\n",
    "            pass\n",
    "        \n",
    "        E = np.zeros([len(self.x),len(self.y),2],dtype = np.complex)\n",
    "        E_axial = np.zeros([len(self.x),len(self.y)], dtype= np.complex)\n",
    "        for i,xx in enumerate(self.x):\n",
    "            for j,yy in enumerate(self.y):\n",
    "                point = Point(xx,yy)\n",
    "                E[i,j,:]     =  self.TE_re(point) + 1j*self.TE_im(point)\n",
    "                E_axial[i,j] =  self.TM_re(point) + 1j*self.TM_im(point)\n",
    "        self.E = E\n",
    "        self.E_axial = E_axial\n",
    "        self.mode_field = np.transpose((np.abs(self.E[:,:,0])**2 + np.abs(self.E[:,:,1])**2+np.abs(self.E_axial[:,:])**2)**0.5)\n",
    "        maxi = np.max(self.mode_field)\n",
    "        self.mode_field /=maxi\n",
    "\n",
    "        return None    \n",
    "\n",
    "    def plot_electric_field(self,sp=10,scales = 500000,cont_scale=90,**kwrds):\n",
    "\n",
    "        fig = plt.figure(figsize=(7.0, 7.0))\n",
    "        xplot = self.x*1e6\n",
    "        yplot = self.y*1e6\n",
    "        X,Y = np.meshgrid(xplot,yplot)\n",
    "        try:\n",
    "            plt.contourf(X,Y,self.mode_field,cont_scale)\n",
    "        except AttributeError:\n",
    "             raise NotImplementedError(\"interpolate before plotting\")\n",
    "\n",
    "        plt.quiver(X[::sp,::sp], Y[::sp,::sp], np.real(self.E[::sp,::sp,0]), np.real(self.E[::sp,::sp,1]),scale = scales,headlength=7)\n",
    "        plt.xlabel(r'$x(\\mu m)$')\n",
    "        plt.ylabel(r'$y(\\mu m)$')\n",
    "        #plt.title(r'mode$=$'+str(self.mode)+', '+'  $n_{eff}=$'+str(self.neff.real)+str(self.neff.imag)+'j')\n",
    "        plt.savefig('mode'+str(self.mode)+'.eps',bbox_inches ='tight')\n",
    "        D = {}\n",
    "        D['X'] = X\n",
    "        D['Y'] = Y\n",
    "        D['Z'] = self.mode_field\n",
    "        D['u'] = np.real(self.E[::sp,::sp,0])\n",
    "        D['v'] = np.real(self.E[::sp,::sp,1])\n",
    "        D['scale'] = scales\n",
    "        D['cont_scale'] = 90\n",
    "        D['sp'] = sp\n",
    "        savemat('mode'+str(self.mode)+'.mat',D)\n",
    "        return None\n"
   ]
  },
  {
   "cell_type": "code",
   "execution_count": null,
   "metadata": {
    "collapsed": false
   },
   "outputs": [],
   "source": [
    "plt.savetxt?"
   ]
  },
  {
   "cell_type": "code",
   "execution_count": null,
   "metadata": {
    "collapsed": false
   },
   "outputs": [],
   "source": [
    "print(mode0.E.shape)"
   ]
  },
  {
   "cell_type": "code",
   "execution_count": null,
   "metadata": {
    "collapsed": false
   },
   "outputs": [],
   "source": [
    "mode0.effective_area(k,A,ev,sort_index,free_dofs,combined_space,r_clad)"
   ]
  },
  {
   "cell_type": "code",
   "execution_count": null,
   "metadata": {
    "collapsed": false
   },
   "outputs": [],
   "source": [
    "mode0.Aeff"
   ]
  },
  {
   "cell_type": "code",
   "execution_count": null,
   "metadata": {
    "collapsed": false
   },
   "outputs": [],
   "source": [
    "mode0.effective_area_simps(k,A,ev,sort_index,free_dofs,combined_space)"
   ]
  },
  {
   "cell_type": "code",
   "execution_count": null,
   "metadata": {
    "collapsed": false
   },
   "outputs": [],
   "source": [
    "nclad"
   ]
  },
  {
   "cell_type": "code",
   "execution_count": null,
   "metadata": {
    "collapsed": false
   },
   "outputs": [],
   "source": [
    "C"
   ]
  },
  {
   "cell_type": "code",
   "execution_count": null,
   "metadata": {
    "collapsed": false
   },
   "outputs": [],
   "source": [
    "mode0.Eabs2(y[0],x[0])"
   ]
  },
  {
   "cell_type": "code",
   "execution_count": null,
   "metadata": {
    "collapsed": false
   },
   "outputs": [],
   "source": [
    "E_ = mode0.Efun(y[0],x[0])"
   ]
  },
  {
   "cell_type": "code",
   "execution_count": null,
   "metadata": {
    "collapsed": false
   },
   "outputs": [],
   "source": [
    "np.abs(mode0.Efun(y[0],x[0]))**2"
   ]
  },
  {
   "cell_type": "code",
   "execution_count": null,
   "metadata": {
    "collapsed": false
   },
   "outputs": [],
   "source": [
    "mode1 = modes(0,size1,size2,min_max,propagating_modes,beta,sort_index,k0)\n",
    "mode1.electric_field_full(k,A,ev,sort_index,free_dofs,combined_space)\n"
   ]
  },
  {
   "cell_type": "code",
   "execution_count": null,
   "metadata": {
    "collapsed": false
   },
   "outputs": [],
   "source": [
    "mode1.effective_area(k,A,ev,sort_index,free_dofs,combined_space,r_clad)"
   ]
  },
  {
   "cell_type": "code",
   "execution_count": null,
   "metadata": {
    "collapsed": false
   },
   "outputs": [],
   "source": [
    "mode1.plot_electric_field(scales = 90000,sp=40)"
   ]
  },
  {
   "cell_type": "code",
   "execution_count": null,
   "metadata": {
    "collapsed": true
   },
   "outputs": [],
   "source": []
  },
  {
   "cell_type": "code",
   "execution_count": null,
   "metadata": {
    "collapsed": true
   },
   "outputs": [],
   "source": []
  },
  {
   "cell_type": "code",
   "execution_count": null,
   "metadata": {
    "collapsed": true
   },
   "outputs": [],
   "source": []
  },
  {
   "cell_type": "code",
   "execution_count": null,
   "metadata": {
    "collapsed": true
   },
   "outputs": [],
   "source": []
  },
  {
   "cell_type": "markdown",
   "metadata": {},
   "source": [
    "# Tests"
   ]
  },
  {
   "cell_type": "markdown",
   "metadata": {},
   "source": [
    "Effective area"
   ]
  },
  {
   "cell_type": "code",
   "execution_count": null,
   "metadata": {
    "collapsed": true
   },
   "outputs": [],
   "source": [
    "def effective():\n",
    "    "
   ]
  },
  {
   "cell_type": "code",
   "execution_count": null,
   "metadata": {
    "collapsed": false
   },
   "outputs": [],
   "source": [
    "if aj:\n",
    "    print\"hello\""
   ]
  },
  {
   "cell_type": "code",
   "execution_count": null,
   "metadata": {
    "collapsed": true
   },
   "outputs": [],
   "source": []
  },
  {
   "cell_type": "code",
   "execution_count": null,
   "metadata": {
    "collapsed": true
   },
   "outputs": [],
   "source": []
  },
  {
   "cell_type": "code",
   "execution_count": null,
   "metadata": {
    "collapsed": true
   },
   "outputs": [],
   "source": []
  },
  {
   "cell_type": "code",
   "execution_count": null,
   "metadata": {
    "collapsed": true
   },
   "outputs": [],
   "source": []
  },
  {
   "cell_type": "code",
   "execution_count": null,
   "metadata": {
    "collapsed": true
   },
   "outputs": [],
   "source": []
  },
  {
   "cell_type": "code",
   "execution_count": null,
   "metadata": {
    "collapsed": true
   },
   "outputs": [],
   "source": []
  },
  {
   "cell_type": "code",
   "execution_count": null,
   "metadata": {
    "collapsed": true
   },
   "outputs": [],
   "source": []
  },
  {
   "cell_type": "markdown",
   "metadata": {
    "collapsed": true
   },
   "source": [
    "def electric_field_full(mode_idx,x,y,k,A,ev,sort_index,free_dofs,combined_space):\n",
    "    \"\"\"\n",
    "    Releases the electric field from the calculated eigenvalus and eigen vectors\n",
    "    \n",
    "    Returns::\n",
    "    E[size,size,2],E_axial(Ez)\n",
    "    \"\"\"\n",
    "\n",
    "    #post-process the coefficients to map back to the full matrix\n",
    "    coefficiants_global = np.zeros(A.size(0),dtype=np.complex)\n",
    "    coefficiants_global[free_dofs] = ev[:,sort_index[mode_idx]]\n",
    "    #Create a Function on the combined space\n",
    "    mode_re = Function(combined_space)\n",
    "    mode_im = Function(combined_space)\n",
    "    #Assign the coefficients of the function to the calculated values\n",
    "    mode_re.vector().set_local(np.real(coefficiants_global))\n",
    "    mode_im.vector().set_local(np.imag(coefficiants_global))\n",
    "    #Split the function into the parts in each of the functions spaces in combined_space\n",
    "    #This is done using DOLFINs Function.split()\n",
    "    (TE_re,TM_re) = mode_re.split()\n",
    "    (TE_im,TM_im) = mode_im.split()\n",
    "\n",
    "    E = np.zeros([len(x),len(y),2],dtype = np.complex)\n",
    "    E_axial = np.zeros([len(x),len(y)], dtype= np.complex)\n",
    "    for i,xx in enumerate(x):\n",
    "        for j,yy in enumerate(y):\n",
    "            point = Point(xx,yy)\n",
    "            E[i,j,:]    =  TE_re(point) + 1j*TE_im(point)\n",
    "            E_axial[i,j] = TM_re(point) + 1j*TM_im(point)\n",
    "    return E,E_axial"
   ]
  },
  {
   "cell_type": "code",
   "execution_count": null,
   "metadata": {
    "collapsed": true
   },
   "outputs": [],
   "source": [
    "x = np.linspace(-r_clad,r_clad,512)\n",
    "y = np.linspace(-r_clad,r_clad,512)"
   ]
  },
  {
   "cell_type": "code",
   "execution_count": null,
   "metadata": {
    "collapsed": true
   },
   "outputs": [],
   "source": [
    "delx = x[1] - x[0]\n",
    "dely = y[1] - y[0]"
   ]
  },
  {
   "cell_type": "code",
   "execution_count": null,
   "metadata": {
    "collapsed": false
   },
   "outputs": [],
   "source": [
    "En,E_axialn = electric_field_full(propagating_modes[0],x,y,k,A,ev,sort_index,free_dofs,combined_space)\n",
    "Em,E_axialm = electric_field_full(propagating_modes[1],x,y,k,A,ev,sort_index,free_dofs,combined_space)"
   ]
  },
  {
   "cell_type": "code",
   "execution_count": null,
   "metadata": {
    "collapsed": false
   },
   "outputs": [],
   "source": [
    "np.max(np.gradient(En[:,:,0],delx,dely)[0] +np.gradient(En[:,:,1],delx,dely)[1] + np.gradient(E_axial))"
   ]
  },
  {
   "cell_type": "code",
   "execution_count": null,
   "metadata": {
    "collapsed": false
   },
   "outputs": [],
   "source": [
    "np.max(np.gradient(En[:,:,0])[2])"
   ]
  },
  {
   "cell_type": "code",
   "execution_count": null,
   "metadata": {
    "collapsed": false
   },
   "outputs": [],
   "source": [
    "def overlap_simps(En,E_axialn,Em,E_axialm,x,y):\n",
    "    integrand1 = np.conjugate(En[:,:,0])*Em[:,:,0] + np.conjugate(En[:,:,1])*Em[:,:,1] + np.conjugate(E_axialn[:,:])*E_axialm[:,:]\n",
    "    Over = integration2d_simps(x,y,integrand1)\n",
    "    \n",
    "    integrand2 = np.abs(En[:,:,0])**2 + np.abs(En[:,:,1])**2 + np.abs(E_axialn[:,:])**2\n",
    "    under1 = integration2d_simps(x,y,integrand2)\n",
    "       \n",
    "    integrand3 = np.abs(Em[:,:,0])**2 + np.abs(Em[:,:,1])**2 + np.abs(E_axialm[:,:])**2\n",
    "    under2 = integration2d_simps(x,y,integrand3)\n",
    "    print(np.max(integrand1))#,integrand2,integrand3)\n",
    "    print(Over,under1,under2)\n",
    "    return np.abs(Over)**2/(under1*under2)\n"
   ]
  },
  {
   "cell_type": "code",
   "execution_count": null,
   "metadata": {
    "collapsed": true
   },
   "outputs": [],
   "source": [
    "integrand1 = np.conjugate(En[:,:,0])*Em[:,:,0] + np.conjugate(En[:,:,1])*Em[:,:,1] + np.conjugate(E_axialn[:,:])*E_axialm[:,:]"
   ]
  },
  {
   "cell_type": "code",
   "execution_count": null,
   "metadata": {
    "collapsed": false
   },
   "outputs": [],
   "source": [
    "X,Y = np.meshgrid(x,y)\n",
    "plt.contourf(X,Y,integrand1)\n",
    "plt.xlim(-r_core,r_core)\n",
    "plt.ylim(-r_core,r_core)\n",
    "plt.colorbar()"
   ]
  },
  {
   "cell_type": "code",
   "execution_count": null,
   "metadata": {
    "collapsed": false
   },
   "outputs": [],
   "source": [
    "overlap_simps(En,E_axialn,Em,E_axialm,x,y)"
   ]
  },
  {
   "cell_type": "code",
   "execution_count": null,
   "metadata": {
    "collapsed": false
   },
   "outputs": [],
   "source": [
    "from testing.Single_mode_fibre import *\n"
   ]
  },
  {
   "cell_type": "code",
   "execution_count": null,
   "metadata": {
    "collapsed": false
   },
   "outputs": [],
   "source": [
    "effective_area_simps(En,E_axialn,x,y)"
   ]
  },
  {
   "cell_type": "code",
   "execution_count": null,
   "metadata": {
    "collapsed": false
   },
   "outputs": [],
   "source": [
    "effective_area_simps(Em,E_axialm,x,y)"
   ]
  },
  {
   "cell_type": "code",
   "execution_count": null,
   "metadata": {
    "collapsed": false
   },
   "outputs": [],
   "source": [
    "#Overlaps_simps(3,4,propagating_modes,x,y)\n",
    "Overlaps_simps(3,4,propagating_modes,x,y,r_core,r_clad,k,beta,k0,A,ev,sort_index,free_dofs,combined_space)"
   ]
  },
  {
   "cell_type": "code",
   "execution_count": null,
   "metadata": {
    "collapsed": true
   },
   "outputs": [],
   "source": []
  },
  {
   "cell_type": "code",
   "execution_count": null,
   "metadata": {
    "collapsed": true
   },
   "outputs": [],
   "source": [
    "import sympy.vector.coordsysrect"
   ]
  },
  {
   "cell_type": "code",
   "execution_count": null,
   "metadata": {
    "collapsed": false
   },
   "outputs": [],
   "source": [
    "from sympy.vector import CoordSysCartesian, divergence,curl\n",
    "R = CoordSysCartesian('R')\n",
    "v1 = R.x*R.y*R.z * (R.i+R.j+R.k)\n",
    "divergence(v1, R)\n",
    "v2 = 2*R.y*R.z*R.j\n",
    "divergence(v2, R)"
   ]
  },
  {
   "cell_type": "code",
   "execution_count": null,
   "metadata": {
    "collapsed": false
   },
   "outputs": [],
   "source": [
    "E = R.x*E[:,:,0] +R.y*E[:,:,1]+ R.z*E_axial"
   ]
  },
  {
   "cell_type": "code",
   "execution_count": null,
   "metadata": {
    "collapsed": true
   },
   "outputs": [],
   "source": [
    "np.diff?"
   ]
  },
  {
   "cell_type": "code",
   "execution_count": null,
   "metadata": {
    "collapsed": false
   },
   "outputs": [],
   "source": [
    "Overlaps_simps(3,3,propagating_modes,x,y,r_core,r_clad,k,beta,k0,A,ev,sort_index,free_dofs,combined_space)"
   ]
  },
  {
   "cell_type": "code",
   "execution_count": null,
   "metadata": {
    "collapsed": false
   },
   "outputs": [],
   "source": [
    "Overlaps_simps(4,4,propagating_modes,x,y,r_core,r_clad,k,beta,k0,A,ev,sort_index,free_dofs,combined_space)"
   ]
  },
  {
   "cell_type": "code",
   "execution_count": null,
   "metadata": {
    "collapsed": false
   },
   "outputs": [],
   "source": [
    "div(combined_space)"
   ]
  },
  {
   "cell_type": "code",
   "execution_count": null,
   "metadata": {
    "collapsed": false
   },
   "outputs": [],
   "source": [
    "E,E_axial = electric_field_full(mode_idx,x,y,k,A,ev,sort_index,free_dofs,combined_space)"
   ]
  },
  {
   "cell_type": "code",
   "execution_count": null,
   "metadata": {
    "collapsed": true
   },
   "outputs": [],
   "source": [
    "def divergence(F):\n",
    "    \"\"\" compute the divergence of n-D scalar field `F` \"\"\"\n",
    "    return reduce(np.add,np.gradient(F))"
   ]
  },
  {
   "cell_type": "code",
   "execution_count": null,
   "metadata": {
    "collapsed": true
   },
   "outputs": [],
   "source": [
    "e_r = n_prof +1j*k_prof"
   ]
  },
  {
   "cell_type": "code",
   "execution_count": null,
   "metadata": {
    "collapsed": false
   },
   "outputs": [],
   "source": [
    "div = np.gradient(e_r)"
   ]
  },
  {
   "cell_type": "code",
   "execution_count": null,
   "metadata": {
    "collapsed": false
   },
   "outputs": [],
   "source": [
    "np.shape(e_r)"
   ]
  },
  {
   "cell_type": "code",
   "execution_count": null,
   "metadata": {
    "collapsed": false
   },
   "outputs": [],
   "source": [
    "np.shape(div)"
   ]
  },
  {
   "cell_type": "code",
   "execution_count": null,
   "metadata": {
    "collapsed": false
   },
   "outputs": [],
   "source": [
    "beta"
   ]
  },
  {
   "cell_type": "code",
   "execution_count": null,
   "metadata": {
    "collapsed": false
   },
   "outputs": [],
   "source": [
    "alpha = np.linspace(-5,5,100)\n",
    "beta = np.copy(alpha)\n",
    "AR,BR =np.meshgrid(alpha,beta)\n",
    "alpha,beta = AR,BR\n",
    "gama = 1/(AR**2 + BR**2)\n",
    "\n",
    "plt.contourf(AR,BR,gama)"
   ]
  },
  {
   "cell_type": "code",
   "execution_count": null,
   "metadata": {
    "collapsed": false
   },
   "outputs": [],
   "source": [
    "plt.contourf(AR,BR,divergence(gama))\n",
    "plt.colorbar()"
   ]
  },
  {
   "cell_type": "code",
   "execution_count": null,
   "metadata": {
    "collapsed": false
   },
   "outputs": [],
   "source": [
    "np.max(divergence(gama))"
   ]
  },
  {
   "cell_type": "code",
   "execution_count": null,
   "metadata": {
    "collapsed": false
   },
   "outputs": [],
   "source": [
    "plt.contourf(X,Y,divergence(E[:,:,0]))#+divergence(np.dot(e_r,E[:,:,1])))#+divergence(E_axial))\n",
    "plt.colorbar()"
   ]
  },
  {
   "cell_type": "code",
   "execution_count": null,
   "metadata": {
    "collapsed": false
   },
   "outputs": [],
   "source": [
    "sympy.__version__"
   ]
  },
  {
   "cell_type": "code",
   "execution_count": null,
   "metadata": {
    "collapsed": true
   },
   "outputs": [],
   "source": [
    "import sympy"
   ]
  },
  {
   "cell_type": "code",
   "execution_count": null,
   "metadata": {
    "collapsed": true
   },
   "outputs": [],
   "source": [
    "coefficiants_global = np.zeros(A.size(0),dtype=np.complex)\n",
    "coefficiants_global[free_dofs] = ev[:,sort_index[mode_idx]]\n",
    "mode_re = Function(combined_space)\n",
    "mode_im = Function(combined_space)\n",
    "mode_re.vector().set_local(np.real(coefficiants_global))\n",
    "mode_im.vector().set_local(np.imag(coefficiants_global))\n",
    "(TE_re,TM_re) = mode_re.split()\n",
    "(TE_im,TM_im) = mode_im.split()\n",
    "E = np.zeros([len(x),len(y),2],dtype = np.complex)\n",
    "E_axial = np.zeros([len(x),len(y)], dtype= np.complex)\n",
    "for i,xx in enumerate(x):\n",
    "    for j,yy in enumerate(y):\n",
    "        point = Point(xx,yy)\n",
    "        E[i,j,:]    =  TE_re(point) + 1j*TE_im(point)\n",
    "        E_axial[i,j] = TM_re(point) + 1j*TM_im(point)\n"
   ]
  },
  {
   "cell_type": "code",
   "execution_count": null,
   "metadata": {
    "collapsed": false
   },
   "outputs": [],
   "source": [
    "TE_re"
   ]
  },
  {
   "cell_type": "code",
   "execution_count": null,
   "metadata": {
    "collapsed": false
   },
   "outputs": [],
   "source": [
    "from scipy.misc import derivative\n"
   ]
  },
  {
   "cell_type": "code",
   "execution_count": null,
   "metadata": {
    "collapsed": false
   },
   "outputs": [],
   "source": [
    "derivative?"
   ]
  },
  {
   "cell_type": "code",
   "execution_count": null,
   "metadata": {
    "collapsed": false
   },
   "outputs": [],
   "source": [
    "y = np.empty_like(x)\n",
    "y[:-1] = (x[1:] - x[:-1]) / delx\n",
    "y[-1] = -x[-1] / delx"
   ]
  },
  {
   "cell_type": "code",
   "execution_count": null,
   "metadata": {
    "collapsed": false
   },
   "outputs": [],
   "source": [
    "delx = x[1]- x[0]"
   ]
  },
  {
   "cell_type": "code",
   "execution_count": null,
   "metadata": {
    "collapsed": false
   },
   "outputs": [],
   "source": [
    "y = np.empty_like(x)"
   ]
  },
  {
   "cell_type": "code",
   "execution_count": null,
   "metadata": {
    "collapsed": false
   },
   "outputs": [],
   "source": [
    "diver = np.gradient(np.dot(e_r,E[:,:,0]))[1]+np.gradient(np.dot(e_r,E[:,:,1]))[1]+np.gradient(np.dot(e_r,E_axial))[0]"
   ]
  },
  {
   "cell_type": "code",
   "execution_count": null,
   "metadata": {
    "collapsed": true
   },
   "outputs": [],
   "source": [
    "diver2 = np.gradient(E[:,:,0])[0]+np.gradient(E[:,:,1])[0]+np.gradient(E_axial)[0]"
   ]
  },
  {
   "cell_type": "code",
   "execution_count": null,
   "metadata": {
    "collapsed": false
   },
   "outputs": [],
   "source": [
    "np.gradient(E[:,:,1])"
   ]
  },
  {
   "cell_type": "code",
   "execution_count": null,
   "metadata": {
    "collapsed": false
   },
   "outputs": [],
   "source": [
    "np.linalg.norm(diver2)"
   ]
  },
  {
   "cell_type": "code",
   "execution_count": null,
   "metadata": {
    "collapsed": false
   },
   "outputs": [],
   "source": [
    "plt.contourf(diver2)\n",
    "plt.colorbar()"
   ]
  },
  {
   "cell_type": "code",
   "execution_count": null,
   "metadata": {
    "collapsed": true
   },
   "outputs": [],
   "source": []
  },
  {
   "cell_type": "code",
   "execution_count": null,
   "metadata": {
    "collapsed": false
   },
   "outputs": [],
   "source": [
    "np.dot(e_r,E[:,:,0])"
   ]
  },
  {
   "cell_type": "code",
   "execution_count": null,
   "metadata": {
    "collapsed": false
   },
   "outputs": [],
   "source": [
    "np.gradient(np.array([[1, 2, 6], [3, 4, 5]], dtype=np.float))"
   ]
  },
  {
   "cell_type": "code",
   "execution_count": null,
   "metadata": {
    "collapsed": false
   },
   "outputs": [],
   "source": [
    "from netCDF4 import Dataset      \n",
    "import numpy as np      \n",
    "import matplotlib.pyplot as plt \n",
    "\n",
    "GridSat = Dataset('analysis_20040713_v11l30flk.nc4','r',format='NETCDF4')\n",
    "missing_data = -9999.0\n",
    "lat = GridSat.variables['lat']   \n",
    "lat = lat[:]     \n",
    "lat[np.where(lat==missing_data)] = np.nan  \n",
    "lat[np.where(lat > 90.0)] = np.nan     \n",
    "\n",
    "lon = GridSat.variables['lon']   \n",
    "lon = lon[:]                \n",
    "lon[np.where(lon==missing_data)] = np.nan\n",
    "\n",
    "\n",
    "uwind_data = GridSat.variables['uwnd']  \n",
    "uwind = GridSat.variables['uwnd'][:]\n",
    "uwind_sf = uwind_data.scale_factor   \n",
    "uwind_ao = uwind_data.add_offset\n",
    "miss_uwind = uwind_data.missing_value\n",
    "\n",
    "uwind[np.where(uwind==miss_uwind)] = np.nan    \n",
    "\n",
    "\n",
    "vwind_data = GridSat.variables['vwnd']  \n",
    "vwind = GridSat.variables['vwnd'][:]\n",
    "vwind_sf = vwind_data.scale_factor    \n",
    "vwind_ao = vwind_data.add_offset\n",
    "miss_vwind = vwind_data.missing_value\n",
    "\n",
    "vwind[np.where(vwind==miss_vwind)] = np.nan  \n",
    "\n",
    "\n",
    "uwind = uwind[2,:,:]\n",
    "vwind = vwind[2,:,:]  \n",
    "\n",
    "dx = 28400.0 # meters calculated from the 0.25 degree spatial gridding \n",
    "dy = 28400.0 # meters calculated from the 0.25 degree spatial gridding \n",
    "\n",
    "#dv_dx, dv_dy = np.gradient(vwind, [dx,dy])\n",
    "#du_dx, du_dy = np.gradient(uwind, [dx,dy])\n",
    "v_dx, dv_dy = np.gradient(vwind, dx,dy)\n",
    "du_dx, du_dy = np.gradient(uwind, dx,dy)"
   ]
  },
  {
   "cell_type": "code",
   "execution_count": null,
   "metadata": {
    "collapsed": false
   },
   "outputs": [],
   "source": [
    "from netCDF4 import Dataset   "
   ]
  },
  {
   "cell_type": "code",
   "execution_count": null,
   "metadata": {
    "collapsed": false
   },
   "outputs": [],
   "source": [
    "E_large = np.zeros([512,512,3],dtype=np.complex)"
   ]
  },
  {
   "cell_type": "code",
   "execution_count": null,
   "metadata": {
    "collapsed": false
   },
   "outputs": [],
   "source": [
    "E_large[:,:,0:2] = E\n",
    "E_large[:,:,-1] =E_axial"
   ]
  },
  {
   "cell_type": "code",
   "execution_count": null,
   "metadata": {
    "collapsed": false
   },
   "outputs": [],
   "source": [
    "dexdx,dexdy,dexdz = np.gradient(E_large,x[1]-x[0],x[1]-x[0],x[1]-x[0])[0][:,:,0], np.gradient(E_large,1,1,1)[0][:,:,1], np.gradient(E_large,1,1,1)[0][:,:,2]"
   ]
  },
  {
   "cell_type": "code",
   "execution_count": null,
   "metadata": {
    "collapsed": false
   },
   "outputs": [],
   "source": [
    "deydx,deydy,deydz = np.gradient(E_large,x[1]-x[0],x[1]-x[0],x[1]-x[0])[1][:,:,0], np.gradient(E_large,1,1,1)[1][:,:,1], np.gradient(E_large,1,1,1)[1][:,:,2]"
   ]
  },
  {
   "cell_type": "code",
   "execution_count": null,
   "metadata": {
    "collapsed": true
   },
   "outputs": [],
   "source": [
    "dezdx,dezdy,dezdz = np.gradient(E_large,x[1]-x[0],x[1]-x[0],x[1]-x[0])[2][:,:,0], np.gradient(E_large,1,1,1)[2][:,:,1], np.gradient(E_large,1,1,1)[2][:,:,2]"
   ]
  },
  {
   "cell_type": "code",
   "execution_count": null,
   "metadata": {
    "collapsed": false
   },
   "outputs": [],
   "source": [
    "dive =dexdx + deydy +dezdz"
   ]
  },
  {
   "cell_type": "code",
   "execution_count": null,
   "metadata": {
    "collapsed": false
   },
   "outputs": [],
   "source": [
    "plt.contourf(dive)"
   ]
  },
  {
   "cell_type": "code",
   "execution_count": null,
   "metadata": {
    "collapsed": true
   },
   "outputs": [],
   "source": []
  },
  {
   "cell_type": "code",
   "execution_count": null,
   "metadata": {
    "collapsed": true
   },
   "outputs": [],
   "source": []
  }
 ],
 "metadata": {
  "kernelspec": {
   "display_name": "Python 2",
   "language": "python",
   "name": "python2"
  },
  "language_info": {
   "codemirror_mode": {
    "name": "ipython",
    "version": 2
   },
   "file_extension": ".py",
   "mimetype": "text/x-python",
   "name": "python",
   "nbconvert_exporter": "python",
   "pygments_lexer": "ipython2",
   "version": "2.7.11+"
  }
 },
 "nbformat": 4,
 "nbformat_minor": 0
}
