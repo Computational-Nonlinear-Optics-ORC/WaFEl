{
 "cells": [
  {
   "cell_type": "markdown",
   "metadata": {
    "slideshow": {
     "slide_type": "slide"
    }
   },
   "source": [
    "## Theory\n",
    "(taken from the fenics book)\n",
    "\n",
    "We are solving the Helmholtz equation:\n",
    "                       "
   ]
  },
  {
   "cell_type": "markdown",
   "metadata": {
    "slideshow": {
     "slide_type": "slide"
    }
   },
   "source": [
    " $$\\nabla \\times \\frac{1}{\\mu_r}\\nabla \\times \\boldsymbol{E} - k_0^2 \\epsilon_r \\boldsymbol{E}=0,$$ with the boundary condition of electric mirrors.\n",
    " $$k_0 = \\frac{2\\pi f_0}{c_0}$$\n",
    " \n",
    " $$\\epsilon_r = (n+\\mathrm{i}k)^2$$"
   ]
  },
  {
   "cell_type": "markdown",
   "metadata": {
    "slideshow": {
     "slide_type": "slide"
    }
   },
   "source": [
    "The functional is:\n",
    "$$F(\\boldsymbol{E}) = \\frac{1}{2} \\int_\\Omega \\left[\\frac{1}{\\mu_r} \\left(\\nabla \\times \\boldsymbol{E}\\right)\\cdot \\left(\\nabla \\times \\boldsymbol{E}\\right) - k^2_0 \\epsilon_r \\boldsymbol{E}\\boldsymbol{E}\\right]dx$$"
   ]
  },
  {
   "cell_type": "markdown",
   "metadata": {
    "slideshow": {
     "slide_type": "slide"
    }
   },
   "source": [
    "In order to find it the vector is split in to the transverse and axial components.\n",
    "\n",
    "$$\\nabla = \\nabla_t + \\nabla_z,$$\n",
    "with $$\\nabla_t = \\hat{e_x}\\frac{\\partial}{\\partial x} + \\hat{e_y}\\frac{\\partial}{\\partial y}$$\n",
    "and $$\\nabla_z = \\hat{e_z}\\frac{\\partial}{\\partial z}$$\n",
    "We also assume that the electric field can be split like:\n",
    "$$\\boldsymbol{E}(x,y,z) = \\left[E_t(x,y) + \\hat{e_z} E_z(x,y) \\right] e^{-\\beta z}$$\n",
    "where $\\beta$ is the complex propagation constant,\n",
    "$$\\boldsymbol{E}_t = \\hat{e_x} E_x + \\hat{e_y} E_y$$ and $$ \\boldsymbol{E}_{axial} = \\hat{e_z} E_z$$"
   ]
  },
  {
   "cell_type": "markdown",
   "metadata": {
    "slideshow": {
     "slide_type": "slide"
    }
   },
   "source": [
    "By splitting the $\\nabla$ and by substituting the above for the electric field the functional becomes:\n",
    "                               $$ F_{\\beta}(\\boldsymbol{E}) =  \\int_{\\Omega} \\frac{1}{\\mu_r} \\left(\\nabla_t \\times \\boldsymbol{E}_{t,\\beta}\\right) \\cdot \\left(\\nabla_t \\times \\boldsymbol{E}_{t,\\beta}\\right) -k^2_0 \\epsilon_r E_{t,\\beta}E_{t,\\beta} \\\\ + \\beta^2 \\left[\\frac{1}{\\mu_r} \\left(\\nabla_t E_z+\\beta E_{t,\\gamma}\\right)\\left(\\nabla_t E_z+\\beta E_{t,\\gamma}\\right) - k^2_0 \\epsilon_r E_z E_z dx \\right]$$"
   ]
  },
  {
   "cell_type": "markdown",
   "metadata": {
    "slideshow": {
     "slide_type": "slide"
    }
   },
   "source": [
    "Since the functional is built now the electric field components need to be discetized in order to be calculated. \n",
    "The axial component can be discretised by nodal basis functions (Lagrandge) but the transverse need to be by two dimensional curl-conforming vector basis functions(Nedelec).\n",
    "\n",
    "The electric field in the nedelec space is described by:\n",
    "$$E_{t} = \\sum_{i=1}^{N_{N}} (e_t)_i N_i$$\n",
    "\n",
    "and the axial in lagrange elements as:\n",
    "\n",
    "$$E_z = \\sum_{i=1}^{N_{L}} (e_z)_i L_i$$\n",
    " Where $N_N$ and $N_L$ are the number of nedelec and lagrange elements respectively. $N_i$, $L_i$ are the basis functions and $e_t$, $e_z$ are the equivalent coefficients."
   ]
  },
  {
   "cell_type": "markdown",
   "metadata": {
    "slideshow": {
     "slide_type": "slide"
    }
   },
   "source": [
    "While the cuttoff method is easier to implement it only prety much finds the cuttoff wavenumber (shown in fenics book and in other papers). This is not what is of interest. I am interested in calculating the propagation constants $\\beta$ and by extension the effective indices and the Electric field that they equate to."
   ]
  },
  {
   "cell_type": "markdown",
   "metadata": {
    "slideshow": {
     "slide_type": "slide"
    }
   },
   "source": [
    "The matrix eqution to be solved is\n",
    "\n",
    "$$\\begin{bmatrix}\n",
    "    A_{tt}       & 0 \\\\\n",
    "    0       & 0 \n",
    "\\end{bmatrix}\\begin{bmatrix}\n",
    "    e_t \\\\\n",
    "    e_z      \n",
    "\\end{bmatrix} = -\\beta^2\n",
    "\\begin{bmatrix}\n",
    "    B_{tt}       & B_{tz} \\\\\n",
    "    B_{zt}       & B_{zz} \n",
    "\\end{bmatrix}\\begin{bmatrix}\n",
    "    e_t \\\\\n",
    "    e_z      \n",
    "\\end{bmatrix}\n",
    "$$"
   ]
  },
  {
   "cell_type": "markdown",
   "metadata": {
    "slideshow": {
     "slide_type": "slide"
    }
   },
   "source": [
    "Where $$A_{tt} = S_{tt} - k^2_0 T_{tt} = \\int_{\\Omega} \\frac{1}{\\mu_r} \\left(\\nabla_t \\times N_i \\right) \\left(\\nabla_t \\times N_j \\right)dx \\\\ - k^2_0 \\int_{\\omega} \\epsilon_r N_i N_jdx$$\n",
    "\n",
    "$$B_{zz} = S_{zz} - k^2_0 T_{zz} = \\int_{\\Omega} \\frac{1}{\\mu_r} \\left(\\nabla_t L_i \\right) \\left(\\nabla_t L_j \\right)dx \\\\ - k^2_0 \\int_{\\omega} \\epsilon_r L_i L_j dx$$"
   ]
  },
  {
   "cell_type": "markdown",
   "metadata": {
    "slideshow": {
     "slide_type": "slide"
    }
   },
   "source": [
    "$$ B_{tt} = \\int_{\\Omega} \\frac{1}{\\mu_r} N_i \\cdot  N_j dx$$\n",
    "\n",
    "$$ B_{tz} = \\int_{\\Omega} \\frac{1}{\\mu_r} N_i \\cdot  \\nabla_t L_j dx$$\n",
    "\n",
    "$$ B_{zt} = \\int_{\\Omega} \\frac{1}{\\mu_r} \\nabla_t L_i \\cdot  N_j dx$$"
   ]
  },
  {
   "cell_type": "markdown",
   "metadata": {
    "slideshow": {
     "slide_type": "slide"
    }
   },
   "source": [
    "### Code\n",
    "Import the required modules"
   ]
  },
  {
   "cell_type": "code",
   "execution_count": 1,
   "metadata": {
    "collapsed": false,
    "slideshow": {
     "slide_type": "slide"
    }
   },
   "outputs": [
    {
     "name": "stderr",
     "output_type": "stream",
     "text": [
      "/home/john/.hashdist/bld/profile/yf4xb3w3sqkj/lib/python2.7/site-packages/matplotlib/__init__.py:1318: UserWarning:  This call to matplotlib.use() has no effect\n",
      "because the backend has already been chosen;\n",
      "matplotlib.use() must be called *before* pylab, matplotlib.pyplot,\n",
      "or matplotlib.backends is imported for the first time.\n",
      "\n",
      "  warnings.warn(_use_error_msg)\n"
     ]
    }
   ],
   "source": [
    "%matplotlib inline\n",
    "from __future__ import division#, print_function\n",
    "import numpy as np\n",
    "from scipy.constants import c,pi\n",
    "from scipy.sparse.linalg import eigs, eigsh\n",
    "from scipy.linalg import eig\n",
    "from scipy.sparse import csr_matrix, lil_matrix, csc_matrix\n",
    "import matplotlib.pylab as plt\n",
    "from scipy.integrate import simps\n",
    "import os\n",
    "from matplotlib.colors import from_levels_and_colors\n",
    "from dolfin import *\n",
    "import time\n",
    "from functions_dispersion_analysis import *"
   ]
  },
  {
   "cell_type": "markdown",
   "metadata": {
    "slideshow": {
     "slide_type": "slide"
    }
   },
   "source": [
    "The box domain:"
   ]
  },
  {
   "cell_type": "code",
   "execution_count": 2,
   "metadata": {
    "collapsed": false,
    "slideshow": {
     "slide_type": "-"
    }
   },
   "outputs": [],
   "source": [
    "a = 2e-4\n",
    "b = 2e-4\n",
    "box_domain = box_domain(a,b)"
   ]
  },
  {
   "cell_type": "markdown",
   "metadata": {
    "slideshow": {
     "slide_type": "slide"
    }
   },
   "source": [
    "Inputs of the problem"
   ]
  },
  {
   "cell_type": "code",
   "execution_count": 3,
   "metadata": {
    "collapsed": false
   },
   "outputs": [],
   "source": [
    "mu_r = 1.0 \n",
    "lamda = 1.55e-6\n",
    "r_core = 1e-5 # radius of core\n",
    "r_clad = 10e-5 #radius of the fibre\n",
    "nclad = 1.444#- 0.1e-4j# ref index of cladding\n",
    "ncore = 1.445 - 1e-4j # ref index of core\n",
    "#neff_g = 1.4445 # Guess of the modes\n",
    "#num= 2   #The number of modes guess \n",
    "#neff_g= ncore\n",
    "mesh_refinement = 0 # number of times to uniformly refine the mesh (used for convergence plots and better results)"
   ]
  },
  {
   "cell_type": "code",
   "execution_count": 4,
   "metadata": {
    "collapsed": true
   },
   "outputs": [],
   "source": [
    "eig_par = eigen_parameters(10,ncore)"
   ]
  },
  {
   "cell_type": "markdown",
   "metadata": {
    "collapsed": false
   },
   "source": [
    "from testing.Single_mode_fibre.Single_mode_theoretical import *\n",
    "neff_th, Aeff_th = main_test(ncore,nclad,lamda,r_core,r_clad)\n",
    "print(neff_th,Aeff_th)\n",
    "\n",
    "if k ==0:\n",
    "    V = 2*pi/lamda*r_core*(ncore**2 - nclad**2)**0.5\n",
    "    print(V)\n"
   ]
  },
  {
   "cell_type": "code",
   "execution_count": 5,
   "metadata": {
    "collapsed": false
   },
   "outputs": [],
   "source": [
    "k = is_loss(ncore,nclad)"
   ]
  },
  {
   "cell_type": "code",
   "execution_count": 6,
   "metadata": {
    "collapsed": false,
    "slideshow": {
     "slide_type": "slide"
    }
   },
   "outputs": [],
   "source": [
    "def ref(x,values = np.zeros(1)):\n",
    "    point = (x[0]**2+ x[1]**2)**0.5\n",
    "    if  point<= r_core:\n",
    "        values[0] = ncore.real**2 - ncore.imag**2\n",
    "    elif point > r_core and point <= r_clad:\n",
    "        values[0] = nclad.real**2 - nclad.imag**2\n",
    "    else:\n",
    "        values[0] = 1.\n",
    "    return values\n",
    "\n",
    "def extinction(x,values = np.zeros(1)):\n",
    "    point = (x[0]**2+ x[1]**2)**0.5\n",
    "    if  point<= r_core:\n",
    "        values[0] = -2*ncore.imag*ncore.real\n",
    "    elif point > r_core and point <= r_clad:\n",
    "        values[0] = -2*nclad.imag*ncore.real\n",
    "    else:\n",
    "        values[0] = 0\n",
    "    return values"
   ]
  },
  {
   "cell_type": "code",
   "execution_count": 8,
   "metadata": {
    "collapsed": false
   },
   "outputs": [],
   "source": [
    "waveguide = waveguide_inputs(lamda,ref,extinction)"
   ]
  },
  {
   "cell_type": "markdown",
   "metadata": {
    "collapsed": false,
    "slideshow": {
     "slide_type": "slide"
    }
   },
   "source": [
    "x = np.linspace(-a,a,10)\n",
    "y = np.linspace(-b,b,10)\n",
    "n_prof,k_prof = geometry_plot(x,y,a,b,ref,extinction,nclad,ncore,r_core,r_clad)\n"
   ]
  },
  {
   "cell_type": "markdown",
   "metadata": {
    "slideshow": {
     "slide_type": "slide"
    }
   },
   "source": [
    "## Mesh"
   ]
  },
  {
   "cell_type": "markdown",
   "metadata": {},
   "source": [
    "Load the gmsh file and if asked for refine the mesh."
   ]
  },
  {
   "cell_type": "code",
   "execution_count": 9,
   "metadata": {
    "collapsed": false,
    "scrolled": true
   },
   "outputs": [
    {
     "name": "stdout",
     "output_type": "stream",
     "text": [
      "Info    : Running 'gmsh fenics_mesh/Output.geo -2 -o fenics_mesh/output_small.msh' [Gmsh 2.12.0, 1 node, max. 1 thread]\n",
      "Info    : Started on Sat Jul 23 09:50:59 2016\n",
      "Info    : Reading 'fenics_mesh/Output.geo'...\n",
      "Info    : Done reading 'fenics_mesh/Output.geo'\n",
      "Info    : Meshing 1D...\n",
      "Info    : Meshing curve 1 (Circle)\n",
      "Info    : Meshing curve 2 (Circle)\n",
      "Info    : Meshing curve 3 (Circle)\n",
      "Info    : Meshing curve 4 (Circle)\n",
      "Info    : Meshing curve 5 (Circle)\n",
      "Info    : Meshing curve 6 (Circle)\n",
      "Info    : Meshing curve 7 (Circle)\n",
      "Info    : Meshing curve 8 (Circle)\n",
      "Info    : Meshing curve 9 (Circle)\n",
      "Info    : Meshing curve 10 (Circle)\n",
      "Info    : Meshing curve 11 (Circle)\n",
      "Info    : Meshing curve 12 (Circle)\n",
      "Info    : Meshing curve 13 (Circle)\n",
      "Info    : Meshing curve 14 (Circle)\n",
      "Info    : Meshing curve 15 (Circle)\n",
      "Info    : Meshing curve 16 (Circle)\n",
      "Info    : Meshing curve 17 (Line)\n",
      "Info    : Meshing curve 18 (Line)\n",
      "Info    : Meshing curve 19 (Line)\n",
      "Info    : Meshing curve 20 (Line)\n",
      "Info    : Done meshing 1D (0 s)\n",
      "Info    : Meshing 2D...\n",
      "Info    : Meshing surface 23 (Plane, Delaunay)\n",
      "Info    : Meshing surface 25 (Plane, Delaunay)\n",
      "Info    : Meshing surface 26 (Plane, Delaunay)\n",
      "Info    : Done meshing 2D (0.00421286 s)\n",
      "Info    : 102 vertices 245 elements\n",
      "Info    : Writing 'fenics_mesh/output_small.msh'...\n",
      "Info    : Done writing 'fenics_mesh/output_small.msh'\n",
      "Info    : Stopped on Sat Jul 23 09:50:59 2016\n",
      "\n",
      "Converting from Gmsh format (.msh, .gmsh) to DOLFIN XML format\n",
      "Expecting 101 vertices\n",
      "Found all vertices\n",
      "Expecting 196 cells\n",
      "Found all cells\n",
      "Conversion done\n",
      "\n"
     ]
    }
   ],
   "source": [
    "#mesh = gmesh_mesh(\"original_geometry.geo\",a,b,r_core,r_clad,mesh_refinement)\n",
    "#mesh = gmesh_mesh_new(\"geometry_new.geo\",a,b,r_core,r_clad,mesh_refinement)\n",
    "#mesh = gmesh_mesh_new(\"geometry_new.geo\",a,b,r_core,r_clad,mesh_refinement,gmsh_ver = 'gmsh')\n",
    "mesh = gmesh_mesh_new(\"geometry_new.geo\", a, b, r_core, r_clad,mesh_refinement, waveguide.lamda, 3)\n",
    "\n",
    "#mesh = df.Mesh('misc/fibre_small.xml')\n",
    "#plot(mesh,interactive=True)"
   ]
  },
  {
   "cell_type": "code",
   "execution_count": 10,
   "metadata": {
    "collapsed": false
   },
   "outputs": [],
   "source": [
    "#plot_mesh(mesh,'mesh.png',True)"
   ]
  },
  {
   "cell_type": "markdown",
   "metadata": {},
   "source": [
    "import matplotlib.tri as tri\n",
    "n = mesh.num_vertices()\n",
    "d = mesh.geometry().dim()\n",
    "\n",
    "# Create the triangulation\n",
    "mesh_coordinates = mesh.coordinates().reshape((n, d))\n",
    "triangles = np.asarray([cell.entities(0) for cell in cells(mesh)])\n",
    "triangulation = tri.Triangulation(mesh_coordinates[:, 0],\n",
    "                                  mesh_coordinates[:, 1],\n",
    "                                  triangles)\n",
    "\n",
    "# Plot the mesh\n",
    "plt.figure()\n",
    "plt.triplot(triangulation)\n",
    "plt.savefig('mesh.png')\n"
   ]
  },
  {
   "cell_type": "markdown",
   "metadata": {},
   "source": [
    "### Define the orders of the fucntion spaces for vector and nodal basis functions"
   ]
  },
  {
   "cell_type": "code",
   "execution_count": 11,
   "metadata": {
    "collapsed": false
   },
   "outputs": [],
   "source": [
    "vector_order = 3\n",
    "nodal_order = 3"
   ]
  },
  {
   "cell_type": "markdown",
   "metadata": {
    "slideshow": {
     "slide_type": "slide"
    }
   },
   "source": [
    "Define the test and trial functions from the combined space here N_i and N_j are Nedelec basis functions and L_i and L_j are Lagrange basis functions"
   ]
  },
  {
   "cell_type": "markdown",
   "metadata": {
    "slideshow": {
     "slide_type": "slide"
    }
   },
   "source": [
    "## Creating the matrix equation."
   ]
  },
  {
   "cell_type": "markdown",
   "metadata": {},
   "source": [
    "$$\\begin{bmatrix}\n",
    "    A_{tt}       & 0 \\\\\n",
    "    0       & 0 \n",
    "\\end{bmatrix}\\begin{bmatrix}\n",
    "    e_t \\\\\n",
    "    e_z      \n",
    "\\end{bmatrix} = -\\beta^2\n",
    "\\begin{bmatrix}\n",
    "    B_{tt}       & B_{tz} \\\\\n",
    "    B_{zt}       & B_{zz} \n",
    "\\end{bmatrix}\\begin{bmatrix}\n",
    "    e_t \\\\\n",
    "    e_z      \n",
    "\\end{bmatrix}\n",
    "$$"
   ]
  },
  {
   "cell_type": "markdown",
   "metadata": {
    "slideshow": {
     "slide_type": "slide"
    }
   },
   "source": [
    "Define the forms (matrix elements) for dispersion analysis into the basis functions"
   ]
  },
  {
   "cell_type": "code",
   "execution_count": 12,
   "metadata": {
    "collapsed": false
   },
   "outputs": [],
   "source": [
    "combined_space, A,B, A_complex,B_complex = Matrix_creation(mesh,mu_r,k,waveguide.k0,waveguide.ref,waveguide.extinction,vector_order,nodal_order)"
   ]
  },
  {
   "cell_type": "markdown",
   "metadata": {
    "slideshow": {
     "slide_type": "slide"
    }
   },
   "source": [
    "post-multiplication by dx will result in integration over the domain of the mesh at assembly time"
   ]
  },
  {
   "cell_type": "markdown",
   "metadata": {
    "slideshow": {
     "slide_type": "slide"
    }
   },
   "source": [
    "## Implement boundary conditions"
   ]
  },
  {
   "cell_type": "code",
   "execution_count": 13,
   "metadata": {
    "collapsed": false
   },
   "outputs": [],
   "source": [
    "A,B,A_complex,B_complex,electric_wall = Mirror_boundary(mesh,combined_space,A,B,A_complex,B_complex,k)\n",
    "#free_dofs = boundary_marker_locator(A,electric_wall)\n",
    "free_dofs = boundary_marker_locator(A,electric_wall)"
   ]
  },
  {
   "cell_type": "markdown",
   "metadata": {
    "slideshow": {
     "slide_type": "slide"
    }
   },
   "source": [
    "### Free the vectors and make numpy arrays to solve with scipy"
   ]
  },
  {
   "cell_type": "markdown",
   "metadata": {
    "slideshow": {
     "slide_type": "-"
    }
   },
   "source": [
    "Find what part of the vectors are not ascociated with the boundary values"
   ]
  },
  {
   "cell_type": "markdown",
   "metadata": {
    "slideshow": {
     "slide_type": "slide"
    }
   },
   "source": [
    "### Solve the eigenvalue system using scipy.linalg.eig"
   ]
  },
  {
   "cell_type": "markdown",
   "metadata": {
    "collapsed": false
   },
   "source": [
    "eigen,ev,A_np,B_np = find_eigenvalues(A,B,A_complex,B_complex,neff_g,num,k0,free_dofs,k,sparse_=True)"
   ]
  },
  {
   "cell_type": "code",
   "execution_count": 14,
   "metadata": {
    "collapsed": true
   },
   "outputs": [],
   "source": [
    "A_np,B_np = dolfin_to_eigs(A,B,A_complex,B_complex,k,free_dofs)\n"
   ]
  },
  {
   "cell_type": "code",
   "execution_count": 15,
   "metadata": {
    "collapsed": false
   },
   "outputs": [],
   "source": [
    "eigen, ev = scipy_sparse_eigensolver(A_np,B_np,ncore,10,waveguide.k0)"
   ]
  },
  {
   "cell_type": "markdown",
   "metadata": {
    "slideshow": {
     "slide_type": "slide"
    }
   },
   "source": [
    "Find $\\beta$ from the eigenvalue."
   ]
  },
  {
   "cell_type": "code",
   "execution_count": 16,
   "metadata": {
    "collapsed": false
   },
   "outputs": [],
   "source": [
    "beta =1j*(eigen)**0.5 \n",
    "beta = np.abs(np.real(beta)) -1j*np.imag(beta)"
   ]
  },
  {
   "cell_type": "markdown",
   "metadata": {
    "slideshow": {
     "slide_type": "slide"
    }
   },
   "source": [
    "sort the calculated values"
   ]
  },
  {
   "cell_type": "code",
   "execution_count": 17,
   "metadata": {
    "collapsed": false
   },
   "outputs": [],
   "source": [
    "sort_index = np.argsort(beta.imag)[::-1]"
   ]
  },
  {
   "cell_type": "code",
   "execution_count": 18,
   "metadata": {
    "collapsed": false
   },
   "outputs": [],
   "source": [
    "propagating_modes = np.where(((beta[sort_index]/waveguide.k0).real>nclad.real) & ((beta[sort_index]/waveguide.k0).real<ncore))\n",
    "propagating_modes = propagating_modes[0][:]"
   ]
  },
  {
   "cell_type": "markdown",
   "metadata": {},
   "source": [
    "### Results"
   ]
  },
  {
   "cell_type": "code",
   "execution_count": 19,
   "metadata": {
    "collapsed": false
   },
   "outputs": [],
   "source": [
    "neff = beta[sort_index][propagating_modes]/waveguide.k0"
   ]
  },
  {
   "cell_type": "code",
   "execution_count": 20,
   "metadata": {
    "collapsed": false
   },
   "outputs": [
    {
     "name": "stdout",
     "output_type": "stream",
     "text": [
      "The effective index of the most dominant modes are:\n",
      "[ 1.44450245 -8.05802043e-05j  1.44450249 -8.05881545e-05j]\n"
     ]
    }
   ],
   "source": [
    "print(\"The effective index of the most dominant modes are:\")\n",
    "print(neff)"
   ]
  },
  {
   "cell_type": "code",
   "execution_count": 21,
   "metadata": {
    "collapsed": true
   },
   "outputs": [],
   "source": [
    "size1,size2 = 512,512\n",
    "min_max = (-3*r_core,3*r_core,-3*r_core,3*r_core)"
   ]
  },
  {
   "cell_type": "code",
   "execution_count": 22,
   "metadata": {
    "collapsed": false
   },
   "outputs": [],
   "source": [
    "mode0 = modes(-2,size1,size2,min_max,propagating_modes,beta,sort_index,waveguide.k0)\n",
    "mode0.electric_field_full(k,A,ev,sort_index,free_dofs,combined_space)\n"
   ]
  },
  {
   "cell_type": "code",
   "execution_count": 23,
   "metadata": {
    "collapsed": true
   },
   "outputs": [],
   "source": [
    "mode1 = modes(-1,size1,size2,min_max,propagating_modes,beta,sort_index,waveguide.k0)\n",
    "mode1.electric_field_full(k,A,ev,sort_index,free_dofs,combined_space)\n"
   ]
  },
  {
   "cell_type": "code",
   "execution_count": 25,
   "metadata": {
    "collapsed": false
   },
   "outputs": [
    {
     "name": "stderr",
     "output_type": "stream",
     "text": [
      "/home/john/.hashdist/bld/profile/yf4xb3w3sqkj/lib/python2.7/site-packages/matplotlib/collections.py:590: FutureWarning: elementwise comparison failed; returning scalar instead, but in the future will perform elementwise comparison\n",
      "  if self._edgecolors == str('face'):\n"
     ]
    },
    {
     "data": {
      "image/png": "[encoded data removed]",
      "text/plain": [
       "<matplotlib.figure.Figure at 0x7fb2e5fd0a10>"
      ]
     },
     "metadata": {},
     "output_type": "display_data"
    },
    {
     "data": {
      "image/png": "[encoded data removed]",
      "text/plain": [
       "<matplotlib.figure.Figure at 0x7fb2e5fd09d0>"
      ]
     },
     "metadata": {},
     "output_type": "display_data"
    }
   ],
   "source": [
    "mode0.plot_electric_field(scales = 150000*2,sp=40,cont_scale=700)\n",
    "mode1.plot_electric_field(scales = 150000*2,sp=40,cont_scale=700)"
   ]
  }
 ],
 "metadata": {
  "kernelspec": {
   "display_name": "Python 2",
   "language": "python",
   "name": "python2"
  },
  "language_info": {
   "codemirror_mode": {
    "name": "ipython",
    "version": 2
   },
   "file_extension": ".py",
   "mimetype": "text/x-python",
   "name": "python",
   "nbconvert_exporter": "python",
   "pygments_lexer": "ipython2",
   "version": "2.7.12"
  }
 },
 "nbformat": 4,
 "nbformat_minor": 0
}
