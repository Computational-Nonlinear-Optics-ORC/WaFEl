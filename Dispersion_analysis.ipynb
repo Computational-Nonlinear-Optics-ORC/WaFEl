{
 "cells": [
  {
   "cell_type": "markdown",
   "metadata": {
    "slideshow": {
     "slide_type": "slide"
    }
   },
   "source": [
    "## Theory\n",
    "(taken from the fenics book)\n",
    "\n",
    "We are solving the Helmholtz equation:\n",
    "                       "
   ]
  },
  {
   "cell_type": "markdown",
   "metadata": {
    "slideshow": {
     "slide_type": "slide"
    }
   },
   "source": [
    " $$\\nabla \\times \\frac{1}{\\mu_r}\\nabla \\times \\boldsymbol{E} - k_0^2 \\epsilon_r \\boldsymbol{E}=0,$$ with the boundary condition of electric mirrors.\n",
    " $$k_0 = \\frac{2\\pi f_0}{c_0}$$\n",
    " \n",
    " $$\\epsilon_r = (n+\\mathrm{i}k)^2$$"
   ]
  },
  {
   "cell_type": "markdown",
   "metadata": {
    "slideshow": {
     "slide_type": "slide"
    }
   },
   "source": [
    "The functional is:\n",
    "$$F(\\boldsymbol{E}) = \\frac{1}{2} \\int_\\Omega \\left[\\frac{1}{\\mu_r} \\left(\\nabla \\times \\boldsymbol{E}\\right)\\cdot \\left(\\nabla \\times \\boldsymbol{E}\\right) - k^2_0 \\epsilon_r \\boldsymbol{E}\\boldsymbol{E}\\right]dx$$"
   ]
  },
  {
   "cell_type": "markdown",
   "metadata": {
    "slideshow": {
     "slide_type": "slide"
    }
   },
   "source": [
    "In order to find it the vector is split in to the transverse and axial components.\n",
    "\n",
    "$$\\nabla = \\nabla_t + \\nabla_z,$$\n",
    "with $$\\nabla_t = \\hat{e_x}\\frac{\\partial}{\\partial x} + \\hat{e_y}\\frac{\\partial}{\\partial y}$$\n",
    "and $$\\nabla_z = \\hat{e_z}\\frac{\\partial}{\\partial z}$$\n",
    "We also assume that the electric field can be split like:\n",
    "$$\\boldsymbol{E}(x,y,z) = \\left[E_t(x,y) + \\hat{e_z} E_z(x,y) \\right] e^{-\\beta z}$$\n",
    "where $\\beta$ is the complex propagation constant,\n",
    "$$\\boldsymbol{E}_t = \\hat{e_x} E_x + \\hat{e_y} E_y$$ and $$ \\boldsymbol{E}_{axial} = \\hat{e_z} E_z$$"
   ]
  },
  {
   "cell_type": "markdown",
   "metadata": {
    "slideshow": {
     "slide_type": "slide"
    }
   },
   "source": [
    "By splitting the $\\nabla$ and by substituting the above for the electric field the functional becomes:\n",
    "                               $$ F_{\\beta}(\\boldsymbol{E}) =  \\int_{\\Omega} \\frac{1}{\\mu_r} \\left(\\nabla_t \\times \\boldsymbol{E}_{t,\\beta}\\right) \\cdot \\left(\\nabla_t \\times \\boldsymbol{E}_{t,\\beta}\\right) -k^2_0 \\epsilon_r E_{t,\\beta}E_{t,\\beta} \\\\ + \\beta^2 \\left[\\frac{1}{\\mu_r} \\left(\\nabla_t E_z+\\beta E_{t,\\gamma}\\right)\\left(\\nabla_t E_z+\\beta E_{t,\\gamma}\\right) - k^2_0 \\epsilon_r E_z E_z dx \\right]$$"
   ]
  },
  {
   "cell_type": "markdown",
   "metadata": {
    "slideshow": {
     "slide_type": "slide"
    }
   },
   "source": [
    "Since the functional is built now the electric field components need to be discetized in order to be calculated. \n",
    "The axial component can be discretised by nodal basis functions (Lagrandge) but the transverse need to be by two dimensional curl-conforming vector basis functions(Nedelec).\n",
    "\n",
    "The electric field in the nedelec space is described by:\n",
    "$$E_{t} = \\sum_{i=1}^{N_{N}} (e_t)_i N_i$$\n",
    "\n",
    "and the axial in lagrange elements as:\n",
    "\n",
    "$$E_z = \\sum_{i=1}^{N_{L}} (e_z)_i L_i$$\n",
    " Where $N_N$ and $N_L$ are the number of nedelec and lagrange elements respectively. $N_i$, $L_i$ are the basis functions and $e_t$, $e_z$ are the equivalent coefficients."
   ]
  },
  {
   "cell_type": "markdown",
   "metadata": {
    "slideshow": {
     "slide_type": "slide"
    }
   },
   "source": [
    "While the cuttoff method is easier to implement it only prety much finds the cuttoff wavenumber (shown in fenics book and in other papers). This is not what is of interest. I am interested in calculating the propagation constants $\\beta$ and by extension the effective indices and the Electric field that they equate to."
   ]
  },
  {
   "cell_type": "markdown",
   "metadata": {
    "slideshow": {
     "slide_type": "slide"
    }
   },
   "source": [
    "The matrix eqution to be solved is\n",
    "\n",
    "$$\\begin{bmatrix}\n",
    "    A_{tt}       & 0 \\\\\n",
    "    0       & 0 \n",
    "\\end{bmatrix}\\begin{bmatrix}\n",
    "    e_t \\\\\n",
    "    e_z      \n",
    "\\end{bmatrix} = -\\beta^2\n",
    "\\begin{bmatrix}\n",
    "    B_{tt}       & B_{tz} \\\\\n",
    "    B_{zt}       & B_{zz} \n",
    "\\end{bmatrix}\\begin{bmatrix}\n",
    "    e_t \\\\\n",
    "    e_z      \n",
    "\\end{bmatrix}\n",
    "$$"
   ]
  },
  {
   "cell_type": "markdown",
   "metadata": {
    "slideshow": {
     "slide_type": "slide"
    }
   },
   "source": [
    "Where $$A_{tt} = S_{tt} - k^2_0 T_{tt} = \\int_{\\Omega} \\frac{1}{\\mu_r} \\left(\\nabla_t \\times N_i \\right) \\left(\\nabla_t \\times N_j \\right)dx \\\\ - k^2_0 \\int_{\\omega} \\epsilon_r N_i N_jdx$$\n",
    "\n",
    "$$B_{zz} = S_{zz} - k^2_0 T_{zz} = \\int_{\\Omega} \\frac{1}{\\mu_r} \\left(\\nabla_t L_i \\right) \\left(\\nabla_t L_j \\right)dx \\\\ - k^2_0 \\int_{\\omega} \\epsilon_r L_i L_j dx$$"
   ]
  },
  {
   "cell_type": "markdown",
   "metadata": {
    "slideshow": {
     "slide_type": "slide"
    }
   },
   "source": [
    "$$ B_{tt} = \\int_{\\Omega} \\frac{1}{\\mu_r} N_i \\cdot  N_j dx$$\n",
    "\n",
    "$$ B_{tz} = \\int_{\\Omega} \\frac{1}{\\mu_r} N_i \\cdot  \\nabla_t L_j dx$$\n",
    "\n",
    "$$ B_{zt} = \\int_{\\Omega} \\frac{1}{\\mu_r} \\nabla_t L_i \\cdot  N_j dx$$"
   ]
  },
  {
   "cell_type": "markdown",
   "metadata": {
    "slideshow": {
     "slide_type": "slide"
    }
   },
   "source": [
    "### Code\n",
    "Import the required modules"
   ]
  },
  {
   "cell_type": "code",
   "execution_count": 10,
   "metadata": {
    "collapsed": false,
    "slideshow": {
     "slide_type": "slide"
    }
   },
   "outputs": [],
   "source": [
    "%matplotlib notebook\n",
    "from __future__ import division#, print_function\n",
    "import numpy as np\n",
    "from scipy.constants import c,pi\n",
    "from scipy.sparse.linalg import eigs, eigsh\n",
    "from scipy.linalg import eig\n",
    "from scipy.sparse import csr_matrix, lil_matrix, csc_matrix\n",
    "import matplotlib.pyplot as plt\n",
    "from matplotlib import tri\n",
    "from scipy.integrate import simps\n",
    "import os\n",
    "from matplotlib.colors import from_levels_and_colors\n",
    "from dolfin import *\n",
    "import time\n",
    "from functions_dispersion_analysis import *"
   ]
  },
  {
   "cell_type": "markdown",
   "metadata": {
    "slideshow": {
     "slide_type": "slide"
    }
   },
   "source": [
    "The box domain:"
   ]
  },
  {
   "cell_type": "code",
   "execution_count": 19,
   "metadata": {
    "collapsed": false,
    "slideshow": {
     "slide_type": "-"
    }
   },
   "outputs": [],
   "source": [
    "a = 2e-4\n",
    "b = 2e-4"
   ]
  },
  {
   "cell_type": "markdown",
   "metadata": {
    "slideshow": {
     "slide_type": "slide"
    }
   },
   "source": [
    "Inputs of the problem"
   ]
  },
  {
   "cell_type": "code",
   "execution_count": 20,
   "metadata": {
    "collapsed": false
   },
   "outputs": [],
   "source": [
    "mu_r = 1.0 \n",
    "lamda = 1.55e-6\n",
    "r_core = 1e-5 # radius of core\n",
    "r_clad = 10e-5 #radius of the fibre\n",
    "nclad = 1.444#- 0.1e-4j# ref index of cladding\n",
    "ncore = 1.445 - 1e-4j # ref index of core\n",
    "#neff_g = 1.4445 # Guess of the modes\n",
    "num= 10   # The number of modes guess \n",
    "neff_g= 1.4444696341894405-7.8562093865609619e-05\n",
    "mesh_refinement = 0 # number of times to uniformly refine the mesh (used for convergence plots and better results)"
   ]
  },
  {
   "cell_type": "markdown",
   "metadata": {
    "collapsed": false
   },
   "source": [
    "from testing.Single_mode_fibre.Single_mode_theoretical import *\n",
    "neff_th, Aeff_th = main_test(ncore,nclad,lamda,r_core,r_clad)\n",
    "print(neff_th,Aeff_th)"
   ]
  },
  {
   "cell_type": "code",
   "execution_count": 21,
   "metadata": {
    "collapsed": false
   },
   "outputs": [],
   "source": [
    "k = is_loss(ncore,nclad)\n",
    "if k ==0:\n",
    "    V = 2*pi/lamda*r_core*(ncore**2 - nclad**2)**0.5\n",
    "    print(V)\n",
    "k0 = 2*pi/lamda"
   ]
  },
  {
   "cell_type": "code",
   "execution_count": 22,
   "metadata": {
    "collapsed": true
   },
   "outputs": [],
   "source": [
    "\n",
    "def is_loss(ncore,nclad):\n",
    "    if (nclad.imag,ncore.imag) == (0,0):\n",
    "        k = 0\n",
    "    else:\n",
    "        k = 1\n",
    "    return k\n"
   ]
  },
  {
   "cell_type": "code",
   "execution_count": 23,
   "metadata": {
    "collapsed": false,
    "slideshow": {
     "slide_type": "slide"
    }
   },
   "outputs": [],
   "source": [
    "def ref(x,values = np.zeros(1)):\n",
    "    point = (x[0]**2+ x[1]**2)**0.5\n",
    "    if  point<= r_core:\n",
    "        values[0] = ncore.real**2 - ncore.imag**2\n",
    "    elif point > r_core and point <= r_clad:\n",
    "        values[0] = nclad.real**2 - nclad.imag**2\n",
    "    else:\n",
    "        values[0] = 1.\n",
    "    return values\n",
    "\n",
    "def extinction(x,values = np.zeros(1)):\n",
    "    point = (x[0]**2+ x[1]**2)**0.5\n",
    "    if  point<= r_core:\n",
    "        values[0] = 2*ncore.imag*ncore.real\n",
    "    elif point > r_core and point <= r_clad:\n",
    "        values[0] = 2*nclad.imag*ncore.real\n",
    "    else:\n",
    "        values[0] = 0\n",
    "    return values"
   ]
  },
  {
   "cell_type": "code",
   "execution_count": 24,
   "metadata": {
    "collapsed": true
   },
   "outputs": [],
   "source": [
    "%matplotlib inline"
   ]
  },
  {
   "cell_type": "code",
   "execution_count": 25,
   "metadata": {
    "collapsed": false,
    "slideshow": {
     "slide_type": "slide"
    }
   },
   "outputs": [
    {
     "data": {
      "image/png": "[encoded data removed]",
      "text/plain": [
       "<matplotlib.figure.Figure at 0x7f61694e1210>"
      ]
     },
     "metadata": {},
     "output_type": "display_data"
    }
   ],
   "source": [
    "x = np.linspace(-a,a,512)\n",
    "y = np.linspace(-b,b,512)\n",
    "n_prof,k_prof = geometry_plot(x,y,a,b,ref,extinction,nclad,ncore,r_core,r_clad)\n"
   ]
  },
  {
   "cell_type": "code",
   "execution_count": 26,
   "metadata": {
    "collapsed": false,
    "slideshow": {
     "slide_type": "slide"
    }
   },
   "outputs": [],
   "source": [
    "class epsilon_real(Expression):\n",
    "    def eval(self, values, x):\n",
    "       values = ref(x,values)\n",
    "\n",
    "class epsilon_imag(Expression):\n",
    "    def eval(self, values, x):\n",
    "       values = extinction(x,values)"
   ]
  },
  {
   "cell_type": "markdown",
   "metadata": {
    "slideshow": {
     "slide_type": "slide"
    }
   },
   "source": [
    "## Mesh"
   ]
  },
  {
   "cell_type": "markdown",
   "metadata": {},
   "source": [
    "Load the gmsh file and if asked for refine the mesh."
   ]
  },
  {
   "cell_type": "code",
   "execution_count": 27,
   "metadata": {
    "collapsed": false,
    "scrolled": true
   },
   "outputs": [
    {
     "name": "stdout",
     "output_type": "stream",
     "text": [
      "Info    : Running 'gmsh fenics_mesh/Output.geo -2 -o fenics_mesh/output_small.msh' [Gmsh 2.12.0, 1 node, max. 1 thread]\n",
      "Info    : Started on Wed Jun 29 12:17:03 2016\n",
      "Info    : Reading 'fenics_mesh/Output.geo'...\n",
      "Info    : Done reading 'fenics_mesh/Output.geo'\n",
      "Info    : Meshing 1D...\n",
      "Info    : Meshing curve 1 (Circle)\n",
      "Info    : Meshing curve 2 (Circle)\n",
      "Info    : Meshing curve 3 (Circle)\n",
      "Info    : Meshing curve 4 (Circle)\n",
      "Info    : Meshing curve 5 (Circle)\n",
      "Info    : Meshing curve 6 (Circle)\n",
      "Info    : Meshing curve 7 (Circle)\n",
      "Info    : Meshing curve 8 (Circle)\n",
      "Info    : Meshing curve 9 (Circle)\n",
      "Info    : Meshing curve 10 (Circle)\n",
      "Info    : Meshing curve 11 (Circle)\n",
      "Info    : Meshing curve 12 (Circle)\n",
      "Info    : Meshing curve 13 (Circle)\n",
      "Info    : Meshing curve 14 (Circle)\n",
      "Info    : Meshing curve 15 (Circle)\n",
      "Info    : Meshing curve 16 (Circle)\n",
      "Info    : Meshing curve 17 (Line)\n",
      "Info    : Meshing curve 18 (Line)\n",
      "Info    : Meshing curve 19 (Line)\n",
      "Info    : Meshing curve 20 (Line)\n",
      "Info    : Done meshing 1D (0 s)\n",
      "Info    : Meshing 2D...\n",
      "Info    : Meshing surface 23 (Plane, Delaunay)\n",
      "Info    : Meshing surface 25 (Plane, Delaunay)\n",
      "Info    : Meshing surface 26 (Plane, Delaunay)\n",
      "Info    : Done meshing 2D (0.015914 s)\n",
      "Info    : 397 vertices 867 elements\n",
      "Info    : Writing 'fenics_mesh/output_small.msh'...\n",
      "Info    : Done writing 'fenics_mesh/output_small.msh'\n",
      "Info    : Stopped on Wed Jun 29 12:17:03 2016\n",
      "\n",
      "Converting from Gmsh format (.msh, .gmsh) to DOLFIN XML format\n",
      "Expecting 396 vertices\n",
      "Found all vertices\n",
      "Expecting 778 cells\n",
      "Found all cells\n",
      "Conversion done\n",
      "\n"
     ]
    }
   ],
   "source": [
    "mesh = gmesh_mesh_new(\"geometry_new.geo\",a,b,r_core,r_clad,mesh_refinement,lamda,1)"
   ]
  },
  {
   "cell_type": "markdown",
   "metadata": {
    "collapsed": false,
    "scrolled": true
   },
   "source": [
    "#mesh = gmesh_mesh(\"original_geometry.geo\",a,b,r_core,r_clad,19)\n",
    "#mesh = gmesh_mesh_new(\"geometry_new.geo\",a,b,r_core,r_clad,mesh_refinement,r_core)\n",
    "#plot(mesh,interactive=True)"
   ]
  },
  {
   "cell_type": "code",
   "execution_count": 28,
   "metadata": {
    "collapsed": false
   },
   "outputs": [
    {
     "data": {
      "image/png": "[encoded data removed]",
      "text/plain": [
       "<matplotlib.figure.Figure at 0x7f6169abab50>"
      ]
     },
     "metadata": {},
     "output_type": "display_data"
    }
   ],
   "source": [
    "n = mesh.num_vertices()\n",
    "d = mesh.geometry().dim()\n",
    "\n",
    "# Create the triangulation\n",
    "mesh_coordinates = mesh.coordinates().reshape((n, d))\n",
    "triangles = np.asarray([cell.entities(0) for cell in cells(mesh)])\n",
    "triangulation = tri.Triangulation(mesh_coordinates[:, 0],\n",
    "                                  mesh_coordinates[:, 1],\n",
    "                                  triangles)\n",
    "\n",
    "triangulation.x *=1e6 \n",
    "triangulation.y *=1e6 \n",
    "# Plot the mesh\n",
    "fig = plt.figure(figsize=(7.0, 7.0))\n",
    "plt.triplot(triangulation)\n",
    "plt.xlabel(r'$x(\\mu m)$')\n",
    "plt.ylabel(r'$y(\\mu m)$')\n",
    "\n",
    "plt.savefig('mesh.png',bbox_inches='tight')\n",
    "plt.show()"
   ]
  },
  {
   "cell_type": "markdown",
   "metadata": {},
   "source": [
    "### Define the orders of the fucntion spaces for vector and nodal basis functions"
   ]
  },
  {
   "cell_type": "code",
   "execution_count": 29,
   "metadata": {
    "collapsed": false
   },
   "outputs": [],
   "source": [
    "vector_order = 3\n",
    "nodal_order = 3"
   ]
  },
  {
   "cell_type": "markdown",
   "metadata": {
    "slideshow": {
     "slide_type": "slide"
    }
   },
   "source": [
    "Define the test and trial functions from the combined space here N_i and N_j are Nedelec basis functions and L_i and L_j are Lagrange basis functions"
   ]
  },
  {
   "cell_type": "markdown",
   "metadata": {
    "slideshow": {
     "slide_type": "slide"
    }
   },
   "source": [
    "## Creating the matrix equation."
   ]
  },
  {
   "cell_type": "markdown",
   "metadata": {},
   "source": [
    "$$\\begin{bmatrix}\n",
    "    A_{tt}       & 0 \\\\\n",
    "    0       & 0 \n",
    "\\end{bmatrix}\\begin{bmatrix}\n",
    "    e_t \\\\\n",
    "    e_z      \n",
    "\\end{bmatrix} = -\\beta^2\n",
    "\\begin{bmatrix}\n",
    "    B_{tt}       & B_{tz} \\\\\n",
    "    B_{zt}       & B_{zz} \n",
    "\\end{bmatrix}\\begin{bmatrix}\n",
    "    e_t \\\\\n",
    "    e_z      \n",
    "\\end{bmatrix}\n",
    "$$"
   ]
  },
  {
   "cell_type": "markdown",
   "metadata": {
    "slideshow": {
     "slide_type": "slide"
    }
   },
   "source": [
    "Define the forms (matrix elements) for dispersion analysis into the basis functions"
   ]
  },
  {
   "cell_type": "code",
   "execution_count": 32,
   "metadata": {
    "collapsed": false
   },
   "outputs": [
    {
     "name": "stderr",
     "output_type": "stream",
     "text": [
      "DEBUG:FFC:Reusing form from cache.\n",
      "DEBUG:FFC:Reusing form from cache.\n",
      "DEBUG:FFC:Reusing form from cache.\n",
      "DEBUG:FFC:Reusing form from cache.\n",
      "DEBUG:FFC:Reusing form from cache.\n",
      "DEBUG:FFC:Reusing form from cache.\n",
      "DEBUG:FFC:Reusing form from cache.\n"
     ]
    }
   ],
   "source": [
    "combined_space, A,B, A_complex,B_complex = Matrix_creation(mesh,epsilon_real,epsilon_imag,mu_r,k,k0,vector_order,nodal_order)"
   ]
  },
  {
   "cell_type": "markdown",
   "metadata": {
    "slideshow": {
     "slide_type": "slide"
    }
   },
   "source": [
    "post-multiplication by dx will result in integration over the domain of the mesh at assembly time"
   ]
  },
  {
   "cell_type": "markdown",
   "metadata": {
    "slideshow": {
     "slide_type": "slide"
    }
   },
   "source": [
    "## Implement boundary conditions"
   ]
  },
  {
   "cell_type": "code",
   "execution_count": 33,
   "metadata": {
    "collapsed": false
   },
   "outputs": [],
   "source": [
    "A,B,A_complex,B_complex,electric_wall = Mirror_boundary(mesh,combined_space,A,B,A_complex,B_complex,k)\n",
    "#free_dofs = boundary_marker_locator(A,electric_wall)\n",
    "free_dofs = boundary_marker_locator(A,electric_wall)"
   ]
  },
  {
   "cell_type": "markdown",
   "metadata": {
    "slideshow": {
     "slide_type": "slide"
    }
   },
   "source": [
    "### Free the vectors and make numpy arrays to solve with scipy"
   ]
  },
  {
   "cell_type": "markdown",
   "metadata": {
    "slideshow": {
     "slide_type": "-"
    }
   },
   "source": [
    "Find what part of the vectors are not ascociated with the boundary values"
   ]
  },
  {
   "cell_type": "code",
   "execution_count": 34,
   "metadata": {
    "collapsed": false
   },
   "outputs": [
    {
     "data": {
      "text/plain": [
       "11707"
      ]
     },
     "execution_count": 34,
     "metadata": {},
     "output_type": "execute_result"
    }
   ],
   "source": [
    "A.size(0)"
   ]
  },
  {
   "cell_type": "markdown",
   "metadata": {
    "slideshow": {
     "slide_type": "slide"
    }
   },
   "source": [
    "### Solve the eigenvalue system using scipy.linalg.eig"
   ]
  },
  {
   "cell_type": "code",
   "execution_count": 35,
   "metadata": {
    "collapsed": false
   },
   "outputs": [
    {
     "name": "stdout",
     "output_type": "stream",
     "text": [
      "sparse eigenvalue time\n"
     ]
    }
   ],
   "source": [
    "eigen,ev,A_np,B_np = find_eigenvalues(A,B,A_complex,B_complex,neff_g,20,k0,free_dofs,k,sparse_=True)"
   ]
  },
  {
   "cell_type": "markdown",
   "metadata": {
    "collapsed": false
   },
   "source": [
    "dot_sparse = csc_matrix.dot\n",
    "eigen, ev =scipy_sparse_eigensolver(dot_sparse(conj_trans(B_np),A_np),dot_sparse(conj_trans(B_np),B_np),neff_g,70,k0)"
   ]
  },
  {
   "cell_type": "markdown",
   "metadata": {
    "slideshow": {
     "slide_type": "slide"
    }
   },
   "source": [
    "Find $\\beta$ from the eigenvalue."
   ]
  },
  {
   "cell_type": "markdown",
   "metadata": {
    "collapsed": false
   },
   "source": [
    "neff_g = 1.4444696250032485-7.8560918745118053e-5j"
   ]
  },
  {
   "cell_type": "code",
   "execution_count": 36,
   "metadata": {
    "collapsed": false
   },
   "outputs": [],
   "source": [
    "beta =1j*(eigen)**0.5 \n",
    "beta = np.abs(np.real(beta)) -1j*np.imag(beta)"
   ]
  },
  {
   "cell_type": "markdown",
   "metadata": {
    "slideshow": {
     "slide_type": "slide"
    }
   },
   "source": [
    "sort the calculated values"
   ]
  },
  {
   "cell_type": "code",
   "execution_count": 37,
   "metadata": {
    "collapsed": false
   },
   "outputs": [],
   "source": [
    "sort_index = np.argsort(beta.imag)[::-1]"
   ]
  },
  {
   "cell_type": "code",
   "execution_count": 38,
   "metadata": {
    "collapsed": false
   },
   "outputs": [],
   "source": [
    "propagating_modes = np.where(((beta[sort_index]/k0).real>nclad.real) & ((beta[sort_index]/k0).real<ncore))\n",
    "propagating_modes = propagating_modes[0][:]"
   ]
  },
  {
   "cell_type": "markdown",
   "metadata": {
    "slideshow": {
     "slide_type": "slide"
    }
   },
   "source": [
    "Print the first four effective indices. ((1.44446963419-7.85620938656e-05j))"
   ]
  },
  {
   "cell_type": "code",
   "execution_count": 39,
   "metadata": {
    "collapsed": false
   },
   "outputs": [
    {
     "name": "stdout",
     "output_type": "stream",
     "text": [
      "The effective index of the modes are:\n",
      "[ 1.44489459-0.00137752j  1.44486770-0.00148415j]\n"
     ]
    }
   ],
   "source": [
    "print(\"The effective index of the modes are:\")\n",
    "print(beta[sort_index][propagating_modes]/k0)"
   ]
  },
  {
   "cell_type": "code",
   "execution_count": 40,
   "metadata": {
    "collapsed": false
   },
   "outputs": [
    {
     "ename": "SyntaxError",
     "evalue": "invalid syntax (<ipython-input-40-3a86c69b219e>, line 2)",
     "output_type": "error",
     "traceback": [
      "\u001b[1;36m  File \u001b[1;32m\"<ipython-input-40-3a86c69b219e>\"\u001b[1;36m, line \u001b[1;32m2\u001b[0m\n\u001b[1;33m    [ 1.44447755 -7.91159282e-05j  1.44447755 -7.91160349e-05j]\u001b[0m\n\u001b[1;37m                                            ^\u001b[0m\n\u001b[1;31mSyntaxError\u001b[0m\u001b[1;31m:\u001b[0m invalid syntax\n"
     ]
    }
   ],
   "source": [
    "neff_th\n",
    "[ 1.44447755 -7.91159282e-05j  1.44447755 -7.91160349e-05j]\n",
    "[1.44447347 -7.88401221e-05j,  1.44447347 -7.88402002e-05j]"
   ]
  },
  {
   "cell_type": "code",
   "execution_count": 41,
   "metadata": {
    "collapsed": false
   },
   "outputs": [],
   "source": [
    "neff = beta[sort_index][propagating_modes]/k0"
   ]
  },
  {
   "cell_type": "markdown",
   "metadata": {},
   "source": [
    "Comsol : 1.4444696250032485-7.856091874511805E-5i"
   ]
  },
  {
   "cell_type": "markdown",
   "metadata": {
    "slideshow": {
     "slide_type": "slide"
    }
   },
   "source": [
    "### Plot the results"
   ]
  },
  {
   "cell_type": "code",
   "execution_count": 42,
   "metadata": {
    "collapsed": false
   },
   "outputs": [],
   "source": [
    "from scipy.io import savemat,loadmat"
   ]
  },
  {
   "cell_type": "code",
   "execution_count": 44,
   "metadata": {
    "collapsed": false
   },
   "outputs": [],
   "source": [
    "size1,size2 = 512,512\n",
    "min_max = (-3*r_core,3*r_core,-3*r_core,3*r_core)"
   ]
  },
  {
   "cell_type": "code",
   "execution_count": 45,
   "metadata": {
    "collapsed": false
   },
   "outputs": [],
   "source": [
    "mode0 = modes(0,size1,size2,min_max,propagating_modes,beta,sort_index,k0)\n",
    "mode0.electric_field_full(k,A,ev,sort_index,free_dofs,combined_space)\n"
   ]
  },
  {
   "cell_type": "code",
   "execution_count": 46,
   "metadata": {
    "collapsed": false
   },
   "outputs": [
    {
     "data": {
      "image/png": "[encoded data removed]",
      "text/plain": [
       "<matplotlib.figure.Figure at 0x7f6169c6e690>"
      ]
     },
     "metadata": {},
     "output_type": "display_data"
    }
   ],
   "source": [
    "mode0.plot_electric_field(scales = 2*150000,sp=40,cont_scale=700)"
   ]
  },
  {
   "cell_type": "code",
   "execution_count": null,
   "metadata": {
    "collapsed": false
   },
   "outputs": [],
   "source": [
    "N_complex"
   ]
  },
  {
   "cell_type": "code",
   "execution_count": 46,
   "metadata": {
    "collapsed": false
   },
   "outputs": [],
   "source": [
    "D = loadmat('convergence'+str(3)+'.mat')"
   ]
  },
  {
   "cell_type": "code",
   "execution_count": 47,
   "metadata": {
    "collapsed": false
   },
   "outputs": [
    {
     "data": {
      "text/plain": [
       "{'Aeff_simps': array([[  5.40352405e-11,   8.31579498e-11,   1.01865374e-10,\n",
       "           4.16698204e-10,   4.16698318e-10,   2.30471865e-10,\n",
       "           4.49677356e-10]]),\n",
       " '__globals__': [],\n",
       " '__header__': 'MATLAB 5.0 MAT-file Platform: posix, Created on: Tue Jun 28 18:16:45 2016',\n",
       " '__version__': '1.0',\n",
       " 'cells': array([[7926]]),\n",
       " 'neff': array([[ 1.44482516 -1.70249321e-13j,  1.44453752 -2.54676100e-15j,\n",
       "          1.44447296 -1.48821896e-14j,  1.44447160 -7.87068911e-05j,\n",
       "          1.44447160 -7.87068585e-05j,  1.44419644 -3.19344512e-13j,\n",
       "          1.44407302 -3.06190742e-10j]])}"
      ]
     },
     "execution_count": 47,
     "metadata": {},
     "output_type": "execute_result"
    }
   ],
   "source": [
    "D"
   ]
  },
  {
   "cell_type": "code",
   "execution_count": 23,
   "metadata": {
    "collapsed": false
   },
   "outputs": [
    {
     "data": {
      "text/plain": [
       "{'Aeff_simps': array([[  4.16985579e-10,   4.16985710e-10]]),\n",
       " '__globals__': [],\n",
       " '__header__': 'MATLAB 5.0 MAT-file Platform: posix, Created on: Mon Jun 27 19:59:49 2016',\n",
       " '__version__': '1.0',\n",
       " 'cells': array([[5966]]),\n",
       " 'neff': array([[ 1.4444722 -7.87506834e-05j,  1.4444722 -7.87506487e-05j]])}"
      ]
     },
     "execution_count": 23,
     "metadata": {},
     "output_type": "execute_result"
    }
   ],
   "source": [
    "D"
   ]
  },
  {
   "cell_type": "code",
   "execution_count": null,
   "metadata": {
    "collapsed": true
   },
   "outputs": [],
   "source": []
  },
  {
   "cell_type": "code",
   "execution_count": 103,
   "metadata": {
    "collapsed": false
   },
   "outputs": [],
   "source": [
    "from scipy.io import loadmat\n",
    "def plot_convergence(x,y,name,savename):\n",
    "    fig = plt.figure(figsize=(10,7))\n",
    "    plt.plot(x,y,'-o')\n",
    "    plt.xlabel(r'$N_c$',fontsize='18')\n",
    "    plt.ylabel(name,fontsize='18')\n",
    "    plt.savefig(savename+'.eps',bbox_inches = 'tight')\n",
    "    plt.savefig(savename+'.png',bbox_inches = 'tight')\n",
    "    plt.show()\n",
    "N_complex = []\n",
    "A = []\n",
    "I = [0,3,0,4]\n",
    "C = []\n",
    "for refine in range(4):\n",
    "    D = loadmat('convergence'+str(refine)+'.mat')\n",
    "    i = I[refine]\n",
    "    A.append(D['Aeff_simps'][0][i])\n",
    "    #if refine ==2:\n",
    "    #    N_complex.append(1.44446548 -7.87245719e-05j)\n",
    "    #else:\n",
    "    N_complex.append(D['neff'][0][i])\n",
    "    #I.append(i)\n",
    "    C.append(D['cells'][0][0])\n"
   ]
  },
  {
   "cell_type": "code",
   "execution_count": 104,
   "metadata": {
    "collapsed": false
   },
   "outputs": [
    {
     "data": {
      "text/plain": [
       "4.160317256055599e-10"
      ]
     },
     "execution_count": 104,
     "metadata": {},
     "output_type": "execute_result"
    }
   ],
   "source": [
    "Aeff_th"
   ]
  },
  {
   "cell_type": "code",
   "execution_count": null,
   "metadata": {
    "collapsed": false
   },
   "outputs": [],
   "source": []
  },
  {
   "cell_type": "code",
   "execution_count": 105,
   "metadata": {
    "collapsed": true
   },
   "outputs": [],
   "source": [
    "N_complex = np.asanyarray(N_complex)\n",
    "A = np.asanyarray(A)"
   ]
  },
  {
   "cell_type": "code",
   "execution_count": 106,
   "metadata": {
    "collapsed": false
   },
   "outputs": [],
   "source": [
    "dN_real = 100*np.abs(N_complex.real - neff_th.real)/np.abs(neff_th.real)\n",
    "dN_imag = 100*np.abs(N_complex.imag - neff_th.imag)/np.abs(neff_th.imag)\n",
    "dA = 100*np.abs(A - Aeff_th)/np.abs(A)"
   ]
  },
  {
   "cell_type": "code",
   "execution_count": 107,
   "metadata": {
    "collapsed": false
   },
   "outputs": [
    {
     "data": {
      "application/javascript": [
       "/* Put everything inside the global mpl namespace */\n",
       "window.mpl = {};\n",
       "\n",
       "mpl.get_websocket_type = function() {\n",
       "    if (typeof(WebSocket) !== 'undefined') {\n",
       "        return WebSocket;\n",
       "    } else if (typeof(MozWebSocket) !== 'undefined') {\n",
       "        return MozWebSocket;\n",
       "    } else {\n",
       "        alert('Your browser does not have WebSocket support.' +\n",
       "              'Please try Chrome, Safari or Firefox ≥ 6. ' +\n",
       "              'Firefox 4 and 5 are also supported but you ' +\n",
       "              'have to enable WebSockets in about:config.');\n",
       "    };\n",
       "}\n",
       "\n",
       "mpl.figure = function(figure_id, websocket, ondownload, parent_element) {\n",
       "    this.id = figure_id;\n",
       "\n",
       "    this.ws = websocket;\n",
       "\n",
       "    this.supports_binary = (this.ws.binaryType != undefined);\n",
       "\n",
       "    if (!this.supports_binary) {\n",
       "        var warnings = document.getElementById(\"mpl-warnings\");\n",
       "        if (warnings) {\n",
       "            warnings.style.display = 'block';\n",
       "            warnings.textContent = (\n",
       "                \"This browser does not support binary websocket messages. \" +\n",
       "                    \"Performance may be slow.\");\n",
       "        }\n",
       "    }\n",
       "\n",
       "    this.imageObj = new Image();\n",
       "\n",
       "    this.context = undefined;\n",
       "    this.message = undefined;\n",
       "    this.canvas = undefined;\n",
       "    this.rubberband_canvas = undefined;\n",
       "    this.rubberband_context = undefined;\n",
       "    this.format_dropdown = undefined;\n",
       "\n",
       "    this.image_mode = 'full';\n",
       "\n",
       "    this.root = $('<div/>');\n",
       "    this._root_extra_style(this.root)\n",
       "    this.root.attr('style', 'display: inline-block');\n",
       "\n",
       "    $(parent_element).append(this.root);\n",
       "\n",
       "    this._init_header(this);\n",
       "    this._init_canvas(this);\n",
       "    this._init_toolbar(this);\n",
       "\n",
       "    var fig = this;\n",
       "\n",
       "    this.waiting = false;\n",
       "\n",
       "    this.ws.onopen =  function () {\n",
       "            fig.send_message(\"supports_binary\", {value: fig.supports_binary});\n",
       "            fig.send_message(\"send_image_mode\", {});\n",
       "            fig.send_message(\"refresh\", {});\n",
       "        }\n",
       "\n",
       "    this.imageObj.onload = function() {\n",
       "            if (fig.image_mode == 'full') {\n",
       "                // Full images could contain transparency (where diff images\n",
       "                // almost always do), so we need to clear the canvas so that\n",
       "                // there is no ghosting.\n",
       "                fig.context.clearRect(0, 0, fig.canvas.width, fig.canvas.height);\n",
       "            }\n",
       "            fig.context.drawImage(fig.imageObj, 0, 0);\n",
       "        };\n",
       "\n",
       "    this.imageObj.onunload = function() {\n",
       "        this.ws.close();\n",
       "    }\n",
       "\n",
       "    this.ws.onmessage = this._make_on_message_function(this);\n",
       "\n",
       "    this.ondownload = ondownload;\n",
       "}\n",
       "\n",
       "mpl.figure.prototype._init_header = function() {\n",
       "    var titlebar = $(\n",
       "        '<div class=\"ui-dialog-titlebar ui-widget-header ui-corner-all ' +\n",
       "        'ui-helper-clearfix\"/>');\n",
       "    var titletext = $(\n",
       "        '<div class=\"ui-dialog-title\" style=\"width: 100%; ' +\n",
       "        'text-align: center; padding: 3px;\"/>');\n",
       "    titlebar.append(titletext)\n",
       "    this.root.append(titlebar);\n",
       "    this.header = titletext[0];\n",
       "}\n",
       "\n",
       "\n",
       "\n",
       "mpl.figure.prototype._canvas_extra_style = function(canvas_div) {\n",
       "\n",
       "}\n",
       "\n",
       "\n",
       "mpl.figure.prototype._root_extra_style = function(canvas_div) {\n",
       "\n",
       "}\n",
       "\n",
       "mpl.figure.prototype._init_canvas = function() {\n",
       "    var fig = this;\n",
       "\n",
       "    var canvas_div = $('<div/>');\n",
       "\n",
       "    canvas_div.attr('style', 'position: relative; clear: both; outline: 0');\n",
       "\n",
       "    function canvas_keyboard_event(event) {\n",
       "        return fig.key_event(event, event['data']);\n",
       "    }\n",
       "\n",
       "    canvas_div.keydown('key_press', canvas_keyboard_event);\n",
       "    canvas_div.keyup('key_release', canvas_keyboard_event);\n",
       "    this.canvas_div = canvas_div\n",
       "    this._canvas_extra_style(canvas_div)\n",
       "    this.root.append(canvas_div);\n",
       "\n",
       "    var canvas = $('<canvas/>');\n",
       "    canvas.addClass('mpl-canvas');\n",
       "    canvas.attr('style', \"left: 0; top: 0; z-index: 0; outline: 0\")\n",
       "\n",
       "    this.canvas = canvas[0];\n",
       "    this.context = canvas[0].getContext(\"2d\");\n",
       "\n",
       "    var rubberband = $('<canvas/>');\n",
       "    rubberband.attr('style', \"position: absolute; left: 0; top: 0; z-index: 1;\")\n",
       "\n",
       "    var pass_mouse_events = true;\n",
       "\n",
       "    canvas_div.resizable({\n",
       "        start: function(event, ui) {\n",
       "            pass_mouse_events = false;\n",
       "        },\n",
       "        resize: function(event, ui) {\n",
       "            fig.request_resize(ui.size.width, ui.size.height);\n",
       "        },\n",
       "        stop: function(event, ui) {\n",
       "            pass_mouse_events = true;\n",
       "            fig.request_resize(ui.size.width, ui.size.height);\n",
       "        },\n",
       "    });\n",
       "\n",
       "    function mouse_event_fn(event) {\n",
       "        if (pass_mouse_events)\n",
       "            return fig.mouse_event(event, event['data']);\n",
       "    }\n",
       "\n",
       "    rubberband.mousedown('button_press', mouse_event_fn);\n",
       "    rubberband.mouseup('button_release', mouse_event_fn);\n",
       "    // Throttle sequential mouse events to 1 every 20ms.\n",
       "    rubberband.mousemove('motion_notify', mouse_event_fn);\n",
       "\n",
       "    rubberband.mouseenter('figure_enter', mouse_event_fn);\n",
       "    rubberband.mouseleave('figure_leave', mouse_event_fn);\n",
       "\n",
       "    canvas_div.on(\"wheel\", function (event) {\n",
       "        event = event.originalEvent;\n",
       "        event['data'] = 'scroll'\n",
       "        if (event.deltaY < 0) {\n",
       "            event.step = 1;\n",
       "        } else {\n",
       "            event.step = -1;\n",
       "        }\n",
       "        mouse_event_fn(event);\n",
       "    });\n",
       "\n",
       "    canvas_div.append(canvas);\n",
       "    canvas_div.append(rubberband);\n",
       "\n",
       "    this.rubberband = rubberband;\n",
       "    this.rubberband_canvas = rubberband[0];\n",
       "    this.rubberband_context = rubberband[0].getContext(\"2d\");\n",
       "    this.rubberband_context.strokeStyle = \"#000000\";\n",
       "\n",
       "    this._resize_canvas = function(width, height) {\n",
       "        // Keep the size of the canvas, canvas container, and rubber band\n",
       "        // canvas in synch.\n",
       "        canvas_div.css('width', width)\n",
       "        canvas_div.css('height', height)\n",
       "\n",
       "        canvas.attr('width', width);\n",
       "        canvas.attr('height', height);\n",
       "\n",
       "        rubberband.attr('width', width);\n",
       "        rubberband.attr('height', height);\n",
       "    }\n",
       "\n",
       "    // Set the figure to an initial 600x600px, this will subsequently be updated\n",
       "    // upon first draw.\n",
       "    this._resize_canvas(600, 600);\n",
       "\n",
       "    // Disable right mouse context menu.\n",
       "    $(this.rubberband_canvas).bind(\"contextmenu\",function(e){\n",
       "        return false;\n",
       "    });\n",
       "\n",
       "    function set_focus () {\n",
       "        canvas.focus();\n",
       "        canvas_div.focus();\n",
       "    }\n",
       "\n",
       "    window.setTimeout(set_focus, 100);\n",
       "}\n",
       "\n",
       "mpl.figure.prototype._init_toolbar = function() {\n",
       "    var fig = this;\n",
       "\n",
       "    var nav_element = $('<div/>')\n",
       "    nav_element.attr('style', 'width: 100%');\n",
       "    this.root.append(nav_element);\n",
       "\n",
       "    // Define a callback function for later on.\n",
       "    function toolbar_event(event) {\n",
       "        return fig.toolbar_button_onclick(event['data']);\n",
       "    }\n",
       "    function toolbar_mouse_event(event) {\n",
       "        return fig.toolbar_button_onmouseover(event['data']);\n",
       "    }\n",
       "\n",
       "    for(var toolbar_ind in mpl.toolbar_items) {\n",
       "        var name = mpl.toolbar_items[toolbar_ind][0];\n",
       "        var tooltip = mpl.toolbar_items[toolbar_ind][1];\n",
       "        var image = mpl.toolbar_items[toolbar_ind][2];\n",
       "        var method_name = mpl.toolbar_items[toolbar_ind][3];\n",
       "\n",
       "        if (!name) {\n",
       "            // put a spacer in here.\n",
       "            continue;\n",
       "        }\n",
       "        var button = $('<button/>');\n",
       "        button.addClass('ui-button ui-widget ui-state-default ui-corner-all ' +\n",
       "                        'ui-button-icon-only');\n",
       "        button.attr('role', 'button');\n",
       "        button.attr('aria-disabled', 'false');\n",
       "        button.click(method_name, toolbar_event);\n",
       "        button.mouseover(tooltip, toolbar_mouse_event);\n",
       "\n",
       "        var icon_img = $('<span/>');\n",
       "        icon_img.addClass('ui-button-icon-primary ui-icon');\n",
       "        icon_img.addClass(image);\n",
       "        icon_img.addClass('ui-corner-all');\n",
       "\n",
       "        var tooltip_span = $('<span/>');\n",
       "        tooltip_span.addClass('ui-button-text');\n",
       "        tooltip_span.html(tooltip);\n",
       "\n",
       "        button.append(icon_img);\n",
       "        button.append(tooltip_span);\n",
       "\n",
       "        nav_element.append(button);\n",
       "    }\n",
       "\n",
       "    var fmt_picker_span = $('<span/>');\n",
       "\n",
       "    var fmt_picker = $('<select/>');\n",
       "    fmt_picker.addClass('mpl-toolbar-option ui-widget ui-widget-content');\n",
       "    fmt_picker_span.append(fmt_picker);\n",
       "    nav_element.append(fmt_picker_span);\n",
       "    this.format_dropdown = fmt_picker[0];\n",
       "\n",
       "    for (var ind in mpl.extensions) {\n",
       "        var fmt = mpl.extensions[ind];\n",
       "        var option = $(\n",
       "            '<option/>', {selected: fmt === mpl.default_extension}).html(fmt);\n",
       "        fmt_picker.append(option)\n",
       "    }\n",
       "\n",
       "    // Add hover states to the ui-buttons\n",
       "    $( \".ui-button\" ).hover(\n",
       "        function() { $(this).addClass(\"ui-state-hover\");},\n",
       "        function() { $(this).removeClass(\"ui-state-hover\");}\n",
       "    );\n",
       "\n",
       "    var status_bar = $('<span class=\"mpl-message\"/>');\n",
       "    nav_element.append(status_bar);\n",
       "    this.message = status_bar[0];\n",
       "}\n",
       "\n",
       "mpl.figure.prototype.request_resize = function(x_pixels, y_pixels) {\n",
       "    // Request matplotlib to resize the figure. Matplotlib will then trigger a resize in the client,\n",
       "    // which will in turn request a refresh of the image.\n",
       "    this.send_message('resize', {'width': x_pixels, 'height': y_pixels});\n",
       "}\n",
       "\n",
       "mpl.figure.prototype.send_message = function(type, properties) {\n",
       "    properties['type'] = type;\n",
       "    properties['figure_id'] = this.id;\n",
       "    this.ws.send(JSON.stringify(properties));\n",
       "}\n",
       "\n",
       "mpl.figure.prototype.send_draw_message = function() {\n",
       "    if (!this.waiting) {\n",
       "        this.waiting = true;\n",
       "        this.ws.send(JSON.stringify({type: \"draw\", figure_id: this.id}));\n",
       "    }\n",
       "}\n",
       "\n",
       "\n",
       "mpl.figure.prototype.handle_save = function(fig, msg) {\n",
       "    var format_dropdown = fig.format_dropdown;\n",
       "    var format = format_dropdown.options[format_dropdown.selectedIndex].value;\n",
       "    fig.ondownload(fig, format);\n",
       "}\n",
       "\n",
       "\n",
       "mpl.figure.prototype.handle_resize = function(fig, msg) {\n",
       "    var size = msg['size'];\n",
       "    if (size[0] != fig.canvas.width || size[1] != fig.canvas.height) {\n",
       "        fig._resize_canvas(size[0], size[1]);\n",
       "        fig.send_message(\"refresh\", {});\n",
       "    };\n",
       "}\n",
       "\n",
       "mpl.figure.prototype.handle_rubberband = function(fig, msg) {\n",
       "    var x0 = msg['x0'];\n",
       "    var y0 = fig.canvas.height - msg['y0'];\n",
       "    var x1 = msg['x1'];\n",
       "    var y1 = fig.canvas.height - msg['y1'];\n",
       "    x0 = Math.floor(x0) + 0.5;\n",
       "    y0 = Math.floor(y0) + 0.5;\n",
       "    x1 = Math.floor(x1) + 0.5;\n",
       "    y1 = Math.floor(y1) + 0.5;\n",
       "    var min_x = Math.min(x0, x1);\n",
       "    var min_y = Math.min(y0, y1);\n",
       "    var width = Math.abs(x1 - x0);\n",
       "    var height = Math.abs(y1 - y0);\n",
       "\n",
       "    fig.rubberband_context.clearRect(\n",
       "        0, 0, fig.canvas.width, fig.canvas.height);\n",
       "\n",
       "    fig.rubberband_context.strokeRect(min_x, min_y, width, height);\n",
       "}\n",
       "\n",
       "mpl.figure.prototype.handle_figure_label = function(fig, msg) {\n",
       "    // Updates the figure title.\n",
       "    fig.header.textContent = msg['label'];\n",
       "}\n",
       "\n",
       "mpl.figure.prototype.handle_cursor = function(fig, msg) {\n",
       "    var cursor = msg['cursor'];\n",
       "    switch(cursor)\n",
       "    {\n",
       "    case 0:\n",
       "        cursor = 'pointer';\n",
       "        break;\n",
       "    case 1:\n",
       "        cursor = 'default';\n",
       "        break;\n",
       "    case 2:\n",
       "        cursor = 'crosshair';\n",
       "        break;\n",
       "    case 3:\n",
       "        cursor = 'move';\n",
       "        break;\n",
       "    }\n",
       "    fig.rubberband_canvas.style.cursor = cursor;\n",
       "}\n",
       "\n",
       "mpl.figure.prototype.handle_message = function(fig, msg) {\n",
       "    fig.message.textContent = msg['message'];\n",
       "}\n",
       "\n",
       "mpl.figure.prototype.handle_draw = function(fig, msg) {\n",
       "    // Request the server to send over a new figure.\n",
       "    fig.send_draw_message();\n",
       "}\n",
       "\n",
       "mpl.figure.prototype.handle_image_mode = function(fig, msg) {\n",
       "    fig.image_mode = msg['mode'];\n",
       "}\n",
       "\n",
       "mpl.figure.prototype.updated_canvas_event = function() {\n",
       "    // Called whenever the canvas gets updated.\n",
       "    this.send_message(\"ack\", {});\n",
       "}\n",
       "\n",
       "// A function to construct a web socket function for onmessage handling.\n",
       "// Called in the figure constructor.\n",
       "mpl.figure.prototype._make_on_message_function = function(fig) {\n",
       "    return function socket_on_message(evt) {\n",
       "        if (evt.data instanceof Blob) {\n",
       "            /* FIXME: We get \"Resource interpreted as Image but\n",
       "             * transferred with MIME type text/plain:\" errors on\n",
       "             * Chrome.  But how to set the MIME type?  It doesn't seem\n",
       "             * to be part of the websocket stream */\n",
       "            evt.data.type = \"image/png\";\n",
       "\n",
       "            /* Free the memory for the previous frames */\n",
       "            if (fig.imageObj.src) {\n",
       "                (window.URL || window.webkitURL).revokeObjectURL(\n",
       "                    fig.imageObj.src);\n",
       "            }\n",
       "\n",
       "            fig.imageObj.src = (window.URL || window.webkitURL).createObjectURL(\n",
       "                evt.data);\n",
       "            fig.updated_canvas_event();\n",
       "            fig.waiting = false;\n",
       "            return;\n",
       "        }\n",
       "        else if (typeof evt.data === 'string' && evt.data.slice(0, 21) == \"data:image/png;base64\") {\n",
       "            fig.imageObj.src = evt.data;\n",
       "            fig.updated_canvas_event();\n",
       "            fig.waiting = false;\n",
       "            return;\n",
       "        }\n",
       "\n",
       "        var msg = JSON.parse(evt.data);\n",
       "        var msg_type = msg['type'];\n",
       "\n",
       "        // Call the  \"handle_{type}\" callback, which takes\n",
       "        // the figure and JSON message as its only arguments.\n",
       "        try {\n",
       "            var callback = fig[\"handle_\" + msg_type];\n",
       "        } catch (e) {\n",
       "            console.log(\"No handler for the '\" + msg_type + \"' message type: \", msg);\n",
       "            return;\n",
       "        }\n",
       "\n",
       "        if (callback) {\n",
       "            try {\n",
       "                // console.log(\"Handling '\" + msg_type + \"' message: \", msg);\n",
       "                callback(fig, msg);\n",
       "            } catch (e) {\n",
       "                console.log(\"Exception inside the 'handler_\" + msg_type + \"' callback:\", e, e.stack, msg);\n",
       "            }\n",
       "        }\n",
       "    };\n",
       "}\n",
       "\n",
       "// from http://stackoverflow.com/questions/1114465/getting-mouse-location-in-canvas\n",
       "mpl.findpos = function(e) {\n",
       "    //this section is from http://www.quirksmode.org/js/events_properties.html\n",
       "    var targ;\n",
       "    if (!e)\n",
       "        e = window.event;\n",
       "    if (e.target)\n",
       "        targ = e.target;\n",
       "    else if (e.srcElement)\n",
       "        targ = e.srcElement;\n",
       "    if (targ.nodeType == 3) // defeat Safari bug\n",
       "        targ = targ.parentNode;\n",
       "\n",
       "    // jQuery normalizes the pageX and pageY\n",
       "    // pageX,Y are the mouse positions relative to the document\n",
       "    // offset() returns the position of the element relative to the document\n",
       "    var x = e.pageX - $(targ).offset().left;\n",
       "    var y = e.pageY - $(targ).offset().top;\n",
       "\n",
       "    return {\"x\": x, \"y\": y};\n",
       "};\n",
       "\n",
       "/*\n",
       " * return a copy of an object with only non-object keys\n",
       " * we need this to avoid circular references\n",
       " * http://stackoverflow.com/a/24161582/3208463\n",
       " */\n",
       "function simpleKeys (original) {\n",
       "  return Object.keys(original).reduce(function (obj, key) {\n",
       "    if (typeof original[key] !== 'object')\n",
       "        obj[key] = original[key]\n",
       "    return obj;\n",
       "  }, {});\n",
       "}\n",
       "\n",
       "mpl.figure.prototype.mouse_event = function(event, name) {\n",
       "    var canvas_pos = mpl.findpos(event)\n",
       "\n",
       "    if (name === 'button_press')\n",
       "    {\n",
       "        this.canvas.focus();\n",
       "        this.canvas_div.focus();\n",
       "    }\n",
       "\n",
       "    var x = canvas_pos.x;\n",
       "    var y = canvas_pos.y;\n",
       "\n",
       "    this.send_message(name, {x: x, y: y, button: event.button,\n",
       "                             step: event.step,\n",
       "                             guiEvent: simpleKeys(event)});\n",
       "\n",
       "    /* This prevents the web browser from automatically changing to\n",
       "     * the text insertion cursor when the button is pressed.  We want\n",
       "     * to control all of the cursor setting manually through the\n",
       "     * 'cursor' event from matplotlib */\n",
       "    event.preventDefault();\n",
       "    return false;\n",
       "}\n",
       "\n",
       "mpl.figure.prototype._key_event_extra = function(event, name) {\n",
       "    // Handle any extra behaviour associated with a key event\n",
       "}\n",
       "\n",
       "mpl.figure.prototype.key_event = function(event, name) {\n",
       "\n",
       "    // Prevent repeat events\n",
       "    if (name == 'key_press')\n",
       "    {\n",
       "        if (event.which === this._key)\n",
       "            return;\n",
       "        else\n",
       "            this._key = event.which;\n",
       "    }\n",
       "    if (name == 'key_release')\n",
       "        this._key = null;\n",
       "\n",
       "    var value = '';\n",
       "    if (event.ctrlKey && event.which != 17)\n",
       "        value += \"ctrl+\";\n",
       "    if (event.altKey && event.which != 18)\n",
       "        value += \"alt+\";\n",
       "    if (event.shiftKey && event.which != 16)\n",
       "        value += \"shift+\";\n",
       "\n",
       "    value += 'k';\n",
       "    value += event.which.toString();\n",
       "\n",
       "    this._key_event_extra(event, name);\n",
       "\n",
       "    this.send_message(name, {key: value,\n",
       "                             guiEvent: simpleKeys(event)});\n",
       "    return false;\n",
       "}\n",
       "\n",
       "mpl.figure.prototype.toolbar_button_onclick = function(name) {\n",
       "    if (name == 'download') {\n",
       "        this.handle_save(this, null);\n",
       "    } else {\n",
       "        this.send_message(\"toolbar_button\", {name: name});\n",
       "    }\n",
       "};\n",
       "\n",
       "mpl.figure.prototype.toolbar_button_onmouseover = function(tooltip) {\n",
       "    this.message.textContent = tooltip;\n",
       "};\n",
       "mpl.toolbar_items = [[\"Home\", \"Reset original view\", \"fa fa-home icon-home\", \"home\"], [\"Back\", \"Back to  previous view\", \"fa fa-arrow-left icon-arrow-left\", \"back\"], [\"Forward\", \"Forward to next view\", \"fa fa-arrow-right icon-arrow-right\", \"forward\"], [\"\", \"\", \"\", \"\"], [\"Pan\", \"Pan axes with left mouse, zoom with right\", \"fa fa-arrows icon-move\", \"pan\"], [\"Zoom\", \"Zoom to rectangle\", \"fa fa-square-o icon-check-empty\", \"zoom\"], [\"\", \"\", \"\", \"\"], [\"Download\", \"Download plot\", \"fa fa-floppy-o icon-save\", \"download\"]];\n",
       "\n",
       "mpl.extensions = [\"eps\", \"jpeg\", \"pdf\", \"png\", \"ps\", \"raw\", \"svg\", \"tif\"];\n",
       "\n",
       "mpl.default_extension = \"png\";var comm_websocket_adapter = function(comm) {\n",
       "    // Create a \"websocket\"-like object which calls the given IPython comm\n",
       "    // object with the appropriate methods. Currently this is a non binary\n",
       "    // socket, so there is still some room for performance tuning.\n",
       "    var ws = {};\n",
       "\n",
       "    ws.close = function() {\n",
       "        comm.close()\n",
       "    };\n",
       "    ws.send = function(m) {\n",
       "        //console.log('sending', m);\n",
       "        comm.send(m);\n",
       "    };\n",
       "    // Register the callback with on_msg.\n",
       "    comm.on_msg(function(msg) {\n",
       "        //console.log('receiving', msg['content']['data'], msg);\n",
       "        // Pass the mpl event to the overriden (by mpl) onmessage function.\n",
       "        ws.onmessage(msg['content']['data'])\n",
       "    });\n",
       "    return ws;\n",
       "}\n",
       "\n",
       "mpl.mpl_figure_comm = function(comm, msg) {\n",
       "    // This is the function which gets called when the mpl process\n",
       "    // starts-up an IPython Comm through the \"matplotlib\" channel.\n",
       "\n",
       "    var id = msg.content.data.id;\n",
       "    // Get hold of the div created by the display call when the Comm\n",
       "    // socket was opened in Python.\n",
       "    var element = $(\"#\" + id);\n",
       "    var ws_proxy = comm_websocket_adapter(comm)\n",
       "\n",
       "    function ondownload(figure, format) {\n",
       "        window.open(figure.imageObj.src);\n",
       "    }\n",
       "\n",
       "    var fig = new mpl.figure(id, ws_proxy,\n",
       "                           ondownload,\n",
       "                           element.get(0));\n",
       "\n",
       "    // Call onopen now - mpl needs it, as it is assuming we've passed it a real\n",
       "    // web socket which is closed, not our websocket->open comm proxy.\n",
       "    ws_proxy.onopen();\n",
       "\n",
       "    fig.parent_element = element.get(0);\n",
       "    fig.cell_info = mpl.find_output_cell(\"<div id='\" + id + \"'></div>\");\n",
       "    if (!fig.cell_info) {\n",
       "        console.error(\"Failed to find cell for figure\", id, fig);\n",
       "        return;\n",
       "    }\n",
       "\n",
       "    var output_index = fig.cell_info[2]\n",
       "    var cell = fig.cell_info[0];\n",
       "\n",
       "};\n",
       "\n",
       "mpl.figure.prototype.handle_close = function(fig, msg) {\n",
       "    fig.root.unbind('remove')\n",
       "\n",
       "    // Update the output cell to use the data from the current canvas.\n",
       "    fig.push_to_output();\n",
       "    var dataURL = fig.canvas.toDataURL();\n",
       "    // Re-enable the keyboard manager in IPython - without this line, in FF,\n",
       "    // the notebook keyboard shortcuts fail.\n",
       "    IPython.keyboard_manager.enable()\n",
       "    $(fig.parent_element).html('<img src=\"' + dataURL + '\">');\n",
       "    fig.close_ws(fig, msg);\n",
       "}\n",
       "\n",
       "mpl.figure.prototype.close_ws = function(fig, msg){\n",
       "    fig.send_message('closing', msg);\n",
       "    // fig.ws.close()\n",
       "}\n",
       "\n",
       "mpl.figure.prototype.push_to_output = function(remove_interactive) {\n",
       "    // Turn the data on the canvas into data in the output cell.\n",
       "    var dataURL = this.canvas.toDataURL();\n",
       "    this.cell_info[1]['text/html'] = '<img src=\"' + dataURL + '\">';\n",
       "}\n",
       "\n",
       "mpl.figure.prototype.updated_canvas_event = function() {\n",
       "    // Tell IPython that the notebook contents must change.\n",
       "    IPython.notebook.set_dirty(true);\n",
       "    this.send_message(\"ack\", {});\n",
       "    var fig = this;\n",
       "    // Wait a second, then push the new image to the DOM so\n",
       "    // that it is saved nicely (might be nice to debounce this).\n",
       "    setTimeout(function () { fig.push_to_output() }, 1000);\n",
       "}\n",
       "\n",
       "mpl.figure.prototype._init_toolbar = function() {\n",
       "    var fig = this;\n",
       "\n",
       "    var nav_element = $('<div/>')\n",
       "    nav_element.attr('style', 'width: 100%');\n",
       "    this.root.append(nav_element);\n",
       "\n",
       "    // Define a callback function for later on.\n",
       "    function toolbar_event(event) {\n",
       "        return fig.toolbar_button_onclick(event['data']);\n",
       "    }\n",
       "    function toolbar_mouse_event(event) {\n",
       "        return fig.toolbar_button_onmouseover(event['data']);\n",
       "    }\n",
       "\n",
       "    for(var toolbar_ind in mpl.toolbar_items){\n",
       "        var name = mpl.toolbar_items[toolbar_ind][0];\n",
       "        var tooltip = mpl.toolbar_items[toolbar_ind][1];\n",
       "        var image = mpl.toolbar_items[toolbar_ind][2];\n",
       "        var method_name = mpl.toolbar_items[toolbar_ind][3];\n",
       "\n",
       "        if (!name) { continue; };\n",
       "\n",
       "        var button = $('<button class=\"btn btn-default\" href=\"#\" title=\"' + name + '\"><i class=\"fa ' + image + ' fa-lg\"></i></button>');\n",
       "        button.click(method_name, toolbar_event);\n",
       "        button.mouseover(tooltip, toolbar_mouse_event);\n",
       "        nav_element.append(button);\n",
       "    }\n",
       "\n",
       "    // Add the status bar.\n",
       "    var status_bar = $('<span class=\"mpl-message\" style=\"text-align:right; float: right;\"/>');\n",
       "    nav_element.append(status_bar);\n",
       "    this.message = status_bar[0];\n",
       "\n",
       "    // Add the close button to the window.\n",
       "    var buttongrp = $('<div class=\"btn-group inline pull-right\"></div>');\n",
       "    var button = $('<button class=\"btn btn-mini btn-primary\" href=\"#\" title=\"Stop Interaction\"><i class=\"fa fa-power-off icon-remove icon-large\"></i></button>');\n",
       "    button.click(function (evt) { fig.handle_close(fig, {}); } );\n",
       "    button.mouseover('Stop Interaction', toolbar_mouse_event);\n",
       "    buttongrp.append(button);\n",
       "    var titlebar = this.root.find($('.ui-dialog-titlebar'));\n",
       "    titlebar.prepend(buttongrp);\n",
       "}\n",
       "\n",
       "mpl.figure.prototype._root_extra_style = function(el){\n",
       "    var fig = this\n",
       "    el.on(\"remove\", function(){\n",
       "\tfig.close_ws(fig, {});\n",
       "    });\n",
       "}\n",
       "\n",
       "mpl.figure.prototype._canvas_extra_style = function(el){\n",
       "    // this is important to make the div 'focusable\n",
       "    el.attr('tabindex', 0)\n",
       "    // reach out to IPython and tell the keyboard manager to turn it's self\n",
       "    // off when our div gets focus\n",
       "\n",
       "    // location in version 3\n",
       "    if (IPython.notebook.keyboard_manager) {\n",
       "        IPython.notebook.keyboard_manager.register_events(el);\n",
       "    }\n",
       "    else {\n",
       "        // location in version 2\n",
       "        IPython.keyboard_manager.register_events(el);\n",
       "    }\n",
       "\n",
       "}\n",
       "\n",
       "mpl.figure.prototype._key_event_extra = function(event, name) {\n",
       "    var manager = IPython.notebook.keyboard_manager;\n",
       "    if (!manager)\n",
       "        manager = IPython.keyboard_manager;\n",
       "\n",
       "    // Check for shift+enter\n",
       "    if (event.shiftKey && event.which == 13) {\n",
       "        this.canvas_div.blur();\n",
       "        event.shiftKey = false;\n",
       "        // Send a \"J\" for go to next cell\n",
       "        event.which = 74;\n",
       "        event.keyCode = 74;\n",
       "        manager.command_mode();\n",
       "        manager.handle_keydown(event);\n",
       "    }\n",
       "}\n",
       "\n",
       "mpl.figure.prototype.handle_save = function(fig, msg) {\n",
       "    fig.ondownload(fig, null);\n",
       "}\n",
       "\n",
       "\n",
       "mpl.find_output_cell = function(html_output) {\n",
       "    // Return the cell and output element which can be found *uniquely* in the notebook.\n",
       "    // Note - this is a bit hacky, but it is done because the \"notebook_saving.Notebook\"\n",
       "    // IPython event is triggered only after the cells have been serialised, which for\n",
       "    // our purposes (turning an active figure into a static one), is too late.\n",
       "    var cells = IPython.notebook.get_cells();\n",
       "    var ncells = cells.length;\n",
       "    for (var i=0; i<ncells; i++) {\n",
       "        var cell = cells[i];\n",
       "        if (cell.cell_type === 'code'){\n",
       "            for (var j=0; j<cell.output_area.outputs.length; j++) {\n",
       "                var data = cell.output_area.outputs[j];\n",
       "                if (data.data) {\n",
       "                    // IPython >= 3 moved mimebundle to data attribute of output\n",
       "                    data = data.data;\n",
       "                }\n",
       "                if (data['text/html'] == html_output) {\n",
       "                    return [cell, data, j];\n",
       "                }\n",
       "            }\n",
       "        }\n",
       "    }\n",
       "}\n",
       "\n",
       "// Register the function which deals with the matplotlib target/channel.\n",
       "// The kernel may be null if the page has been refreshed.\n",
       "if (IPython.notebook.kernel != null) {\n",
       "    IPython.notebook.kernel.comm_manager.register_target('matplotlib', mpl.mpl_figure_comm);\n",
       "}\n"
      ],
      "text/plain": [
       "<IPython.core.display.Javascript object>"
      ]
     },
     "metadata": {},
     "output_type": "display_data"
    },
    {
     "data": {
      "text/html": [
       "<img src=\"data:image/png;base64,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\">"
      ],
      "text/plain": [
       "<IPython.core.display.HTML object>"
      ]
     },
     "metadata": {},
     "output_type": "display_data"
    },
    {
     "data": {
      "application/javascript": [
       "/* Put everything inside the global mpl namespace */\n",
       "window.mpl = {};\n",
       "\n",
       "mpl.get_websocket_type = function() {\n",
       "    if (typeof(WebSocket) !== 'undefined') {\n",
       "        return WebSocket;\n",
       "    } else if (typeof(MozWebSocket) !== 'undefined') {\n",
       "        return MozWebSocket;\n",
       "    } else {\n",
       "        alert('Your browser does not have WebSocket support.' +\n",
       "              'Please try Chrome, Safari or Firefox ≥ 6. ' +\n",
       "              'Firefox 4 and 5 are also supported but you ' +\n",
       "              'have to enable WebSockets in about:config.');\n",
       "    };\n",
       "}\n",
       "\n",
       "mpl.figure = function(figure_id, websocket, ondownload, parent_element) {\n",
       "    this.id = figure_id;\n",
       "\n",
       "    this.ws = websocket;\n",
       "\n",
       "    this.supports_binary = (this.ws.binaryType != undefined);\n",
       "\n",
       "    if (!this.supports_binary) {\n",
       "        var warnings = document.getElementById(\"mpl-warnings\");\n",
       "        if (warnings) {\n",
       "            warnings.style.display = 'block';\n",
       "            warnings.textContent = (\n",
       "                \"This browser does not support binary websocket messages. \" +\n",
       "                    \"Performance may be slow.\");\n",
       "        }\n",
       "    }\n",
       "\n",
       "    this.imageObj = new Image();\n",
       "\n",
       "    this.context = undefined;\n",
       "    this.message = undefined;\n",
       "    this.canvas = undefined;\n",
       "    this.rubberband_canvas = undefined;\n",
       "    this.rubberband_context = undefined;\n",
       "    this.format_dropdown = undefined;\n",
       "\n",
       "    this.image_mode = 'full';\n",
       "\n",
       "    this.root = $('<div/>');\n",
       "    this._root_extra_style(this.root)\n",
       "    this.root.attr('style', 'display: inline-block');\n",
       "\n",
       "    $(parent_element).append(this.root);\n",
       "\n",
       "    this._init_header(this);\n",
       "    this._init_canvas(this);\n",
       "    this._init_toolbar(this);\n",
       "\n",
       "    var fig = this;\n",
       "\n",
       "    this.waiting = false;\n",
       "\n",
       "    this.ws.onopen =  function () {\n",
       "            fig.send_message(\"supports_binary\", {value: fig.supports_binary});\n",
       "            fig.send_message(\"send_image_mode\", {});\n",
       "            fig.send_message(\"refresh\", {});\n",
       "        }\n",
       "\n",
       "    this.imageObj.onload = function() {\n",
       "            if (fig.image_mode == 'full') {\n",
       "                // Full images could contain transparency (where diff images\n",
       "                // almost always do), so we need to clear the canvas so that\n",
       "                // there is no ghosting.\n",
       "                fig.context.clearRect(0, 0, fig.canvas.width, fig.canvas.height);\n",
       "            }\n",
       "            fig.context.drawImage(fig.imageObj, 0, 0);\n",
       "        };\n",
       "\n",
       "    this.imageObj.onunload = function() {\n",
       "        this.ws.close();\n",
       "    }\n",
       "\n",
       "    this.ws.onmessage = this._make_on_message_function(this);\n",
       "\n",
       "    this.ondownload = ondownload;\n",
       "}\n",
       "\n",
       "mpl.figure.prototype._init_header = function() {\n",
       "    var titlebar = $(\n",
       "        '<div class=\"ui-dialog-titlebar ui-widget-header ui-corner-all ' +\n",
       "        'ui-helper-clearfix\"/>');\n",
       "    var titletext = $(\n",
       "        '<div class=\"ui-dialog-title\" style=\"width: 100%; ' +\n",
       "        'text-align: center; padding: 3px;\"/>');\n",
       "    titlebar.append(titletext)\n",
       "    this.root.append(titlebar);\n",
       "    this.header = titletext[0];\n",
       "}\n",
       "\n",
       "\n",
       "\n",
       "mpl.figure.prototype._canvas_extra_style = function(canvas_div) {\n",
       "\n",
       "}\n",
       "\n",
       "\n",
       "mpl.figure.prototype._root_extra_style = function(canvas_div) {\n",
       "\n",
       "}\n",
       "\n",
       "mpl.figure.prototype._init_canvas = function() {\n",
       "    var fig = this;\n",
       "\n",
       "    var canvas_div = $('<div/>');\n",
       "\n",
       "    canvas_div.attr('style', 'position: relative; clear: both; outline: 0');\n",
       "\n",
       "    function canvas_keyboard_event(event) {\n",
       "        return fig.key_event(event, event['data']);\n",
       "    }\n",
       "\n",
       "    canvas_div.keydown('key_press', canvas_keyboard_event);\n",
       "    canvas_div.keyup('key_release', canvas_keyboard_event);\n",
       "    this.canvas_div = canvas_div\n",
       "    this._canvas_extra_style(canvas_div)\n",
       "    this.root.append(canvas_div);\n",
       "\n",
       "    var canvas = $('<canvas/>');\n",
       "    canvas.addClass('mpl-canvas');\n",
       "    canvas.attr('style', \"left: 0; top: 0; z-index: 0; outline: 0\")\n",
       "\n",
       "    this.canvas = canvas[0];\n",
       "    this.context = canvas[0].getContext(\"2d\");\n",
       "\n",
       "    var rubberband = $('<canvas/>');\n",
       "    rubberband.attr('style', \"position: absolute; left: 0; top: 0; z-index: 1;\")\n",
       "\n",
       "    var pass_mouse_events = true;\n",
       "\n",
       "    canvas_div.resizable({\n",
       "        start: function(event, ui) {\n",
       "            pass_mouse_events = false;\n",
       "        },\n",
       "        resize: function(event, ui) {\n",
       "            fig.request_resize(ui.size.width, ui.size.height);\n",
       "        },\n",
       "        stop: function(event, ui) {\n",
       "            pass_mouse_events = true;\n",
       "            fig.request_resize(ui.size.width, ui.size.height);\n",
       "        },\n",
       "    });\n",
       "\n",
       "    function mouse_event_fn(event) {\n",
       "        if (pass_mouse_events)\n",
       "            return fig.mouse_event(event, event['data']);\n",
       "    }\n",
       "\n",
       "    rubberband.mousedown('button_press', mouse_event_fn);\n",
       "    rubberband.mouseup('button_release', mouse_event_fn);\n",
       "    // Throttle sequential mouse events to 1 every 20ms.\n",
       "    rubberband.mousemove('motion_notify', mouse_event_fn);\n",
       "\n",
       "    rubberband.mouseenter('figure_enter', mouse_event_fn);\n",
       "    rubberband.mouseleave('figure_leave', mouse_event_fn);\n",
       "\n",
       "    canvas_div.on(\"wheel\", function (event) {\n",
       "        event = event.originalEvent;\n",
       "        event['data'] = 'scroll'\n",
       "        if (event.deltaY < 0) {\n",
       "            event.step = 1;\n",
       "        } else {\n",
       "            event.step = -1;\n",
       "        }\n",
       "        mouse_event_fn(event);\n",
       "    });\n",
       "\n",
       "    canvas_div.append(canvas);\n",
       "    canvas_div.append(rubberband);\n",
       "\n",
       "    this.rubberband = rubberband;\n",
       "    this.rubberband_canvas = rubberband[0];\n",
       "    this.rubberband_context = rubberband[0].getContext(\"2d\");\n",
       "    this.rubberband_context.strokeStyle = \"#000000\";\n",
       "\n",
       "    this._resize_canvas = function(width, height) {\n",
       "        // Keep the size of the canvas, canvas container, and rubber band\n",
       "        // canvas in synch.\n",
       "        canvas_div.css('width', width)\n",
       "        canvas_div.css('height', height)\n",
       "\n",
       "        canvas.attr('width', width);\n",
       "        canvas.attr('height', height);\n",
       "\n",
       "        rubberband.attr('width', width);\n",
       "        rubberband.attr('height', height);\n",
       "    }\n",
       "\n",
       "    // Set the figure to an initial 600x600px, this will subsequently be updated\n",
       "    // upon first draw.\n",
       "    this._resize_canvas(600, 600);\n",
       "\n",
       "    // Disable right mouse context menu.\n",
       "    $(this.rubberband_canvas).bind(\"contextmenu\",function(e){\n",
       "        return false;\n",
       "    });\n",
       "\n",
       "    function set_focus () {\n",
       "        canvas.focus();\n",
       "        canvas_div.focus();\n",
       "    }\n",
       "\n",
       "    window.setTimeout(set_focus, 100);\n",
       "}\n",
       "\n",
       "mpl.figure.prototype._init_toolbar = function() {\n",
       "    var fig = this;\n",
       "\n",
       "    var nav_element = $('<div/>')\n",
       "    nav_element.attr('style', 'width: 100%');\n",
       "    this.root.append(nav_element);\n",
       "\n",
       "    // Define a callback function for later on.\n",
       "    function toolbar_event(event) {\n",
       "        return fig.toolbar_button_onclick(event['data']);\n",
       "    }\n",
       "    function toolbar_mouse_event(event) {\n",
       "        return fig.toolbar_button_onmouseover(event['data']);\n",
       "    }\n",
       "\n",
       "    for(var toolbar_ind in mpl.toolbar_items) {\n",
       "        var name = mpl.toolbar_items[toolbar_ind][0];\n",
       "        var tooltip = mpl.toolbar_items[toolbar_ind][1];\n",
       "        var image = mpl.toolbar_items[toolbar_ind][2];\n",
       "        var method_name = mpl.toolbar_items[toolbar_ind][3];\n",
       "\n",
       "        if (!name) {\n",
       "            // put a spacer in here.\n",
       "            continue;\n",
       "        }\n",
       "        var button = $('<button/>');\n",
       "        button.addClass('ui-button ui-widget ui-state-default ui-corner-all ' +\n",
       "                        'ui-button-icon-only');\n",
       "        button.attr('role', 'button');\n",
       "        button.attr('aria-disabled', 'false');\n",
       "        button.click(method_name, toolbar_event);\n",
       "        button.mouseover(tooltip, toolbar_mouse_event);\n",
       "\n",
       "        var icon_img = $('<span/>');\n",
       "        icon_img.addClass('ui-button-icon-primary ui-icon');\n",
       "        icon_img.addClass(image);\n",
       "        icon_img.addClass('ui-corner-all');\n",
       "\n",
       "        var tooltip_span = $('<span/>');\n",
       "        tooltip_span.addClass('ui-button-text');\n",
       "        tooltip_span.html(tooltip);\n",
       "\n",
       "        button.append(icon_img);\n",
       "        button.append(tooltip_span);\n",
       "\n",
       "        nav_element.append(button);\n",
       "    }\n",
       "\n",
       "    var fmt_picker_span = $('<span/>');\n",
       "\n",
       "    var fmt_picker = $('<select/>');\n",
       "    fmt_picker.addClass('mpl-toolbar-option ui-widget ui-widget-content');\n",
       "    fmt_picker_span.append(fmt_picker);\n",
       "    nav_element.append(fmt_picker_span);\n",
       "    this.format_dropdown = fmt_picker[0];\n",
       "\n",
       "    for (var ind in mpl.extensions) {\n",
       "        var fmt = mpl.extensions[ind];\n",
       "        var option = $(\n",
       "            '<option/>', {selected: fmt === mpl.default_extension}).html(fmt);\n",
       "        fmt_picker.append(option)\n",
       "    }\n",
       "\n",
       "    // Add hover states to the ui-buttons\n",
       "    $( \".ui-button\" ).hover(\n",
       "        function() { $(this).addClass(\"ui-state-hover\");},\n",
       "        function() { $(this).removeClass(\"ui-state-hover\");}\n",
       "    );\n",
       "\n",
       "    var status_bar = $('<span class=\"mpl-message\"/>');\n",
       "    nav_element.append(status_bar);\n",
       "    this.message = status_bar[0];\n",
       "}\n",
       "\n",
       "mpl.figure.prototype.request_resize = function(x_pixels, y_pixels) {\n",
       "    // Request matplotlib to resize the figure. Matplotlib will then trigger a resize in the client,\n",
       "    // which will in turn request a refresh of the image.\n",
       "    this.send_message('resize', {'width': x_pixels, 'height': y_pixels});\n",
       "}\n",
       "\n",
       "mpl.figure.prototype.send_message = function(type, properties) {\n",
       "    properties['type'] = type;\n",
       "    properties['figure_id'] = this.id;\n",
       "    this.ws.send(JSON.stringify(properties));\n",
       "}\n",
       "\n",
       "mpl.figure.prototype.send_draw_message = function() {\n",
       "    if (!this.waiting) {\n",
       "        this.waiting = true;\n",
       "        this.ws.send(JSON.stringify({type: \"draw\", figure_id: this.id}));\n",
       "    }\n",
       "}\n",
       "\n",
       "\n",
       "mpl.figure.prototype.handle_save = function(fig, msg) {\n",
       "    var format_dropdown = fig.format_dropdown;\n",
       "    var format = format_dropdown.options[format_dropdown.selectedIndex].value;\n",
       "    fig.ondownload(fig, format);\n",
       "}\n",
       "\n",
       "\n",
       "mpl.figure.prototype.handle_resize = function(fig, msg) {\n",
       "    var size = msg['size'];\n",
       "    if (size[0] != fig.canvas.width || size[1] != fig.canvas.height) {\n",
       "        fig._resize_canvas(size[0], size[1]);\n",
       "        fig.send_message(\"refresh\", {});\n",
       "    };\n",
       "}\n",
       "\n",
       "mpl.figure.prototype.handle_rubberband = function(fig, msg) {\n",
       "    var x0 = msg['x0'];\n",
       "    var y0 = fig.canvas.height - msg['y0'];\n",
       "    var x1 = msg['x1'];\n",
       "    var y1 = fig.canvas.height - msg['y1'];\n",
       "    x0 = Math.floor(x0) + 0.5;\n",
       "    y0 = Math.floor(y0) + 0.5;\n",
       "    x1 = Math.floor(x1) + 0.5;\n",
       "    y1 = Math.floor(y1) + 0.5;\n",
       "    var min_x = Math.min(x0, x1);\n",
       "    var min_y = Math.min(y0, y1);\n",
       "    var width = Math.abs(x1 - x0);\n",
       "    var height = Math.abs(y1 - y0);\n",
       "\n",
       "    fig.rubberband_context.clearRect(\n",
       "        0, 0, fig.canvas.width, fig.canvas.height);\n",
       "\n",
       "    fig.rubberband_context.strokeRect(min_x, min_y, width, height);\n",
       "}\n",
       "\n",
       "mpl.figure.prototype.handle_figure_label = function(fig, msg) {\n",
       "    // Updates the figure title.\n",
       "    fig.header.textContent = msg['label'];\n",
       "}\n",
       "\n",
       "mpl.figure.prototype.handle_cursor = function(fig, msg) {\n",
       "    var cursor = msg['cursor'];\n",
       "    switch(cursor)\n",
       "    {\n",
       "    case 0:\n",
       "        cursor = 'pointer';\n",
       "        break;\n",
       "    case 1:\n",
       "        cursor = 'default';\n",
       "        break;\n",
       "    case 2:\n",
       "        cursor = 'crosshair';\n",
       "        break;\n",
       "    case 3:\n",
       "        cursor = 'move';\n",
       "        break;\n",
       "    }\n",
       "    fig.rubberband_canvas.style.cursor = cursor;\n",
       "}\n",
       "\n",
       "mpl.figure.prototype.handle_message = function(fig, msg) {\n",
       "    fig.message.textContent = msg['message'];\n",
       "}\n",
       "\n",
       "mpl.figure.prototype.handle_draw = function(fig, msg) {\n",
       "    // Request the server to send over a new figure.\n",
       "    fig.send_draw_message();\n",
       "}\n",
       "\n",
       "mpl.figure.prototype.handle_image_mode = function(fig, msg) {\n",
       "    fig.image_mode = msg['mode'];\n",
       "}\n",
       "\n",
       "mpl.figure.prototype.updated_canvas_event = function() {\n",
       "    // Called whenever the canvas gets updated.\n",
       "    this.send_message(\"ack\", {});\n",
       "}\n",
       "\n",
       "// A function to construct a web socket function for onmessage handling.\n",
       "// Called in the figure constructor.\n",
       "mpl.figure.prototype._make_on_message_function = function(fig) {\n",
       "    return function socket_on_message(evt) {\n",
       "        if (evt.data instanceof Blob) {\n",
       "            /* FIXME: We get \"Resource interpreted as Image but\n",
       "             * transferred with MIME type text/plain:\" errors on\n",
       "             * Chrome.  But how to set the MIME type?  It doesn't seem\n",
       "             * to be part of the websocket stream */\n",
       "            evt.data.type = \"image/png\";\n",
       "\n",
       "            /* Free the memory for the previous frames */\n",
       "            if (fig.imageObj.src) {\n",
       "                (window.URL || window.webkitURL).revokeObjectURL(\n",
       "                    fig.imageObj.src);\n",
       "            }\n",
       "\n",
       "            fig.imageObj.src = (window.URL || window.webkitURL).createObjectURL(\n",
       "                evt.data);\n",
       "            fig.updated_canvas_event();\n",
       "            fig.waiting = false;\n",
       "            return;\n",
       "        }\n",
       "        else if (typeof evt.data === 'string' && evt.data.slice(0, 21) == \"data:image/png;base64\") {\n",
       "            fig.imageObj.src = evt.data;\n",
       "            fig.updated_canvas_event();\n",
       "            fig.waiting = false;\n",
       "            return;\n",
       "        }\n",
       "\n",
       "        var msg = JSON.parse(evt.data);\n",
       "        var msg_type = msg['type'];\n",
       "\n",
       "        // Call the  \"handle_{type}\" callback, which takes\n",
       "        // the figure and JSON message as its only arguments.\n",
       "        try {\n",
       "            var callback = fig[\"handle_\" + msg_type];\n",
       "        } catch (e) {\n",
       "            console.log(\"No handler for the '\" + msg_type + \"' message type: \", msg);\n",
       "            return;\n",
       "        }\n",
       "\n",
       "        if (callback) {\n",
       "            try {\n",
       "                // console.log(\"Handling '\" + msg_type + \"' message: \", msg);\n",
       "                callback(fig, msg);\n",
       "            } catch (e) {\n",
       "                console.log(\"Exception inside the 'handler_\" + msg_type + \"' callback:\", e, e.stack, msg);\n",
       "            }\n",
       "        }\n",
       "    };\n",
       "}\n",
       "\n",
       "// from http://stackoverflow.com/questions/1114465/getting-mouse-location-in-canvas\n",
       "mpl.findpos = function(e) {\n",
       "    //this section is from http://www.quirksmode.org/js/events_properties.html\n",
       "    var targ;\n",
       "    if (!e)\n",
       "        e = window.event;\n",
       "    if (e.target)\n",
       "        targ = e.target;\n",
       "    else if (e.srcElement)\n",
       "        targ = e.srcElement;\n",
       "    if (targ.nodeType == 3) // defeat Safari bug\n",
       "        targ = targ.parentNode;\n",
       "\n",
       "    // jQuery normalizes the pageX and pageY\n",
       "    // pageX,Y are the mouse positions relative to the document\n",
       "    // offset() returns the position of the element relative to the document\n",
       "    var x = e.pageX - $(targ).offset().left;\n",
       "    var y = e.pageY - $(targ).offset().top;\n",
       "\n",
       "    return {\"x\": x, \"y\": y};\n",
       "};\n",
       "\n",
       "/*\n",
       " * return a copy of an object with only non-object keys\n",
       " * we need this to avoid circular references\n",
       " * http://stackoverflow.com/a/24161582/3208463\n",
       " */\n",
       "function simpleKeys (original) {\n",
       "  return Object.keys(original).reduce(function (obj, key) {\n",
       "    if (typeof original[key] !== 'object')\n",
       "        obj[key] = original[key]\n",
       "    return obj;\n",
       "  }, {});\n",
       "}\n",
       "\n",
       "mpl.figure.prototype.mouse_event = function(event, name) {\n",
       "    var canvas_pos = mpl.findpos(event)\n",
       "\n",
       "    if (name === 'button_press')\n",
       "    {\n",
       "        this.canvas.focus();\n",
       "        this.canvas_div.focus();\n",
       "    }\n",
       "\n",
       "    var x = canvas_pos.x;\n",
       "    var y = canvas_pos.y;\n",
       "\n",
       "    this.send_message(name, {x: x, y: y, button: event.button,\n",
       "                             step: event.step,\n",
       "                             guiEvent: simpleKeys(event)});\n",
       "\n",
       "    /* This prevents the web browser from automatically changing to\n",
       "     * the text insertion cursor when the button is pressed.  We want\n",
       "     * to control all of the cursor setting manually through the\n",
       "     * 'cursor' event from matplotlib */\n",
       "    event.preventDefault();\n",
       "    return false;\n",
       "}\n",
       "\n",
       "mpl.figure.prototype._key_event_extra = function(event, name) {\n",
       "    // Handle any extra behaviour associated with a key event\n",
       "}\n",
       "\n",
       "mpl.figure.prototype.key_event = function(event, name) {\n",
       "\n",
       "    // Prevent repeat events\n",
       "    if (name == 'key_press')\n",
       "    {\n",
       "        if (event.which === this._key)\n",
       "            return;\n",
       "        else\n",
       "            this._key = event.which;\n",
       "    }\n",
       "    if (name == 'key_release')\n",
       "        this._key = null;\n",
       "\n",
       "    var value = '';\n",
       "    if (event.ctrlKey && event.which != 17)\n",
       "        value += \"ctrl+\";\n",
       "    if (event.altKey && event.which != 18)\n",
       "        value += \"alt+\";\n",
       "    if (event.shiftKey && event.which != 16)\n",
       "        value += \"shift+\";\n",
       "\n",
       "    value += 'k';\n",
       "    value += event.which.toString();\n",
       "\n",
       "    this._key_event_extra(event, name);\n",
       "\n",
       "    this.send_message(name, {key: value,\n",
       "                             guiEvent: simpleKeys(event)});\n",
       "    return false;\n",
       "}\n",
       "\n",
       "mpl.figure.prototype.toolbar_button_onclick = function(name) {\n",
       "    if (name == 'download') {\n",
       "        this.handle_save(this, null);\n",
       "    } else {\n",
       "        this.send_message(\"toolbar_button\", {name: name});\n",
       "    }\n",
       "};\n",
       "\n",
       "mpl.figure.prototype.toolbar_button_onmouseover = function(tooltip) {\n",
       "    this.message.textContent = tooltip;\n",
       "};\n",
       "mpl.toolbar_items = [[\"Home\", \"Reset original view\", \"fa fa-home icon-home\", \"home\"], [\"Back\", \"Back to  previous view\", \"fa fa-arrow-left icon-arrow-left\", \"back\"], [\"Forward\", \"Forward to next view\", \"fa fa-arrow-right icon-arrow-right\", \"forward\"], [\"\", \"\", \"\", \"\"], [\"Pan\", \"Pan axes with left mouse, zoom with right\", \"fa fa-arrows icon-move\", \"pan\"], [\"Zoom\", \"Zoom to rectangle\", \"fa fa-square-o icon-check-empty\", \"zoom\"], [\"\", \"\", \"\", \"\"], [\"Download\", \"Download plot\", \"fa fa-floppy-o icon-save\", \"download\"]];\n",
       "\n",
       "mpl.extensions = [\"eps\", \"jpeg\", \"pdf\", \"png\", \"ps\", \"raw\", \"svg\", \"tif\"];\n",
       "\n",
       "mpl.default_extension = \"png\";var comm_websocket_adapter = function(comm) {\n",
       "    // Create a \"websocket\"-like object which calls the given IPython comm\n",
       "    // object with the appropriate methods. Currently this is a non binary\n",
       "    // socket, so there is still some room for performance tuning.\n",
       "    var ws = {};\n",
       "\n",
       "    ws.close = function() {\n",
       "        comm.close()\n",
       "    };\n",
       "    ws.send = function(m) {\n",
       "        //console.log('sending', m);\n",
       "        comm.send(m);\n",
       "    };\n",
       "    // Register the callback with on_msg.\n",
       "    comm.on_msg(function(msg) {\n",
       "        //console.log('receiving', msg['content']['data'], msg);\n",
       "        // Pass the mpl event to the overriden (by mpl) onmessage function.\n",
       "        ws.onmessage(msg['content']['data'])\n",
       "    });\n",
       "    return ws;\n",
       "}\n",
       "\n",
       "mpl.mpl_figure_comm = function(comm, msg) {\n",
       "    // This is the function which gets called when the mpl process\n",
       "    // starts-up an IPython Comm through the \"matplotlib\" channel.\n",
       "\n",
       "    var id = msg.content.data.id;\n",
       "    // Get hold of the div created by the display call when the Comm\n",
       "    // socket was opened in Python.\n",
       "    var element = $(\"#\" + id);\n",
       "    var ws_proxy = comm_websocket_adapter(comm)\n",
       "\n",
       "    function ondownload(figure, format) {\n",
       "        window.open(figure.imageObj.src);\n",
       "    }\n",
       "\n",
       "    var fig = new mpl.figure(id, ws_proxy,\n",
       "                           ondownload,\n",
       "                           element.get(0));\n",
       "\n",
       "    // Call onopen now - mpl needs it, as it is assuming we've passed it a real\n",
       "    // web socket which is closed, not our websocket->open comm proxy.\n",
       "    ws_proxy.onopen();\n",
       "\n",
       "    fig.parent_element = element.get(0);\n",
       "    fig.cell_info = mpl.find_output_cell(\"<div id='\" + id + \"'></div>\");\n",
       "    if (!fig.cell_info) {\n",
       "        console.error(\"Failed to find cell for figure\", id, fig);\n",
       "        return;\n",
       "    }\n",
       "\n",
       "    var output_index = fig.cell_info[2]\n",
       "    var cell = fig.cell_info[0];\n",
       "\n",
       "};\n",
       "\n",
       "mpl.figure.prototype.handle_close = function(fig, msg) {\n",
       "    fig.root.unbind('remove')\n",
       "\n",
       "    // Update the output cell to use the data from the current canvas.\n",
       "    fig.push_to_output();\n",
       "    var dataURL = fig.canvas.toDataURL();\n",
       "    // Re-enable the keyboard manager in IPython - without this line, in FF,\n",
       "    // the notebook keyboard shortcuts fail.\n",
       "    IPython.keyboard_manager.enable()\n",
       "    $(fig.parent_element).html('<img src=\"' + dataURL + '\">');\n",
       "    fig.close_ws(fig, msg);\n",
       "}\n",
       "\n",
       "mpl.figure.prototype.close_ws = function(fig, msg){\n",
       "    fig.send_message('closing', msg);\n",
       "    // fig.ws.close()\n",
       "}\n",
       "\n",
       "mpl.figure.prototype.push_to_output = function(remove_interactive) {\n",
       "    // Turn the data on the canvas into data in the output cell.\n",
       "    var dataURL = this.canvas.toDataURL();\n",
       "    this.cell_info[1]['text/html'] = '<img src=\"' + dataURL + '\">';\n",
       "}\n",
       "\n",
       "mpl.figure.prototype.updated_canvas_event = function() {\n",
       "    // Tell IPython that the notebook contents must change.\n",
       "    IPython.notebook.set_dirty(true);\n",
       "    this.send_message(\"ack\", {});\n",
       "    var fig = this;\n",
       "    // Wait a second, then push the new image to the DOM so\n",
       "    // that it is saved nicely (might be nice to debounce this).\n",
       "    setTimeout(function () { fig.push_to_output() }, 1000);\n",
       "}\n",
       "\n",
       "mpl.figure.prototype._init_toolbar = function() {\n",
       "    var fig = this;\n",
       "\n",
       "    var nav_element = $('<div/>')\n",
       "    nav_element.attr('style', 'width: 100%');\n",
       "    this.root.append(nav_element);\n",
       "\n",
       "    // Define a callback function for later on.\n",
       "    function toolbar_event(event) {\n",
       "        return fig.toolbar_button_onclick(event['data']);\n",
       "    }\n",
       "    function toolbar_mouse_event(event) {\n",
       "        return fig.toolbar_button_onmouseover(event['data']);\n",
       "    }\n",
       "\n",
       "    for(var toolbar_ind in mpl.toolbar_items){\n",
       "        var name = mpl.toolbar_items[toolbar_ind][0];\n",
       "        var tooltip = mpl.toolbar_items[toolbar_ind][1];\n",
       "        var image = mpl.toolbar_items[toolbar_ind][2];\n",
       "        var method_name = mpl.toolbar_items[toolbar_ind][3];\n",
       "\n",
       "        if (!name) { continue; };\n",
       "\n",
       "        var button = $('<button class=\"btn btn-default\" href=\"#\" title=\"' + name + '\"><i class=\"fa ' + image + ' fa-lg\"></i></button>');\n",
       "        button.click(method_name, toolbar_event);\n",
       "        button.mouseover(tooltip, toolbar_mouse_event);\n",
       "        nav_element.append(button);\n",
       "    }\n",
       "\n",
       "    // Add the status bar.\n",
       "    var status_bar = $('<span class=\"mpl-message\" style=\"text-align:right; float: right;\"/>');\n",
       "    nav_element.append(status_bar);\n",
       "    this.message = status_bar[0];\n",
       "\n",
       "    // Add the close button to the window.\n",
       "    var buttongrp = $('<div class=\"btn-group inline pull-right\"></div>');\n",
       "    var button = $('<button class=\"btn btn-mini btn-primary\" href=\"#\" title=\"Stop Interaction\"><i class=\"fa fa-power-off icon-remove icon-large\"></i></button>');\n",
       "    button.click(function (evt) { fig.handle_close(fig, {}); } );\n",
       "    button.mouseover('Stop Interaction', toolbar_mouse_event);\n",
       "    buttongrp.append(button);\n",
       "    var titlebar = this.root.find($('.ui-dialog-titlebar'));\n",
       "    titlebar.prepend(buttongrp);\n",
       "}\n",
       "\n",
       "mpl.figure.prototype._root_extra_style = function(el){\n",
       "    var fig = this\n",
       "    el.on(\"remove\", function(){\n",
       "\tfig.close_ws(fig, {});\n",
       "    });\n",
       "}\n",
       "\n",
       "mpl.figure.prototype._canvas_extra_style = function(el){\n",
       "    // this is important to make the div 'focusable\n",
       "    el.attr('tabindex', 0)\n",
       "    // reach out to IPython and tell the keyboard manager to turn it's self\n",
       "    // off when our div gets focus\n",
       "\n",
       "    // location in version 3\n",
       "    if (IPython.notebook.keyboard_manager) {\n",
       "        IPython.notebook.keyboard_manager.register_events(el);\n",
       "    }\n",
       "    else {\n",
       "        // location in version 2\n",
       "        IPython.keyboard_manager.register_events(el);\n",
       "    }\n",
       "\n",
       "}\n",
       "\n",
       "mpl.figure.prototype._key_event_extra = function(event, name) {\n",
       "    var manager = IPython.notebook.keyboard_manager;\n",
       "    if (!manager)\n",
       "        manager = IPython.keyboard_manager;\n",
       "\n",
       "    // Check for shift+enter\n",
       "    if (event.shiftKey && event.which == 13) {\n",
       "        this.canvas_div.blur();\n",
       "        event.shiftKey = false;\n",
       "        // Send a \"J\" for go to next cell\n",
       "        event.which = 74;\n",
       "        event.keyCode = 74;\n",
       "        manager.command_mode();\n",
       "        manager.handle_keydown(event);\n",
       "    }\n",
       "}\n",
       "\n",
       "mpl.figure.prototype.handle_save = function(fig, msg) {\n",
       "    fig.ondownload(fig, null);\n",
       "}\n",
       "\n",
       "\n",
       "mpl.find_output_cell = function(html_output) {\n",
       "    // Return the cell and output element which can be found *uniquely* in the notebook.\n",
       "    // Note - this is a bit hacky, but it is done because the \"notebook_saving.Notebook\"\n",
       "    // IPython event is triggered only after the cells have been serialised, which for\n",
       "    // our purposes (turning an active figure into a static one), is too late.\n",
       "    var cells = IPython.notebook.get_cells();\n",
       "    var ncells = cells.length;\n",
       "    for (var i=0; i<ncells; i++) {\n",
       "        var cell = cells[i];\n",
       "        if (cell.cell_type === 'code'){\n",
       "            for (var j=0; j<cell.output_area.outputs.length; j++) {\n",
       "                var data = cell.output_area.outputs[j];\n",
       "                if (data.data) {\n",
       "                    // IPython >= 3 moved mimebundle to data attribute of output\n",
       "                    data = data.data;\n",
       "                }\n",
       "                if (data['text/html'] == html_output) {\n",
       "                    return [cell, data, j];\n",
       "                }\n",
       "            }\n",
       "        }\n",
       "    }\n",
       "}\n",
       "\n",
       "// Register the function which deals with the matplotlib target/channel.\n",
       "// The kernel may be null if the page has been refreshed.\n",
       "if (IPython.notebook.kernel != null) {\n",
       "    IPython.notebook.kernel.comm_manager.register_target('matplotlib', mpl.mpl_figure_comm);\n",
       "}\n"
      ],
      "text/plain": [
       "<IPython.core.display.Javascript object>"
      ]
     },
     "metadata": {},
     "output_type": "display_data"
    },
    {
     "data": {
      "text/html": [
       "<img src=\"data:image/png;base64,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\">"
      ],
      "text/plain": [
       "<IPython.core.display.HTML object>"
      ]
     },
     "metadata": {},
     "output_type": "display_data"
    },
    {
     "data": {
      "application/javascript": [
       "/* Put everything inside the global mpl namespace */\n",
       "window.mpl = {};\n",
       "\n",
       "mpl.get_websocket_type = function() {\n",
       "    if (typeof(WebSocket) !== 'undefined') {\n",
       "        return WebSocket;\n",
       "    } else if (typeof(MozWebSocket) !== 'undefined') {\n",
       "        return MozWebSocket;\n",
       "    } else {\n",
       "        alert('Your browser does not have WebSocket support.' +\n",
       "              'Please try Chrome, Safari or Firefox ≥ 6. ' +\n",
       "              'Firefox 4 and 5 are also supported but you ' +\n",
       "              'have to enable WebSockets in about:config.');\n",
       "    };\n",
       "}\n",
       "\n",
       "mpl.figure = function(figure_id, websocket, ondownload, parent_element) {\n",
       "    this.id = figure_id;\n",
       "\n",
       "    this.ws = websocket;\n",
       "\n",
       "    this.supports_binary = (this.ws.binaryType != undefined);\n",
       "\n",
       "    if (!this.supports_binary) {\n",
       "        var warnings = document.getElementById(\"mpl-warnings\");\n",
       "        if (warnings) {\n",
       "            warnings.style.display = 'block';\n",
       "            warnings.textContent = (\n",
       "                \"This browser does not support binary websocket messages. \" +\n",
       "                    \"Performance may be slow.\");\n",
       "        }\n",
       "    }\n",
       "\n",
       "    this.imageObj = new Image();\n",
       "\n",
       "    this.context = undefined;\n",
       "    this.message = undefined;\n",
       "    this.canvas = undefined;\n",
       "    this.rubberband_canvas = undefined;\n",
       "    this.rubberband_context = undefined;\n",
       "    this.format_dropdown = undefined;\n",
       "\n",
       "    this.image_mode = 'full';\n",
       "\n",
       "    this.root = $('<div/>');\n",
       "    this._root_extra_style(this.root)\n",
       "    this.root.attr('style', 'display: inline-block');\n",
       "\n",
       "    $(parent_element).append(this.root);\n",
       "\n",
       "    this._init_header(this);\n",
       "    this._init_canvas(this);\n",
       "    this._init_toolbar(this);\n",
       "\n",
       "    var fig = this;\n",
       "\n",
       "    this.waiting = false;\n",
       "\n",
       "    this.ws.onopen =  function () {\n",
       "            fig.send_message(\"supports_binary\", {value: fig.supports_binary});\n",
       "            fig.send_message(\"send_image_mode\", {});\n",
       "            fig.send_message(\"refresh\", {});\n",
       "        }\n",
       "\n",
       "    this.imageObj.onload = function() {\n",
       "            if (fig.image_mode == 'full') {\n",
       "                // Full images could contain transparency (where diff images\n",
       "                // almost always do), so we need to clear the canvas so that\n",
       "                // there is no ghosting.\n",
       "                fig.context.clearRect(0, 0, fig.canvas.width, fig.canvas.height);\n",
       "            }\n",
       "            fig.context.drawImage(fig.imageObj, 0, 0);\n",
       "        };\n",
       "\n",
       "    this.imageObj.onunload = function() {\n",
       "        this.ws.close();\n",
       "    }\n",
       "\n",
       "    this.ws.onmessage = this._make_on_message_function(this);\n",
       "\n",
       "    this.ondownload = ondownload;\n",
       "}\n",
       "\n",
       "mpl.figure.prototype._init_header = function() {\n",
       "    var titlebar = $(\n",
       "        '<div class=\"ui-dialog-titlebar ui-widget-header ui-corner-all ' +\n",
       "        'ui-helper-clearfix\"/>');\n",
       "    var titletext = $(\n",
       "        '<div class=\"ui-dialog-title\" style=\"width: 100%; ' +\n",
       "        'text-align: center; padding: 3px;\"/>');\n",
       "    titlebar.append(titletext)\n",
       "    this.root.append(titlebar);\n",
       "    this.header = titletext[0];\n",
       "}\n",
       "\n",
       "\n",
       "\n",
       "mpl.figure.prototype._canvas_extra_style = function(canvas_div) {\n",
       "\n",
       "}\n",
       "\n",
       "\n",
       "mpl.figure.prototype._root_extra_style = function(canvas_div) {\n",
       "\n",
       "}\n",
       "\n",
       "mpl.figure.prototype._init_canvas = function() {\n",
       "    var fig = this;\n",
       "\n",
       "    var canvas_div = $('<div/>');\n",
       "\n",
       "    canvas_div.attr('style', 'position: relative; clear: both; outline: 0');\n",
       "\n",
       "    function canvas_keyboard_event(event) {\n",
       "        return fig.key_event(event, event['data']);\n",
       "    }\n",
       "\n",
       "    canvas_div.keydown('key_press', canvas_keyboard_event);\n",
       "    canvas_div.keyup('key_release', canvas_keyboard_event);\n",
       "    this.canvas_div = canvas_div\n",
       "    this._canvas_extra_style(canvas_div)\n",
       "    this.root.append(canvas_div);\n",
       "\n",
       "    var canvas = $('<canvas/>');\n",
       "    canvas.addClass('mpl-canvas');\n",
       "    canvas.attr('style', \"left: 0; top: 0; z-index: 0; outline: 0\")\n",
       "\n",
       "    this.canvas = canvas[0];\n",
       "    this.context = canvas[0].getContext(\"2d\");\n",
       "\n",
       "    var rubberband = $('<canvas/>');\n",
       "    rubberband.attr('style', \"position: absolute; left: 0; top: 0; z-index: 1;\")\n",
       "\n",
       "    var pass_mouse_events = true;\n",
       "\n",
       "    canvas_div.resizable({\n",
       "        start: function(event, ui) {\n",
       "            pass_mouse_events = false;\n",
       "        },\n",
       "        resize: function(event, ui) {\n",
       "            fig.request_resize(ui.size.width, ui.size.height);\n",
       "        },\n",
       "        stop: function(event, ui) {\n",
       "            pass_mouse_events = true;\n",
       "            fig.request_resize(ui.size.width, ui.size.height);\n",
       "        },\n",
       "    });\n",
       "\n",
       "    function mouse_event_fn(event) {\n",
       "        if (pass_mouse_events)\n",
       "            return fig.mouse_event(event, event['data']);\n",
       "    }\n",
       "\n",
       "    rubberband.mousedown('button_press', mouse_event_fn);\n",
       "    rubberband.mouseup('button_release', mouse_event_fn);\n",
       "    // Throttle sequential mouse events to 1 every 20ms.\n",
       "    rubberband.mousemove('motion_notify', mouse_event_fn);\n",
       "\n",
       "    rubberband.mouseenter('figure_enter', mouse_event_fn);\n",
       "    rubberband.mouseleave('figure_leave', mouse_event_fn);\n",
       "\n",
       "    canvas_div.on(\"wheel\", function (event) {\n",
       "        event = event.originalEvent;\n",
       "        event['data'] = 'scroll'\n",
       "        if (event.deltaY < 0) {\n",
       "            event.step = 1;\n",
       "        } else {\n",
       "            event.step = -1;\n",
       "        }\n",
       "        mouse_event_fn(event);\n",
       "    });\n",
       "\n",
       "    canvas_div.append(canvas);\n",
       "    canvas_div.append(rubberband);\n",
       "\n",
       "    this.rubberband = rubberband;\n",
       "    this.rubberband_canvas = rubberband[0];\n",
       "    this.rubberband_context = rubberband[0].getContext(\"2d\");\n",
       "    this.rubberband_context.strokeStyle = \"#000000\";\n",
       "\n",
       "    this._resize_canvas = function(width, height) {\n",
       "        // Keep the size of the canvas, canvas container, and rubber band\n",
       "        // canvas in synch.\n",
       "        canvas_div.css('width', width)\n",
       "        canvas_div.css('height', height)\n",
       "\n",
       "        canvas.attr('width', width);\n",
       "        canvas.attr('height', height);\n",
       "\n",
       "        rubberband.attr('width', width);\n",
       "        rubberband.attr('height', height);\n",
       "    }\n",
       "\n",
       "    // Set the figure to an initial 600x600px, this will subsequently be updated\n",
       "    // upon first draw.\n",
       "    this._resize_canvas(600, 600);\n",
       "\n",
       "    // Disable right mouse context menu.\n",
       "    $(this.rubberband_canvas).bind(\"contextmenu\",function(e){\n",
       "        return false;\n",
       "    });\n",
       "\n",
       "    function set_focus () {\n",
       "        canvas.focus();\n",
       "        canvas_div.focus();\n",
       "    }\n",
       "\n",
       "    window.setTimeout(set_focus, 100);\n",
       "}\n",
       "\n",
       "mpl.figure.prototype._init_toolbar = function() {\n",
       "    var fig = this;\n",
       "\n",
       "    var nav_element = $('<div/>')\n",
       "    nav_element.attr('style', 'width: 100%');\n",
       "    this.root.append(nav_element);\n",
       "\n",
       "    // Define a callback function for later on.\n",
       "    function toolbar_event(event) {\n",
       "        return fig.toolbar_button_onclick(event['data']);\n",
       "    }\n",
       "    function toolbar_mouse_event(event) {\n",
       "        return fig.toolbar_button_onmouseover(event['data']);\n",
       "    }\n",
       "\n",
       "    for(var toolbar_ind in mpl.toolbar_items) {\n",
       "        var name = mpl.toolbar_items[toolbar_ind][0];\n",
       "        var tooltip = mpl.toolbar_items[toolbar_ind][1];\n",
       "        var image = mpl.toolbar_items[toolbar_ind][2];\n",
       "        var method_name = mpl.toolbar_items[toolbar_ind][3];\n",
       "\n",
       "        if (!name) {\n",
       "            // put a spacer in here.\n",
       "            continue;\n",
       "        }\n",
       "        var button = $('<button/>');\n",
       "        button.addClass('ui-button ui-widget ui-state-default ui-corner-all ' +\n",
       "                        'ui-button-icon-only');\n",
       "        button.attr('role', 'button');\n",
       "        button.attr('aria-disabled', 'false');\n",
       "        button.click(method_name, toolbar_event);\n",
       "        button.mouseover(tooltip, toolbar_mouse_event);\n",
       "\n",
       "        var icon_img = $('<span/>');\n",
       "        icon_img.addClass('ui-button-icon-primary ui-icon');\n",
       "        icon_img.addClass(image);\n",
       "        icon_img.addClass('ui-corner-all');\n",
       "\n",
       "        var tooltip_span = $('<span/>');\n",
       "        tooltip_span.addClass('ui-button-text');\n",
       "        tooltip_span.html(tooltip);\n",
       "\n",
       "        button.append(icon_img);\n",
       "        button.append(tooltip_span);\n",
       "\n",
       "        nav_element.append(button);\n",
       "    }\n",
       "\n",
       "    var fmt_picker_span = $('<span/>');\n",
       "\n",
       "    var fmt_picker = $('<select/>');\n",
       "    fmt_picker.addClass('mpl-toolbar-option ui-widget ui-widget-content');\n",
       "    fmt_picker_span.append(fmt_picker);\n",
       "    nav_element.append(fmt_picker_span);\n",
       "    this.format_dropdown = fmt_picker[0];\n",
       "\n",
       "    for (var ind in mpl.extensions) {\n",
       "        var fmt = mpl.extensions[ind];\n",
       "        var option = $(\n",
       "            '<option/>', {selected: fmt === mpl.default_extension}).html(fmt);\n",
       "        fmt_picker.append(option)\n",
       "    }\n",
       "\n",
       "    // Add hover states to the ui-buttons\n",
       "    $( \".ui-button\" ).hover(\n",
       "        function() { $(this).addClass(\"ui-state-hover\");},\n",
       "        function() { $(this).removeClass(\"ui-state-hover\");}\n",
       "    );\n",
       "\n",
       "    var status_bar = $('<span class=\"mpl-message\"/>');\n",
       "    nav_element.append(status_bar);\n",
       "    this.message = status_bar[0];\n",
       "}\n",
       "\n",
       "mpl.figure.prototype.request_resize = function(x_pixels, y_pixels) {\n",
       "    // Request matplotlib to resize the figure. Matplotlib will then trigger a resize in the client,\n",
       "    // which will in turn request a refresh of the image.\n",
       "    this.send_message('resize', {'width': x_pixels, 'height': y_pixels});\n",
       "}\n",
       "\n",
       "mpl.figure.prototype.send_message = function(type, properties) {\n",
       "    properties['type'] = type;\n",
       "    properties['figure_id'] = this.id;\n",
       "    this.ws.send(JSON.stringify(properties));\n",
       "}\n",
       "\n",
       "mpl.figure.prototype.send_draw_message = function() {\n",
       "    if (!this.waiting) {\n",
       "        this.waiting = true;\n",
       "        this.ws.send(JSON.stringify({type: \"draw\", figure_id: this.id}));\n",
       "    }\n",
       "}\n",
       "\n",
       "\n",
       "mpl.figure.prototype.handle_save = function(fig, msg) {\n",
       "    var format_dropdown = fig.format_dropdown;\n",
       "    var format = format_dropdown.options[format_dropdown.selectedIndex].value;\n",
       "    fig.ondownload(fig, format);\n",
       "}\n",
       "\n",
       "\n",
       "mpl.figure.prototype.handle_resize = function(fig, msg) {\n",
       "    var size = msg['size'];\n",
       "    if (size[0] != fig.canvas.width || size[1] != fig.canvas.height) {\n",
       "        fig._resize_canvas(size[0], size[1]);\n",
       "        fig.send_message(\"refresh\", {});\n",
       "    };\n",
       "}\n",
       "\n",
       "mpl.figure.prototype.handle_rubberband = function(fig, msg) {\n",
       "    var x0 = msg['x0'];\n",
       "    var y0 = fig.canvas.height - msg['y0'];\n",
       "    var x1 = msg['x1'];\n",
       "    var y1 = fig.canvas.height - msg['y1'];\n",
       "    x0 = Math.floor(x0) + 0.5;\n",
       "    y0 = Math.floor(y0) + 0.5;\n",
       "    x1 = Math.floor(x1) + 0.5;\n",
       "    y1 = Math.floor(y1) + 0.5;\n",
       "    var min_x = Math.min(x0, x1);\n",
       "    var min_y = Math.min(y0, y1);\n",
       "    var width = Math.abs(x1 - x0);\n",
       "    var height = Math.abs(y1 - y0);\n",
       "\n",
       "    fig.rubberband_context.clearRect(\n",
       "        0, 0, fig.canvas.width, fig.canvas.height);\n",
       "\n",
       "    fig.rubberband_context.strokeRect(min_x, min_y, width, height);\n",
       "}\n",
       "\n",
       "mpl.figure.prototype.handle_figure_label = function(fig, msg) {\n",
       "    // Updates the figure title.\n",
       "    fig.header.textContent = msg['label'];\n",
       "}\n",
       "\n",
       "mpl.figure.prototype.handle_cursor = function(fig, msg) {\n",
       "    var cursor = msg['cursor'];\n",
       "    switch(cursor)\n",
       "    {\n",
       "    case 0:\n",
       "        cursor = 'pointer';\n",
       "        break;\n",
       "    case 1:\n",
       "        cursor = 'default';\n",
       "        break;\n",
       "    case 2:\n",
       "        cursor = 'crosshair';\n",
       "        break;\n",
       "    case 3:\n",
       "        cursor = 'move';\n",
       "        break;\n",
       "    }\n",
       "    fig.rubberband_canvas.style.cursor = cursor;\n",
       "}\n",
       "\n",
       "mpl.figure.prototype.handle_message = function(fig, msg) {\n",
       "    fig.message.textContent = msg['message'];\n",
       "}\n",
       "\n",
       "mpl.figure.prototype.handle_draw = function(fig, msg) {\n",
       "    // Request the server to send over a new figure.\n",
       "    fig.send_draw_message();\n",
       "}\n",
       "\n",
       "mpl.figure.prototype.handle_image_mode = function(fig, msg) {\n",
       "    fig.image_mode = msg['mode'];\n",
       "}\n",
       "\n",
       "mpl.figure.prototype.updated_canvas_event = function() {\n",
       "    // Called whenever the canvas gets updated.\n",
       "    this.send_message(\"ack\", {});\n",
       "}\n",
       "\n",
       "// A function to construct a web socket function for onmessage handling.\n",
       "// Called in the figure constructor.\n",
       "mpl.figure.prototype._make_on_message_function = function(fig) {\n",
       "    return function socket_on_message(evt) {\n",
       "        if (evt.data instanceof Blob) {\n",
       "            /* FIXME: We get \"Resource interpreted as Image but\n",
       "             * transferred with MIME type text/plain:\" errors on\n",
       "             * Chrome.  But how to set the MIME type?  It doesn't seem\n",
       "             * to be part of the websocket stream */\n",
       "            evt.data.type = \"image/png\";\n",
       "\n",
       "            /* Free the memory for the previous frames */\n",
       "            if (fig.imageObj.src) {\n",
       "                (window.URL || window.webkitURL).revokeObjectURL(\n",
       "                    fig.imageObj.src);\n",
       "            }\n",
       "\n",
       "            fig.imageObj.src = (window.URL || window.webkitURL).createObjectURL(\n",
       "                evt.data);\n",
       "            fig.updated_canvas_event();\n",
       "            fig.waiting = false;\n",
       "            return;\n",
       "        }\n",
       "        else if (typeof evt.data === 'string' && evt.data.slice(0, 21) == \"data:image/png;base64\") {\n",
       "            fig.imageObj.src = evt.data;\n",
       "            fig.updated_canvas_event();\n",
       "            fig.waiting = false;\n",
       "            return;\n",
       "        }\n",
       "\n",
       "        var msg = JSON.parse(evt.data);\n",
       "        var msg_type = msg['type'];\n",
       "\n",
       "        // Call the  \"handle_{type}\" callback, which takes\n",
       "        // the figure and JSON message as its only arguments.\n",
       "        try {\n",
       "            var callback = fig[\"handle_\" + msg_type];\n",
       "        } catch (e) {\n",
       "            console.log(\"No handler for the '\" + msg_type + \"' message type: \", msg);\n",
       "            return;\n",
       "        }\n",
       "\n",
       "        if (callback) {\n",
       "            try {\n",
       "                // console.log(\"Handling '\" + msg_type + \"' message: \", msg);\n",
       "                callback(fig, msg);\n",
       "            } catch (e) {\n",
       "                console.log(\"Exception inside the 'handler_\" + msg_type + \"' callback:\", e, e.stack, msg);\n",
       "            }\n",
       "        }\n",
       "    };\n",
       "}\n",
       "\n",
       "// from http://stackoverflow.com/questions/1114465/getting-mouse-location-in-canvas\n",
       "mpl.findpos = function(e) {\n",
       "    //this section is from http://www.quirksmode.org/js/events_properties.html\n",
       "    var targ;\n",
       "    if (!e)\n",
       "        e = window.event;\n",
       "    if (e.target)\n",
       "        targ = e.target;\n",
       "    else if (e.srcElement)\n",
       "        targ = e.srcElement;\n",
       "    if (targ.nodeType == 3) // defeat Safari bug\n",
       "        targ = targ.parentNode;\n",
       "\n",
       "    // jQuery normalizes the pageX and pageY\n",
       "    // pageX,Y are the mouse positions relative to the document\n",
       "    // offset() returns the position of the element relative to the document\n",
       "    var x = e.pageX - $(targ).offset().left;\n",
       "    var y = e.pageY - $(targ).offset().top;\n",
       "\n",
       "    return {\"x\": x, \"y\": y};\n",
       "};\n",
       "\n",
       "/*\n",
       " * return a copy of an object with only non-object keys\n",
       " * we need this to avoid circular references\n",
       " * http://stackoverflow.com/a/24161582/3208463\n",
       " */\n",
       "function simpleKeys (original) {\n",
       "  return Object.keys(original).reduce(function (obj, key) {\n",
       "    if (typeof original[key] !== 'object')\n",
       "        obj[key] = original[key]\n",
       "    return obj;\n",
       "  }, {});\n",
       "}\n",
       "\n",
       "mpl.figure.prototype.mouse_event = function(event, name) {\n",
       "    var canvas_pos = mpl.findpos(event)\n",
       "\n",
       "    if (name === 'button_press')\n",
       "    {\n",
       "        this.canvas.focus();\n",
       "        this.canvas_div.focus();\n",
       "    }\n",
       "\n",
       "    var x = canvas_pos.x;\n",
       "    var y = canvas_pos.y;\n",
       "\n",
       "    this.send_message(name, {x: x, y: y, button: event.button,\n",
       "                             step: event.step,\n",
       "                             guiEvent: simpleKeys(event)});\n",
       "\n",
       "    /* This prevents the web browser from automatically changing to\n",
       "     * the text insertion cursor when the button is pressed.  We want\n",
       "     * to control all of the cursor setting manually through the\n",
       "     * 'cursor' event from matplotlib */\n",
       "    event.preventDefault();\n",
       "    return false;\n",
       "}\n",
       "\n",
       "mpl.figure.prototype._key_event_extra = function(event, name) {\n",
       "    // Handle any extra behaviour associated with a key event\n",
       "}\n",
       "\n",
       "mpl.figure.prototype.key_event = function(event, name) {\n",
       "\n",
       "    // Prevent repeat events\n",
       "    if (name == 'key_press')\n",
       "    {\n",
       "        if (event.which === this._key)\n",
       "            return;\n",
       "        else\n",
       "            this._key = event.which;\n",
       "    }\n",
       "    if (name == 'key_release')\n",
       "        this._key = null;\n",
       "\n",
       "    var value = '';\n",
       "    if (event.ctrlKey && event.which != 17)\n",
       "        value += \"ctrl+\";\n",
       "    if (event.altKey && event.which != 18)\n",
       "        value += \"alt+\";\n",
       "    if (event.shiftKey && event.which != 16)\n",
       "        value += \"shift+\";\n",
       "\n",
       "    value += 'k';\n",
       "    value += event.which.toString();\n",
       "\n",
       "    this._key_event_extra(event, name);\n",
       "\n",
       "    this.send_message(name, {key: value,\n",
       "                             guiEvent: simpleKeys(event)});\n",
       "    return false;\n",
       "}\n",
       "\n",
       "mpl.figure.prototype.toolbar_button_onclick = function(name) {\n",
       "    if (name == 'download') {\n",
       "        this.handle_save(this, null);\n",
       "    } else {\n",
       "        this.send_message(\"toolbar_button\", {name: name});\n",
       "    }\n",
       "};\n",
       "\n",
       "mpl.figure.prototype.toolbar_button_onmouseover = function(tooltip) {\n",
       "    this.message.textContent = tooltip;\n",
       "};\n",
       "mpl.toolbar_items = [[\"Home\", \"Reset original view\", \"fa fa-home icon-home\", \"home\"], [\"Back\", \"Back to  previous view\", \"fa fa-arrow-left icon-arrow-left\", \"back\"], [\"Forward\", \"Forward to next view\", \"fa fa-arrow-right icon-arrow-right\", \"forward\"], [\"\", \"\", \"\", \"\"], [\"Pan\", \"Pan axes with left mouse, zoom with right\", \"fa fa-arrows icon-move\", \"pan\"], [\"Zoom\", \"Zoom to rectangle\", \"fa fa-square-o icon-check-empty\", \"zoom\"], [\"\", \"\", \"\", \"\"], [\"Download\", \"Download plot\", \"fa fa-floppy-o icon-save\", \"download\"]];\n",
       "\n",
       "mpl.extensions = [\"eps\", \"jpeg\", \"pdf\", \"png\", \"ps\", \"raw\", \"svg\", \"tif\"];\n",
       "\n",
       "mpl.default_extension = \"png\";var comm_websocket_adapter = function(comm) {\n",
       "    // Create a \"websocket\"-like object which calls the given IPython comm\n",
       "    // object with the appropriate methods. Currently this is a non binary\n",
       "    // socket, so there is still some room for performance tuning.\n",
       "    var ws = {};\n",
       "\n",
       "    ws.close = function() {\n",
       "        comm.close()\n",
       "    };\n",
       "    ws.send = function(m) {\n",
       "        //console.log('sending', m);\n",
       "        comm.send(m);\n",
       "    };\n",
       "    // Register the callback with on_msg.\n",
       "    comm.on_msg(function(msg) {\n",
       "        //console.log('receiving', msg['content']['data'], msg);\n",
       "        // Pass the mpl event to the overriden (by mpl) onmessage function.\n",
       "        ws.onmessage(msg['content']['data'])\n",
       "    });\n",
       "    return ws;\n",
       "}\n",
       "\n",
       "mpl.mpl_figure_comm = function(comm, msg) {\n",
       "    // This is the function which gets called when the mpl process\n",
       "    // starts-up an IPython Comm through the \"matplotlib\" channel.\n",
       "\n",
       "    var id = msg.content.data.id;\n",
       "    // Get hold of the div created by the display call when the Comm\n",
       "    // socket was opened in Python.\n",
       "    var element = $(\"#\" + id);\n",
       "    var ws_proxy = comm_websocket_adapter(comm)\n",
       "\n",
       "    function ondownload(figure, format) {\n",
       "        window.open(figure.imageObj.src);\n",
       "    }\n",
       "\n",
       "    var fig = new mpl.figure(id, ws_proxy,\n",
       "                           ondownload,\n",
       "                           element.get(0));\n",
       "\n",
       "    // Call onopen now - mpl needs it, as it is assuming we've passed it a real\n",
       "    // web socket which is closed, not our websocket->open comm proxy.\n",
       "    ws_proxy.onopen();\n",
       "\n",
       "    fig.parent_element = element.get(0);\n",
       "    fig.cell_info = mpl.find_output_cell(\"<div id='\" + id + \"'></div>\");\n",
       "    if (!fig.cell_info) {\n",
       "        console.error(\"Failed to find cell for figure\", id, fig);\n",
       "        return;\n",
       "    }\n",
       "\n",
       "    var output_index = fig.cell_info[2]\n",
       "    var cell = fig.cell_info[0];\n",
       "\n",
       "};\n",
       "\n",
       "mpl.figure.prototype.handle_close = function(fig, msg) {\n",
       "    fig.root.unbind('remove')\n",
       "\n",
       "    // Update the output cell to use the data from the current canvas.\n",
       "    fig.push_to_output();\n",
       "    var dataURL = fig.canvas.toDataURL();\n",
       "    // Re-enable the keyboard manager in IPython - without this line, in FF,\n",
       "    // the notebook keyboard shortcuts fail.\n",
       "    IPython.keyboard_manager.enable()\n",
       "    $(fig.parent_element).html('<img src=\"' + dataURL + '\">');\n",
       "    fig.close_ws(fig, msg);\n",
       "}\n",
       "\n",
       "mpl.figure.prototype.close_ws = function(fig, msg){\n",
       "    fig.send_message('closing', msg);\n",
       "    // fig.ws.close()\n",
       "}\n",
       "\n",
       "mpl.figure.prototype.push_to_output = function(remove_interactive) {\n",
       "    // Turn the data on the canvas into data in the output cell.\n",
       "    var dataURL = this.canvas.toDataURL();\n",
       "    this.cell_info[1]['text/html'] = '<img src=\"' + dataURL + '\">';\n",
       "}\n",
       "\n",
       "mpl.figure.prototype.updated_canvas_event = function() {\n",
       "    // Tell IPython that the notebook contents must change.\n",
       "    IPython.notebook.set_dirty(true);\n",
       "    this.send_message(\"ack\", {});\n",
       "    var fig = this;\n",
       "    // Wait a second, then push the new image to the DOM so\n",
       "    // that it is saved nicely (might be nice to debounce this).\n",
       "    setTimeout(function () { fig.push_to_output() }, 1000);\n",
       "}\n",
       "\n",
       "mpl.figure.prototype._init_toolbar = function() {\n",
       "    var fig = this;\n",
       "\n",
       "    var nav_element = $('<div/>')\n",
       "    nav_element.attr('style', 'width: 100%');\n",
       "    this.root.append(nav_element);\n",
       "\n",
       "    // Define a callback function for later on.\n",
       "    function toolbar_event(event) {\n",
       "        return fig.toolbar_button_onclick(event['data']);\n",
       "    }\n",
       "    function toolbar_mouse_event(event) {\n",
       "        return fig.toolbar_button_onmouseover(event['data']);\n",
       "    }\n",
       "\n",
       "    for(var toolbar_ind in mpl.toolbar_items){\n",
       "        var name = mpl.toolbar_items[toolbar_ind][0];\n",
       "        var tooltip = mpl.toolbar_items[toolbar_ind][1];\n",
       "        var image = mpl.toolbar_items[toolbar_ind][2];\n",
       "        var method_name = mpl.toolbar_items[toolbar_ind][3];\n",
       "\n",
       "        if (!name) { continue; };\n",
       "\n",
       "        var button = $('<button class=\"btn btn-default\" href=\"#\" title=\"' + name + '\"><i class=\"fa ' + image + ' fa-lg\"></i></button>');\n",
       "        button.click(method_name, toolbar_event);\n",
       "        button.mouseover(tooltip, toolbar_mouse_event);\n",
       "        nav_element.append(button);\n",
       "    }\n",
       "\n",
       "    // Add the status bar.\n",
       "    var status_bar = $('<span class=\"mpl-message\" style=\"text-align:right; float: right;\"/>');\n",
       "    nav_element.append(status_bar);\n",
       "    this.message = status_bar[0];\n",
       "\n",
       "    // Add the close button to the window.\n",
       "    var buttongrp = $('<div class=\"btn-group inline pull-right\"></div>');\n",
       "    var button = $('<button class=\"btn btn-mini btn-primary\" href=\"#\" title=\"Stop Interaction\"><i class=\"fa fa-power-off icon-remove icon-large\"></i></button>');\n",
       "    button.click(function (evt) { fig.handle_close(fig, {}); } );\n",
       "    button.mouseover('Stop Interaction', toolbar_mouse_event);\n",
       "    buttongrp.append(button);\n",
       "    var titlebar = this.root.find($('.ui-dialog-titlebar'));\n",
       "    titlebar.prepend(buttongrp);\n",
       "}\n",
       "\n",
       "mpl.figure.prototype._root_extra_style = function(el){\n",
       "    var fig = this\n",
       "    el.on(\"remove\", function(){\n",
       "\tfig.close_ws(fig, {});\n",
       "    });\n",
       "}\n",
       "\n",
       "mpl.figure.prototype._canvas_extra_style = function(el){\n",
       "    // this is important to make the div 'focusable\n",
       "    el.attr('tabindex', 0)\n",
       "    // reach out to IPython and tell the keyboard manager to turn it's self\n",
       "    // off when our div gets focus\n",
       "\n",
       "    // location in version 3\n",
       "    if (IPython.notebook.keyboard_manager) {\n",
       "        IPython.notebook.keyboard_manager.register_events(el);\n",
       "    }\n",
       "    else {\n",
       "        // location in version 2\n",
       "        IPython.keyboard_manager.register_events(el);\n",
       "    }\n",
       "\n",
       "}\n",
       "\n",
       "mpl.figure.prototype._key_event_extra = function(event, name) {\n",
       "    var manager = IPython.notebook.keyboard_manager;\n",
       "    if (!manager)\n",
       "        manager = IPython.keyboard_manager;\n",
       "\n",
       "    // Check for shift+enter\n",
       "    if (event.shiftKey && event.which == 13) {\n",
       "        this.canvas_div.blur();\n",
       "        event.shiftKey = false;\n",
       "        // Send a \"J\" for go to next cell\n",
       "        event.which = 74;\n",
       "        event.keyCode = 74;\n",
       "        manager.command_mode();\n",
       "        manager.handle_keydown(event);\n",
       "    }\n",
       "}\n",
       "\n",
       "mpl.figure.prototype.handle_save = function(fig, msg) {\n",
       "    fig.ondownload(fig, null);\n",
       "}\n",
       "\n",
       "\n",
       "mpl.find_output_cell = function(html_output) {\n",
       "    // Return the cell and output element which can be found *uniquely* in the notebook.\n",
       "    // Note - this is a bit hacky, but it is done because the \"notebook_saving.Notebook\"\n",
       "    // IPython event is triggered only after the cells have been serialised, which for\n",
       "    // our purposes (turning an active figure into a static one), is too late.\n",
       "    var cells = IPython.notebook.get_cells();\n",
       "    var ncells = cells.length;\n",
       "    for (var i=0; i<ncells; i++) {\n",
       "        var cell = cells[i];\n",
       "        if (cell.cell_type === 'code'){\n",
       "            for (var j=0; j<cell.output_area.outputs.length; j++) {\n",
       "                var data = cell.output_area.outputs[j];\n",
       "                if (data.data) {\n",
       "                    // IPython >= 3 moved mimebundle to data attribute of output\n",
       "                    data = data.data;\n",
       "                }\n",
       "                if (data['text/html'] == html_output) {\n",
       "                    return [cell, data, j];\n",
       "                }\n",
       "            }\n",
       "        }\n",
       "    }\n",
       "}\n",
       "\n",
       "// Register the function which deals with the matplotlib target/channel.\n",
       "// The kernel may be null if the page has been refreshed.\n",
       "if (IPython.notebook.kernel != null) {\n",
       "    IPython.notebook.kernel.comm_manager.register_target('matplotlib', mpl.mpl_figure_comm);\n",
       "}\n"
      ],
      "text/plain": [
       "<IPython.core.display.Javascript object>"
      ]
     },
     "metadata": {},
     "output_type": "display_data"
    },
    {
     "data": {
      "text/html": [
       "<img src=\"data:image/png;base64,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\">"
      ],
      "text/plain": [
       "<IPython.core.display.HTML object>"
      ]
     },
     "metadata": {},
     "output_type": "display_data"
    }
   ],
   "source": [
    "plot_convergence(C,dN_real,r'$\\delta \\left(Re(n_{eff})\\right)\\%$','neff_re_conv')\n",
    "plot_convergence(C,dN_imag,r'$\\delta \\left(Im(n_{eff})\\right)\\%$','neff_im_conv')\n",
    "plot_convergence(C,dA,r'$\\delta \\left(A_{eff}\\right)\\%$','A_eff_conv')"
   ]
  },
  {
   "cell_type": "code",
   "execution_count": null,
   "metadata": {
    "collapsed": false
   },
   "outputs": [],
   "source": [
    "\n",
    "class modes(object):\n",
    "    def __init__(self,mode,size1,size2,min_max,propagating_modes,beta,sort_index,k0):\n",
    "        self.mode = mode\n",
    "        self.mode_idx = propagating_modes[self.mode]\n",
    "        self.neff = beta[sort_index][self.mode_idx]/k0\n",
    "        \n",
    "        self.xmin, self.xmax,self.ymin,self.ymax = min_max\n",
    "        \n",
    "        self.x = np.linspace(self.xmin,self.ymax,size1)\n",
    "        self.y = np.linspace(self.ymin,self.ymax,size2)\n",
    "        self.E = None\n",
    "        self.E_axial = None\n",
    "\n",
    "\n",
    "    def dolfin_functions(self,k,A,ev,sort_index,free_dofs,combined_space):\n",
    "        #post-process the coefficients to map back to the full matrix\n",
    "        coefficiants_global = np.zeros(A.size(0),dtype=np.complex)\n",
    "        coefficiants_global[free_dofs] = ev[:,sort_index[self.mode_idx]]\n",
    "        #Create a Function on the combined space\n",
    "        mode_re = Function(combined_space)\n",
    "        mode_im = Function(combined_space)\n",
    "        #Assign the coefficients of the function to the calculated values\n",
    "        mode_re.vector().set_local(np.real(coefficiants_global))\n",
    "        mode_im.vector().set_local(np.imag(coefficiants_global))\n",
    "        #Split the function into the parts in each of the functions spaces in combined_space\n",
    "        #This is done using DOLFINs Function.split()\n",
    "        (TE_re,TM_re) = mode_re.split()\n",
    "        (TE_im,TM_im) = mode_im.split()\n",
    "        self.TE_re = TE_re\n",
    "        self.TE_im = TE_im\n",
    "        self.TM_re = TM_re\n",
    "        self.TM_im = TM_im\n",
    "        return None#TE_re,TE_re,TM_re,TM_im\n",
    "\n",
    "    def effective_area(self,k,A,ev,sort_index,free_dofs,combined_space,lim):\n",
    "        try:\n",
    "            temp = self.TE_re\n",
    "        except AttributeError:\n",
    "            self.dolfin_functions(k,A,ev,sort_index,free_dofs,combined_space)\n",
    "            pass\n",
    "        integrand1 = dblquad(self.Eabs2, -lim, lim, lambda x: -lim,lambda x: lim)\n",
    "        integrand2 = dblquad(lambda y,x: self.Eabs2(y,x)**2, -lim, lim, lambda x: -lim,lambda x: lim)\n",
    "        \n",
    "        self.Aeff =  integrand1[0]**2/integrand2[0]\n",
    "\n",
    "\n",
    "    def Eabs2(self,y,x):\n",
    "        E_ = self.Efun(y,x)\n",
    "        return (E_[0]*E_[0].conjugate() + E_[1]*E_[1].conjugate()).real\n",
    "    def Efun(self,y,x):\n",
    "        point = Point(x,y)\n",
    "        E = self.TE_re(point)+1j*self.TE_im(point)\n",
    "        return E[0],E[1]\n",
    "\n",
    "\n",
    "    def effective_area_simps(self,k,A,ev,sort_index,free_dofs,combined_space):\n",
    "        if self.E ==None:\n",
    "            self.electric_field_full(k,A,ev,sort_index,free_dofs,combined_space)\n",
    "        \n",
    "        integrand1 = (self.E[:,:,0].conjugate()*self.E[:,:,0] + self.E[:,:,1].conjugate()*self.E[:,:,1]).real   \n",
    "        Over = integration2d_simps(self.x,self.y,integrand1)\n",
    "            \n",
    "        integrand2 = integrand1**2\n",
    "        under = integration2d_simps(self.x,self.y,integrand2)\n",
    "        self.Aeff = Over**2/under    \n",
    "        return Over**2/under\n",
    "    def electric_field_full(self,k,A,ev,sort_index,free_dofs,combined_space):\n",
    "        \"\"\"\n",
    "        Releases the electric field from the calculated eigenvalus and eigen vectors\n",
    "        \n",
    "        Returns::\n",
    "        E[size,size,2],E_axial(Ez)\n",
    "        \"\"\"\n",
    "        try:\n",
    "            temp = self.TE_re\n",
    "        except AttributeError:\n",
    "            self.dolfin_functions(k,A,ev,sort_index,free_dofs,combined_space)\n",
    "            pass\n",
    "        \n",
    "        E = np.zeros([len(self.x),len(self.y),2],dtype = np.complex)\n",
    "        E_axial = np.zeros([len(self.x),len(self.y)], dtype= np.complex)\n",
    "        for i,xx in enumerate(self.x):\n",
    "            for j,yy in enumerate(self.y):\n",
    "                point = Point(xx,yy)\n",
    "                E[i,j,:]     =  self.TE_re(point) + 1j*self.TE_im(point)\n",
    "                E_axial[i,j] =  self.TM_re(point) + 1j*self.TM_im(point)\n",
    "        self.E = E\n",
    "        self.E_axial = E_axial\n",
    "        self.mode_field = np.transpose((np.abs(self.E[:,:,0])**2 + np.abs(self.E[:,:,1])**2+np.abs(self.E_axial[:,:])**2)**0.5)\n",
    "        maxi = np.max(self.mode_field)\n",
    "        self.mode_field /=maxi\n",
    "\n",
    "        return None    \n",
    "\n",
    "    def plot_electric_field(self,sp=10,scales = 500000,cont_scale=90,**kwrds):\n",
    "\n",
    "        fig = plt.figure(figsize=(7.0, 7.0))\n",
    "        xplot = self.x*1e6\n",
    "        yplot = self.y*1e6\n",
    "        X,Y = np.meshgrid(xplot,yplot)\n",
    "        try:\n",
    "            plt.contourf(X,Y,self.mode_field,cont_scale)\n",
    "        except AttributeError:\n",
    "             raise NotImplementedError(\"interpolate before plotting\")\n",
    "\n",
    "        plt.quiver(X[::sp,::sp], Y[::sp,::sp], np.real(self.E[::sp,::sp,0]), np.real(self.E[::sp,::sp,1]),scale = scales,headlength=7)\n",
    "        plt.xlabel(r'$x(\\mu m)$')\n",
    "        plt.ylabel(r'$y(\\mu m)$')\n",
    "        #plt.title(r'mode$=$'+str(self.mode)+', '+'  $n_{eff}=$'+str(self.neff.real)+str(self.neff.imag)+'j')\n",
    "        plt.savefig('mode'+str(self.mode)+'.eps',bbox_inches ='tight')\n",
    "        D = {}\n",
    "        D['X'] = X\n",
    "        D['Y'] = Y\n",
    "        D['Z'] = self.mode_field\n",
    "        D['u'] = np.real(self.E[::sp,::sp,0])\n",
    "        D['v'] = np.real(self.E[::sp,::sp,1])\n",
    "        D['scale'] = scales\n",
    "        D['cont_scale'] = 90\n",
    "        D['sp'] = sp\n",
    "        savemat('mode'+str(self.mode)+'.mat',D)\n",
    "        return None\n"
   ]
  },
  {
   "cell_type": "code",
   "execution_count": null,
   "metadata": {
    "collapsed": false
   },
   "outputs": [],
   "source": [
    "plt.savetxt?"
   ]
  },
  {
   "cell_type": "code",
   "execution_count": null,
   "metadata": {
    "collapsed": false
   },
   "outputs": [],
   "source": [
    "print(mode0.E.shape)"
   ]
  },
  {
   "cell_type": "code",
   "execution_count": null,
   "metadata": {
    "collapsed": false
   },
   "outputs": [],
   "source": [
    "mode0.effective_area(k,A,ev,sort_index,free_dofs,combined_space,r_clad)"
   ]
  },
  {
   "cell_type": "code",
   "execution_count": null,
   "metadata": {
    "collapsed": false
   },
   "outputs": [],
   "source": [
    "mode0.Aeff"
   ]
  },
  {
   "cell_type": "code",
   "execution_count": null,
   "metadata": {
    "collapsed": false
   },
   "outputs": [],
   "source": [
    "mode0.effective_area_simps(k,A,ev,sort_index,free_dofs,combined_space)"
   ]
  },
  {
   "cell_type": "code",
   "execution_count": null,
   "metadata": {
    "collapsed": false
   },
   "outputs": [],
   "source": [
    "nclad"
   ]
  },
  {
   "cell_type": "code",
   "execution_count": null,
   "metadata": {
    "collapsed": false
   },
   "outputs": [],
   "source": [
    "C"
   ]
  },
  {
   "cell_type": "code",
   "execution_count": null,
   "metadata": {
    "collapsed": false
   },
   "outputs": [],
   "source": [
    "mode0.Eabs2(y[0],x[0])"
   ]
  },
  {
   "cell_type": "code",
   "execution_count": null,
   "metadata": {
    "collapsed": false
   },
   "outputs": [],
   "source": [
    "E_ = mode0.Efun(y[0],x[0])"
   ]
  },
  {
   "cell_type": "code",
   "execution_count": null,
   "metadata": {
    "collapsed": false
   },
   "outputs": [],
   "source": [
    "np.abs(mode0.Efun(y[0],x[0]))**2"
   ]
  },
  {
   "cell_type": "code",
   "execution_count": null,
   "metadata": {
    "collapsed": false
   },
   "outputs": [],
   "source": [
    "mode1 = modes(0,size1,size2,min_max,propagating_modes,beta,sort_index,k0)\n",
    "mode1.electric_field_full(k,A,ev,sort_index,free_dofs,combined_space)\n"
   ]
  },
  {
   "cell_type": "code",
   "execution_count": null,
   "metadata": {
    "collapsed": false
   },
   "outputs": [],
   "source": [
    "mode1.effective_area(k,A,ev,sort_index,free_dofs,combined_space,r_clad)"
   ]
  },
  {
   "cell_type": "code",
   "execution_count": null,
   "metadata": {
    "collapsed": false
   },
   "outputs": [],
   "source": [
    "mode1.plot_electric_field(scales = 90000,sp=40)"
   ]
  },
  {
   "cell_type": "code",
   "execution_count": null,
   "metadata": {
    "collapsed": true
   },
   "outputs": [],
   "source": []
  },
  {
   "cell_type": "code",
   "execution_count": null,
   "metadata": {
    "collapsed": true
   },
   "outputs": [],
   "source": []
  },
  {
   "cell_type": "code",
   "execution_count": null,
   "metadata": {
    "collapsed": true
   },
   "outputs": [],
   "source": []
  },
  {
   "cell_type": "code",
   "execution_count": null,
   "metadata": {
    "collapsed": true
   },
   "outputs": [],
   "source": []
  },
  {
   "cell_type": "markdown",
   "metadata": {},
   "source": [
    "# Tests"
   ]
  },
  {
   "cell_type": "markdown",
   "metadata": {},
   "source": [
    "Effective area"
   ]
  },
  {
   "cell_type": "code",
   "execution_count": null,
   "metadata": {
    "collapsed": true
   },
   "outputs": [],
   "source": [
    "def effective():\n",
    "    "
   ]
  },
  {
   "cell_type": "code",
   "execution_count": null,
   "metadata": {
    "collapsed": false
   },
   "outputs": [],
   "source": [
    "if aj:\n",
    "    print\"hello\""
   ]
  },
  {
   "cell_type": "code",
   "execution_count": null,
   "metadata": {
    "collapsed": true
   },
   "outputs": [],
   "source": []
  },
  {
   "cell_type": "code",
   "execution_count": null,
   "metadata": {
    "collapsed": true
   },
   "outputs": [],
   "source": []
  },
  {
   "cell_type": "code",
   "execution_count": null,
   "metadata": {
    "collapsed": true
   },
   "outputs": [],
   "source": []
  },
  {
   "cell_type": "code",
   "execution_count": null,
   "metadata": {
    "collapsed": true
   },
   "outputs": [],
   "source": []
  },
  {
   "cell_type": "code",
   "execution_count": null,
   "metadata": {
    "collapsed": true
   },
   "outputs": [],
   "source": []
  },
  {
   "cell_type": "code",
   "execution_count": null,
   "metadata": {
    "collapsed": true
   },
   "outputs": [],
   "source": []
  },
  {
   "cell_type": "code",
   "execution_count": null,
   "metadata": {
    "collapsed": true
   },
   "outputs": [],
   "source": []
  },
  {
   "cell_type": "markdown",
   "metadata": {
    "collapsed": true
   },
   "source": [
    "def electric_field_full(mode_idx,x,y,k,A,ev,sort_index,free_dofs,combined_space):\n",
    "    \"\"\"\n",
    "    Releases the electric field from the calculated eigenvalus and eigen vectors\n",
    "    \n",
    "    Returns::\n",
    "    E[size,size,2],E_axial(Ez)\n",
    "    \"\"\"\n",
    "\n",
    "    #post-process the coefficients to map back to the full matrix\n",
    "    coefficiants_global = np.zeros(A.size(0),dtype=np.complex)\n",
    "    coefficiants_global[free_dofs] = ev[:,sort_index[mode_idx]]\n",
    "    #Create a Function on the combined space\n",
    "    mode_re = Function(combined_space)\n",
    "    mode_im = Function(combined_space)\n",
    "    #Assign the coefficients of the function to the calculated values\n",
    "    mode_re.vector().set_local(np.real(coefficiants_global))\n",
    "    mode_im.vector().set_local(np.imag(coefficiants_global))\n",
    "    #Split the function into the parts in each of the functions spaces in combined_space\n",
    "    #This is done using DOLFINs Function.split()\n",
    "    (TE_re,TM_re) = mode_re.split()\n",
    "    (TE_im,TM_im) = mode_im.split()\n",
    "\n",
    "    E = np.zeros([len(x),len(y),2],dtype = np.complex)\n",
    "    E_axial = np.zeros([len(x),len(y)], dtype= np.complex)\n",
    "    for i,xx in enumerate(x):\n",
    "        for j,yy in enumerate(y):\n",
    "            point = Point(xx,yy)\n",
    "            E[i,j,:]    =  TE_re(point) + 1j*TE_im(point)\n",
    "            E_axial[i,j] = TM_re(point) + 1j*TM_im(point)\n",
    "    return E,E_axial"
   ]
  },
  {
   "cell_type": "code",
   "execution_count": null,
   "metadata": {
    "collapsed": true
   },
   "outputs": [],
   "source": [
    "x = np.linspace(-r_clad,r_clad,512)\n",
    "y = np.linspace(-r_clad,r_clad,512)"
   ]
  },
  {
   "cell_type": "code",
   "execution_count": null,
   "metadata": {
    "collapsed": true
   },
   "outputs": [],
   "source": [
    "delx = x[1] - x[0]\n",
    "dely = y[1] - y[0]"
   ]
  },
  {
   "cell_type": "code",
   "execution_count": null,
   "metadata": {
    "collapsed": false
   },
   "outputs": [],
   "source": [
    "En,E_axialn = electric_field_full(propagating_modes[0],x,y,k,A,ev,sort_index,free_dofs,combined_space)\n",
    "Em,E_axialm = electric_field_full(propagating_modes[1],x,y,k,A,ev,sort_index,free_dofs,combined_space)"
   ]
  },
  {
   "cell_type": "code",
   "execution_count": null,
   "metadata": {
    "collapsed": false
   },
   "outputs": [],
   "source": [
    "np.max(np.gradient(En[:,:,0],delx,dely)[0] +np.gradient(En[:,:,1],delx,dely)[1] + np.gradient(E_axial))"
   ]
  },
  {
   "cell_type": "code",
   "execution_count": null,
   "metadata": {
    "collapsed": false
   },
   "outputs": [],
   "source": [
    "np.max(np.gradient(En[:,:,0])[2])"
   ]
  },
  {
   "cell_type": "code",
   "execution_count": null,
   "metadata": {
    "collapsed": false
   },
   "outputs": [],
   "source": [
    "def overlap_simps(En,E_axialn,Em,E_axialm,x,y):\n",
    "    integrand1 = np.conjugate(En[:,:,0])*Em[:,:,0] + np.conjugate(En[:,:,1])*Em[:,:,1] + np.conjugate(E_axialn[:,:])*E_axialm[:,:]\n",
    "    Over = integration2d_simps(x,y,integrand1)\n",
    "    \n",
    "    integrand2 = np.abs(En[:,:,0])**2 + np.abs(En[:,:,1])**2 + np.abs(E_axialn[:,:])**2\n",
    "    under1 = integration2d_simps(x,y,integrand2)\n",
    "       \n",
    "    integrand3 = np.abs(Em[:,:,0])**2 + np.abs(Em[:,:,1])**2 + np.abs(E_axialm[:,:])**2\n",
    "    under2 = integration2d_simps(x,y,integrand3)\n",
    "    print(np.max(integrand1))#,integrand2,integrand3)\n",
    "    print(Over,under1,under2)\n",
    "    return np.abs(Over)**2/(under1*under2)\n"
   ]
  },
  {
   "cell_type": "code",
   "execution_count": null,
   "metadata": {
    "collapsed": true
   },
   "outputs": [],
   "source": [
    "integrand1 = np.conjugate(En[:,:,0])*Em[:,:,0] + np.conjugate(En[:,:,1])*Em[:,:,1] + np.conjugate(E_axialn[:,:])*E_axialm[:,:]"
   ]
  },
  {
   "cell_type": "code",
   "execution_count": null,
   "metadata": {
    "collapsed": false
   },
   "outputs": [],
   "source": [
    "X,Y = np.meshgrid(x,y)\n",
    "plt.contourf(X,Y,integrand1)\n",
    "plt.xlim(-r_core,r_core)\n",
    "plt.ylim(-r_core,r_core)\n",
    "plt.colorbar()"
   ]
  },
  {
   "cell_type": "code",
   "execution_count": null,
   "metadata": {
    "collapsed": false
   },
   "outputs": [],
   "source": [
    "overlap_simps(En,E_axialn,Em,E_axialm,x,y)"
   ]
  },
  {
   "cell_type": "code",
   "execution_count": null,
   "metadata": {
    "collapsed": false
   },
   "outputs": [],
   "source": [
    "from testing.Single_mode_fibre import *\n"
   ]
  },
  {
   "cell_type": "code",
   "execution_count": null,
   "metadata": {
    "collapsed": false
   },
   "outputs": [],
   "source": [
    "effective_area_simps(En,E_axialn,x,y)"
   ]
  },
  {
   "cell_type": "code",
   "execution_count": null,
   "metadata": {
    "collapsed": false
   },
   "outputs": [],
   "source": [
    "effective_area_simps(Em,E_axialm,x,y)"
   ]
  },
  {
   "cell_type": "code",
   "execution_count": null,
   "metadata": {
    "collapsed": false
   },
   "outputs": [],
   "source": [
    "#Overlaps_simps(3,4,propagating_modes,x,y)\n",
    "Overlaps_simps(3,4,propagating_modes,x,y,r_core,r_clad,k,beta,k0,A,ev,sort_index,free_dofs,combined_space)"
   ]
  },
  {
   "cell_type": "code",
   "execution_count": null,
   "metadata": {
    "collapsed": true
   },
   "outputs": [],
   "source": []
  },
  {
   "cell_type": "code",
   "execution_count": null,
   "metadata": {
    "collapsed": true
   },
   "outputs": [],
   "source": [
    "import sympy.vector.coordsysrect"
   ]
  },
  {
   "cell_type": "code",
   "execution_count": null,
   "metadata": {
    "collapsed": false
   },
   "outputs": [],
   "source": [
    "from sympy.vector import CoordSysCartesian, divergence,curl\n",
    "R = CoordSysCartesian('R')\n",
    "v1 = R.x*R.y*R.z * (R.i+R.j+R.k)\n",
    "divergence(v1, R)\n",
    "v2 = 2*R.y*R.z*R.j\n",
    "divergence(v2, R)"
   ]
  },
  {
   "cell_type": "code",
   "execution_count": null,
   "metadata": {
    "collapsed": false
   },
   "outputs": [],
   "source": [
    "E = R.x*E[:,:,0] +R.y*E[:,:,1]+ R.z*E_axial"
   ]
  },
  {
   "cell_type": "code",
   "execution_count": null,
   "metadata": {
    "collapsed": true
   },
   "outputs": [],
   "source": [
    "np.diff?"
   ]
  },
  {
   "cell_type": "code",
   "execution_count": null,
   "metadata": {
    "collapsed": false
   },
   "outputs": [],
   "source": [
    "Overlaps_simps(3,3,propagating_modes,x,y,r_core,r_clad,k,beta,k0,A,ev,sort_index,free_dofs,combined_space)"
   ]
  },
  {
   "cell_type": "code",
   "execution_count": null,
   "metadata": {
    "collapsed": false
   },
   "outputs": [],
   "source": [
    "Overlaps_simps(4,4,propagating_modes,x,y,r_core,r_clad,k,beta,k0,A,ev,sort_index,free_dofs,combined_space)"
   ]
  },
  {
   "cell_type": "code",
   "execution_count": null,
   "metadata": {
    "collapsed": false
   },
   "outputs": [],
   "source": [
    "div(combined_space)"
   ]
  },
  {
   "cell_type": "code",
   "execution_count": null,
   "metadata": {
    "collapsed": false
   },
   "outputs": [],
   "source": [
    "E,E_axial = electric_field_full(mode_idx,x,y,k,A,ev,sort_index,free_dofs,combined_space)"
   ]
  },
  {
   "cell_type": "code",
   "execution_count": null,
   "metadata": {
    "collapsed": true
   },
   "outputs": [],
   "source": [
    "def divergence(F):\n",
    "    \"\"\" compute the divergence of n-D scalar field `F` \"\"\"\n",
    "    return reduce(np.add,np.gradient(F))"
   ]
  },
  {
   "cell_type": "code",
   "execution_count": null,
   "metadata": {
    "collapsed": true
   },
   "outputs": [],
   "source": [
    "e_r = n_prof +1j*k_prof"
   ]
  },
  {
   "cell_type": "code",
   "execution_count": null,
   "metadata": {
    "collapsed": false
   },
   "outputs": [],
   "source": [
    "div = np.gradient(e_r)"
   ]
  },
  {
   "cell_type": "code",
   "execution_count": null,
   "metadata": {
    "collapsed": false
   },
   "outputs": [],
   "source": [
    "np.shape(e_r)"
   ]
  },
  {
   "cell_type": "code",
   "execution_count": null,
   "metadata": {
    "collapsed": false
   },
   "outputs": [],
   "source": [
    "np.shape(div)"
   ]
  },
  {
   "cell_type": "code",
   "execution_count": null,
   "metadata": {
    "collapsed": false
   },
   "outputs": [],
   "source": [
    "beta"
   ]
  },
  {
   "cell_type": "code",
   "execution_count": null,
   "metadata": {
    "collapsed": false
   },
   "outputs": [],
   "source": [
    "alpha = np.linspace(-5,5,100)\n",
    "beta = np.copy(alpha)\n",
    "AR,BR =np.meshgrid(alpha,beta)\n",
    "alpha,beta = AR,BR\n",
    "gama = 1/(AR**2 + BR**2)\n",
    "\n",
    "plt.contourf(AR,BR,gama)"
   ]
  },
  {
   "cell_type": "code",
   "execution_count": null,
   "metadata": {
    "collapsed": false
   },
   "outputs": [],
   "source": [
    "plt.contourf(AR,BR,divergence(gama))\n",
    "plt.colorbar()"
   ]
  },
  {
   "cell_type": "code",
   "execution_count": null,
   "metadata": {
    "collapsed": false
   },
   "outputs": [],
   "source": [
    "np.max(divergence(gama))"
   ]
  },
  {
   "cell_type": "code",
   "execution_count": null,
   "metadata": {
    "collapsed": false
   },
   "outputs": [],
   "source": [
    "plt.contourf(X,Y,divergence(E[:,:,0]))#+divergence(np.dot(e_r,E[:,:,1])))#+divergence(E_axial))\n",
    "plt.colorbar()"
   ]
  },
  {
   "cell_type": "code",
   "execution_count": null,
   "metadata": {
    "collapsed": false
   },
   "outputs": [],
   "source": [
    "sympy.__version__"
   ]
  },
  {
   "cell_type": "code",
   "execution_count": null,
   "metadata": {
    "collapsed": true
   },
   "outputs": [],
   "source": [
    "import sympy"
   ]
  },
  {
   "cell_type": "code",
   "execution_count": null,
   "metadata": {
    "collapsed": true
   },
   "outputs": [],
   "source": [
    "coefficiants_global = np.zeros(A.size(0),dtype=np.complex)\n",
    "coefficiants_global[free_dofs] = ev[:,sort_index[mode_idx]]\n",
    "mode_re = Function(combined_space)\n",
    "mode_im = Function(combined_space)\n",
    "mode_re.vector().set_local(np.real(coefficiants_global))\n",
    "mode_im.vector().set_local(np.imag(coefficiants_global))\n",
    "(TE_re,TM_re) = mode_re.split()\n",
    "(TE_im,TM_im) = mode_im.split()\n",
    "E = np.zeros([len(x),len(y),2],dtype = np.complex)\n",
    "E_axial = np.zeros([len(x),len(y)], dtype= np.complex)\n",
    "for i,xx in enumerate(x):\n",
    "    for j,yy in enumerate(y):\n",
    "        point = Point(xx,yy)\n",
    "        E[i,j,:]    =  TE_re(point) + 1j*TE_im(point)\n",
    "        E_axial[i,j] = TM_re(point) + 1j*TM_im(point)\n"
   ]
  },
  {
   "cell_type": "code",
   "execution_count": null,
   "metadata": {
    "collapsed": false
   },
   "outputs": [],
   "source": [
    "TE_re"
   ]
  },
  {
   "cell_type": "code",
   "execution_count": null,
   "metadata": {
    "collapsed": false
   },
   "outputs": [],
   "source": [
    "from scipy.misc import derivative\n"
   ]
  },
  {
   "cell_type": "code",
   "execution_count": null,
   "metadata": {
    "collapsed": false
   },
   "outputs": [],
   "source": [
    "derivative?"
   ]
  },
  {
   "cell_type": "code",
   "execution_count": null,
   "metadata": {
    "collapsed": false
   },
   "outputs": [],
   "source": [
    "y = np.empty_like(x)\n",
    "y[:-1] = (x[1:] - x[:-1]) / delx\n",
    "y[-1] = -x[-1] / delx"
   ]
  },
  {
   "cell_type": "code",
   "execution_count": null,
   "metadata": {
    "collapsed": false
   },
   "outputs": [],
   "source": [
    "delx = x[1]- x[0]"
   ]
  },
  {
   "cell_type": "code",
   "execution_count": null,
   "metadata": {
    "collapsed": false
   },
   "outputs": [],
   "source": [
    "y = np.empty_like(x)"
   ]
  },
  {
   "cell_type": "code",
   "execution_count": null,
   "metadata": {
    "collapsed": false
   },
   "outputs": [],
   "source": [
    "diver = np.gradient(np.dot(e_r,E[:,:,0]))[1]+np.gradient(np.dot(e_r,E[:,:,1]))[1]+np.gradient(np.dot(e_r,E_axial))[0]"
   ]
  },
  {
   "cell_type": "code",
   "execution_count": null,
   "metadata": {
    "collapsed": true
   },
   "outputs": [],
   "source": [
    "diver2 = np.gradient(E[:,:,0])[0]+np.gradient(E[:,:,1])[0]+np.gradient(E_axial)[0]"
   ]
  },
  {
   "cell_type": "code",
   "execution_count": null,
   "metadata": {
    "collapsed": false
   },
   "outputs": [],
   "source": [
    "np.gradient(E[:,:,1])"
   ]
  },
  {
   "cell_type": "code",
   "execution_count": null,
   "metadata": {
    "collapsed": false
   },
   "outputs": [],
   "source": [
    "np.linalg.norm(diver2)"
   ]
  },
  {
   "cell_type": "code",
   "execution_count": null,
   "metadata": {
    "collapsed": false
   },
   "outputs": [],
   "source": [
    "plt.contourf(diver2)\n",
    "plt.colorbar()"
   ]
  },
  {
   "cell_type": "code",
   "execution_count": null,
   "metadata": {
    "collapsed": true
   },
   "outputs": [],
   "source": []
  },
  {
   "cell_type": "code",
   "execution_count": null,
   "metadata": {
    "collapsed": false
   },
   "outputs": [],
   "source": [
    "np.dot(e_r,E[:,:,0])"
   ]
  },
  {
   "cell_type": "code",
   "execution_count": null,
   "metadata": {
    "collapsed": false
   },
   "outputs": [],
   "source": [
    "np.gradient(np.array([[1, 2, 6], [3, 4, 5]], dtype=np.float))"
   ]
  },
  {
   "cell_type": "code",
   "execution_count": null,
   "metadata": {
    "collapsed": false
   },
   "outputs": [],
   "source": [
    "from netCDF4 import Dataset      \n",
    "import numpy as np      \n",
    "import matplotlib.pyplot as plt \n",
    "\n",
    "GridSat = Dataset('analysis_20040713_v11l30flk.nc4','r',format='NETCDF4')\n",
    "missing_data = -9999.0\n",
    "lat = GridSat.variables['lat']   \n",
    "lat = lat[:]     \n",
    "lat[np.where(lat==missing_data)] = np.nan  \n",
    "lat[np.where(lat > 90.0)] = np.nan     \n",
    "\n",
    "lon = GridSat.variables['lon']   \n",
    "lon = lon[:]                \n",
    "lon[np.where(lon==missing_data)] = np.nan\n",
    "\n",
    "\n",
    "uwind_data = GridSat.variables['uwnd']  \n",
    "uwind = GridSat.variables['uwnd'][:]\n",
    "uwind_sf = uwind_data.scale_factor   \n",
    "uwind_ao = uwind_data.add_offset\n",
    "miss_uwind = uwind_data.missing_value\n",
    "\n",
    "uwind[np.where(uwind==miss_uwind)] = np.nan    \n",
    "\n",
    "\n",
    "vwind_data = GridSat.variables['vwnd']  \n",
    "vwind = GridSat.variables['vwnd'][:]\n",
    "vwind_sf = vwind_data.scale_factor    \n",
    "vwind_ao = vwind_data.add_offset\n",
    "miss_vwind = vwind_data.missing_value\n",
    "\n",
    "vwind[np.where(vwind==miss_vwind)] = np.nan  \n",
    "\n",
    "\n",
    "uwind = uwind[2,:,:]\n",
    "vwind = vwind[2,:,:]  \n",
    "\n",
    "dx = 28400.0 # meters calculated from the 0.25 degree spatial gridding \n",
    "dy = 28400.0 # meters calculated from the 0.25 degree spatial gridding \n",
    "\n",
    "#dv_dx, dv_dy = np.gradient(vwind, [dx,dy])\n",
    "#du_dx, du_dy = np.gradient(uwind, [dx,dy])\n",
    "v_dx, dv_dy = np.gradient(vwind, dx,dy)\n",
    "du_dx, du_dy = np.gradient(uwind, dx,dy)"
   ]
  },
  {
   "cell_type": "code",
   "execution_count": null,
   "metadata": {
    "collapsed": false
   },
   "outputs": [],
   "source": [
    "from netCDF4 import Dataset   "
   ]
  },
  {
   "cell_type": "code",
   "execution_count": null,
   "metadata": {
    "collapsed": false
   },
   "outputs": [],
   "source": [
    "E_large = np.zeros([512,512,3],dtype=np.complex)"
   ]
  },
  {
   "cell_type": "code",
   "execution_count": null,
   "metadata": {
    "collapsed": false
   },
   "outputs": [],
   "source": [
    "E_large[:,:,0:2] = E\n",
    "E_large[:,:,-1] =E_axial"
   ]
  },
  {
   "cell_type": "code",
   "execution_count": null,
   "metadata": {
    "collapsed": false
   },
   "outputs": [],
   "source": [
    "dexdx,dexdy,dexdz = np.gradient(E_large,x[1]-x[0],x[1]-x[0],x[1]-x[0])[0][:,:,0], np.gradient(E_large,1,1,1)[0][:,:,1], np.gradient(E_large,1,1,1)[0][:,:,2]"
   ]
  },
  {
   "cell_type": "code",
   "execution_count": null,
   "metadata": {
    "collapsed": false
   },
   "outputs": [],
   "source": [
    "deydx,deydy,deydz = np.gradient(E_large,x[1]-x[0],x[1]-x[0],x[1]-x[0])[1][:,:,0], np.gradient(E_large,1,1,1)[1][:,:,1], np.gradient(E_large,1,1,1)[1][:,:,2]"
   ]
  },
  {
   "cell_type": "code",
   "execution_count": null,
   "metadata": {
    "collapsed": true
   },
   "outputs": [],
   "source": [
    "dezdx,dezdy,dezdz = np.gradient(E_large,x[1]-x[0],x[1]-x[0],x[1]-x[0])[2][:,:,0], np.gradient(E_large,1,1,1)[2][:,:,1], np.gradient(E_large,1,1,1)[2][:,:,2]"
   ]
  },
  {
   "cell_type": "code",
   "execution_count": null,
   "metadata": {
    "collapsed": false
   },
   "outputs": [],
   "source": [
    "dive =dexdx + deydy +dezdz"
   ]
  },
  {
   "cell_type": "code",
   "execution_count": null,
   "metadata": {
    "collapsed": false
   },
   "outputs": [],
   "source": [
    "plt.contourf(dive)"
   ]
  },
  {
   "cell_type": "code",
   "execution_count": null,
   "metadata": {
    "collapsed": true
   },
   "outputs": [],
   "source": []
  },
  {
   "cell_type": "code",
   "execution_count": null,
   "metadata": {
    "collapsed": true
   },
   "outputs": [],
   "source": []
  }
 ],
 "metadata": {
  "kernelspec": {
   "display_name": "Python 2",
   "language": "python",
   "name": "python2"
  },
  "language_info": {
   "codemirror_mode": {
    "name": "ipython",
    "version": 2
   },
   "file_extension": ".py",
   "mimetype": "text/x-python",
   "name": "python",
   "nbconvert_exporter": "python",
   "pygments_lexer": "ipython2",
   "version": "2.7.11+"
  }
 },
 "nbformat": 4,
 "nbformat_minor": 0
}
