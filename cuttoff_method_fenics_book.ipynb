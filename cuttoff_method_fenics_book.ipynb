{
 "cells": [
  {
   "cell_type": "code",
   "execution_count": 2,
   "metadata": {
    "collapsed": false
   },
   "outputs": [],
   "source": [
    "from dolfin import *"
   ]
  },
  {
   "cell_type": "code",
   "execution_count": 3,
   "metadata": {
    "collapsed": false
   },
   "outputs": [],
   "source": [
    "width = 1.0\n",
    "height = 0.5\n",
    "mesh = RectangleMesh(0, 0,width, height, 10, 2)"
   ]
  },
  {
   "cell_type": "code",
   "execution_count": 4,
   "metadata": {
    "collapsed": false
   },
   "outputs": [
    {
     "name": "stderr",
     "output_type": "stream",
     "text": [
      "DEBUG:FFC:Reusing form from cache.\n",
      "DEBUG:FFC:Reusing form from cache.\n",
      "DEBUG:FFC:Reusing form from cache.\n"
     ]
    }
   ],
   "source": [
    "V_N = FunctionSpace(mesh, \"N1curl\", 1)\n",
    "V_L = FunctionSpace(mesh, \"CG\", 1)\n",
    "combined_space = V_N * V_L\n",
    "(N_i, L_i) = TestFunctions(combined_space)\n",
    "(N_j, L_j) = TrialFunctions(combined_space)"
   ]
  },
  {
   "cell_type": "code",
   "execution_count": 5,
   "metadata": {
    "collapsed": false
   },
   "outputs": [],
   "source": [
    "class HalfLoadedDielectric(Expression):\n",
    "    def eval(self, values, x):\n",
    "        if x[1] < 0.25:\n",
    "            values[0] = 4.0\n",
    "        else:\n",
    "            values[0] = 1.0;\n",
    "e_r = HalfLoadedDielectric()\n",
    "one_over_u_r = Expression(\"1.0\")\n",
    "k_o_squared = Expression('0')"
   ]
  },
  {
   "cell_type": "code",
   "execution_count": 6,
   "metadata": {
    "collapsed": false
   },
   "outputs": [],
   "source": [
    "def curl_t(w):\n",
    "    return Dx(w[1], 0) - Dx(w[0], 1)"
   ]
  },
  {
   "cell_type": "code",
   "execution_count": 7,
   "metadata": {
    "collapsed": false
   },
   "outputs": [],
   "source": [
    "k_o_squared = Expression(\"0.0\")"
   ]
  },
  {
   "cell_type": "code",
   "execution_count": 14,
   "metadata": {
    "collapsed": false
   },
   "outputs": [],
   "source": [
    "s_tt = one_over_u_r*dot(curl_t(N_i), curl_t(N_j))\n",
    "t_tt = e_r*dot(N_i, N_j)\n",
    "s_zz = one_over_u_r*dot(grad(L_i), grad(L_j))\n",
    "t_zz = e_r*L_i*L_j\n",
    "b_tt = one_over_u_r*dot(N_i, N_j)*dx\n",
    "b_tz = one_over_u_r*dot(N_i, grad(L_j))*dx\n",
    "b_zt = one_over_u_r*dot(grad(L_i), N_j)*dx\n",
    "a_tt = (s_tt - k_o_squared*t_tt)*dx\n",
    "b_zz = (s_zz - k_o_squared*t_zz)*dx"
   ]
  },
  {
   "cell_type": "code",
   "execution_count": 15,
   "metadata": {
    "collapsed": false
   },
   "outputs": [],
   "source": [
    "s_tt = one_over_u_r*dot(curl_t(N_i), curl_t(N_j))*dx\n",
    "t_tt = e_r*dot(N_i, N_j)*dx\n",
    "s_zz = one_over_u_r*dot(grad(L_i), grad(L_j))*dx\n",
    "t_zz = e_r*L_i*L_j*dx"
   ]
  },
  {
   "cell_type": "code",
   "execution_count": 23,
   "metadata": {
    "collapsed": false
   },
   "outputs": [
    {
     "data": {
      "text/plain": [
       "105"
      ]
     },
     "execution_count": 23,
     "metadata": {},
     "output_type": "execute_result"
    }
   ],
   "source": [
    "B.size(0)\n"
   ]
  },
  {
   "cell_type": "code",
   "execution_count": 17,
   "metadata": {
    "collapsed": false
   },
   "outputs": [],
   "source": [
    "A = PETScMatrix()\n",
    "B = PETScMatrix()"
   ]
  },
  {
   "cell_type": "code",
   "execution_count": 25,
   "metadata": {
    "collapsed": false
   },
   "outputs": [
    {
     "name": "stderr",
     "output_type": "stream",
     "text": [
      "DEBUG:FFC:Reusing form from cache.\n"
     ]
    },
    {
     "data": {
      "text/plain": [
       "<dolfin.cpp.la.PETScMatrix; proxy of <Swig Object of type 'std::shared_ptr< dolfin::PETScMatrix > *' at 0x7fbada9f7300> >"
      ]
     },
     "execution_count": 25,
     "metadata": {},
     "output_type": "execute_result"
    }
   ],
   "source": [
    "assemble(b_zz, tensor=B)"
   ]
  },
  {
   "cell_type": "code",
   "execution_count": null,
   "metadata": {
    "collapsed": false
   },
   "outputs": [],
   "source": [
    "S = PETScMatrix()\n",
    "T = PETScMatrix()\n",
    "assemble(s, tensor=S)\n",
    "assemble(t, tensor=T)\n",
    "\n",
    "# Solve the eigensystem\n",
    "esolver = SLEPcEigenSolver(S, T)\n",
    "esolver.parameters[\"spectrum\"] = \"smallest real\"\n",
    "esolver.parameters[\"solver\"] = \"lapack\"\n",
    "esolver.solve()"
   ]
  },
  {
   "cell_type": "code",
   "execution_count": 16,
   "metadata": {
    "collapsed": false
   },
   "outputs": [],
   "source": [
    "class ElectricWalls(SubDomain):\n",
    "    def inside(self, x, on_boundary):\n",
    "        return on_boundary"
   ]
  },
  {
   "cell_type": "code",
   "execution_count": 17,
   "metadata": {
    "collapsed": false
   },
   "outputs": [
    {
     "ename": "TypeError",
     "evalue": "The 'element' argument must be a UFL finite element.",
     "output_type": "error",
     "traceback": [
      "\u001b[0;31m---------------------------------------------------------------------------\u001b[0m\n\u001b[0;31mTypeError\u001b[0m                                 Traceback (most recent call last)",
      "\u001b[0;32m<ipython-input-17-41044c1e74e9>\u001b[0m in \u001b[0;36m<module>\u001b[0;34m()\u001b[0m\n\u001b[0;32m----> 1\u001b[0;31m \u001b[0mzero\u001b[0m \u001b[0;34m=\u001b[0m \u001b[0mExpression\u001b[0m\u001b[0;34m(\u001b[0m\u001b[0;34m\"0.0\"\u001b[0m\u001b[0;34m,\u001b[0m\u001b[0;34m\"0.0\"\u001b[0m\u001b[0;34m,\u001b[0m\u001b[0;34m\"0.0\"\u001b[0m\u001b[0;34m)\u001b[0m\u001b[0;34m\u001b[0m\u001b[0m\n\u001b[0m\u001b[1;32m      2\u001b[0m \u001b[0mdirichlet_bc\u001b[0m \u001b[0;34m=\u001b[0m \u001b[0mDirichletBC\u001b[0m\u001b[0;34m(\u001b[0m\u001b[0mcombined_space\u001b[0m\u001b[0;34m,\u001b[0m \u001b[0mzero\u001b[0m\u001b[0;34m,\u001b[0m \u001b[0mElectricWalls\u001b[0m\u001b[0;34m(\u001b[0m\u001b[0;34m)\u001b[0m\u001b[0;34m)\u001b[0m\u001b[0;34m\u001b[0m\u001b[0m\n",
      "\u001b[0;32m/usr/lib/python2.7/dist-packages/dolfin/functions/expression.pyc\u001b[0m in \u001b[0;36m__init__\u001b[0;34m(self, cppcode, element, cell, domain, degree, name, label, **kwargs)\u001b[0m\n\u001b[1;32m    129\u001b[0m             \u001b[0;31m# Check that we have an element\u001b[0m\u001b[0;34m\u001b[0m\u001b[0;34m\u001b[0m\u001b[0m\n\u001b[1;32m    130\u001b[0m             \u001b[0;32mif\u001b[0m \u001b[0;32mnot\u001b[0m \u001b[0misinstance\u001b[0m\u001b[0;34m(\u001b[0m\u001b[0melement\u001b[0m\u001b[0;34m,\u001b[0m \u001b[0mufl\u001b[0m\u001b[0;34m.\u001b[0m\u001b[0mFiniteElementBase\u001b[0m\u001b[0;34m)\u001b[0m\u001b[0;34m:\u001b[0m\u001b[0;34m\u001b[0m\u001b[0m\n\u001b[0;32m--> 131\u001b[0;31m                 raise TypeError(\"The 'element' argument must be a UFL\"\\\n\u001b[0m\u001b[1;32m    132\u001b[0m                       \" finite element.\")\n\u001b[1;32m    133\u001b[0m \u001b[0;34m\u001b[0m\u001b[0m\n",
      "\u001b[0;31mTypeError\u001b[0m: The 'element' argument must be a UFL finite element."
     ]
    }
   ],
   "source": [
    "zero = Expression(\"0.0\",\"0.0\",\"0.0\")\n",
    "dirichlet_bc = DirichletBC(combined_space, zero, ElectricWalls())"
   ]
  },
  {
   "cell_type": "code",
   "execution_count": 11,
   "metadata": {
    "collapsed": false
   },
   "outputs": [
    {
     "data": {
      "text/plain": [
       "<dolfin.cpp.la.PETScMatrix; proxy of <Swig Object of type 'std::shared_ptr< dolfin::PETScMatrix > *' at 0x7f447ecff720> >"
      ]
     },
     "execution_count": 11,
     "metadata": {},
     "output_type": "execute_result"
    }
   ],
   "source": [
    "S"
   ]
  },
  {
   "cell_type": "code",
   "execution_count": null,
   "metadata": {
    "collapsed": false
   },
   "outputs": [],
   "source": [
    "assemble("
   ]
  },
  {
   "cell_type": "code",
   "execution_count": 24,
   "metadata": {
    "collapsed": false
   },
   "outputs": [
    {
     "name": "stderr",
     "output_type": "stream",
     "text": [
      "DEBUG:FFC:Reusing form from cache.\n",
      "DEBUG:FFC:Reusing form from cache.\n",
      "DEBUG:FFC:Reusing form from cache.\n",
      "DEBUG:FFC:Reusing form from cache.\n",
      "DEBUG:FFC:Reusing form from cache.\n"
     ]
    },
    {
     "name": "stdout",
     "output_type": "stream",
     "text": [
      "Cutoff wavenumber: 7.02506101667\n"
     ]
    }
   ],
   "source": [
    "\"\"\" This demo demonstrates the calculation and visualization of a TM\n",
    "    2 (Transverse Magnetic) cutoff mode of a rectangular waveguide.\n",
    "    3 \n",
    "    4 For more information regarding waveguides see\n",
    "    5 \n",
    "    6 http://www.ee.bilkent.edu.tr/~microwave/programs/magnetic/rect/info.htm\n",
    "    7 \n",
    "    8 See the pdf in the parent folder and the following reference\n",
    "    9 \n",
    "   10 The Finite Element in Electromagnetics (2nd Ed)\n",
    "   11 Jianming Jin [7.2.1 - 7.2.2]\n",
    "   12 \n",
    "   13 \"\"\"\n",
    "# Copyright (C) 2008 Evan Lezar\n",
    "#\n",
    "# This file is part of DOLFIN.\n",
    "#\n",
    "# DOLFIN is free software: you can redistribute it and/or modify\n",
    "# it under the terms of the GNU Lesser General Public License as published by\n",
    "# the Free Software Foundation, either version 3 of the License, or\n",
    "# (at your option) any later version.\n",
    "#\n",
    "# DOLFIN is distributed in the hope that it will be useful,\n",
    "# but WITHOUT ANY WARRANTY; without even the implied warranty of\n",
    "# MERCHANTABILITY or FITNESS FOR A PARTICULAR PURPOSE. See the\n",
    "# GNU Lesser General Public License for more details.\n",
    "#\n",
    "# You should have received a copy of the GNU Lesser General Public License\n",
    "# along with DOLFIN. If not, see <http://www.gnu.org/licenses/>.\n",
    "#\n",
    "# Modified by Anders Logg 2008, 2015\n",
    "#\n",
    "# First added:  2008-08-22\n",
    "# Last changed: 2015-06-15\n",
    "\n",
    "from __future__ import print_function\n",
    "from dolfin import *\n",
    "\n",
    "# Test for PETSc and SLEPc\n",
    "if not has_linear_algebra_backend(\"PETSc\"):\n",
    "   print(\"DOLFIN has not been configured with PETSc. Exiting.\")\n",
    "   exit()\n",
    "\n",
    "if not has_slepc():\n",
    "   print(\"DOLFIN has not been configured with SLEPc. Exiting.\")\n",
    "   exit()\n",
    "\n",
    "# Make sure we use the PETSc backend\n",
    "parameters[\"linear_algebra_backend\"] = \"PETSc\"\n",
    "\n",
    "# Create mesh\n",
    "width = 1.0\n",
    "height = 0.5\n",
    "mesh = RectangleMesh(0, 0,width, height, 10, 2)\n",
    "\n",
    "# Define the function space\n",
    "VN = FunctionSpace(mesh, \"Nedelec 1st kind H(curl)\", 3)\n",
    "VL = FunctionSpace(mesh, \"Lagrange\", 3)\n",
    "V = VN*VL\n",
    "# Define the test and trial functions\n",
    "v = TestFunction(V)\n",
    "u = TrialFunction(V)\n",
    "\n",
    "# Define the forms - generates an generalized eigenproblem of the form\n",
    "# [S]{h} = k_o^2[T]{h}\n",
    "# with the eigenvalues k_o^2 representing the square of the cutoff wavenumber\n",
    "# and the corresponding right-eigenvector giving the coefficients of the\n",
    "# discrete system used to obtain the approximate field anywhere in the domain\n",
    "def curl_t(w):\n",
    "    return Dx(w[1], 0) - Dx(w[0], 1)\n",
    "s = curl_t(v)*curl_t(u)*dx\n",
    "t = inner(v, u)*dx\n",
    "\n",
    "# Assemble the stiffness matrix (S) and mass matrix (T)\n",
    "S = PETScMatrix()\n",
    "T = PETScMatrix()\n",
    "assemble(s, tensor=S)\n",
    "assemble(t, tensor=T)\n",
    "\n",
    "# Solve the eigensystem\n",
    "esolver = SLEPcEigenSolver(S, T)\n",
    "esolver.parameters[\"spectrum\"] = \"smallest real\"\n",
    "esolver.parameters[\"solver\"] = \"lapack\"\n",
    "esolver.solve()\n",
    "\n",
    "# The result should have real eigenvalues but due to rounding errors, some of\n",
    "# the resultant eigenvalues may be small complex values.\n",
    "# only consider the real part\n",
    "\n",
    "# Now, the system contains a number of zero eigenvalues (near zero due to\n",
    "# rounding) which are eigenvalues corresponding to the null-space of the curl\n",
    "# operator and are a mathematical construct and do not represent physically\n",
    "# realizable modes.  These are called spurious modes.\n",
    "# So, we need to identify the smallest, non-zero eigenvalue of the system -\n",
    "# which corresponds with cutoff wavenumber of the the dominant cutoff mode.\n",
    "cutoff = None\n",
    "for i in range(S.size(1)):\n",
    "   (lr, lc) = esolver.get_eigenvalue(i)\n",
    "   if lr > 1 and lc == 0:\n",
    "       cutoff = sqrt(lr)\n",
    "       break\n",
    "\n",
    "if cutoff is None:\n",
    "   print(\"Unable to find dominant mode\")\n",
    "else:\n",
    "   print(\"Cutoff wavenumber:\", cutoff)"
   ]
  },
  {
   "cell_type": "code",
   "execution_count": 12,
   "metadata": {
    "collapsed": false
   },
   "outputs": [],
   "source": [
    "r, c, rx, cx = esolver.get_eigenpair(0)\n"
   ]
  },
  {
   "cell_type": "code",
   "execution_count": 13,
   "metadata": {
    "collapsed": false
   },
   "outputs": [],
   "source": [
    "plot(mesh)\n",
    "interactive()"
   ]
  },
  {
   "cell_type": "code",
   "execution_count": 14,
   "metadata": {
    "collapsed": false
   },
   "outputs": [
    {
     "name": "stdout",
     "output_type": "stream",
     "text": [
      "<PETScMatrix of size 673 x 673>\n"
     ]
    }
   ],
   "source": [
    "print(S)"
   ]
  },
  {
   "cell_type": "code",
   "execution_count": null,
   "metadata": {
    "collapsed": false
   },
   "outputs": [],
   "source": [
    "plot(u)\n",
    "interactive()\n"
   ]
  },
  {
   "cell_type": "code",
   "execution_count": null,
   "metadata": {
    "collapsed": false
   },
   "outputs": [],
   "source": [
    "esolver.get_eigenpair?"
   ]
  },
  {
   "cell_type": "code",
   "execution_count": 8,
   "metadata": {
    "collapsed": false
   },
   "outputs": [],
   "source": [
    "(transverse, axial) = u.split()"
   ]
  },
  {
   "cell_type": "code",
   "execution_count": 4,
   "metadata": {
    "collapsed": false
   },
   "outputs": [],
   "source": [
    "SLEPcEigenSolver?"
   ]
  },
  {
   "cell_type": "code",
   "execution_count": 35,
   "metadata": {
    "collapsed": false
   },
   "outputs": [],
   "source": [
    "Dx?"
   ]
  },
  {
   "cell_type": "code",
   "execution_count": 36,
   "metadata": {
    "collapsed": false
   },
   "outputs": [],
   "source": [
    "inner?"
   ]
  },
  {
   "cell_type": "code",
   "execution_count": null,
   "metadata": {
    "collapsed": false
   },
   "outputs": [],
   "source": []
  }
 ],
 "metadata": {
  "kernelspec": {
   "display_name": "Python 2",
   "language": "python",
   "name": "python2"
  },
  "language_info": {
   "codemirror_mode": {
    "name": "ipython",
    "version": 2
   },
   "file_extension": ".py",
   "mimetype": "text/x-python",
   "name": "python",
   "nbconvert_exporter": "python",
   "pygments_lexer": "ipython2",
   "version": "2.7.10"
  }
 },
 "nbformat": 4,
 "nbformat_minor": 0
}
