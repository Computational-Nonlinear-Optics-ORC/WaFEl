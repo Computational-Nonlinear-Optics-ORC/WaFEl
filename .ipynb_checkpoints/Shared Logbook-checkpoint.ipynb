{
 "cells": [
  {
   "cell_type": "markdown",
   "metadata": {},
   "source": [
    "# Shared Logbook"
   ]
  },
  {
   "cell_type": "code",
   "execution_count": 1,
   "metadata": {
    "collapsed": false,
    "format": "tab"
   },
   "outputs": [
    {
     "data": {
      "application/javascript": [
       "require(['base/js/utils'],\n",
       "function(utils) {\n",
       "   utils.load_extensions('calico-spell-check', 'calico-document-tools', 'calico-cell-tools');\n",
       "});"
      ],
      "text/plain": [
       "<IPython.core.display.Javascript object>"
      ]
     },
     "metadata": {},
     "output_type": "display_data"
    }
   ],
   "source": [
    "%%javascript\n",
    "require(['base/js/utils'],\n",
    "function(utils) {\n",
    "   utils.load_extensions('calico-spell-check', 'calico-document-tools', 'calico-cell-tools');\n",
    "});"
   ]
  },
  {
   "cell_type": "markdown",
   "metadata": {},
   "source": [
    "This Logbook is mainly to keep both supervisors up to date on what I am doing. I am not really sure how this will turn out so any form of feedback would be very appreciated. Also ignore the javascript code above if it shows up."
   ]
  },
  {
   "cell_type": "markdown",
   "metadata": {},
   "source": [
    "### 27/10/2015"
   ]
  },
  {
   "cell_type": "markdown",
   "metadata": {},
   "source": [
    "To date I have spent time familiarizing myself with multi-mode pulse propagation, looking in to four wave mixing/ cross phase modulation and translating/optimizing the multi mode pulse propagation code from Matlab to python. A considerable amount of time was spent on the last one.  \n",
    "\n",
    "The multi mode code on this date is written in Python in a more \"Pythonic\" way (limiting globals and introducing more functions). The most computationally intensive parts within the code is Fourier transforms and the matrix multiplications within the function evaluations for the Runge-Kutta method. Ways that I have chosen to improve performance are listed bellow:\n",
    "\n",
    "* I have tried including Cuda (from Numbapro Anaconda Accelerate). The arrays seem to be way to small to have any real effect on runtime. Also cuFFT proved to be slower because of small arrays.\n",
    "* Cython, but, since the code needs to be adaptable to different studies it would have to be \"naive\" Cython. Leading only to 4% speed-up.\n",
    "* Mkl libraries are installed on my machine by default and Numpy/Scipy operations seem to be all that is needed for a stable, fast and adaptable code.\n",
    "\n",
    "\n",
    "Additionally I have looked at the possibility of using another step adaptive Runge-Kutta method to solve the pulse propagation equation. The original code used the Cash-Karp method. I lightly tested the speed and stability of the Dormand–Prince and the Fehlberg method as alternatives. I found that the original method was the most efficient so I kept it.\n",
    "\n",
    "As far as the multi mode code is considered I am able to operate and change it at will. At this time I am awaiting for as much information as I can get about the fibre that the Telecoms experimental group is using so I can simulate it. Until then I will be reading up on multi-mode optical fibres and multi-mode four wave mixing."
   ]
  },
  {
   "cell_type": "markdown",
   "metadata": {},
   "source": [
    "### 9/11/2015"
   ]
  },
  {
   "cell_type": "markdown",
   "metadata": {},
   "source": [
    "The past few weeks have been centred around modelling the pulse propagation of a few mode fibre  in collaboration with the a telecommunications experimental group.\n",
    "\n",
    "Since I was able to transalpine the multi mode pulse propagation code in to python I have been looking in to finding the modes of the fibre. This though is proving difficult since I have very little to go upon the fibre itself.\n",
    "An important factor that I need to calculate is the refractive index profile of the fibre. Unfortunately, since the fibre is not made on site there is absolutely no knowledge of the characteristics of the fibre, not even the concentration of germanium within it (assuming that it is germanium and not something else). \n",
    "I asked the experimental group to give me some data on the fibre, in particular the $\\beta(\\lambda)$, what I got in return was a Taylor expansion of the first derivative of $\\beta$ with respect to angular frequency. Hence I have learnt not to ask for the dispersion curve again since that term can mean anything in optics. \n",
    "\n",
    "Regardless of the above I have build a model to “brute force” estimate the refractive index profile of their fibre. \n",
    "\n",
    "Approximating the refractive index profile according to:\n",
    "\n",
    "$\n",
    "    n(r)= \n",
    "\\begin{cases}\n",
    "    n_0(1-2\\Delta(\\frac{r}{a})^\\alpha)^{0.5},&  r\\leq \\alpha\\\\\n",
    "    n_0(1-2\\Delta)^{0.5},              & r\\gt \\alpha\n",
    "\\end{cases},\n",
    "$\n",
    "\n",
    "where $\\Delta=\\frac{n_0^2-nclad^2}{2n_0^2}$, $n_0$ is the refractive index at the core and $n_{clad}$ at the cladding.\n",
    "\n",
    "\n",
    "Since the concentration of $\\mathrm{Ge}$ at the core is not known I use Sellmeier equations for concentrations of:\n",
    "\n",
    "* $3.1\\ mole\\%$\n",
    "* $3.5\\ mole\\%$\n",
    "* $4.1\\ mole\\%$\n",
    "* $5.8\\ mole\\%$\n",
    "\n",
    "and I assume the cladding is Silica.\n",
    "The refractive index at the core and the cladding are calculated using:\n",
    "<img src=\"selmier_GE_si/selmier.jpg\">\n",
    "and the parameters can be found by using :\n",
    "<img src=\"selmier_GE_si/Report_dispersion_silica.jpg\">\n",
    "\n",
    "\n",
    " I have created a model in Comsol of a fibre that has diameter of $124 \\mu m$ a varying concentration (and hence the refractive index of the core), $\\alpha$ (radius),  a , wavelength and by extension refractive index of the cladding. \n",
    "\n",
    "At first I held the refractive index of the core constant according to the reported effective area of fundamental mode. But that calculation proved fruitless. Now I am running a huge calculation along all parameters, in 3 days 24% of the simulation has been done and the results that are exported do not fit the desired experimental results. I am waiting patiently and looking if I have made a mistake in understanding the experimental data. "
   ]
  },
  {
   "cell_type": "markdown",
   "metadata": {
    "collapsed": true
   },
   "source": [
    "### 17/11/2015\n",
    "The search for the refractive index profile failed. We have reason to believe that the fibre has a profile that cannot be recreated from the model above. The end result was approximately 10% error from the measured group velocities BUT the effective areas where double of the measured. This can be attributed to the fibre being created for a different purpose than what it is used for now. Plan B is to approximate the modes as Hermit-Gaussian beams and go from there. All is not bad though because the platform to calculate a graded index profile exists and can be easily called.\n",
    "\n",
    "I have also built a program that solves the 4 coupled Ode's for four wave mixing. The program is built specifically so I can switch between integration methods and is only waiting for the inputs from the experimental team. \n",
    "\n",
    "\n",
    "Finally I have decided to start a little project of my own, with very low priority. I will build a finite element method using Fenics. Firstly I will look in to creating a model that will solve a step index fibre and be able to extract all the information I might need (propagation constants etc). \n"
   ]
  },
  {
   "cell_type": "markdown",
   "metadata": {},
   "source": [
    "### 22/11/2015\n",
    "I have not updated this is a while. You should both have access to my personal logbook so you know that I'm not sitting idle. \n",
    "In short in the last month I have:\n",
    "* Approximated the modes as TEM modes. \n",
    "* From the electric field I have calculated the overlap integrals needed for the four wave mixing calculations\n",
    "* Built an optimization algorithm for Degenerate four wave mixing(FWM) and estimated a non-linear refractive index from experimental data that I was given. It was lower than Silica so it is hard to believe that it is the physical constant yet within in there could be other experimental errors. But since it fits I am keeping it.\n",
    "* I was asked to find the optimum phase matching regime when one of the pump wavelengths is moved (non-degenerate FWM). The phase matching term has a linear and non-linear term. Now the non-linear term is easily calculated from the dispersion curves that the team has given me. But the non-linear term depends on the amplitude powers (that change by propagating distance). Books and papers that I have found take approximations that are not fitting to our problems. Peter has thought of an approximation that assumes that there is no change in powers as they propagate. I found that this approximation holds only if the powers are low, the overlaps are small and there is a low non-linear coefficient. Not only that, the contribution from the non-linear term is very low in magnitude. So it can be easily disregarded. \n",
    "* Since I have no immediate work to do on the FWM I am looking further in to the Fenics project\n",
    "    * I am happy to say that I have taken up a meshing software that I like. It is gmsh. Hans I did not go with Netgen because it is not happy with my Cuda drivers. I stopped trying to get it to work after I got a scare with my system not booting. \n",
    "    * My first step will be to get Fenics to solve a single mode step- index fibre. My thought is to solve the Helmholtz equation \n",
    "\n",
    "    $$\\nabla^2\\boldsymbol{E} = k^2(n-n^2_{eff}) \\boldsymbol{E}$$\n",
    "    , where $\\boldsymbol{E}$ is the electirc field, $n$ is the refractive index, $k=\\frac{2\\pi}{\\lambda}$, $\\lambda$ is the wavelength and $n_{eff}$ is the effective index.\n",
    "    Now I have no idea how the $n_{eff}$ can be calculated before the simulation. This parameter specifies the mode. I could give it to it but that would defeat the purpose of the entire project.\n",
    "    * Another problem that will surface is the implementation of perfectly matched layers as boundary conditions. I have not looked in to this further than fenics does not have it built in."
   ]
  },
  {
   "cell_type": "code",
   "execution_count": null,
   "metadata": {
    "collapsed": true
   },
   "outputs": [],
   "source": []
  }
 ],
 "metadata": {
  "kernelspec": {
   "display_name": "Python 2",
   "language": "python",
   "name": "python2"
  },
  "language_info": {
   "codemirror_mode": {
    "name": "ipython",
    "version": 2
   },
   "file_extension": ".py",
   "mimetype": "text/x-python",
   "name": "python",
   "nbconvert_exporter": "python",
   "pygments_lexer": "ipython2",
   "version": "2.7.11+"
  }
 },
 "nbformat": 4,
 "nbformat_minor": 0
}
