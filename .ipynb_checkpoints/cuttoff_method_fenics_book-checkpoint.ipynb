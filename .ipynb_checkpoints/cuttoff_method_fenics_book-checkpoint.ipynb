{
 "metadata": {
  "name": ""
 },
 "nbformat": 3,
 "nbformat_minor": 0,
 "worksheets": [
  {
   "cells": [
    {
     "cell_type": "code",
     "collapsed": false,
     "input": [
      "from dolfin import *"
     ],
     "language": "python",
     "metadata": {},
     "outputs": [],
     "prompt_number": 1
    },
    {
     "cell_type": "code",
     "collapsed": false,
     "input": [
      "mesh = UnitSquareMesh(10,10)\n"
     ],
     "language": "python",
     "metadata": {},
     "outputs": [],
     "prompt_number": 3
    },
    {
     "cell_type": "code",
     "collapsed": false,
     "input": [
      "V_N = FunctionSpace(mesh, \"N1curl\", 1)\n",
      "V_L = FunctionSpace(mesh, \"CG\", 1)\n",
      "combined_space = V_N * V_L\n",
      "(N_i, L_i) = TestFunctions(combined_space)\n",
      "(N_j, L_j) = TrialFunctions(combined_space)"
     ],
     "language": "python",
     "metadata": {},
     "outputs": [
      {
       "output_type": "stream",
       "stream": "stderr",
       "text": [
        "DEBUG:FFC:Reusing form from cache.\n"
       ]
      },
      {
       "output_type": "stream",
       "stream": "stderr",
       "text": [
        "DEBUG:FFC:Reusing form from cache.\n"
       ]
      },
      {
       "output_type": "stream",
       "stream": "stderr",
       "text": [
        "DEBUG:FFC:Reusing form from cache.\n"
       ]
      }
     ],
     "prompt_number": 6
    },
    {
     "cell_type": "code",
     "collapsed": false,
     "input": [
      "class HalfLoadedDielectric(Expression):\n",
      "    def eval(self, values, x):\n",
      "        if x[1] < 0.25:\n",
      "            values[0] = 4.0\n",
      "        else:\n",
      "            values[0] = 1.0;\n",
      "e_r = HalfLoadedDielectric()\n",
      "one_over_u_r = Expression(\"1.0\")\n",
      "k_o_squared = Expression('0')"
     ],
     "language": "python",
     "metadata": {},
     "outputs": [],
     "prompt_number": 11
    },
    {
     "cell_type": "code",
     "collapsed": false,
     "input": [
      "s_tt = one_over_u_r*dot(curl(N_i), curl(N_j))\n",
      "t_tt = e_r*dot(N_i, N_j)\n",
      "s_zz = one_over_u_r*dot(grad(L_i), grad(L_j))\n",
      "t_zz = e_r*L_i*L_j\n",
      "b_tt = one_over_u_r*dot(N_i, N_j)\n",
      "b_tz = one_over_u_r*dot(N_i, grad(L_j))\n",
      "b_zt = one_over_u_r*dot(grad(L_i), N_j)\n",
      "a_tt = s_tt - k_o_squared*t_tt\n",
      "b_zz = s_zz - k_o_squared*t_zz"
     ],
     "language": "python",
     "metadata": {},
     "outputs": [],
     "prompt_number": 14
    },
    {
     "cell_type": "code",
     "collapsed": false,
     "input": [
      "class ElectricWalls(SubDomain):\n",
      "    def inside(self, x, on_boundary):\n",
      "        return on_boundary"
     ],
     "language": "python",
     "metadata": {},
     "outputs": [],
     "prompt_number": 16
    },
    {
     "cell_type": "code",
     "collapsed": false,
     "input": [
      "zero = Expression(\"0.0\",\"0.0\",\"0.0\")\n",
      "dirichlet_bc = DirichletBC(combined_space, zero, ElectricWalls())"
     ],
     "language": "python",
     "metadata": {},
     "outputs": [
      {
       "ename": "TypeError",
       "evalue": "The 'element' argument must be a UFL finite element.",
       "output_type": "pyerr",
       "traceback": [
        "\u001b[0;31m---------------------------------------------------------------------------\u001b[0m\n\u001b[0;31mTypeError\u001b[0m                                 Traceback (most recent call last)",
        "\u001b[0;32m<ipython-input-17-41044c1e74e9>\u001b[0m in \u001b[0;36m<module>\u001b[0;34m()\u001b[0m\n\u001b[0;32m----> 1\u001b[0;31m \u001b[0mzero\u001b[0m \u001b[0;34m=\u001b[0m \u001b[0mExpression\u001b[0m\u001b[0;34m(\u001b[0m\u001b[0;34m\"0.0\"\u001b[0m\u001b[0;34m,\u001b[0m\u001b[0;34m\"0.0\"\u001b[0m\u001b[0;34m,\u001b[0m\u001b[0;34m\"0.0\"\u001b[0m\u001b[0;34m)\u001b[0m\u001b[0;34m\u001b[0m\u001b[0m\n\u001b[0m\u001b[1;32m      2\u001b[0m \u001b[0mdirichlet_bc\u001b[0m \u001b[0;34m=\u001b[0m \u001b[0mDirichletBC\u001b[0m\u001b[0;34m(\u001b[0m\u001b[0mcombined_space\u001b[0m\u001b[0;34m,\u001b[0m \u001b[0mzero\u001b[0m\u001b[0;34m,\u001b[0m \u001b[0mElectricWalls\u001b[0m\u001b[0;34m(\u001b[0m\u001b[0;34m)\u001b[0m\u001b[0;34m)\u001b[0m\u001b[0;34m\u001b[0m\u001b[0m\n",
        "\u001b[0;32m/usr/lib/python2.7/dist-packages/dolfin/functions/expression.pyc\u001b[0m in \u001b[0;36m__init__\u001b[0;34m(self, cppcode, element, cell, domain, degree, name, label, **kwargs)\u001b[0m\n\u001b[1;32m    129\u001b[0m             \u001b[0;31m# Check that we have an element\u001b[0m\u001b[0;34m\u001b[0m\u001b[0;34m\u001b[0m\u001b[0m\n\u001b[1;32m    130\u001b[0m             \u001b[0;32mif\u001b[0m \u001b[0;32mnot\u001b[0m \u001b[0misinstance\u001b[0m\u001b[0;34m(\u001b[0m\u001b[0melement\u001b[0m\u001b[0;34m,\u001b[0m \u001b[0mufl\u001b[0m\u001b[0;34m.\u001b[0m\u001b[0mFiniteElementBase\u001b[0m\u001b[0;34m)\u001b[0m\u001b[0;34m:\u001b[0m\u001b[0;34m\u001b[0m\u001b[0m\n\u001b[0;32m--> 131\u001b[0;31m                 raise TypeError(\"The 'element' argument must be a UFL\"\\\n\u001b[0m\u001b[1;32m    132\u001b[0m                       \" finite element.\")\n\u001b[1;32m    133\u001b[0m \u001b[0;34m\u001b[0m\u001b[0m\n",
        "\u001b[0;31mTypeError\u001b[0m: The 'element' argument must be a UFL finite element."
       ]
      }
     ],
     "prompt_number": 17
    },
    {
     "cell_type": "code",
     "collapsed": false,
     "input": [],
     "language": "python",
     "metadata": {},
     "outputs": []
    },
    {
     "cell_type": "code",
     "collapsed": false,
     "input": [],
     "language": "python",
     "metadata": {},
     "outputs": []
    },
    {
     "cell_type": "code",
     "collapsed": false,
     "input": [
      "\"\"\" This demo demonstrates the calculation and visualization of a TM\n",
      "(Transverse Magnetic) cutoff mode of a rectangular waveguide.\n",
      "For more information regarding waveguides see\n",
      "http://www.ee.bilkent.edu.tr/~microwave/programs/magnetic/rect/info.htm\n",
      "See the pdf in the parent folder and the following reference\n",
      "The Finite Element in Electromagnetics (2nd Ed)\n",
      "Jianming Jin [7.2.1 - 7.2.2]\n",
      "\"\"\"\n",
      "# Copyright (C) 2008 Evan Lezar\n",
      "#\n",
      "# This file is part of DOLFIN.\n",
      "#\n",
      "# DOLFIN is free software: you can redistribute it and/or modify\n",
      "# it under the terms of the GNU Lesser General Public License as published by\n",
      "# the Free Software Foundation, either version 3 of the License, or\n",
      "# (at your option) any later version.\n",
      "#\n",
      "# DOLFIN is distributed in the hope that it will be useful,\n",
      "# but WITHOUT ANY WARRANTY; without even the implied warranty of\n",
      "# MERCHANTABILITY or FITNESS FOR A PARTICULAR PURPOSE. See the\n",
      "# GNU Lesser General Public License for more details.\n",
      "#\n",
      "# You should have received a copy of the GNU Lesser General Public License\n",
      "# along with DOLFIN. If not, see <http://www.gnu.org/licenses/>.\n",
      "#\n",
      "# Modified by Anders Logg 2008, 2015\n",
      "#\n",
      "# First added:  2008-08-22\n",
      "# Last changed: 2015-06-15\n",
      "\n",
      "from __future__ import print_function\n",
      "from dolfin import *\n",
      "\n",
      "# Test for PETSc and SLEPc\n",
      "if not has_linear_algebra_backend(\"PETSc\"):\n",
      "    print(\"DOLFIN has not been configured with PETSc. Exiting.\")\n",
      "    exit()\n",
      "\n",
      "if not has_slepc():\n",
      "    print(\"DOLFIN has not been configured with SLEPc. Exiting.\")\n",
      "    exit()\n",
      "\n",
      "# Make sure we use the PETSc backend\n",
      "parameters[\"linear_algebra_backend\"] = \"PETSc\"\n",
      "\n",
      "# Create mesh\n",
      "width = 1.0\n",
      "height = 0.5\n",
      "mesh = RectangleMesh(Point(0, 0), Point(width, height), 4, 2)\n",
      "\n",
      "# Define the function space\n",
      "V = FunctionSpace(mesh, \"Nedelec 1st kind H(curl)\", 3)\n",
      "\n",
      "# Define the test and trial functions\n",
      "v = TestFunction(V)\n",
      "u = TrialFunction(V)\n",
      "\n",
      "# Define the forms - generates an generalized eigenproblem of the form\n",
      "# [S]{h} = k_o^2[T]{h}\n",
      "# with the eigenvalues k_o^2 representing the square of the cutoff wavenumber\n",
      "# and the corresponding right-eigenvector giving the coefficients of the\n",
      "# discrete system used to obtain the approximate field anywhere in the domain\n",
      "def curl_t(w):\n",
      "    return Dx(w[1], 0) - Dx(w[0], 1)\n",
      "s = curl_t(v)*curl_t(u)*dx\n",
      "t = inner(v, u)*dx\n",
      "\n",
      "# Assemble the stiffness matrix (S) and mass matrix (T)\n",
      "S = PETScMatrix()\n",
      "T = PETScMatrix()\n",
      "assemble(s, tensor=S)\n",
      "assemble(t, tensor=T)\n",
      "\n",
      "# Solve the eigensystem\n",
      "esolver = SLEPcEigenSolver(S, T)\n",
      "esolver.parameters[\"spectrum\"] = \"smallest real\"\n",
      "esolver.parameters[\"solver\"] = \"lapack\"\n",
      "esolver.solve()\n",
      "\n",
      "# The result should have real eigenvalues but due to rounding errors, some of\n",
      "# the resultant eigenvalues may be small complex values.\n",
      "# only consider the real part\n",
      "\n",
      "# Now, the system contains a number of zero eigenvalues (near zero due to\n",
      "# rounding) which are eigenvalues corresponding to the null-space of the curl\n",
      "# operator and are a mathematical construct and do not represent physically\n",
      "# realizable modes.  These are called spurious modes.\n",
      "# So, we need to identify the smallest, non-zero eigenvalue of the system -\n",
      "# which corresponds with cutoff wavenumber of the the dominant cutoff mode.\n",
      "cutoff = None\n",
      "for i in range(S.size(1)):\n",
      "    (lr, lc) = esolver.get_eigenvalue(i)\n",
      "    if lr > 1 and lc == 0:\n",
      "        cutoff = sqrt(lr)\n",
      "        break\n",
      "\n",
      "if cutoff is None:\n",
      "    print(\"Unable to find dominant mode\")\n",
      "else:\n",
      "    print(\"Cutoff frequency:\", cutoff)"
     ],
     "language": "python",
     "metadata": {},
     "outputs": [
      {
       "ename": "NotImplementedError",
       "evalue": "Wrong number or type of arguments for overloaded function 'new_RectangleMesh'.\n  Possible C/C++ prototypes are:\n    dolfin::RectangleMesh::RectangleMesh(double,double,double,double,std::size_t,std::size_t,std::string)\n    dolfin::RectangleMesh::RectangleMesh(double,double,double,double,std::size_t,std::size_t)\n    dolfin::RectangleMesh::RectangleMesh(MPI_Comm,double,double,double,double,std::size_t,std::size_t,std::string)\n    dolfin::RectangleMesh::RectangleMesh(MPI_Comm,double,double,double,double,std::size_t,std::size_t)\n",
       "output_type": "pyerr",
       "traceback": [
        "\u001b[0;31m---------------------------------------------------------------------------\u001b[0m\n\u001b[0;31mNotImplementedError\u001b[0m                       Traceback (most recent call last)",
        "\u001b[0;32m<ipython-input-18-bdb7a2901251>\u001b[0m in \u001b[0;36m<module>\u001b[0;34m()\u001b[0m\n\u001b[1;32m     47\u001b[0m \u001b[0mwidth\u001b[0m \u001b[0;34m=\u001b[0m \u001b[0;36m1.0\u001b[0m\u001b[0;34m\u001b[0m\u001b[0m\n\u001b[1;32m     48\u001b[0m \u001b[0mheight\u001b[0m \u001b[0;34m=\u001b[0m \u001b[0;36m0.5\u001b[0m\u001b[0;34m\u001b[0m\u001b[0m\n\u001b[0;32m---> 49\u001b[0;31m \u001b[0mmesh\u001b[0m \u001b[0;34m=\u001b[0m \u001b[0mRectangleMesh\u001b[0m\u001b[0;34m(\u001b[0m\u001b[0mPoint\u001b[0m\u001b[0;34m(\u001b[0m\u001b[0;36m0\u001b[0m\u001b[0;34m,\u001b[0m \u001b[0;36m0\u001b[0m\u001b[0;34m)\u001b[0m\u001b[0;34m,\u001b[0m \u001b[0mPoint\u001b[0m\u001b[0;34m(\u001b[0m\u001b[0mwidth\u001b[0m\u001b[0;34m,\u001b[0m \u001b[0mheight\u001b[0m\u001b[0;34m)\u001b[0m\u001b[0;34m,\u001b[0m \u001b[0;36m4\u001b[0m\u001b[0;34m,\u001b[0m \u001b[0;36m2\u001b[0m\u001b[0;34m)\u001b[0m\u001b[0;34m\u001b[0m\u001b[0m\n\u001b[0m\u001b[1;32m     50\u001b[0m \u001b[0;34m\u001b[0m\u001b[0m\n\u001b[1;32m     51\u001b[0m \u001b[0;31m# Define the function space\u001b[0m\u001b[0;34m\u001b[0m\u001b[0;34m\u001b[0m\u001b[0m\n",
        "\u001b[0;32m/usr/lib/python2.7/dist-packages/dolfin/cpp/mesh.pyc\u001b[0m in \u001b[0;36m__init__\u001b[0;34m(self, *args)\u001b[0m\n\u001b[1;32m   8578\u001b[0m \u001b[0;34m\u001b[0m\u001b[0m\n\u001b[1;32m   8579\u001b[0m         \"\"\"\n\u001b[0;32m-> 8580\u001b[0;31m         \u001b[0m_mesh\u001b[0m\u001b[0;34m.\u001b[0m\u001b[0mRectangleMesh_swiginit\u001b[0m\u001b[0;34m(\u001b[0m\u001b[0mself\u001b[0m\u001b[0;34m,\u001b[0m\u001b[0m_mesh\u001b[0m\u001b[0;34m.\u001b[0m\u001b[0mnew_RectangleMesh\u001b[0m\u001b[0;34m(\u001b[0m\u001b[0;34m*\u001b[0m\u001b[0margs\u001b[0m\u001b[0;34m)\u001b[0m\u001b[0;34m)\u001b[0m\u001b[0;34m\u001b[0m\u001b[0m\n\u001b[0m\u001b[1;32m   8581\u001b[0m     \u001b[0m__swig_destroy__\u001b[0m \u001b[0;34m=\u001b[0m \u001b[0m_mesh\u001b[0m\u001b[0;34m.\u001b[0m\u001b[0mdelete_RectangleMesh\u001b[0m\u001b[0;34m\u001b[0m\u001b[0m\n\u001b[1;32m   8582\u001b[0m \u001b[0mRectangleMesh_swigregister\u001b[0m \u001b[0;34m=\u001b[0m \u001b[0m_mesh\u001b[0m\u001b[0;34m.\u001b[0m\u001b[0mRectangleMesh_swigregister\u001b[0m\u001b[0;34m\u001b[0m\u001b[0m\n",
        "\u001b[0;31mNotImplementedError\u001b[0m: Wrong number or type of arguments for overloaded function 'new_RectangleMesh'.\n  Possible C/C++ prototypes are:\n    dolfin::RectangleMesh::RectangleMesh(double,double,double,double,std::size_t,std::size_t,std::string)\n    dolfin::RectangleMesh::RectangleMesh(double,double,double,double,std::size_t,std::size_t)\n    dolfin::RectangleMesh::RectangleMesh(MPI_Comm,double,double,double,double,std::size_t,std::size_t,std::string)\n    dolfin::RectangleMesh::RectangleMesh(MPI_Comm,double,double,double,double,std::size_t,std::size_t)\n"
       ]
      }
     ],
     "prompt_number": 18
    },
    {
     "cell_type": "code",
     "collapsed": false,
     "input": [
      "\"\"\" This demo demonstrates the calculation and visualization of a TM\n",
      "    2 (Transverse Magnetic) cutoff mode of a rectangular waveguide.\n",
      "    3 \n",
      "    4 For more information regarding waveguides see\n",
      "    5 \n",
      "    6 http://www.ee.bilkent.edu.tr/~microwave/programs/magnetic/rect/info.htm\n",
      "    7 \n",
      "    8 See the pdf in the parent folder and the following reference\n",
      "    9 \n",
      "   10 The Finite Element in Electromagnetics (2nd Ed)\n",
      "   11 Jianming Jin [7.2.1 - 7.2.2]\n",
      "   12 \n",
      "   13 \"\"\"\n",
      "# Copyright (C) 2008 Evan Lezar\n",
      "#\n",
      "# This file is part of DOLFIN.\n",
      "#\n",
      "# DOLFIN is free software: you can redistribute it and/or modify\n",
      "# it under the terms of the GNU Lesser General Public License as published by\n",
      "# the Free Software Foundation, either version 3 of the License, or\n",
      "# (at your option) any later version.\n",
      "#\n",
      "# DOLFIN is distributed in the hope that it will be useful,\n",
      "# but WITHOUT ANY WARRANTY; without even the implied warranty of\n",
      "# MERCHANTABILITY or FITNESS FOR A PARTICULAR PURPOSE. See the\n",
      "# GNU Lesser General Public License for more details.\n",
      "#\n",
      "# You should have received a copy of the GNU Lesser General Public License\n",
      "# along with DOLFIN. If not, see <http://www.gnu.org/licenses/>.\n",
      "#\n",
      "# Modified by Anders Logg 2008, 2015\n",
      "#\n",
      "# First added:  2008-08-22\n",
      "# Last changed: 2015-06-15\n",
      "\n",
      "from __future__ import print_function\n",
      "from dolfin import *\n",
      "\n",
      "# Test for PETSc and SLEPc\n",
      "if not has_linear_algebra_backend(\"PETSc\"):\n",
      "   print(\"DOLFIN has not been configured with PETSc. Exiting.\")\n",
      "   exit()\n",
      "\n",
      "if not has_slepc():\n",
      "   print(\"DOLFIN has not been configured with SLEPc. Exiting.\")\n",
      "   exit()\n",
      "\n",
      "# Make sure we use the PETSc backend\n",
      "parameters[\"linear_algebra_backend\"] = \"PETSc\"\n",
      "\n",
      "# Create mesh\n",
      "width = 1.0\n",
      "height = 0.5\n",
      "mesh = RectangleMesh(0, 0,width, height, 4, 2)\n",
      "\n",
      "# Define the function space\n",
      "VN = FunctionSpace(mesh, \"Nedelec 1st kind H(curl)\", 3)\n",
      "VL = FunctionSpace(mesh, \"Lagrange\", 3)\n",
      "V = VN*VL\n",
      "# Define the test and trial functions\n",
      "v = TestFunction(V)\n",
      "u = TrialFunction(V)\n",
      "\n",
      "# Define the forms - generates an generalized eigenproblem of the form\n",
      "# [S]{h} = k_o^2[T]{h}\n",
      "# with the eigenvalues k_o^2 representing the square of the cutoff wavenumber\n",
      "# and the corresponding right-eigenvector giving the coefficients of the\n",
      "# discrete system used to obtain the approximate field anywhere in the domain\n",
      "def curl_t(w):\n",
      "    return Dx(w[1], 0) - Dx(w[0], 1)\n",
      "s = curl_t(v)*curl_t(u)*dx\n",
      "t = inner(v, u)*dx\n",
      "\n",
      "# Assemble the stiffness matrix (S) and mass matrix (T)\n",
      "S = PETScMatrix()\n",
      "T = PETScMatrix()\n",
      "assemble(s, tensor=S)\n",
      "assemble(t, tensor=T)\n",
      "\n",
      "# Solve the eigensystem\n",
      "esolver = SLEPcEigenSolver(S, T)\n",
      "esolver.parameters[\"spectrum\"] = \"smallest real\"\n",
      "esolver.parameters[\"solver\"] = \"lapack\"\n",
      "esolver.solve()\n",
      "\n",
      "# The result should have real eigenvalues but due to rounding errors, some of\n",
      "# the resultant eigenvalues may be small complex values.\n",
      "# only consider the real part\n",
      "\n",
      "# Now, the system contains a number of zero eigenvalues (near zero due to\n",
      "# rounding) which are eigenvalues corresponding to the null-space of the curl\n",
      "# operator and are a mathematical construct and do not represent physically\n",
      "# realizable modes.  These are called spurious modes.\n",
      "# So, we need to identify the smallest, non-zero eigenvalue of the system -\n",
      "# which corresponds with cutoff wavenumber of the the dominant cutoff mode.\n",
      "cutoff = None\n",
      "for i in range(S.size(1)):\n",
      "   (lr, lc) = esolver.get_eigenvalue(i)\n",
      "   if lr > 1 and lc == 0:\n",
      "       cutoff = sqrt(lr)\n",
      "       break\n",
      "\n",
      "if cutoff is None:\n",
      "   print(\"Unable to find dominant mode\")\n",
      "else:\n",
      "   print(\"Cutoff wavenumber:\", cutoff)"
     ],
     "language": "python",
     "metadata": {},
     "outputs": [
      {
       "output_type": "stream",
       "stream": "stderr",
       "text": [
        "DEBUG:FFC:Reusing form from cache.\n"
       ]
      },
      {
       "output_type": "stream",
       "stream": "stderr",
       "text": [
        "DEBUG:FFC:Reusing form from cache.\n"
       ]
      },
      {
       "output_type": "stream",
       "stream": "stderr",
       "text": [
        "DEBUG:FFC:Reusing form from cache.\n"
       ]
      },
      {
       "output_type": "stream",
       "stream": "stderr",
       "text": [
        "DEBUG:FFC:Reusing form from cache.\n"
       ]
      },
      {
       "output_type": "stream",
       "stream": "stderr",
       "text": [
        "DEBUG:FFC:Reusing form from cache.\n"
       ]
      },
      {
       "output_type": "stream",
       "stream": "stdout",
       "text": [
        "Cutoff wavenumber: 7.0253515495\n"
       ]
      }
     ],
     "prompt_number": 2
    },
    {
     "cell_type": "code",
     "collapsed": false,
     "input": [
      "r, c, rx, cx = esolver.get_eigenpair(0)\n"
     ],
     "language": "python",
     "metadata": {},
     "outputs": [],
     "prompt_number": 24
    },
    {
     "cell_type": "code",
     "collapsed": false,
     "input": [
      "print(r)"
     ],
     "language": "python",
     "metadata": {},
     "outputs": [
      {
       "output_type": "stream",
       "stream": "stdout",
       "text": [
        "-2.12492594291e-12\n"
       ]
      }
     ],
     "prompt_number": 30
    },
    {
     "cell_type": "code",
     "collapsed": false,
     "input": [
      "u = Function(V)\n",
      "#u.vector()[:] = r\n"
     ],
     "language": "python",
     "metadata": {},
     "outputs": [],
     "prompt_number": 5
    },
    {
     "cell_type": "code",
     "collapsed": false,
     "input": [
      "plot(u)\n",
      "interactive()\n"
     ],
     "language": "python",
     "metadata": {},
     "outputs": [],
     "prompt_number": 6
    },
    {
     "cell_type": "code",
     "collapsed": false,
     "input": [
      "esolver.get_eigenpair?"
     ],
     "language": "python",
     "metadata": {},
     "outputs": [],
     "prompt_number": 7
    },
    {
     "cell_type": "code",
     "collapsed": false,
     "input": [
      "(transverse, axial) = u.split()"
     ],
     "language": "python",
     "metadata": {},
     "outputs": [],
     "prompt_number": 8
    },
    {
     "cell_type": "code",
     "collapsed": false,
     "input": [
      "axial"
     ],
     "language": "python",
     "metadata": {},
     "outputs": [
      {
       "latex": [
        "${w_h^20}$"
       ],
       "metadata": {},
       "output_type": "pyout",
       "png": "[encoded data removed]",
       "prompt_number": 10,
       "text": [
        "Coefficient(FiniteElement('Lagrange', Domain(Cell('triangle', 2), label='dolfin_mesh_with_id_0', data='<data with id 0>'), 3, quad_scheme=None), 20)"
       ]
      }
     ],
     "prompt_number": 10
    },
    {
     "cell_type": "code",
     "collapsed": false,
     "input": [],
     "language": "python",
     "metadata": {},
     "outputs": []
    }
   ],
   "metadata": {}
  }
 ]
}