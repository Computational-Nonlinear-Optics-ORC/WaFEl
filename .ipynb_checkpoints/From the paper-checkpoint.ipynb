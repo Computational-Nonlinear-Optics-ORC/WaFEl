{
 "metadata": {
  "name": ""
 },
 "nbformat": 3,
 "nbformat_minor": 0,
 "worksheets": [
  {
   "cells": [
    {
     "cell_type": "code",
     "collapsed": false,
     "input": [
      "#Import the required modules\n",
      "from dolfin import *\n",
      "import numpy as np"
     ],
     "language": "python",
     "metadata": {},
     "outputs": [],
     "prompt_number": 1
    },
    {
     "cell_type": "code",
     "collapsed": false,
     "input": [
      "#The mesh used for the rectangular hollow guides\n",
      "a = 1.0\n",
      "b = 0.5\n"
     ],
     "language": "python",
     "metadata": {},
     "outputs": [],
     "prompt_number": 2
    },
    {
     "cell_type": "code",
     "collapsed": false,
     "input": [
      "#Create a rectancular mesh with origin (0,0) extending to (a,b) with 8 edges along the long side and 4 elements along the short side\n",
      "mesh =RectangleMesh(0,0,a,b,8,4)"
     ],
     "language": "python",
     "metadata": {},
     "outputs": [],
     "prompt_number": 3
    },
    {
     "cell_type": "code",
     "collapsed": false,
     "input": [
      "#define the orders of the fucntion spaces for vector and nodal basis functions\n",
      "vector_order = 2\n",
      "nodal_order = 3\n"
     ],
     "language": "python",
     "metadata": {},
     "outputs": [],
     "prompt_number": 4
    },
    {
     "cell_type": "code",
     "collapsed": false,
     "input": [
      "#define the function spaces\n",
      "vector_space = FunctionSpace(mesh,\"Nedelec 1st kind H(curl)\",vector_order)\n",
      "nodal_space = FunctionSpace(mesh,\"Lagrange\",nodal_order)\n",
      "combined_space = vector_space*nodal_space"
     ],
     "language": "python",
     "metadata": {},
     "outputs": [
      {
       "output_type": "stream",
       "stream": "stderr",
       "text": [
        "DEBUG:FFC:Reusing form from cache.\n"
       ]
      },
      {
       "output_type": "stream",
       "stream": "stderr",
       "text": [
        "DEBUG:FFC:Reusing form from cache.\n"
       ]
      },
      {
       "output_type": "stream",
       "stream": "stderr",
       "text": [
        "DEBUG:FFC:Reusing form from cache.\n"
       ]
      }
     ],
     "prompt_number": 5
    },
    {
     "cell_type": "code",
     "collapsed": false,
     "input": [
      "#Define the test and trial functions from the combined space\n",
      "# here N_v and N_u are Nedelec basis functions and L_v and L_u are Lagrange basis functions\n",
      "(N_i,L_i) = TestFunctions(combined_space)\n",
      "(N_j,L_j) = TrialFunctions(combined_space)"
     ],
     "language": "python",
     "metadata": {},
     "outputs": [],
     "prompt_number": 6
    },
    {
     "cell_type": "code",
     "collapsed": false,
     "input": [
      "#specify the relative permittivity and permeability\n",
      "e_r = 1.0\n",
      "u_r = 1.0"
     ],
     "language": "python",
     "metadata": {},
     "outputs": [],
     "prompt_number": 7
    },
    {
     "cell_type": "code",
     "collapsed": false,
     "input": [
      "def curl_t(w):\n",
      "    return Dx(w[1], 0) - Dx(w[0], 1)"
     ],
     "language": "python",
     "metadata": {},
     "outputs": [],
     "prompt_number": 8
    },
    {
     "cell_type": "code",
     "collapsed": false,
     "input": [
      "#define the forms (matrix elements) for cutoff analysis into the basis fnctions\n",
      "s_tt_ij = 1.0/u_r*inner(curl_t(N_i),curl_t(N_j))\n",
      "t_tt_ij = e_r*inner(N_i,N_j)\n",
      "s_zz_ij = 1.0/u_r * inner(grad(L_i),grad(L_j))\n",
      "t_zz_ij = e_r*L_i*L_j\n",
      "#post-multiplication by dx will result in integration over the domain of the mesh at assembly time\n",
      "s_ij =(s_tt_ij+s_zz_ij)*dx\n",
      "t_ij = (t_tt_ij+t_zz_ij)*dx"
     ],
     "language": "python",
     "metadata": {},
     "outputs": [],
     "prompt_number": 9
    },
    {
     "cell_type": "code",
     "collapsed": false,
     "input": [
      "#assemble the sysstem Matrices. DOLFIN automtically evaluates each of the forms for all the \n",
      "#relavent test and tial functions combnatuoins ie piossible valies of i and j\n",
      "S = assemble(s_ij)\n",
      "T = assemble(t_ij)\n"
     ],
     "language": "python",
     "metadata": {},
     "outputs": [
      {
       "output_type": "stream",
       "stream": "stderr",
       "text": [
        "DEBUG:FFC:Reusing form from cache.\n"
       ]
      },
      {
       "output_type": "stream",
       "stream": "stderr",
       "text": [
        "DEBUG:FFC:Reusing form from cache.\n"
       ]
      }
     ],
     "prompt_number": 10
    },
    {
     "cell_type": "code",
     "collapsed": false,
     "input": [
      "#create a mesh function to mark the edges(dimension 1) in the mesh\n",
      "boundary_markers = MeshFunction('uint',mesh,1)\n",
      "#mark all edges as 0\n",
      "boundary_markers.set_all(0)\n",
      "#mark the edges on the boundary as 1\n",
      "DomainBoundary().mark(boundary_markers,1)"
     ],
     "language": "python",
     "metadata": {},
     "outputs": [],
     "prompt_number": 11
    },
    {
     "cell_type": "code",
     "collapsed": false,
     "input": [
      "#create the boundary condition using the combined function space, a zero Expression, and the mesh function\n",
      "#for the edges. Note that the last parameter (1) is used to indicate the edges where the boundary condition must be applied\n",
      "electric_wall = DirichletBC(combined_space,Expression((\"0.0\",\"0.0\",\"0.0\")),boundary_markers,1)\n",
      "#apply the boundary condition to the assembled matrices\n",
      "electric_wall.apply(S)\n",
      "electric_wall.apply(T)"
     ],
     "language": "python",
     "metadata": {},
     "outputs": [],
     "prompt_number": 12
    },
    {
     "cell_type": "code",
     "collapsed": false,
     "input": [
      "#initialise a vector of ones\n",
      "indicators = np.ones(S.size(0))\n",
      "#get the boundary indictators to remove the rows and colums associated with the boundary DOFs\n",
      "indicators[electric_wall.get_boundary_values().keys()]=0\n",
      "#the free DOFs correspond to the elements of indicators that are equal to 1\n",
      "free_dofs = np.where(indicators == 1)[0]\n",
      "#convert the dolfin matrices to numpy arrays selecting only the rows and colums associated with the free DOFs\n",
      "S_np = S.array()[free_dofs,:][:,free_dofs]\n",
      "T_np = T.array()[free_dofs,:][:,free_dofs]"
     ],
     "language": "python",
     "metadata": {},
     "outputs": [],
     "prompt_number": 13
    },
    {
     "cell_type": "code",
     "collapsed": false,
     "input": [
      "#solve the eigensystem (S_np,T_np) using scipy)]\n",
      "from scipy.linalg import eig\n",
      "k_c_squared,ev = eig(S_np,T_np)\n",
      "#sort the calculated values\n",
      "sort_index = np.argsort(k_c_squared)\n",
      "#skip over the non-physical(zero) eigenmodes\n",
      "first_mode_idx = np.where(k_c_squared[sort_index]>1e-8)[0][0]"
     ],
     "language": "python",
     "metadata": {},
     "outputs": [],
     "prompt_number": 14
    },
    {
     "cell_type": "code",
     "collapsed": false,
     "input": [
      "print(\"The cutoff wavenumbers of the 4 most dominant modes are:\")\n",
      "print(k_c_squared[sort_index][first_mode_idx:first_mode_idx+4])"
     ],
     "language": "python",
     "metadata": {},
     "outputs": [
      {
       "output_type": "stream",
       "stream": "stdout",
       "text": [
        "The cutoff wavenumbers of the 4 most dominant modes are:\n",
        "[  9.86961866+0.j  39.47928042+0.j  39.47928196+0.j  49.34837428+0.j]\n"
       ]
      }
     ],
     "prompt_number": 15
    },
    {
     "cell_type": "code",
     "collapsed": false,
     "input": [
      "#TE_10 mode is the first mode\n",
      "mode_idx = 0\n",
      "#post-process the coefficients to map back to the full matrix\n",
      "coefficiants_global = np.zeros(S.size(0))\n",
      "coefficiants_global[free_dofs] = ev[:,sort_index[first_mode_idx+mode_idx]]\n",
      "#Create a Function on the combined space\n",
      "mode = Function(combined_space)\n",
      "#Assign the coefficients of the function to the calculated values\n",
      "mode.vector().set_local(coefficiants_global)\n",
      "#Split the function into the parts in each of the functions spaces in combined_space\n",
      "#This is done using DOLFINs Function.split()\n",
      "(TE,TM) = mode.split()\n",
      "#Plot the mode using the dolfin plotter\n"
     ],
     "language": "python",
     "metadata": {},
     "outputs": [],
     "prompt_number": 20
    },
    {
     "cell_type": "code",
     "collapsed": false,
     "input": [
      "plot(TE,title = \"TE_10 mode\")\n",
      "interactive()"
     ],
     "language": "python",
     "metadata": {},
     "outputs": [],
     "prompt_number": 21
    },
    {
     "cell_type": "code",
     "collapsed": false,
     "input": [
      "#TE_10 mode is the first mode\n",
      "mode_idx = 3\n",
      "#post-process the coefficients to map back to the full matrix\n",
      "coefficiants_global = np.zeros(S.size(0))\n",
      "coefficiants_global[free_dofs] = ev[:,sort_index[first_mode_idx+mode_idx]]\n",
      "#Create a Function on the combined space\n",
      "mode = Function(combined_space)\n",
      "#Assign the coefficients of the function to the calculated values\n",
      "mode.vector().set_local(coefficiants_global)\n",
      "#Split the function into the parts in each of the functions spaces in combined_space\n",
      "#This is done using DOLFINs Function.split()\n",
      "(TE,TM) = mode.split()\n",
      "#Plot the mode using the dolfin plotter"
     ],
     "language": "python",
     "metadata": {},
     "outputs": [],
     "prompt_number": 23
    },
    {
     "cell_type": "code",
     "collapsed": false,
     "input": [
      "plot(TM,title=\"TM_11 mode\")\n",
      "interactive()"
     ],
     "language": "python",
     "metadata": {},
     "outputs": [],
     "prompt_number": 24
    },
    {
     "cell_type": "code",
     "collapsed": false,
     "input": [
      "TM\n"
     ],
     "language": "python",
     "metadata": {},
     "outputs": [
      {
       "latex": [
        "${w_h^46}$"
       ],
       "metadata": {},
       "output_type": "pyout",
       "png": "[encoded data removed]",
       "prompt_number": 25,
       "text": [
        "Coefficient(FiniteElement('Lagrange', Domain(Cell('triangle', 2), label='dolfin_mesh_with_id_0', data='<data with id 0>'), 3, quad_scheme=None), 46)"
       ]
      }
     ],
     "prompt_number": 25
    },
    {
     "cell_type": "code",
     "collapsed": false,
     "input": [],
     "language": "python",
     "metadata": {},
     "outputs": []
    }
   ],
   "metadata": {}
  }
 ]
}