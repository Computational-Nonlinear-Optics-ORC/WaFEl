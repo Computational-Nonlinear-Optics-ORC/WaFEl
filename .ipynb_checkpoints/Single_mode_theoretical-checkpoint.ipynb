{
 "cells": [
  {
   "cell_type": "markdown",
   "metadata": {},
   "source": [
    "# Single mode fibre\n",
    "This uses the theoretical result of the single mode optical fibre in order to form a point of comparison to the Fenics solver. "
   ]
  },
  {
   "cell_type": "code",
   "execution_count": 41,
   "metadata": {
    "collapsed": false
   },
   "outputs": [],
   "source": [
    "from __future__ import division\n",
    "import numpy as np\n",
    "import matplotlib.pylab as plt\n",
    "from scipy.constants import c,pi\n",
    "from scipy.special import jv,kv\n",
    "from scipy.optimize import fsolve\n",
    "from math import atan"
   ]
  },
  {
   "cell_type": "code",
   "execution_count": 28,
   "metadata": {
    "collapsed": false
   },
   "outputs": [],
   "source": [
    "#Inputs:\n",
    "n1 = 1.444\n",
    "n0 = 1.445\n",
    "lamda = 1.55e-6\n",
    "a = 1e-5\n",
    "V  = a*2*pi/lamda*(n0**2 - n1**2)**0.5\n",
    "Delta = (n0**2 - n1**2)/(2*n1**2)"
   ]
  },
  {
   "cell_type": "code",
   "execution_count": 29,
   "metadata": {
    "collapsed": false
   },
   "outputs": [],
   "source": [
    "def system(vec,V,Delta):\n",
    "    u,w = vec\n",
    "    return u**2+w**2 - V**2, jv(0,u)/(u*jv(1,u)) - (1-Delta)*kv(0,w)/(w*kv(1,w))"
   ]
  },
  {
   "cell_type": "code",
   "execution_count": 30,
   "metadata": {
    "collapsed": false
   },
   "outputs": [],
   "source": [
    "u,w = fsolve(system,[1,1],args=(V,Delta))"
   ]
  },
  {
   "cell_type": "code",
   "execution_count": 39,
   "metadata": {
    "collapsed": false
   },
   "outputs": [],
   "source": [
    "neff = (((n_clad/u)**2 + (n_core/w)**2)/((1/u)**2 + (1/w)**2))**0.5\n",
    "beta = neff*2*pi/lamda"
   ]
  },
  {
   "cell_type": "code",
   "execution_count": 32,
   "metadata": {
    "collapsed": false
   },
   "outputs": [],
   "source": [
    "r_core = np.linspace(0,a)\n",
    "#theta = np.linspace ()"
   ]
  },
  {
   "cell_type": "code",
   "execution_count": 35,
   "metadata": {
    "collapsed": false
   },
   "outputs": [],
   "source": [
    "def sigma(u,w,V,Delta):\n",
    "    return -1 - u**2 * w**2 * Delta * jv(0,u)/(V**2 * u * jv(1,u))\n"
   ]
  },
  {
   "cell_type": "code",
   "execution_count": 42,
   "metadata": {
    "collapsed": true
   },
   "outputs": [],
   "source": [
    "def cart_to_cyl(x,y,z):\n",
    "    \"\"\"\n",
    "    Transforms cartesian coordinates to cylyndrical coordinates\n",
    "    input x, y, z\n",
    "    returns tuple:  r, theta, z \n",
    "    \"\"\"\n",
    "    return (x**2 + y**2)**0.5, atan(y/x),z"
   ]
  },
  {
   "cell_type": "code",
   "execution_count": 91,
   "metadata": {
    "collapsed": false
   },
   "outputs": [],
   "source": [
    "x = np.linspace(-2*a,2*a,512)\n",
    "y = np.linspace(-2*a,2*a,512)"
   ]
  },
  {
   "cell_type": "code",
   "execution_count": 92,
   "metadata": {
    "collapsed": false
   },
   "outputs": [],
   "source": [
    "def electric_field(x,y,u,w,beta,a,V,psi,n):\n",
    "    n+=1\n",
    "    r,theta,z = cart_to_cyl(x,y,0)\n",
    "    s = sigma(u,w,V,Delta)\n",
    "    if r <=a:\n",
    "        er = (-1j* beta* a/u)*np.cos(n*theta +psi)*(0.5*(1-s)*jv(n-1,u*r/a) - 0.5*(1+s)*jv(n+1,u*r/a))\n",
    "        etheta = (1j*beta*a/u)*np.sin(n*theta+psi)*(0.5*(1-s)*jv(n-1,u*r/a)+0.5*(1+s)*jv(n+1,u*r/a))\n",
    "        ez = jv(n,u*r/a)*np.cos(n*theta+psi)\n",
    "    else:\n",
    "        er = -1j*beta *a *jv(n,u)/(w*kv(n,w))*(0.5*(1-s)*kv(n-1,w*r/a)+0.5*(1+s)*kv(n+1,w*r/a))*np.cos(n*theta + psi)\n",
    "        etheta = 1j*beta *a *jv(n,u)/(w*kv(n,w))*(0.5*(1-s)*kv(n-1,w*r/a)-0.5*(1+s)*kv(n+1,w*r/a))*np.sin(n*theta + psi)\n",
    "        ez = (jv(n,u)/w*k(n,w))*np.cos(n*theta+psi) \n",
    "    ex = er*np.cos(theta) - etheta*np.sin(theta)\n",
    "    ey =er*np.sin(theta) + etheta*np.cos(theta)\n",
    "    return ex,ey,ez\n",
    "    #if r<=a:\n",
    "    #    ex = (-1j* beta* a/u)*(0.5*(1-s)*jv(0,u*r/a)*np.cos(psi) - 0.5*(1+s)*jv(2,u*r/a)*np.cos(2*theta +psi))\n",
    "    #    ey = (1j*beta*a/u)*(0.5*(1-s)*jv(0,u*r/a)*np.sin(psi)+0.5*(1+s)*jv(2,u*r/a)*np.sin(2*theta+psi))\n",
    "    #    ez = jv(1,u*r/a)*np.cos(theta+psi)\n",
    "    #else:\n",
    "    #    ex = 1j*beta*a*jv(1,u)/kv(1,w)*(0.5*(1-s)*kv(0,w*r/a)*cos(psi)+0.5*(1+s)*kv(2,w*r/a))\n",
    "    \n",
    "    "
   ]
  },
  {
   "cell_type": "code",
   "execution_count": 93,
   "metadata": {
    "collapsed": false
   },
   "outputs": [],
   "source": [
    "ele = np.zeros([3,len(x),len(y)],dtype=np.complex128)\n",
    "for i,xx in enumerate(x):\n",
    "    for j, yy in enumerate(y):\n",
    "        ele[:,i,j] = electric_field(xx,yy,u,w,beta,a,V,0,0)"
   ]
  },
  {
   "cell_type": "code",
   "execution_count": 94,
   "metadata": {
    "collapsed": false
   },
   "outputs": [],
   "source": [
    "abss = (np.abs(ele[0,:,:])**2 + np.abs(ele[1,:,:])**2 + np.abs(ele[2,:,:])**2)**0.5"
   ]
  },
  {
   "cell_type": "code",
   "execution_count": 95,
   "metadata": {
    "collapsed": false
   },
   "outputs": [
    {
     "data": {
      "text/plain": [
       "<function matplotlib.pyplot.show>"
      ]
     },
     "execution_count": 95,
     "metadata": {},
     "output_type": "execute_result"
    },
    {
     "data": {
      "image/png": "[encoded data removed]",
      "text/plain": [
       "<matplotlib.figure.Figure at 0x7f09568a77d0>"
      ]
     },
     "metadata": {},
     "output_type": "display_data"
    }
   ],
   "source": [
    "X,Y = np.meshgrid(x,y)\n",
    "fig = plt.figure()\n",
    "plt.contourf(X,Y,abss)\n",
    "plt.show"
   ]
  },
  {
   "cell_type": "code",
   "execution_count": 96,
   "metadata": {
    "collapsed": false
   },
   "outputs": [],
   "source": [
    "%matplotlib inline"
   ]
  },
  {
   "cell_type": "code",
   "execution_count": null,
   "metadata": {
    "collapsed": true
   },
   "outputs": [],
   "source": []
  }
 ],
 "metadata": {
  "kernelspec": {
   "display_name": "Python 2",
   "language": "python",
   "name": "python2"
  },
  "language_info": {
   "codemirror_mode": {
    "name": "ipython",
    "version": 2
   },
   "file_extension": ".py",
   "mimetype": "text/x-python",
   "name": "python",
   "nbconvert_exporter": "python",
   "pygments_lexer": "ipython2",
   "version": "2.7.11"
  }
 },
 "nbformat": 4,
 "nbformat_minor": 0
}
