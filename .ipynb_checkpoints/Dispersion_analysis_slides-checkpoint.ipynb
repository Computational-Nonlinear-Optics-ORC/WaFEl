{
 "cells": [
  {
   "cell_type": "markdown",
   "metadata": {
    "slideshow": {
     "slide_type": "slide"
    }
   },
   "source": [
    "\n",
    "Problems to solve:\n",
    "* find out why the eigenvalues are positive or negative\n",
    "* the polarisation direction using the quivers\n",
    "* does each mode correspond to the electric field it shows? Comsol seems to disagree in some of them\n",
    "* sparse matrices eigenvalue solver is bad. Cant work it\n",
    "* introduce a bound mode\n",
    "* PML"
   ]
  },
  {
   "cell_type": "markdown",
   "metadata": {
    "slideshow": {
     "slide_type": "slide"
    }
   },
   "source": [
    "### Theory\n",
    "(taken from the fenics book)\n",
    "\n",
    "We are solving the Helmholtz equation:\n",
    "                       "
   ]
  },
  {
   "cell_type": "markdown",
   "metadata": {
    "slideshow": {
     "slide_type": "slide"
    }
   },
   "source": [
    " $$\\nabla \\times \\frac{1}{\\mu_r}\\nabla \\times \\boldsymbol{E} - k_0^2 \\epsilon_r \\boldsymbol{E}=0,$$ with the boundary condition of electric mirrors.\n",
    " $$k_0 = \\frac{2\\pi f_0}{c_0}$$\n",
    " \n",
    " $$\\epsilon_r = (n+\\mathrm{i}k)^2$$"
   ]
  },
  {
   "cell_type": "markdown",
   "metadata": {
    "slideshow": {
     "slide_type": "slide"
    }
   },
   "source": [
    "The functional is:\n",
    "$$F(\\boldsymbol{E}) = \\frac{1}{2} \\int_\\Omega \\left[\\frac{1}{\\mu_r} \\left(\\nabla \\times \\boldsymbol{E}\\right)\\cdot \\left(\\nabla \\times \\boldsymbol{E}\\right) - k^2_0 \\epsilon_r \\boldsymbol{E}\\boldsymbol{E}\\right]dx$$"
   ]
  },
  {
   "cell_type": "markdown",
   "metadata": {
    "slideshow": {
     "slide_type": "slide"
    }
   },
   "source": [
    "In order to find it the vector is split in to the transverse and axial components.\n",
    "\n",
    "$$\\nabla = \\nabla_t + \\nabla_z,$$\n",
    "with $$\\nabla_t = \\hat{e_x}\\frac{\\partial}{\\partial x} + \\hat{e_y}\\frac{\\partial}{\\partial y}$$\n",
    "and $$\\nabla_z = \\hat{e_z}\\frac{\\partial}{\\partial z}$$\n",
    "We also assume that the electric field can be split like:\n",
    "$$\\boldsymbol{E}(x,y,z) = \\left[E_t(x,y) + \\hat{e_z} E_z(x,y) \\right] e^{-\\beta z}$$\n",
    "where $\\beta$ is the complex propagation constant,\n",
    "$$\\boldsymbol{E}_t = \\hat{e_x} E_x + \\hat{e_y} E_y$$ and $$ \\boldsymbol{E}_{axial} = \\hat{e_z} E_z$$"
   ]
  },
  {
   "cell_type": "markdown",
   "metadata": {
    "slideshow": {
     "slide_type": "slide"
    }
   },
   "source": [
    "By splitting the $\\nabla$ and by substituting the above for the electric field the functional becomes:\n",
    "                                $$ F(\\boldsymbol{E}) = \\int_{\\Omega}  \\frac{1}{\\mu_r} \\left(\\nabla_t \\times \\boldsymbol{E}_t\\right) \\cdot \\left(\\nabla_t \\times \\boldsymbol{E}_t\\right) -k^2_0 \\epsilon_r E_tE_t + \\frac{1}{\\mu_r} \\left(\\nabla_t E_z+\\beta E_t\\right)\\left(\\nabla_t E_z+\\beta E_t\\right) - k^2_0 \\epsilon_r E_z E_z dx$$"
   ]
  },
  {
   "cell_type": "markdown",
   "metadata": {
    "slideshow": {
     "slide_type": "slide"
    }
   },
   "source": [
    "Since the functional is built now the electric field components need to be discetized in order to be calculated. \n",
    "The axial component can be discretised by nodal basis functions (Lagrandge) but the transverse need to be by two dimensional curl-conforming vector basis functions(Nedelec).\n",
    "\n",
    "The electric field in the nedelec space is described by:\n",
    "$$E_{t} = \\sum_{i=1}^{N_{N}} (e_t)_i N_i$$\n",
    "\n",
    "and the axial in lagrange elements as:\n",
    "\n",
    "$$E_z = \\sum_{i=1}^{N_{L}} (e_z)_i L_i$$\n",
    ". Where $N_N$ and $N_L$ are the number of nedelec and lagrange elements respectively. $N_i$, $L_i$ are the basis functions and $e_t$, $e_z$ are the equivalent coefficients."
   ]
  },
  {
   "cell_type": "markdown",
   "metadata": {
    "slideshow": {
     "slide_type": "slide"
    }
   },
   "source": [
    "While the cuttoff method is easier to implement it only prety much finds the cuttoff wavenumber (shown in fenics book and in other papers). This is not what is of interest. I am interested in calculating the propagation constants $\\beta$ and by extension the effective indices and the Electric field that they equate to."
   ]
  },
  {
   "cell_type": "markdown",
   "metadata": {
    "slideshow": {
     "slide_type": "slide"
    }
   },
   "source": [
    "The functional for the dispersion analysis is shown to be:\n",
    "$$ F_{\\beta}(\\boldsymbol{E}) =  \\int_{\\Omega} \\frac{1}{\\mu_r} \\left(\\nabla_t \\times \\boldsymbol{E}_{t,\\beta}\\right) \\cdot \\left(\\nabla_t \\times \\boldsymbol{E}_{t,\\beta}\\right) -k^2_0 \\epsilon_r E_{t,\\beta}E_{t,\\beta} + \\beta^2 \\left[\\frac{1}{\\mu_r} \\left(\\nabla_t E_z+\\beta E_{t,\\gamma}\\right)\\left(\\nabla_t E_z+\\beta E_{t,\\gamma}\\right) - k^2_0 \\epsilon_r E_z E_z dx \\right]$$"
   ]
  },
  {
   "cell_type": "markdown",
   "metadata": {
    "slideshow": {
     "slide_type": "slide"
    }
   },
   "source": [
    "The matrix eqution to be solved is\n",
    "\n",
    "$$\\begin{bmatrix}\n",
    "    A_{tt}       & 0 \\\\\n",
    "    0       & 0 \n",
    "\\end{bmatrix}\\begin{bmatrix}\n",
    "    e_t \\\\\n",
    "    e_z      \n",
    "\\end{bmatrix} = -\\beta^2\n",
    "\\begin{bmatrix}\n",
    "    B_{tt}       & B_{tz} \\\\\n",
    "    B_{zt}       & B_{zz} \n",
    "\\end{bmatrix}\\begin{bmatrix}\n",
    "    e_t \\\\\n",
    "    e_z      \n",
    "\\end{bmatrix}\n",
    "$$"
   ]
  },
  {
   "cell_type": "markdown",
   "metadata": {
    "slideshow": {
     "slide_type": "slide"
    }
   },
   "source": [
    "Where $$A_{tt} = S_{tt} - k^2_0 T_{tt} = \\int_{\\Omega} \\frac{1}{\\mu_r} \\left(\\nabla_t \\times N_i \\right) \\left(\\nabla_t \\times N_j \\right)dx  - k^2_0 \\int_{\\omega} \\epsilon_r N_i N_jdx$$\n",
    "\n",
    "$$B_{zz} = S_{zz} - k^2_0 T_{zz} = \\int_{\\Omega} \\frac{1}{\\mu_r} \\left(\\nabla_t L_i \\right) \\left(\\nabla_t L_j \\right)dx  - k^2_0 \\int_{\\omega} \\epsilon_r L_i L_j dx$$\n",
    "\n",
    "\n",
    "$$ B_{tt} = \\int_{\\Omega} \\frac{1}{\\mu_r} N_i \\cdot  N_j dx$$\n",
    "\n",
    "$$ B_{tz} = \\int_{\\Omega} \\frac{1}{\\mu_r} N_i \\cdot  \\nabla_t L_j dx$$\n",
    "\n",
    "$$ B_{zt} = \\int_{\\Omega} \\frac{1}{\\mu_r} \\nabla_t L_i \\cdot  N_j dx$$"
   ]
  },
  {
   "cell_type": "markdown",
   "metadata": {
    "slideshow": {
     "slide_type": "slide"
    }
   },
   "source": [
    "### Code\n",
    "Import the required modules"
   ]
  },
  {
   "cell_type": "code",
   "execution_count": 1,
   "metadata": {
    "collapsed": false,
    "slideshow": {
     "slide_type": "slide"
    }
   },
   "outputs": [
    {
     "name": "stderr",
     "output_type": "stream",
     "text": [
      "/usr/lib/pymodules/python2.7/petsc4py/lib/__init__.py:123: UserWarning: ignored arch: 'arch-linux2-cxx-debug', using: 'linux-gnu-c-opt'\n",
      "  (os.path.pathsep.join(arch_env), arch))\n"
     ]
    }
   ],
   "source": [
    "%matplotlib inline\n",
    "from __future__ import division\n",
    "from dolfin import *\n",
    "import numpy as np\n",
    "from scipy.constants import c,pi\n",
    "from scipy.sparse.linalg import eigs, eigsh\n",
    "from scipy.linalg import eig\n",
    "from scipy import sparse\n",
    "import matplotlib.pylab as plt"
   ]
  },
  {
   "cell_type": "markdown",
   "metadata": {
    "slideshow": {
     "slide_type": "slide"
    }
   },
   "source": [
    "The mesh used for the rectangular hollow guides"
   ]
  },
  {
   "cell_type": "code",
   "execution_count": 2,
   "metadata": {
    "collapsed": false,
    "slideshow": {
     "slide_type": "slide"
    }
   },
   "outputs": [],
   "source": [
    "a = 1.0\n",
    "b = 0.5"
   ]
  },
  {
   "cell_type": "markdown",
   "metadata": {
    "slideshow": {
     "slide_type": "slide"
    }
   },
   "source": [
    "Inputs of the problem"
   ]
  },
  {
   "cell_type": "code",
   "execution_count": 3,
   "metadata": {
    "collapsed": false,
    "slideshow": {
     "slide_type": "slide"
    }
   },
   "outputs": [],
   "source": [
    "mu_r = 1.0\n",
    "n = 1\n",
    "k = 0\n",
    "lamda = 1.55e-2\n",
    "neff_g = 1 # Guess of the modes\n",
    "num= 2     #The number of modes\n",
    "neff_g -=k*1j"
   ]
  },
  {
   "cell_type": "code",
   "execution_count": 4,
   "metadata": {
    "collapsed": true,
    "slideshow": {
     "slide_type": "slide"
    }
   },
   "outputs": [],
   "source": [
    "e_r = (n+k*1j)**2\n",
    "\n",
    "k0 = 2*pi/lamda"
   ]
  },
  {
   "cell_type": "code",
   "execution_count": 5,
   "metadata": {
    "collapsed": false,
    "slideshow": {
     "slide_type": "slide"
    }
   },
   "outputs": [],
   "source": [
    "class epsilon_r(Expression):\n",
    "    def eval(self, values, x):\n",
    "        if x[0] > 0.4 and x[0]<0.6 and x[1] < 0.3 and x[1] >0.2:\n",
    "            values[0] = 4.0\n",
    "        else:\n",
    "            values[0] = 1.0"
   ]
  },
  {
   "cell_type": "markdown",
   "metadata": {
    "slideshow": {
     "slide_type": "slide"
    }
   },
   "source": [
    "## Mesh"
   ]
  },
  {
   "cell_type": "markdown",
   "metadata": {
    "slideshow": {
     "slide_type": "slide"
    }
   },
   "source": [
    "Create a rectancular mesh with origin (0,0) extending to (a,b) with 15 edges along the long side and 4 elements along the short side"
   ]
  },
  {
   "cell_type": "code",
   "execution_count": 6,
   "metadata": {
    "collapsed": false,
    "slideshow": {
     "slide_type": "slide"
    }
   },
   "outputs": [],
   "source": [
    "mesh =RectangleMesh(Point(0,0),Point(a,b),10,5)"
   ]
  },
  {
   "cell_type": "markdown",
   "metadata": {
    "slideshow": {
     "slide_type": "slide"
    }
   },
   "source": [
    "## Create the function space"
   ]
  },
  {
   "cell_type": "markdown",
   "metadata": {
    "slideshow": {
     "slide_type": "slide"
    }
   },
   "source": [
    "Define the orders of the fucntion spaces for vector and nodal basis functions"
   ]
  },
  {
   "cell_type": "code",
   "execution_count": 7,
   "metadata": {
    "collapsed": false,
    "slideshow": {
     "slide_type": "slide"
    }
   },
   "outputs": [],
   "source": [
    "vector_order = 2\n",
    "nodal_order = 3"
   ]
  },
  {
   "cell_type": "markdown",
   "metadata": {
    "slideshow": {
     "slide_type": "slide"
    }
   },
   "source": [
    "Define the function spaces"
   ]
  },
  {
   "cell_type": "code",
   "execution_count": 9,
   "metadata": {
    "collapsed": false,
    "slideshow": {
     "slide_type": "slide"
    }
   },
   "outputs": [
    {
     "name": "stderr",
     "output_type": "stream",
     "text": [
      "DEBUG:FFC:Reusing form from cache.\n",
      "DEBUG:FFC:Reusing form from cache.\n",
      "DEBUG:FFC:Reusing form from cache.\n"
     ]
    }
   ],
   "source": [
    "vector_space = FunctionSpace(mesh,\"Nedelec 1st kind H(curl)\",vector_order)\n",
    "nodal_space = FunctionSpace(mesh,\"Lagrange\",nodal_order)\n",
    "combined_space = vector_space*nodal_space"
   ]
  },
  {
   "cell_type": "markdown",
   "metadata": {
    "slideshow": {
     "slide_type": "slide"
    }
   },
   "source": [
    "Define the test and trial functions from the combined space here N_v and N_u are Nedelec basis functions and L_v and L_u are Lagrange basis functions"
   ]
  },
  {
   "cell_type": "code",
   "execution_count": 9,
   "metadata": {
    "collapsed": false,
    "slideshow": {
     "slide_type": "slide"
    }
   },
   "outputs": [],
   "source": [
    "(N_i,L_i) = TestFunctions(combined_space)\n",
    "(N_j,L_j) = TrialFunctions(combined_space)"
   ]
  },
  {
   "cell_type": "markdown",
   "metadata": {
    "slideshow": {
     "slide_type": "slide"
    }
   },
   "source": [
    "## Creating the matrix equation."
   ]
  },
  {
   "cell_type": "markdown",
   "metadata": {
    "slideshow": {
     "slide_type": "slide"
    }
   },
   "source": [
    "$$\\begin{bmatrix}\n",
    "    A_{tt}       & 0 \\\\\n",
    "    0       & 0 \n",
    "\\end{bmatrix}\\begin{bmatrix}\n",
    "    e_t \\\\\n",
    "    e_z      \n",
    "\\end{bmatrix} = -\\beta^2\n",
    "\\begin{bmatrix}\n",
    "    B_{tt}       & B_{tz} \\\\\n",
    "    B_{zt}       & B_{zz} \n",
    "\\end{bmatrix}\\begin{bmatrix}\n",
    "    e_t \\\\\n",
    "    e_z      \n",
    "\\end{bmatrix}\n",
    "$$"
   ]
  },
  {
   "cell_type": "markdown",
   "metadata": {
    "slideshow": {
     "slide_type": "slide"
    }
   },
   "source": [
    "Define the forms (matrix elements) for dispersion analysis into the basis functions"
   ]
  },
  {
   "cell_type": "code",
   "execution_count": 10,
   "metadata": {
    "collapsed": false,
    "slideshow": {
     "slide_type": "slide"
    }
   },
   "outputs": [],
   "source": [
    "#e_r = HalfLoadedDielectric()\n",
    "s_tt_ij = 1.0/mu_r*inner(curl(N_i),curl(N_j))\n",
    "t_tt_ij = np.real(e_r)*inner(N_i,N_j)\n",
    "s_zz_ij = (1.0/mu_r) * inner(grad(L_i),grad(L_j))\n",
    "t_zz_ij = np.real(e_r)*inner(L_i,L_j)"
   ]
  },
  {
   "cell_type": "code",
   "execution_count": 11,
   "metadata": {
    "collapsed": false,
    "slideshow": {
     "slide_type": "slide"
    }
   },
   "outputs": [],
   "source": [
    "A_tt_ij = s_tt_ij - k0**2*t_tt_ij\n",
    "B_zz_ij = s_zz_ij - k0**2*t_zz_ij\n",
    "\n",
    "B_tt_ij = (1/mu_r)*inner(N_i, N_j)\n",
    "B_tz_ij = 1/mu_r*inner(N_i, grad(L_j))\n",
    "\n",
    "B_zt_ij = 1/mu_r*inner(grad(L_i),N_j)"
   ]
  },
  {
   "cell_type": "markdown",
   "metadata": {
    "slideshow": {
     "slide_type": "slide"
    }
   },
   "source": [
    "post-multiplication by dx will result in integration over the domain of the mesh at assembly time"
   ]
  },
  {
   "cell_type": "code",
   "execution_count": 12,
   "metadata": {
    "collapsed": false,
    "slideshow": {
     "slide_type": "slide"
    }
   },
   "outputs": [],
   "source": [
    "A_ij =A_tt_ij*dx\n",
    "B_ij = (B_tt_ij+B_tz_ij+B_zt_ij+B_zz_ij)*dx"
   ]
  },
  {
   "cell_type": "markdown",
   "metadata": {
    "slideshow": {
     "slide_type": "slide"
    }
   },
   "source": [
    "assemble the system Matrices. DOLFIN automtically evaluates each of the forms for all the \n",
    "relavent test and tial functions combnatuoins ie piossible valies of i and j"
   ]
  },
  {
   "cell_type": "code",
   "execution_count": 13,
   "metadata": {
    "collapsed": false,
    "slideshow": {
     "slide_type": "slide"
    }
   },
   "outputs": [],
   "source": [
    "#for i in (A,B,A_complex,B_complex): i = GenericMatrix.\n",
    "\n",
    "#PETScMatrix(A_ij, tensor=A)    "
   ]
  },
  {
   "cell_type": "markdown",
   "metadata": {
    "collapsed": false,
    "scrolled": true,
    "slideshow": {
     "slide_type": "slide"
    }
   },
   "source": [
    "assemble(A_ij,tensor=A)\n",
    "assemble(B_ij,tensor=B)\n",
    "####This is to try and introduce the complex part\n",
    "if k !=0:\n",
    "    A_ii_complex = np.imag(e_r)*k0**2*inner(N_i,N_j)*dx\n",
    "    B_ii_complex = np.imag(e_r)*k0**2*inner(L_i,L_j)*dx\n",
    "    assemble(A_ii_complex,tensor = A_complex )\n",
    "    assemble(B_ii_complex,tensor = B_complex)"
   ]
  },
  {
   "cell_type": "code",
   "execution_count": 14,
   "metadata": {
    "collapsed": false,
    "slideshow": {
     "slide_type": "slide"
    }
   },
   "outputs": [
    {
     "name": "stderr",
     "output_type": "stream",
     "text": [
      "DEBUG:FFC:Reusing form from cache.\n",
      "DEBUG:FFC:Reusing form from cache.\n"
     ]
    }
   ],
   "source": [
    "A = assemble(A_ij)\n",
    "B = assemble(B_ij)\n",
    "####This is to try and introduce the complex part\n",
    "if k !=0:\n",
    "    A_ii_complex = np.imag(e_r)*k0**2*inner(N_i,N_j)*dx\n",
    "    B_ii_complex = np.imag(e_r)*k0**2*inner(L_i,L_j)*dx\n",
    "    A_complex = assemble(A_ii_complex)\n",
    "    B_complex = assemble(B_ii_complex)"
   ]
  },
  {
   "cell_type": "markdown",
   "metadata": {
    "slideshow": {
     "slide_type": "slide"
    }
   },
   "source": [
    "## Implement boundary conditions"
   ]
  },
  {
   "cell_type": "markdown",
   "metadata": {
    "slideshow": {
     "slide_type": "slide"
    }
   },
   "source": [
    "create a mesh function to mark the edges(dimension 1) in the mesh"
   ]
  },
  {
   "cell_type": "code",
   "execution_count": 15,
   "metadata": {
    "collapsed": false,
    "slideshow": {
     "slide_type": "slide"
    }
   },
   "outputs": [],
   "source": [
    "boundary_markers = MeshFunction('size_t',mesh,1)"
   ]
  },
  {
   "cell_type": "markdown",
   "metadata": {
    "slideshow": {
     "slide_type": "slide"
    }
   },
   "source": [
    "mark all edges as 0"
   ]
  },
  {
   "cell_type": "code",
   "execution_count": 16,
   "metadata": {
    "collapsed": false,
    "slideshow": {
     "slide_type": "slide"
    }
   },
   "outputs": [],
   "source": [
    "boundary_markers.set_all(0)"
   ]
  },
  {
   "cell_type": "markdown",
   "metadata": {
    "slideshow": {
     "slide_type": "slide"
    }
   },
   "source": [
    "mark the edges on the boundary as 1"
   ]
  },
  {
   "cell_type": "code",
   "execution_count": 17,
   "metadata": {
    "collapsed": false,
    "slideshow": {
     "slide_type": "slide"
    }
   },
   "outputs": [],
   "source": [
    "DomainBoundary().mark(boundary_markers,1)"
   ]
  },
  {
   "cell_type": "markdown",
   "metadata": {
    "slideshow": {
     "slide_type": "slide"
    }
   },
   "source": [
    "\n",
    "create the boundary condition using the combined function space, a zero Expression, and the mesh function\n",
    "for the edges. Note that the last parameter (1) is used to indicate the edges where the boundary condition must be applied"
   ]
  },
  {
   "cell_type": "code",
   "execution_count": 18,
   "metadata": {
    "collapsed": false,
    "slideshow": {
     "slide_type": "slide"
    }
   },
   "outputs": [],
   "source": [
    "electric_wall = DirichletBC(combined_space,Expression((\"0.0\",\"0.0\",\"0.0\")),boundary_markers,1)"
   ]
  },
  {
   "cell_type": "markdown",
   "metadata": {
    "slideshow": {
     "slide_type": "slide"
    }
   },
   "source": [
    "apply the boundary condition to the assembled matrices"
   ]
  },
  {
   "cell_type": "code",
   "execution_count": 19,
   "metadata": {
    "collapsed": false,
    "slideshow": {
     "slide_type": "slide"
    }
   },
   "outputs": [],
   "source": [
    "electric_wall.apply(A)\n",
    "electric_wall.apply(B)\n",
    "if k!=0:\n",
    "    electric_wall.apply(A_complex)\n",
    "    electric_wall.apply(B_complex)\n"
   ]
  },
  {
   "cell_type": "markdown",
   "metadata": {
    "slideshow": {
     "slide_type": "slide"
    }
   },
   "source": [
    "### Free the vectors and make numpy arrays to solve with scipy"
   ]
  },
  {
   "cell_type": "code",
   "execution_count": 20,
   "metadata": {
    "collapsed": true,
    "slideshow": {
     "slide_type": "slide"
    }
   },
   "outputs": [],
   "source": [
    "def scipy_sparse_eigensolver(A_np_sp,B_np_sp,neff_g,num,k0):\n",
    "    \"\"\"\n",
    "    Uses the scipy eigs to calculate the eigenvalues and eigenvectors of the equation given an effective index guess and\n",
    "    the number of modes needed.\n",
    "    \"\"\"\n",
    "    eigen_g = -neff_g**2*k0**2\n",
    "    eigen2, ev2 = eigs(A_np_sp,2,B_np_sp,sigma = eigen_g,which='LM')\n",
    "    \n",
    "    return eigen2,ev2\n",
    "def scipy_eigensolver(A_np,B_np):\n",
    "    eigen, ev =  eig(A_np,B_np)\n",
    "    return eigen, ev"
   ]
  },
  {
   "cell_type": "markdown",
   "metadata": {
    "slideshow": {
     "slide_type": "slide"
    }
   },
   "source": [
    "initialise a vector of ones"
   ]
  },
  {
   "cell_type": "code",
   "execution_count": 21,
   "metadata": {
    "collapsed": false,
    "slideshow": {
     "slide_type": "slide"
    }
   },
   "outputs": [],
   "source": [
    "indicators = np.ones(A.size(0))"
   ]
  },
  {
   "cell_type": "markdown",
   "metadata": {
    "slideshow": {
     "slide_type": "slide"
    }
   },
   "source": [
    "get the boundary indictators to remove the rows and colums associated with the boundary DOFs"
   ]
  },
  {
   "cell_type": "code",
   "execution_count": 22,
   "metadata": {
    "collapsed": false,
    "slideshow": {
     "slide_type": "slide"
    }
   },
   "outputs": [],
   "source": [
    "indicators[electric_wall.get_boundary_values().keys()]=0"
   ]
  },
  {
   "cell_type": "markdown",
   "metadata": {
    "slideshow": {
     "slide_type": "slide"
    }
   },
   "source": [
    "the free DOFs correspond to the elements of indicators that are equal to 1"
   ]
  },
  {
   "cell_type": "code",
   "execution_count": 23,
   "metadata": {
    "collapsed": false,
    "slideshow": {
     "slide_type": "slide"
    }
   },
   "outputs": [],
   "source": [
    "free_dofs = np.where(indicators == 1)[0]"
   ]
  },
  {
   "cell_type": "code",
   "execution_count": 50,
   "metadata": {
    "collapsed": false,
    "slideshow": {
     "slide_type": "slide"
    }
   },
   "outputs": [
    {
     "data": {
      "text/plain": [
       "array([[      0.        ,       0.        ,       0.        , ...,\n",
       "              0.        ,       0.        ,       0.        ],\n",
       "       [      0.        , -462605.47608813,  406579.79157711, ...,\n",
       "              0.        ,       0.        ,       0.        ],\n",
       "       [      0.        ,  406579.79157711, -813159.58315423, ...,\n",
       "              0.        ,       0.        ,       0.        ],\n",
       "       ..., \n",
       "       [      0.        ,       0.        ,       0.        , ...,\n",
       "        -813159.58315423,  406579.79157711,       0.        ],\n",
       "       [      0.        ,       0.        ,       0.        , ...,\n",
       "         406579.79157711, -462605.47608813,       0.        ],\n",
       "       [      0.        ,       0.        ,       0.        , ...,\n",
       "              0.        ,       0.        ,       0.        ]])"
      ]
     },
     "execution_count": 50,
     "metadata": {},
     "output_type": "execute_result"
    }
   ],
   "source": [
    "A.array()[free_dofs,:][:,free_dofs]"
   ]
  },
  {
   "cell_type": "markdown",
   "metadata": {
    "slideshow": {
     "slide_type": "slide"
    }
   },
   "source": [
    "convert the dolfin matrices to numpy arrays selecting only the rows and colums associated with the free DOFs"
   ]
  },
  {
   "cell_type": "code",
   "execution_count": 38,
   "metadata": {
    "collapsed": false,
    "slideshow": {
     "slide_type": "slide"
    }
   },
   "outputs": [],
   "source": [
    "try:\n",
    "    #break\n",
    "    #print h\n",
    "    #A_np = sparse.csr_matrix(A.array()[free_dofs,:][:,free_dofs])\n",
    "    #B_np = sparse.csr_matrix(B.array()[free_dofs,:][:,free_dofs])\n",
    "    A_np1 = A.array()#[free_dofs,:][:,free_dofs]\n",
    "    B_np1 = B.array()#[free_dofs,:][:,free_dofs]\n",
    "    #combine both the complex and the real matrixes for the eigenvalue solver\n",
    "    if k!=0:\n",
    "        A_np_complex = A_complex.array()[free_dofs,:][:,free_dofs]\n",
    "        B_np_complex = B_complex.array()[free_dofs,:][:,free_dofs]\n",
    "        A_np = A_np+1j*A_np_complex\n",
    "        B_np = B_np+1j*B_np_complex\n",
    "    \n",
    "except MemoryError:\n",
    "    print \"*****************The matrixes are way to large for this system.*****************\"\n",
    "    print \"*********************The sparse Matrixes will now be tried**********************\"\n",
    "    sparse_ = True\n",
    "    pass\n",
    "\n"
   ]
  },
  {
   "cell_type": "code",
   "execution_count": 39,
   "metadata": {
    "collapsed": false,
    "slideshow": {
     "slide_type": "slide"
    }
   },
   "outputs": [],
   "source": [
    "sparse_ = True"
   ]
  },
  {
   "cell_type": "markdown",
   "metadata": {
    "slideshow": {
     "slide_type": "slide"
    }
   },
   "source": [
    "### Solve the eigenvalue system using scipy.linalg.eig"
   ]
  },
  {
   "cell_type": "markdown",
   "metadata": {
    "slideshow": {
     "slide_type": "slide"
    }
   },
   "source": [
    "if sparse_:\n",
    "    if k == 0:\n",
    "        A_np = sparse.csr_matrix((A.size(0),A.size(0)))\n",
    "        B_np = sparse.csr_matrix((B.size(0),B.size(0)))\n",
    "        for i in range(A.size(0)):\n",
    "            count= 0\n",
    "            for j in A.getrow(i)[0]:\n",
    "                A_np[j,i] = A.getrow(i)[1][count]\n",
    "                count+=1\n",
    "            count = 0\n",
    "            for j in A.getrow(i)[0]:\n",
    "                B_np[j,i] = B.getrow(i)[1][count]\n",
    "                count+=1\n",
    "            #A_np[A.getrow(i)[0],i] = np.array([A.getrow(i)[1]]).T\n",
    "            #B_np[B.getrow(i)[0],i] = np.array([B.getrow(i)[1]]).T\n",
    "    else:\n",
    "        A_np = sparse.csr_matrix(A.array()[free_dofs,:][:,free_dofs]+1j*A_complex.array()[free_dofs,:][:,free_dofs])\n",
    "        B_np = sparse.csr_matrix(B.array()[free_dofs,:][:,free_dofs]+1j*B_complex.array()[free_dofs,:][:,free_dofs])\n",
    "    eigen, ev = scipy_sparse_eigensolver(A_np,B_np,neff_g,num,k0)\n",
    "else:\n",
    "    eigen, ev = scipy_eigensolver(A_np,B_np)\n"
   ]
  },
  {
   "cell_type": "code",
   "execution_count": 40,
   "metadata": {
    "collapsed": false,
    "slideshow": {
     "slide_type": "slide"
    }
   },
   "outputs": [],
   "source": [
    "if sparse_:\n",
    "    if k == 0:\n",
    "        A_np = sparse.csr_matrix((A.size(0),A.size(0)))\n",
    "        B_np = sparse.csr_matrix((B.size(0),B.size(0)))\n",
    "        for i in range(A.size(0)):\n",
    "            A_np[A.getrow(i)[0],i] = np.array([A.getrow(i)[1]]).T\n",
    "            B_np[B.getrow(i)[0],i] = np.array([B.getrow(i)[1]]).T\n",
    "    else:\n",
    "        A_np = sparse.csr_matrix(A.array()[free_dofs,:][:,free_dofs]+1j*A_complex.array()[free_dofs,:][:,free_dofs])\n",
    "        B_np = sparse.csr_matrix(B.array()[free_dofs,:][:,free_dofs]+1j*B_complex.array()[free_dofs,:][:,free_dofs])\n",
    "    eigen, ev = scipy_sparse_eigensolver(A_np,B_np,neff_g,num,k0)\n",
    "else:\n",
    "    eigen, ev = scipy_eigensolver(A_np,B_np)\n"
   ]
  },
  {
   "cell_type": "code",
   "execution_count": 41,
   "metadata": {
    "collapsed": false,
    "slideshow": {
     "slide_type": "slide"
    }
   },
   "outputs": [
    {
     "data": {
      "text/plain": [
       "True"
      ]
     },
     "execution_count": 41,
     "metadata": {},
     "output_type": "execute_result"
    }
   ],
   "source": [
    "np.shape(A_np.toarray()) == np.shape(A_np1)"
   ]
  },
  {
   "cell_type": "code",
   "execution_count": 68,
   "metadata": {
    "collapsed": false,
    "slideshow": {
     "slide_type": "slide"
    }
   },
   "outputs": [
    {
     "ename": "TypeError",
     "evalue": "contiguous numpy array of 'double' expected. Make sure that the numpy array is contiguous, and uses dtype=float_.",
     "output_type": "error",
     "traceback": [
      "\u001b[1;31m---------------------------------------------------------------------------\u001b[0m",
      "\u001b[1;31mTypeError\u001b[0m                                 Traceback (most recent call last)",
      "\u001b[1;32m<ipython-input-68-363c903a5f42>\u001b[0m in \u001b[0;36m<module>\u001b[1;34m()\u001b[0m\n\u001b[1;32m----> 1\u001b[1;33m \u001b[0mA\u001b[0m\u001b[1;33m.\u001b[0m\u001b[0mget\u001b[0m\u001b[1;33m(\u001b[0m\u001b[1;36m1\u001b[0m\u001b[1;33m,\u001b[0m\u001b[1;36m1\u001b[0m\u001b[1;33m,\u001b[0m\u001b[1;36m1\u001b[0m\u001b[1;33m)\u001b[0m\u001b[1;33m\u001b[0m\u001b[0m\n\u001b[0m",
      "\u001b[1;31mTypeError\u001b[0m: contiguous numpy array of 'double' expected. Make sure that the numpy array is contiguous, and uses dtype=float_."
     ]
    }
   ],
   "source": [
    "A.get(1,1,1)"
   ]
  },
  {
   "cell_type": "code",
   "execution_count": 43,
   "metadata": {
    "collapsed": false,
    "slideshow": {
     "slide_type": "slide"
    }
   },
   "outputs": [
    {
     "data": {
      "text/plain": [
       "(18,)"
      ]
     },
     "execution_count": 43,
     "metadata": {},
     "output_type": "execute_result"
    }
   ],
   "source": [
    "np.shape(A_np.toarray()[i,A.getrow(i)[0]])"
   ]
  },
  {
   "cell_type": "code",
   "execution_count": 29,
   "metadata": {
    "collapsed": false,
    "slideshow": {
     "slide_type": "slide"
    }
   },
   "outputs": [
    {
     "data": {
      "text/plain": [
       "(18, 1)"
      ]
     },
     "execution_count": 29,
     "metadata": {},
     "output_type": "execute_result"
    }
   ],
   "source": [
    "np.shape(A_np[A.getrow(i)[0],i])"
   ]
  },
  {
   "cell_type": "code",
   "execution_count": 30,
   "metadata": {
    "collapsed": false,
    "slideshow": {
     "slide_type": "slide"
    }
   },
   "outputs": [
    {
     "data": {
      "text/plain": [
       "array([ 0.,  0.,  0.,  0.,  0.,  0.,  0.,  0.,  0.,  0.,  0.,  0.,  0.,\n",
       "        0.,  0.,  0.,  0.,  1.])"
      ]
     },
     "execution_count": 30,
     "metadata": {},
     "output_type": "execute_result"
    }
   ],
   "source": [
    "A.getrow(i)[1]"
   ]
  },
  {
   "cell_type": "code",
   "execution_count": 31,
   "metadata": {
    "collapsed": false,
    "slideshow": {
     "slide_type": "slide"
    }
   },
   "outputs": [
    {
     "data": {
      "text/plain": [
       "<18x1 sparse matrix of type '<type 'numpy.float64'>'\n",
       "\twith 1 stored elements in Compressed Sparse Row format>"
      ]
     },
     "execution_count": 31,
     "metadata": {},
     "output_type": "execute_result"
    }
   ],
   "source": [
    "A_np[A.getrow(i)[0],i]"
   ]
  },
  {
   "cell_type": "code",
   "execution_count": 32,
   "metadata": {
    "collapsed": false,
    "slideshow": {
     "slide_type": "slide"
    }
   },
   "outputs": [
    {
     "data": {
      "text/plain": [
       "(1026, 1026)"
      ]
     },
     "execution_count": 32,
     "metadata": {},
     "output_type": "execute_result"
    }
   ],
   "source": [
    "np.shape(A_np.toarray()[:,:])"
   ]
  },
  {
   "cell_type": "code",
   "execution_count": 33,
   "metadata": {
    "collapsed": false,
    "slideshow": {
     "slide_type": "slide"
    }
   },
   "outputs": [
    {
     "data": {
      "text/plain": [
       "array([[ 0.,  0.,  0., ...,  0.,  0.,  0.],\n",
       "       [ 0.,  1.,  0., ...,  0.,  0.,  0.],\n",
       "       [ 0.,  0.,  1., ...,  0.,  0.,  0.],\n",
       "       ..., \n",
       "       [ 0.,  0.,  0., ...,  0.,  0.,  0.],\n",
       "       [ 0.,  0.,  0., ...,  0.,  1.,  0.],\n",
       "       [ 0.,  0.,  0., ...,  0.,  0.,  1.]])"
      ]
     },
     "execution_count": 33,
     "metadata": {},
     "output_type": "execute_result"
    }
   ],
   "source": [
    "A_np.toarray()"
   ]
  },
  {
   "cell_type": "code",
   "execution_count": 34,
   "metadata": {
    "collapsed": false,
    "slideshow": {
     "slide_type": "slide"
    }
   },
   "outputs": [
    {
     "data": {
      "text/plain": [
       "array([[ 0.],\n",
       "       [ 0.],\n",
       "       [ 0.],\n",
       "       [ 0.],\n",
       "       [ 0.],\n",
       "       [ 0.],\n",
       "       [ 0.],\n",
       "       [ 0.],\n",
       "       [ 0.],\n",
       "       [ 0.],\n",
       "       [ 0.],\n",
       "       [ 0.],\n",
       "       [ 0.],\n",
       "       [ 0.],\n",
       "       [ 0.],\n",
       "       [ 0.],\n",
       "       [ 0.],\n",
       "       [ 0.],\n",
       "       [ 0.],\n",
       "       [ 0.],\n",
       "       [ 0.],\n",
       "       [ 0.],\n",
       "       [ 0.],\n",
       "       [ 0.],\n",
       "       [ 0.],\n",
       "       [ 0.],\n",
       "       [ 0.],\n",
       "       [ 0.],\n",
       "       [ 0.],\n",
       "       [ 0.]])"
      ]
     },
     "execution_count": 34,
     "metadata": {},
     "output_type": "execute_result"
    }
   ],
   "source": [
    "A_np[A.getrow(100)[0],100].toarray()"
   ]
  },
  {
   "cell_type": "markdown",
   "metadata": {
    "slideshow": {
     "slide_type": "slide"
    }
   },
   "source": [
    "Find $\\beta$ from the eigenvalue."
   ]
  },
  {
   "cell_type": "code",
   "execution_count": 71,
   "metadata": {
    "collapsed": false,
    "slideshow": {
     "slide_type": "slide"
    }
   },
   "outputs": [],
   "source": [
    "beta =1j*(eigen)**0.5 \n",
    "beta = np.abs(np.real(beta)) -1j*np.imag(beta)"
   ]
  },
  {
   "cell_type": "markdown",
   "metadata": {
    "slideshow": {
     "slide_type": "slide"
    }
   },
   "source": [
    "sort the calculated values"
   ]
  },
  {
   "cell_type": "code",
   "execution_count": 72,
   "metadata": {
    "collapsed": false,
    "slideshow": {
     "slide_type": "slide"
    }
   },
   "outputs": [],
   "source": [
    "sort_index = np.argsort(beta)[::-1]\n"
   ]
  },
  {
   "cell_type": "markdown",
   "metadata": {
    "slideshow": {
     "slide_type": "slide"
    }
   },
   "source": [
    "skip over the non-physical(zero) eigenmodes"
   ]
  },
  {
   "cell_type": "code",
   "execution_count": 73,
   "metadata": {
    "collapsed": false,
    "slideshow": {
     "slide_type": "slide"
    }
   },
   "outputs": [],
   "source": [
    "first_mode_idx = 0"
   ]
  },
  {
   "cell_type": "markdown",
   "metadata": {
    "slideshow": {
     "slide_type": "slide"
    }
   },
   "source": [
    "Print the first four effective indices."
   ]
  },
  {
   "cell_type": "code",
   "execution_count": 74,
   "metadata": {
    "collapsed": false,
    "slideshow": {
     "slide_type": "slide"
    }
   },
   "outputs": [
    {
     "name": "stdout",
     "output_type": "stream",
     "text": [
      "The effective index of the 6 most dominant modes are:\n",
      "[ 0.99996987+0.j  0.99987831+0.j  0.99987825+0.j  0.99984817+0.j\n",
      "  0.99984396+0.j  0.99975567+0.j]\n"
     ]
    }
   ],
   "source": [
    "print(\"The effective index of the 6 most dominant modes are:\")\n",
    "print(beta[sort_index][first_mode_idx:first_mode_idx+6]/k0)\n"
   ]
  },
  {
   "cell_type": "markdown",
   "metadata": {
    "slideshow": {
     "slide_type": "slide"
    }
   },
   "source": [
    "post-process the coefficients to map back to the full matrix"
   ]
  },
  {
   "cell_type": "code",
   "execution_count": 32,
   "metadata": {
    "collapsed": false,
    "slideshow": {
     "slide_type": "slide"
    }
   },
   "outputs": [],
   "source": [
    "def electric_field(mode_idx,size1,size2,k,A,free_dofs,ev,first_mode_idx):\n",
    "    \"\"\"\n",
    "    Releases the ele|ctric field from the calculated eigenvalus and eigen vectors\n",
    "    \n",
    "    Returns::\n",
    "    E[size,size,2],E_axial(Ez)\n",
    "    \"\"\"\n",
    "\n",
    "    #post-process the coefficients to map back to the full matrix\n",
    "    coefficiants_global = np.zeros(A.size(0),dtype=np.complex)\n",
    "    coefficiants_global[free_dofs] = ev[:,sort_index[first_mode_idx+mode_idx]]\n",
    "    #Create a Function on the combined space\n",
    "    mode_re = Function(combined_space)\n",
    "    mode_im = Function(combined_space)\n",
    "    #Assign the coefficients of the function to the calculated values\n",
    "    mode_re.vector().set_local(np.real(coefficiants_global))\n",
    "    mode_im.vector().set_local(np.imag(coefficiants_global))\n",
    "    #Split the function into the parts in each of the functions spaces in combined_space\n",
    "    #This is done using DOLFINs Function.split()\n",
    "    (TE_re,TM_re) = mode_re.split()\n",
    "    (TE_im,TM_im) = mode_im.split()\n",
    "\n",
    "    \n",
    "    x = np.linspace(0,a,size1)\n",
    "    y = np.linspace(0,b,size2)\n",
    "    E = np.zeros([size1,size2,2],dtype = np.complex)\n",
    "    E_axial = np.zeros([size1,size2], dtype= np.complex)\n",
    "    for i,xx in enumerate(x):\n",
    "        for j,yy in enumerate(y):\n",
    "            E[i,j,:] = TE_re(Point(xx,yy))+1j*TE_im(Point(xx,yy))\n",
    "            E_axial[i,j] =TM_re(Point(xx,yy))+1j*TM_im(Point(xx,yy))\n",
    "    return E,E_axial"
   ]
  },
  {
   "cell_type": "markdown",
   "metadata": {
    "slideshow": {
     "slide_type": "slide"
    }
   },
   "source": [
    "### Plot the results"
   ]
  },
  {
   "cell_type": "code",
   "execution_count": 33,
   "metadata": {
    "collapsed": false,
    "slideshow": {
     "slide_type": "slide"
    }
   },
   "outputs": [
    {
     "name": "stderr",
     "output_type": "stream",
     "text": [
      "/home/john/miniconda2/envs/fenics/lib/python2.7/site-packages/ipykernel/__main__.py:11: DeprecationWarning: assignment will raise an error in the future, most likely because your index result shape does not match the value array shape. You can use `arr.flat[index] = values` to keep the old behaviour.\n"
     ]
    }
   ],
   "source": [
    "mode_idx = 0\n",
    "size1 = 60\n",
    "size2 = 15\n",
    "E,E_axial = electric_field(mode_idx,size1,size2,k,A,free_dofs,ev,first_mode_idx)"
   ]
  },
  {
   "cell_type": "code",
   "execution_count": 34,
   "metadata": {
    "collapsed": false,
    "slideshow": {
     "slide_type": "slide"
    }
   },
   "outputs": [
    {
     "data": {
      "image/png": "[encoded data removed]",
      "text/plain": [
       "<matplotlib.figure.Figure at 0x7f83e5e45390>"
      ]
     },
     "metadata": {},
     "output_type": "display_data"
    }
   ],
   "source": [
    "mode_field1 = np.transpose((np.abs(E[:,:,0])**2 + np.abs(E[:,:,1])**2+np.abs(E_axial[:,:])**2)**0.5)\n",
    "maxi = np.max(mode_field1)\n",
    "mode_field1 /=maxi\n",
    "x = np.linspace(0.4,a,size1)\n",
    "y = np.linspace(0,b,size2)\n",
    "X,Y = np.meshgrid(x,y)\n",
    "plt.contourf(X,Y,mode_field1,100)\n",
    "plt.colorbar()\n",
    "plt.title(r'mode$=$'+str(mode_idx)+', '+'Effective=_index $=$'+str(beta[sort_index][mode_idx]/k0))\n",
    "#plt.quiver(X,Y,np.real(E[:,0,0]),-np.real(E[:,1,0]), scale=1)\n",
    "plt.show()"
   ]
  },
  {
   "cell_type": "markdown",
   "metadata": {
    "slideshow": {
     "slide_type": "slide"
    }
   },
   "source": [
    "### Comsol"
   ]
  },
  {
   "cell_type": "code",
   "execution_count": 35,
   "metadata": {
    "collapsed": false,
    "slideshow": {
     "slide_type": "slide"
    }
   },
   "outputs": [],
   "source": [
    "comsol_e = np.loadtxt('electric.txt')"
   ]
  },
  {
   "cell_type": "code",
   "execution_count": 36,
   "metadata": {
    "collapsed": false,
    "slideshow": {
     "slide_type": "slide"
    }
   },
   "outputs": [
    {
     "data": {
      "image/png": "[encoded data removed]",
      "text/plain": [
       "<matplotlib.figure.Figure at 0x7f83e5d6ab10>"
      ]
     },
     "metadata": {},
     "output_type": "display_data"
    }
   ],
   "source": [
    "mode_field2 = comsol_e/np.max(comsol_e)\n",
    "x = np.linspace(0,a,np.shape(comsol_e)[1])\n",
    "y = np.linspace(0,b,np.shape(comsol_e)[0])\n",
    "X,Y = np.meshgrid(x,y)\n",
    "plt.contourf(X,Y,mode_field2,100)\n",
    "plt.colorbar()\n",
    "plt.title(r'mode$=$'+str(mode_idx)+', '+'Effective=_index $=$'+str(beta[sort_index][mode_idx]/k0))\n",
    "#plt.quiver(X,Y,np.real(E[:,0,0]),-np.real(E[:,1,0]), scale=1)\n",
    "plt.show()"
   ]
  },
  {
   "cell_type": "code",
   "execution_count": 37,
   "metadata": {
    "collapsed": false,
    "slideshow": {
     "slide_type": "slide"
    }
   },
   "outputs": [
    {
     "data": {
      "text/plain": [
       "18.762412347345958"
      ]
     },
     "execution_count": 37,
     "metadata": {},
     "output_type": "execute_result"
    }
   ],
   "source": [
    "np.linalg.norm(mode_field2 - mode_field1,2)"
   ]
  },
  {
   "cell_type": "markdown",
   "metadata": {
    "collapsed": true,
    "slideshow": {
     "slide_type": "slide"
    }
   },
   "source": [
    "Junk"
   ]
  },
  {
   "cell_type": "code",
   "execution_count": null,
   "metadata": {
    "collapsed": false,
    "slideshow": {
     "slide_type": "slide"
    }
   },
   "outputs": [],
   "source": [
    "\"\"\"###sparse try v0 doesnt work\n",
    "if sparsed:\n",
    "    from scipy.sparse.linalg import eigs\n",
    "    A_np = sparse.csr_matrix(A.array()[free_dofs,:][:,free_dofs])#+1j*A_complex.array()[free_dofs,:][:,free_dofs])\n",
    "    A_np_com =  sparse.csr_matrix(A_complex.array()[free_dofs,:][:,free_dofs])\n",
    "    B_np = sparse.csr_matrix(B.array()[free_dofs,:][:,free_dofs])\n",
    "    A_t = PETScMatrix()\n",
    "    B_t = PETScMatrix()\n",
    "    A_t = A_np\n",
    "    if k!=0:\n",
    "        A_np_complex = A_complex.array()[free_dofs,:][:,free_dofs]\n",
    "        B_np_complex = B_complex.array()[free_dofs,:][:,free_dofs]\n",
    "   \n",
    "    \"\"\"\n",
    "    types = 'LI'\n",
    "    expectedn = 2\n",
    "    sigma = -(expectedn/k0)**2\n",
    "    num_modes = 100\n",
    "    eigen,ev = eigs(A_np,k=num_modes,M=B_np,sigma=sigma,which=types)\n",
    "else:\n",
    "    eigen, ev =  eig(A_np,B_np)\n",
    "    \"\"\"\n",
    "\n",
    "import petsc4py, sys\n",
    "from petsc4py import PETSc as Pet\n",
    "pA = Pet.Mat().createAIJ(size=A_np.shape, csr=(A_np.indptr, A_np.indices, A_np.data))\n",
    "pA_com =  Pet.Mat().createAIJ(size=A_np_com.shape, csr=(A_np_com.indptr, A_np_com.indices, A_np_com.data))\n",
    "\n",
    "from slepc4py import SLEPc\n",
    "E = SLEPc.EPS(); E.create()\n",
    "E.setOperators(pA)\n",
    "E.setProblemType(SLEPc.EPS.ProblemType.HEP)\n",
    "E.setFromOptions()\n",
    "E.solve()\n",
    "\n",
    "Print = Pet.Sys.Print\n",
    "\n",
    "Print()\n",
    "Print(\"******************************\")\n",
    "Print(\"*** SLEPc Solution Results ***\")\n",
    "Print(\"******************************\")\n",
    "Print()\n",
    "\n",
    "its = E.getIterationNumber()\n",
    "Print(\"Number of iterations of the method: %d\" % its)\n",
    "\n",
    "eps_type = E.getType()\n",
    "Print(\"Solution method: %s\" % eps_type)\n",
    "\n",
    "nev, ncv, mpd = E.getDimensions()\n",
    "Print(\"Number of requested eigenvalues: %d\" % nev)\n",
    "\n",
    "tol, maxit = E.getTolerances()\n",
    "Print(\"Stopping condition: tol=%.4g, maxit=%d\" % (tol, maxit))\n",
    "\n",
    "\n",
    "nconv = E.getConverged()\n",
    "Print(\"Number of converged eigenpairs %d\" % nconv)\n",
    "\n",
    "if nconv > 0:\n",
    "    # Create the results vectors\n",
    "    vr, wr = A.getVecs()\n",
    "    vi, wi = A.getVecs()\n",
    "    #\n",
    "    Print()\n",
    "    Print(\"        k          ||Ax-kx||/||kx|| \")\n",
    "    Print(\"----------------- ------------------\")\n",
    "    for i in range(nconv):\n",
    "        k = E.getEigenpair(i, vr, vi)\n",
    "        error = E.computeError(i)\n",
    "        if k.imag != 0.0:\n",
    "            Print(\" %9f%+9f j %12g\" % (k.real, k.imag, error))\n",
    "        else:\n",
    "            Print(\" %12f      %12g\" % (k.real, error))\n",
    "    Print()\n",
    "Print()\"\"\""
   ]
  },
  {
   "cell_type": "code",
   "execution_count": 10,
   "metadata": {
    "collapsed": false,
    "slideshow": {
     "slide_type": "slide"
    }
   },
   "outputs": [
    {
     "data": {
      "text/plain": [
       "{'load_extensions': {'livereveal/main': True}}"
      ]
     },
     "execution_count": 10,
     "metadata": {},
     "output_type": "execute_result"
    }
   ],
   "source": [
    "from notebook.services.config import ConfigManager\n",
    "cm = ConfigManager()\n",
    "cm.update('notebook', {\"load_extensions\": {\"livereveal/main\": True}})"
   ]
  },
  {
   "cell_type": "code",
   "execution_count": null,
   "metadata": {
    "collapsed": true,
    "slideshow": {
     "slide_type": "slide"
    }
   },
   "outputs": [],
   "source": []
  }
 ],
 "metadata": {
  "celltoolbar": "Slideshow",
  "kernelspec": {
   "display_name": "Python 2",
   "language": "python",
   "name": "python2"
  },
  "language_info": {
   "codemirror_mode": {
    "name": "ipython",
    "version": 2
   },
   "file_extension": ".py",
   "mimetype": "text/x-python",
   "name": "python",
   "nbconvert_exporter": "python",
   "pygments_lexer": "ipython2",
   "version": "2.7.6"
  }
 },
 "nbformat": 4,
 "nbformat_minor": 0
}
