{
 "cells": [
  {
   "cell_type": "markdown",
   "metadata": {
    "slideshow": {
     "slide_type": "slide"
    }
   },
   "source": [
    "## Theory\n",
    "(taken from the fenics book)\n",
    "\n",
    "We are solving the Helmholtz equation:\n",
    "                       "
   ]
  },
  {
   "cell_type": "markdown",
   "metadata": {
    "slideshow": {
     "slide_type": "slide"
    }
   },
   "source": [
    " $$\\nabla \\times \\frac{1}{\\mu_r}\\nabla \\times \\boldsymbol{E} - k_0^2 \\epsilon_r \\boldsymbol{E}=0,$$ with the boundary condition of electric mirrors.\n",
    " $$k_0 = \\frac{2\\pi f_0}{c_0}$$\n",
    " \n",
    " $$\\epsilon_r = (n+\\mathrm{i}k)^2$$"
   ]
  },
  {
   "cell_type": "markdown",
   "metadata": {
    "slideshow": {
     "slide_type": "slide"
    }
   },
   "source": [
    "The functional is:\n",
    "$$F(\\boldsymbol{E}) = \\frac{1}{2} \\int_\\Omega \\left[\\frac{1}{\\mu_r} \\left(\\nabla \\times \\boldsymbol{E}\\right)\\cdot \\left(\\nabla \\times \\boldsymbol{E}\\right) - k^2_0 \\epsilon_r \\boldsymbol{E}\\boldsymbol{E}\\right]dx$$"
   ]
  },
  {
   "cell_type": "markdown",
   "metadata": {
    "slideshow": {
     "slide_type": "slide"
    }
   },
   "source": [
    "In order to find it the vector is split in to the transverse and axial components.\n",
    "\n",
    "$$\\nabla = \\nabla_t + \\nabla_z,$$\n",
    "with $$\\nabla_t = \\hat{e_x}\\frac{\\partial}{\\partial x} + \\hat{e_y}\\frac{\\partial}{\\partial y}$$\n",
    "and $$\\nabla_z = \\hat{e_z}\\frac{\\partial}{\\partial z}$$\n",
    "We also assume that the electric field can be split like:\n",
    "$$\\boldsymbol{E}(x,y,z) = \\left[E_t(x,y) + \\hat{e_z} E_z(x,y) \\right] e^{-\\beta z}$$\n",
    "where $\\beta$ is the complex propagation constant,\n",
    "$$\\boldsymbol{E}_t = \\hat{e_x} E_x + \\hat{e_y} E_y$$ and $$ \\boldsymbol{E}_{axial} = \\hat{e_z} E_z$$"
   ]
  },
  {
   "cell_type": "markdown",
   "metadata": {
    "slideshow": {
     "slide_type": "slide"
    }
   },
   "source": [
    "By splitting the $\\nabla$ and by substituting the above for the electric field the functional becomes:\n",
    "                               $$ F_{\\beta}(\\boldsymbol{E}) =  \\int_{\\Omega} \\frac{1}{\\mu_r} \\left(\\nabla_t \\times \\boldsymbol{E}_{t,\\beta}\\right) \\cdot \\left(\\nabla_t \\times \\boldsymbol{E}_{t,\\beta}\\right) -k^2_0 \\epsilon_r E_{t,\\beta}E_{t,\\beta} \\\\ + \\beta^2 \\left[\\frac{1}{\\mu_r} \\left(\\nabla_t E_z+\\beta E_{t,\\gamma}\\right)\\left(\\nabla_t E_z+\\beta E_{t,\\gamma}\\right) - k^2_0 \\epsilon_r E_z E_z dx \\right]$$"
   ]
  },
  {
   "cell_type": "markdown",
   "metadata": {
    "slideshow": {
     "slide_type": "slide"
    }
   },
   "source": [
    "Since the functional is built now the electric field components need to be discetized in order to be calculated. \n",
    "The axial component can be discretised by nodal basis functions (Lagrandge) but the transverse need to be by two dimensional curl-conforming vector basis functions(Nedelec).\n",
    "\n",
    "The electric field in the nedelec space is described by:\n",
    "$$E_{t} = \\sum_{i=1}^{N_{N}} (e_t)_i N_i$$\n",
    "\n",
    "and the axial in lagrange elements as:\n",
    "\n",
    "$$E_z = \\sum_{i=1}^{N_{L}} (e_z)_i L_i$$\n",
    " Where $N_N$ and $N_L$ are the number of nedelec and lagrange elements respectively. $N_i$, $L_i$ are the basis functions and $e_t$, $e_z$ are the equivalent coefficients."
   ]
  },
  {
   "cell_type": "markdown",
   "metadata": {
    "slideshow": {
     "slide_type": "slide"
    }
   },
   "source": [
    "While the cuttoff method is easier to implement it only prety much finds the cuttoff wavenumber (shown in fenics book and in other papers). This is not what is of interest. I am interested in calculating the propagation constants $\\beta$ and by extension the effective indices and the Electric field that they equate to."
   ]
  },
  {
   "cell_type": "markdown",
   "metadata": {
    "slideshow": {
     "slide_type": "slide"
    }
   },
   "source": [
    "The matrix eqution to be solved is\n",
    "\n",
    "$$\\begin{bmatrix}\n",
    "    A_{tt}       & 0 \\\\\n",
    "    0       & 0 \n",
    "\\end{bmatrix}\\begin{bmatrix}\n",
    "    e_t \\\\\n",
    "    e_z      \n",
    "\\end{bmatrix} = -\\beta^2\n",
    "\\begin{bmatrix}\n",
    "    B_{tt}       & B_{tz} \\\\\n",
    "    B_{zt}       & B_{zz} \n",
    "\\end{bmatrix}\\begin{bmatrix}\n",
    "    e_t \\\\\n",
    "    e_z      \n",
    "\\end{bmatrix}\n",
    "$$"
   ]
  },
  {
   "cell_type": "markdown",
   "metadata": {
    "slideshow": {
     "slide_type": "slide"
    }
   },
   "source": [
    "Where $$A_{tt} = S_{tt} - k^2_0 T_{tt} = \\int_{\\Omega} \\frac{1}{\\mu_r} \\left(\\nabla_t \\times N_i \\right) \\left(\\nabla_t \\times N_j \\right)dx \\\\ - k^2_0 \\int_{\\omega} \\epsilon_r N_i N_jdx$$\n",
    "\n",
    "$$B_{zz} = S_{zz} - k^2_0 T_{zz} = \\int_{\\Omega} \\frac{1}{\\mu_r} \\left(\\nabla_t L_i \\right) \\left(\\nabla_t L_j \\right)dx \\\\ - k^2_0 \\int_{\\omega} \\epsilon_r L_i L_j dx$$"
   ]
  },
  {
   "cell_type": "markdown",
   "metadata": {
    "slideshow": {
     "slide_type": "slide"
    }
   },
   "source": [
    "$$ B_{tt} = \\int_{\\Omega} \\frac{1}{\\mu_r} N_i \\cdot  N_j dx$$\n",
    "\n",
    "$$ B_{tz} = \\int_{\\Omega} \\frac{1}{\\mu_r} N_i \\cdot  \\nabla_t L_j dx$$\n",
    "\n",
    "$$ B_{zt} = \\int_{\\Omega} \\frac{1}{\\mu_r} \\nabla_t L_i \\cdot  N_j dx$$"
   ]
  },
  {
   "cell_type": "markdown",
   "metadata": {
    "slideshow": {
     "slide_type": "slide"
    }
   },
   "source": [
    "### Code\n",
    "Import the required modules"
   ]
  },
  {
   "cell_type": "code",
   "execution_count": 1,
   "metadata": {
    "collapsed": false,
    "slideshow": {
     "slide_type": "slide"
    }
   },
   "outputs": [],
   "source": [
    "%matplotlib notebook\n",
    "from __future__ import division#, print_function\n",
    "import numpy as np\n",
    "from scipy.constants import c,pi\n",
    "from scipy.sparse.linalg import eigs, eigsh\n",
    "from scipy.linalg import eig\n",
    "from scipy.sparse import csr_matrix, lil_matrix, csc_matrix\n",
    "import matplotlib.pyplot as plt\n",
    "from matplotlib import tri\n",
    "from scipy.integrate import simps\n",
    "import os\n",
    "from matplotlib.colors import from_levels_and_colors\n",
    "from dolfin import *\n",
    "import time\n",
    "from functions_dispersion_analysis import *"
   ]
  },
  {
   "cell_type": "markdown",
   "metadata": {
    "slideshow": {
     "slide_type": "slide"
    }
   },
   "source": [
    "The box domain:"
   ]
  },
  {
   "cell_type": "code",
   "execution_count": 2,
   "metadata": {
    "collapsed": false,
    "slideshow": {
     "slide_type": "-"
    }
   },
   "outputs": [],
   "source": [
    "a = 2e-4\n",
    "b = 2e-4"
   ]
  },
  {
   "cell_type": "markdown",
   "metadata": {
    "slideshow": {
     "slide_type": "slide"
    }
   },
   "source": [
    "Inputs of the problem"
   ]
  },
  {
   "cell_type": "code",
   "execution_count": 3,
   "metadata": {
    "collapsed": false
   },
   "outputs": [],
   "source": [
    "mu_r = 1.0 \n",
    "lamda = 1.55e-6\n",
    "r_core = 1e-5 # radius of core\n",
    "r_clad = 10e-5 #radius of the fibre\n",
    "nclad = 1.444#- 0.1e-4j# ref index of cladding\n",
    "ncore = 1.445 - 1e-4j # ref index of core\n",
    "#neff_g = 1.4445 # Guess of the modes\n",
    "num= 10   # The number of modes guess \n",
    "neff_g= ncore\n",
    "mesh_refinement = 0 # number of times to uniformly refine the mesh (used for convergence plots and better results)\n",
    "sparse_ =True"
   ]
  },
  {
   "cell_type": "code",
   "execution_count": 4,
   "metadata": {
    "collapsed": false
   },
   "outputs": [
    {
     "name": "stdout",
     "output_type": "stream",
     "text": [
      "(2.18153612913-0.108843319296j)\n",
      "Doing calculation for:  (1.445-0.0001j) 1.444 1.55e-06 1e-05\n",
      "((1.4444696341894405-7.8562093865609619e-05j), 4.160317256055599e-10)\n"
     ]
    }
   ],
   "source": [
    "from testing.Single_mode_fibre.Single_mode_theoretical import *\n",
    "neff_th, Aeff_th = main_test(ncore,nclad,lamda,r_core,r_clad)\n",
    "print(neff_th,Aeff_th)"
   ]
  },
  {
   "cell_type": "code",
   "execution_count": 5,
   "metadata": {
    "collapsed": false
   },
   "outputs": [],
   "source": [
    "k = is_loss(ncore,nclad)\n",
    "if k ==0:\n",
    "    V = 2*pi/lamda*r_core*(ncore**2 - nclad**2)**0.5\n",
    "    print(V)\n",
    "k0 = 2*pi/lamda"
   ]
  },
  {
   "cell_type": "code",
   "execution_count": 6,
   "metadata": {
    "collapsed": false,
    "slideshow": {
     "slide_type": "slide"
    }
   },
   "outputs": [],
   "source": [
    "def ref(x,values = np.zeros(1)):\n",
    "    point = (x[0]**2+ x[1]**2)**0.5\n",
    "    if  point<= r_core:\n",
    "        values[0] = ncore.real**2 - ncore.imag**2\n",
    "    elif point > r_core and point <= r_clad:\n",
    "        values[0] = nclad.real**2 - nclad.imag**2\n",
    "    else:\n",
    "        values[0] = 1.\n",
    "    return values\n",
    "\n",
    "def extinction(x,values = np.zeros(1)):\n",
    "    point = (x[0]**2+ x[1]**2)**0.5\n",
    "    if  point<= r_core:\n",
    "        values[0] = -2*ncore.imag*ncore.real\n",
    "    elif point > r_core and point <= r_clad:\n",
    "        values[0] = -2*nclad.imag*ncore.real\n",
    "    else:\n",
    "        values[0] = 0\n",
    "    return values"
   ]
  },
  {
   "cell_type": "markdown",
   "metadata": {
    "collapsed": false,
    "slideshow": {
     "slide_type": "slide"
    }
   },
   "source": [
    "x = np.linspace(-a,a,512)\n",
    "y = np.linspace(-b,b,512)\n",
    "n_prof,k_prof = geometry_plot(x,y,a,b,ref,extinction,nclad,ncore,r_core,r_clad)\n"
   ]
  },
  {
   "cell_type": "code",
   "execution_count": 7,
   "metadata": {
    "collapsed": false,
    "slideshow": {
     "slide_type": "slide"
    }
   },
   "outputs": [],
   "source": [
    "class epsilon_real(Expression):\n",
    "    def eval(self, values, x):\n",
    "       values = ref(x,values)\n",
    "\n",
    "class epsilon_imag(Expression):\n",
    "    def eval(self, values, x):\n",
    "       values = extinction(x,values)"
   ]
  },
  {
   "cell_type": "markdown",
   "metadata": {
    "slideshow": {
     "slide_type": "slide"
    }
   },
   "source": [
    "## Mesh"
   ]
  },
  {
   "cell_type": "markdown",
   "metadata": {},
   "source": [
    "Load the gmsh file and if asked for refine the mesh."
   ]
  },
  {
   "cell_type": "code",
   "execution_count": 13,
   "metadata": {
    "collapsed": false
   },
   "outputs": [
    {
     "name": "stdout",
     "output_type": "stream",
     "text": [
      "Info    : Running 'gmsh fenics_mesh/Output.geo -2 -o fenics_mesh/output_small.msh' [Gmsh 2.12.0, 1 node, max. 1 thread]\n",
      "Info    : Started on Mon Jun 27 13:55:36 2016\n",
      "Info    : Reading 'fenics_mesh/Output.geo'...\n",
      "Info    : Done reading 'fenics_mesh/Output.geo'\n",
      "Info    : Meshing 1D...\n",
      "Info    : Meshing curve 1 (Circle)\n",
      "Info    : Meshing curve 2 (Circle)\n",
      "Info    : Meshing curve 3 (Circle)\n",
      "Info    : Meshing curve 4 (Circle)\n",
      "Info    : Meshing curve 5 (Circle)\n",
      "Info    : Meshing curve 6 (Circle)\n",
      "Info    : Meshing curve 7 (Circle)\n",
      "Info    : Meshing curve 8 (Circle)\n",
      "Info    : Meshing curve 9 (Line)\n",
      "Info    : Meshing curve 10 (Line)\n",
      "Info    : Meshing curve 11 (Line)\n",
      "Info    : Meshing curve 12 (Line)\n",
      "Info    : Meshing curve 13 (Line)\n",
      "Info    : Meshing curve 14 (Line)\n",
      "Info    : Meshing curve 15 (Line)\n",
      "Info    : Meshing curve 16 (Line)\n",
      "Info    : Meshing curve 17 (Line)\n",
      "Info    : Meshing curve 18 (Line)\n",
      "Info    : Meshing curve 19 (Line)\n",
      "Info    : Meshing curve 20 (Line)\n",
      "Info    : Done meshing 1D (0.02 s)\n",
      "Info    : Meshing 2D...\n",
      "Info    : Meshing surface 22 (Plane, Delaunay)\n",
      "Info    : Meshing surface 24 (Plane, Delaunay)\n",
      "Info    : Meshing surface 26 (Plane, Delaunay)\n",
      "Info    : Meshing surface 28 (Plane, Delaunay)\n",
      "Info    : Meshing surface 30 (Plane, Delaunay)\n",
      "Info    : Meshing surface 32 (Plane, Delaunay)\n",
      "Info    : Meshing surface 34 (Plane, Delaunay)\n",
      "Info    : Meshing surface 36 (Plane, Delaunay)\n",
      "Info    : Meshing surface 38 (Plane, Delaunay)\n",
      "Info    : Done meshing 2D (0.101357 s)\n",
      "Info    : 2568 vertices 5373 elements\n",
      "Info    : Writing 'fenics_mesh/output_small.msh'...\n",
      "Info    : Done writing 'fenics_mesh/output_small.msh'\n",
      "Info    : Stopped on Mon Jun 27 13:55:36 2016\n",
      "\n",
      "Converting from Gmsh format (.msh, .gmsh) to DOLFIN XML format\n",
      "Expecting 2567 vertices\n",
      "Found all vertices\n",
      "Expecting 5100 cells\n",
      "Found all cells\n",
      "Conversion done\n",
      "\n"
     ]
    }
   ],
   "source": [
    "mesh = gmesh_mesh_new(\"step_index_fibre.geo\",a,b,r_core,r_clad,mesh_refinement,lamda,3)"
   ]
  },
  {
   "cell_type": "code",
   "execution_count": 14,
   "metadata": {
    "collapsed": false
   },
   "outputs": [
    {
     "data": {
      "application/javascript": [
       "/* Put everything inside the global mpl namespace */\n",
       "window.mpl = {};\n",
       "\n",
       "mpl.get_websocket_type = function() {\n",
       "    if (typeof(WebSocket) !== 'undefined') {\n",
       "        return WebSocket;\n",
       "    } else if (typeof(MozWebSocket) !== 'undefined') {\n",
       "        return MozWebSocket;\n",
       "    } else {\n",
       "        alert('Your browser does not have WebSocket support.' +\n",
       "              'Please try Chrome, Safari or Firefox ≥ 6. ' +\n",
       "              'Firefox 4 and 5 are also supported but you ' +\n",
       "              'have to enable WebSockets in about:config.');\n",
       "    };\n",
       "}\n",
       "\n",
       "mpl.figure = function(figure_id, websocket, ondownload, parent_element) {\n",
       "    this.id = figure_id;\n",
       "\n",
       "    this.ws = websocket;\n",
       "\n",
       "    this.supports_binary = (this.ws.binaryType != undefined);\n",
       "\n",
       "    if (!this.supports_binary) {\n",
       "        var warnings = document.getElementById(\"mpl-warnings\");\n",
       "        if (warnings) {\n",
       "            warnings.style.display = 'block';\n",
       "            warnings.textContent = (\n",
       "                \"This browser does not support binary websocket messages. \" +\n",
       "                    \"Performance may be slow.\");\n",
       "        }\n",
       "    }\n",
       "\n",
       "    this.imageObj = new Image();\n",
       "\n",
       "    this.context = undefined;\n",
       "    this.message = undefined;\n",
       "    this.canvas = undefined;\n",
       "    this.rubberband_canvas = undefined;\n",
       "    this.rubberband_context = undefined;\n",
       "    this.format_dropdown = undefined;\n",
       "\n",
       "    this.image_mode = 'full';\n",
       "\n",
       "    this.root = $('<div/>');\n",
       "    this._root_extra_style(this.root)\n",
       "    this.root.attr('style', 'display: inline-block');\n",
       "\n",
       "    $(parent_element).append(this.root);\n",
       "\n",
       "    this._init_header(this);\n",
       "    this._init_canvas(this);\n",
       "    this._init_toolbar(this);\n",
       "\n",
       "    var fig = this;\n",
       "\n",
       "    this.waiting = false;\n",
       "\n",
       "    this.ws.onopen =  function () {\n",
       "            fig.send_message(\"supports_binary\", {value: fig.supports_binary});\n",
       "            fig.send_message(\"send_image_mode\", {});\n",
       "            fig.send_message(\"refresh\", {});\n",
       "        }\n",
       "\n",
       "    this.imageObj.onload = function() {\n",
       "            if (fig.image_mode == 'full') {\n",
       "                // Full images could contain transparency (where diff images\n",
       "                // almost always do), so we need to clear the canvas so that\n",
       "                // there is no ghosting.\n",
       "                fig.context.clearRect(0, 0, fig.canvas.width, fig.canvas.height);\n",
       "            }\n",
       "            fig.context.drawImage(fig.imageObj, 0, 0);\n",
       "        };\n",
       "\n",
       "    this.imageObj.onunload = function() {\n",
       "        this.ws.close();\n",
       "    }\n",
       "\n",
       "    this.ws.onmessage = this._make_on_message_function(this);\n",
       "\n",
       "    this.ondownload = ondownload;\n",
       "}\n",
       "\n",
       "mpl.figure.prototype._init_header = function() {\n",
       "    var titlebar = $(\n",
       "        '<div class=\"ui-dialog-titlebar ui-widget-header ui-corner-all ' +\n",
       "        'ui-helper-clearfix\"/>');\n",
       "    var titletext = $(\n",
       "        '<div class=\"ui-dialog-title\" style=\"width: 100%; ' +\n",
       "        'text-align: center; padding: 3px;\"/>');\n",
       "    titlebar.append(titletext)\n",
       "    this.root.append(titlebar);\n",
       "    this.header = titletext[0];\n",
       "}\n",
       "\n",
       "\n",
       "\n",
       "mpl.figure.prototype._canvas_extra_style = function(canvas_div) {\n",
       "\n",
       "}\n",
       "\n",
       "\n",
       "mpl.figure.prototype._root_extra_style = function(canvas_div) {\n",
       "\n",
       "}\n",
       "\n",
       "mpl.figure.prototype._init_canvas = function() {\n",
       "    var fig = this;\n",
       "\n",
       "    var canvas_div = $('<div/>');\n",
       "\n",
       "    canvas_div.attr('style', 'position: relative; clear: both; outline: 0');\n",
       "\n",
       "    function canvas_keyboard_event(event) {\n",
       "        return fig.key_event(event, event['data']);\n",
       "    }\n",
       "\n",
       "    canvas_div.keydown('key_press', canvas_keyboard_event);\n",
       "    canvas_div.keyup('key_release', canvas_keyboard_event);\n",
       "    this.canvas_div = canvas_div\n",
       "    this._canvas_extra_style(canvas_div)\n",
       "    this.root.append(canvas_div);\n",
       "\n",
       "    var canvas = $('<canvas/>');\n",
       "    canvas.addClass('mpl-canvas');\n",
       "    canvas.attr('style', \"left: 0; top: 0; z-index: 0; outline: 0\")\n",
       "\n",
       "    this.canvas = canvas[0];\n",
       "    this.context = canvas[0].getContext(\"2d\");\n",
       "\n",
       "    var rubberband = $('<canvas/>');\n",
       "    rubberband.attr('style', \"position: absolute; left: 0; top: 0; z-index: 1;\")\n",
       "\n",
       "    var pass_mouse_events = true;\n",
       "\n",
       "    canvas_div.resizable({\n",
       "        start: function(event, ui) {\n",
       "            pass_mouse_events = false;\n",
       "        },\n",
       "        resize: function(event, ui) {\n",
       "            fig.request_resize(ui.size.width, ui.size.height);\n",
       "        },\n",
       "        stop: function(event, ui) {\n",
       "            pass_mouse_events = true;\n",
       "            fig.request_resize(ui.size.width, ui.size.height);\n",
       "        },\n",
       "    });\n",
       "\n",
       "    function mouse_event_fn(event) {\n",
       "        if (pass_mouse_events)\n",
       "            return fig.mouse_event(event, event['data']);\n",
       "    }\n",
       "\n",
       "    rubberband.mousedown('button_press', mouse_event_fn);\n",
       "    rubberband.mouseup('button_release', mouse_event_fn);\n",
       "    // Throttle sequential mouse events to 1 every 20ms.\n",
       "    rubberband.mousemove('motion_notify', mouse_event_fn);\n",
       "\n",
       "    rubberband.mouseenter('figure_enter', mouse_event_fn);\n",
       "    rubberband.mouseleave('figure_leave', mouse_event_fn);\n",
       "\n",
       "    canvas_div.on(\"wheel\", function (event) {\n",
       "        event = event.originalEvent;\n",
       "        event['data'] = 'scroll'\n",
       "        if (event.deltaY < 0) {\n",
       "            event.step = 1;\n",
       "        } else {\n",
       "            event.step = -1;\n",
       "        }\n",
       "        mouse_event_fn(event);\n",
       "    });\n",
       "\n",
       "    canvas_div.append(canvas);\n",
       "    canvas_div.append(rubberband);\n",
       "\n",
       "    this.rubberband = rubberband;\n",
       "    this.rubberband_canvas = rubberband[0];\n",
       "    this.rubberband_context = rubberband[0].getContext(\"2d\");\n",
       "    this.rubberband_context.strokeStyle = \"#000000\";\n",
       "\n",
       "    this._resize_canvas = function(width, height) {\n",
       "        // Keep the size of the canvas, canvas container, and rubber band\n",
       "        // canvas in synch.\n",
       "        canvas_div.css('width', width)\n",
       "        canvas_div.css('height', height)\n",
       "\n",
       "        canvas.attr('width', width);\n",
       "        canvas.attr('height', height);\n",
       "\n",
       "        rubberband.attr('width', width);\n",
       "        rubberband.attr('height', height);\n",
       "    }\n",
       "\n",
       "    // Set the figure to an initial 600x600px, this will subsequently be updated\n",
       "    // upon first draw.\n",
       "    this._resize_canvas(600, 600);\n",
       "\n",
       "    // Disable right mouse context menu.\n",
       "    $(this.rubberband_canvas).bind(\"contextmenu\",function(e){\n",
       "        return false;\n",
       "    });\n",
       "\n",
       "    function set_focus () {\n",
       "        canvas.focus();\n",
       "        canvas_div.focus();\n",
       "    }\n",
       "\n",
       "    window.setTimeout(set_focus, 100);\n",
       "}\n",
       "\n",
       "mpl.figure.prototype._init_toolbar = function() {\n",
       "    var fig = this;\n",
       "\n",
       "    var nav_element = $('<div/>')\n",
       "    nav_element.attr('style', 'width: 100%');\n",
       "    this.root.append(nav_element);\n",
       "\n",
       "    // Define a callback function for later on.\n",
       "    function toolbar_event(event) {\n",
       "        return fig.toolbar_button_onclick(event['data']);\n",
       "    }\n",
       "    function toolbar_mouse_event(event) {\n",
       "        return fig.toolbar_button_onmouseover(event['data']);\n",
       "    }\n",
       "\n",
       "    for(var toolbar_ind in mpl.toolbar_items) {\n",
       "        var name = mpl.toolbar_items[toolbar_ind][0];\n",
       "        var tooltip = mpl.toolbar_items[toolbar_ind][1];\n",
       "        var image = mpl.toolbar_items[toolbar_ind][2];\n",
       "        var method_name = mpl.toolbar_items[toolbar_ind][3];\n",
       "\n",
       "        if (!name) {\n",
       "            // put a spacer in here.\n",
       "            continue;\n",
       "        }\n",
       "        var button = $('<button/>');\n",
       "        button.addClass('ui-button ui-widget ui-state-default ui-corner-all ' +\n",
       "                        'ui-button-icon-only');\n",
       "        button.attr('role', 'button');\n",
       "        button.attr('aria-disabled', 'false');\n",
       "        button.click(method_name, toolbar_event);\n",
       "        button.mouseover(tooltip, toolbar_mouse_event);\n",
       "\n",
       "        var icon_img = $('<span/>');\n",
       "        icon_img.addClass('ui-button-icon-primary ui-icon');\n",
       "        icon_img.addClass(image);\n",
       "        icon_img.addClass('ui-corner-all');\n",
       "\n",
       "        var tooltip_span = $('<span/>');\n",
       "        tooltip_span.addClass('ui-button-text');\n",
       "        tooltip_span.html(tooltip);\n",
       "\n",
       "        button.append(icon_img);\n",
       "        button.append(tooltip_span);\n",
       "\n",
       "        nav_element.append(button);\n",
       "    }\n",
       "\n",
       "    var fmt_picker_span = $('<span/>');\n",
       "\n",
       "    var fmt_picker = $('<select/>');\n",
       "    fmt_picker.addClass('mpl-toolbar-option ui-widget ui-widget-content');\n",
       "    fmt_picker_span.append(fmt_picker);\n",
       "    nav_element.append(fmt_picker_span);\n",
       "    this.format_dropdown = fmt_picker[0];\n",
       "\n",
       "    for (var ind in mpl.extensions) {\n",
       "        var fmt = mpl.extensions[ind];\n",
       "        var option = $(\n",
       "            '<option/>', {selected: fmt === mpl.default_extension}).html(fmt);\n",
       "        fmt_picker.append(option)\n",
       "    }\n",
       "\n",
       "    // Add hover states to the ui-buttons\n",
       "    $( \".ui-button\" ).hover(\n",
       "        function() { $(this).addClass(\"ui-state-hover\");},\n",
       "        function() { $(this).removeClass(\"ui-state-hover\");}\n",
       "    );\n",
       "\n",
       "    var status_bar = $('<span class=\"mpl-message\"/>');\n",
       "    nav_element.append(status_bar);\n",
       "    this.message = status_bar[0];\n",
       "}\n",
       "\n",
       "mpl.figure.prototype.request_resize = function(x_pixels, y_pixels) {\n",
       "    // Request matplotlib to resize the figure. Matplotlib will then trigger a resize in the client,\n",
       "    // which will in turn request a refresh of the image.\n",
       "    this.send_message('resize', {'width': x_pixels, 'height': y_pixels});\n",
       "}\n",
       "\n",
       "mpl.figure.prototype.send_message = function(type, properties) {\n",
       "    properties['type'] = type;\n",
       "    properties['figure_id'] = this.id;\n",
       "    this.ws.send(JSON.stringify(properties));\n",
       "}\n",
       "\n",
       "mpl.figure.prototype.send_draw_message = function() {\n",
       "    if (!this.waiting) {\n",
       "        this.waiting = true;\n",
       "        this.ws.send(JSON.stringify({type: \"draw\", figure_id: this.id}));\n",
       "    }\n",
       "}\n",
       "\n",
       "\n",
       "mpl.figure.prototype.handle_save = function(fig, msg) {\n",
       "    var format_dropdown = fig.format_dropdown;\n",
       "    var format = format_dropdown.options[format_dropdown.selectedIndex].value;\n",
       "    fig.ondownload(fig, format);\n",
       "}\n",
       "\n",
       "\n",
       "mpl.figure.prototype.handle_resize = function(fig, msg) {\n",
       "    var size = msg['size'];\n",
       "    if (size[0] != fig.canvas.width || size[1] != fig.canvas.height) {\n",
       "        fig._resize_canvas(size[0], size[1]);\n",
       "        fig.send_message(\"refresh\", {});\n",
       "    };\n",
       "}\n",
       "\n",
       "mpl.figure.prototype.handle_rubberband = function(fig, msg) {\n",
       "    var x0 = msg['x0'];\n",
       "    var y0 = fig.canvas.height - msg['y0'];\n",
       "    var x1 = msg['x1'];\n",
       "    var y1 = fig.canvas.height - msg['y1'];\n",
       "    x0 = Math.floor(x0) + 0.5;\n",
       "    y0 = Math.floor(y0) + 0.5;\n",
       "    x1 = Math.floor(x1) + 0.5;\n",
       "    y1 = Math.floor(y1) + 0.5;\n",
       "    var min_x = Math.min(x0, x1);\n",
       "    var min_y = Math.min(y0, y1);\n",
       "    var width = Math.abs(x1 - x0);\n",
       "    var height = Math.abs(y1 - y0);\n",
       "\n",
       "    fig.rubberband_context.clearRect(\n",
       "        0, 0, fig.canvas.width, fig.canvas.height);\n",
       "\n",
       "    fig.rubberband_context.strokeRect(min_x, min_y, width, height);\n",
       "}\n",
       "\n",
       "mpl.figure.prototype.handle_figure_label = function(fig, msg) {\n",
       "    // Updates the figure title.\n",
       "    fig.header.textContent = msg['label'];\n",
       "}\n",
       "\n",
       "mpl.figure.prototype.handle_cursor = function(fig, msg) {\n",
       "    var cursor = msg['cursor'];\n",
       "    switch(cursor)\n",
       "    {\n",
       "    case 0:\n",
       "        cursor = 'pointer';\n",
       "        break;\n",
       "    case 1:\n",
       "        cursor = 'default';\n",
       "        break;\n",
       "    case 2:\n",
       "        cursor = 'crosshair';\n",
       "        break;\n",
       "    case 3:\n",
       "        cursor = 'move';\n",
       "        break;\n",
       "    }\n",
       "    fig.rubberband_canvas.style.cursor = cursor;\n",
       "}\n",
       "\n",
       "mpl.figure.prototype.handle_message = function(fig, msg) {\n",
       "    fig.message.textContent = msg['message'];\n",
       "}\n",
       "\n",
       "mpl.figure.prototype.handle_draw = function(fig, msg) {\n",
       "    // Request the server to send over a new figure.\n",
       "    fig.send_draw_message();\n",
       "}\n",
       "\n",
       "mpl.figure.prototype.handle_image_mode = function(fig, msg) {\n",
       "    fig.image_mode = msg['mode'];\n",
       "}\n",
       "\n",
       "mpl.figure.prototype.updated_canvas_event = function() {\n",
       "    // Called whenever the canvas gets updated.\n",
       "    this.send_message(\"ack\", {});\n",
       "}\n",
       "\n",
       "// A function to construct a web socket function for onmessage handling.\n",
       "// Called in the figure constructor.\n",
       "mpl.figure.prototype._make_on_message_function = function(fig) {\n",
       "    return function socket_on_message(evt) {\n",
       "        if (evt.data instanceof Blob) {\n",
       "            /* FIXME: We get \"Resource interpreted as Image but\n",
       "             * transferred with MIME type text/plain:\" errors on\n",
       "             * Chrome.  But how to set the MIME type?  It doesn't seem\n",
       "             * to be part of the websocket stream */\n",
       "            evt.data.type = \"image/png\";\n",
       "\n",
       "            /* Free the memory for the previous frames */\n",
       "            if (fig.imageObj.src) {\n",
       "                (window.URL || window.webkitURL).revokeObjectURL(\n",
       "                    fig.imageObj.src);\n",
       "            }\n",
       "\n",
       "            fig.imageObj.src = (window.URL || window.webkitURL).createObjectURL(\n",
       "                evt.data);\n",
       "            fig.updated_canvas_event();\n",
       "            fig.waiting = false;\n",
       "            return;\n",
       "        }\n",
       "        else if (typeof evt.data === 'string' && evt.data.slice(0, 21) == \"data:image/png;base64\") {\n",
       "            fig.imageObj.src = evt.data;\n",
       "            fig.updated_canvas_event();\n",
       "            fig.waiting = false;\n",
       "            return;\n",
       "        }\n",
       "\n",
       "        var msg = JSON.parse(evt.data);\n",
       "        var msg_type = msg['type'];\n",
       "\n",
       "        // Call the  \"handle_{type}\" callback, which takes\n",
       "        // the figure and JSON message as its only arguments.\n",
       "        try {\n",
       "            var callback = fig[\"handle_\" + msg_type];\n",
       "        } catch (e) {\n",
       "            console.log(\"No handler for the '\" + msg_type + \"' message type: \", msg);\n",
       "            return;\n",
       "        }\n",
       "\n",
       "        if (callback) {\n",
       "            try {\n",
       "                // console.log(\"Handling '\" + msg_type + \"' message: \", msg);\n",
       "                callback(fig, msg);\n",
       "            } catch (e) {\n",
       "                console.log(\"Exception inside the 'handler_\" + msg_type + \"' callback:\", e, e.stack, msg);\n",
       "            }\n",
       "        }\n",
       "    };\n",
       "}\n",
       "\n",
       "// from http://stackoverflow.com/questions/1114465/getting-mouse-location-in-canvas\n",
       "mpl.findpos = function(e) {\n",
       "    //this section is from http://www.quirksmode.org/js/events_properties.html\n",
       "    var targ;\n",
       "    if (!e)\n",
       "        e = window.event;\n",
       "    if (e.target)\n",
       "        targ = e.target;\n",
       "    else if (e.srcElement)\n",
       "        targ = e.srcElement;\n",
       "    if (targ.nodeType == 3) // defeat Safari bug\n",
       "        targ = targ.parentNode;\n",
       "\n",
       "    // jQuery normalizes the pageX and pageY\n",
       "    // pageX,Y are the mouse positions relative to the document\n",
       "    // offset() returns the position of the element relative to the document\n",
       "    var x = e.pageX - $(targ).offset().left;\n",
       "    var y = e.pageY - $(targ).offset().top;\n",
       "\n",
       "    return {\"x\": x, \"y\": y};\n",
       "};\n",
       "\n",
       "/*\n",
       " * return a copy of an object with only non-object keys\n",
       " * we need this to avoid circular references\n",
       " * http://stackoverflow.com/a/24161582/3208463\n",
       " */\n",
       "function simpleKeys (original) {\n",
       "  return Object.keys(original).reduce(function (obj, key) {\n",
       "    if (typeof original[key] !== 'object')\n",
       "        obj[key] = original[key]\n",
       "    return obj;\n",
       "  }, {});\n",
       "}\n",
       "\n",
       "mpl.figure.prototype.mouse_event = function(event, name) {\n",
       "    var canvas_pos = mpl.findpos(event)\n",
       "\n",
       "    if (name === 'button_press')\n",
       "    {\n",
       "        this.canvas.focus();\n",
       "        this.canvas_div.focus();\n",
       "    }\n",
       "\n",
       "    var x = canvas_pos.x;\n",
       "    var y = canvas_pos.y;\n",
       "\n",
       "    this.send_message(name, {x: x, y: y, button: event.button,\n",
       "                             step: event.step,\n",
       "                             guiEvent: simpleKeys(event)});\n",
       "\n",
       "    /* This prevents the web browser from automatically changing to\n",
       "     * the text insertion cursor when the button is pressed.  We want\n",
       "     * to control all of the cursor setting manually through the\n",
       "     * 'cursor' event from matplotlib */\n",
       "    event.preventDefault();\n",
       "    return false;\n",
       "}\n",
       "\n",
       "mpl.figure.prototype._key_event_extra = function(event, name) {\n",
       "    // Handle any extra behaviour associated with a key event\n",
       "}\n",
       "\n",
       "mpl.figure.prototype.key_event = function(event, name) {\n",
       "\n",
       "    // Prevent repeat events\n",
       "    if (name == 'key_press')\n",
       "    {\n",
       "        if (event.which === this._key)\n",
       "            return;\n",
       "        else\n",
       "            this._key = event.which;\n",
       "    }\n",
       "    if (name == 'key_release')\n",
       "        this._key = null;\n",
       "\n",
       "    var value = '';\n",
       "    if (event.ctrlKey && event.which != 17)\n",
       "        value += \"ctrl+\";\n",
       "    if (event.altKey && event.which != 18)\n",
       "        value += \"alt+\";\n",
       "    if (event.shiftKey && event.which != 16)\n",
       "        value += \"shift+\";\n",
       "\n",
       "    value += 'k';\n",
       "    value += event.which.toString();\n",
       "\n",
       "    this._key_event_extra(event, name);\n",
       "\n",
       "    this.send_message(name, {key: value,\n",
       "                             guiEvent: simpleKeys(event)});\n",
       "    return false;\n",
       "}\n",
       "\n",
       "mpl.figure.prototype.toolbar_button_onclick = function(name) {\n",
       "    if (name == 'download') {\n",
       "        this.handle_save(this, null);\n",
       "    } else {\n",
       "        this.send_message(\"toolbar_button\", {name: name});\n",
       "    }\n",
       "};\n",
       "\n",
       "mpl.figure.prototype.toolbar_button_onmouseover = function(tooltip) {\n",
       "    this.message.textContent = tooltip;\n",
       "};\n",
       "mpl.toolbar_items = [[\"Home\", \"Reset original view\", \"fa fa-home icon-home\", \"home\"], [\"Back\", \"Back to  previous view\", \"fa fa-arrow-left icon-arrow-left\", \"back\"], [\"Forward\", \"Forward to next view\", \"fa fa-arrow-right icon-arrow-right\", \"forward\"], [\"\", \"\", \"\", \"\"], [\"Pan\", \"Pan axes with left mouse, zoom with right\", \"fa fa-arrows icon-move\", \"pan\"], [\"Zoom\", \"Zoom to rectangle\", \"fa fa-square-o icon-check-empty\", \"zoom\"], [\"\", \"\", \"\", \"\"], [\"Download\", \"Download plot\", \"fa fa-floppy-o icon-save\", \"download\"]];\n",
       "\n",
       "mpl.extensions = [\"eps\", \"jpeg\", \"pdf\", \"png\", \"ps\", \"raw\", \"svg\", \"tif\"];\n",
       "\n",
       "mpl.default_extension = \"png\";var comm_websocket_adapter = function(comm) {\n",
       "    // Create a \"websocket\"-like object which calls the given IPython comm\n",
       "    // object with the appropriate methods. Currently this is a non binary\n",
       "    // socket, so there is still some room for performance tuning.\n",
       "    var ws = {};\n",
       "\n",
       "    ws.close = function() {\n",
       "        comm.close()\n",
       "    };\n",
       "    ws.send = function(m) {\n",
       "        //console.log('sending', m);\n",
       "        comm.send(m);\n",
       "    };\n",
       "    // Register the callback with on_msg.\n",
       "    comm.on_msg(function(msg) {\n",
       "        //console.log('receiving', msg['content']['data'], msg);\n",
       "        // Pass the mpl event to the overriden (by mpl) onmessage function.\n",
       "        ws.onmessage(msg['content']['data'])\n",
       "    });\n",
       "    return ws;\n",
       "}\n",
       "\n",
       "mpl.mpl_figure_comm = function(comm, msg) {\n",
       "    // This is the function which gets called when the mpl process\n",
       "    // starts-up an IPython Comm through the \"matplotlib\" channel.\n",
       "\n",
       "    var id = msg.content.data.id;\n",
       "    // Get hold of the div created by the display call when the Comm\n",
       "    // socket was opened in Python.\n",
       "    var element = $(\"#\" + id);\n",
       "    var ws_proxy = comm_websocket_adapter(comm)\n",
       "\n",
       "    function ondownload(figure, format) {\n",
       "        window.open(figure.imageObj.src);\n",
       "    }\n",
       "\n",
       "    var fig = new mpl.figure(id, ws_proxy,\n",
       "                           ondownload,\n",
       "                           element.get(0));\n",
       "\n",
       "    // Call onopen now - mpl needs it, as it is assuming we've passed it a real\n",
       "    // web socket which is closed, not our websocket->open comm proxy.\n",
       "    ws_proxy.onopen();\n",
       "\n",
       "    fig.parent_element = element.get(0);\n",
       "    fig.cell_info = mpl.find_output_cell(\"<div id='\" + id + \"'></div>\");\n",
       "    if (!fig.cell_info) {\n",
       "        console.error(\"Failed to find cell for figure\", id, fig);\n",
       "        return;\n",
       "    }\n",
       "\n",
       "    var output_index = fig.cell_info[2]\n",
       "    var cell = fig.cell_info[0];\n",
       "\n",
       "};\n",
       "\n",
       "mpl.figure.prototype.handle_close = function(fig, msg) {\n",
       "    fig.root.unbind('remove')\n",
       "\n",
       "    // Update the output cell to use the data from the current canvas.\n",
       "    fig.push_to_output();\n",
       "    var dataURL = fig.canvas.toDataURL();\n",
       "    // Re-enable the keyboard manager in IPython - without this line, in FF,\n",
       "    // the notebook keyboard shortcuts fail.\n",
       "    IPython.keyboard_manager.enable()\n",
       "    $(fig.parent_element).html('<img src=\"' + dataURL + '\">');\n",
       "    fig.close_ws(fig, msg);\n",
       "}\n",
       "\n",
       "mpl.figure.prototype.close_ws = function(fig, msg){\n",
       "    fig.send_message('closing', msg);\n",
       "    // fig.ws.close()\n",
       "}\n",
       "\n",
       "mpl.figure.prototype.push_to_output = function(remove_interactive) {\n",
       "    // Turn the data on the canvas into data in the output cell.\n",
       "    var dataURL = this.canvas.toDataURL();\n",
       "    this.cell_info[1]['text/html'] = '<img src=\"' + dataURL + '\">';\n",
       "}\n",
       "\n",
       "mpl.figure.prototype.updated_canvas_event = function() {\n",
       "    // Tell IPython that the notebook contents must change.\n",
       "    IPython.notebook.set_dirty(true);\n",
       "    this.send_message(\"ack\", {});\n",
       "    var fig = this;\n",
       "    // Wait a second, then push the new image to the DOM so\n",
       "    // that it is saved nicely (might be nice to debounce this).\n",
       "    setTimeout(function () { fig.push_to_output() }, 1000);\n",
       "}\n",
       "\n",
       "mpl.figure.prototype._init_toolbar = function() {\n",
       "    var fig = this;\n",
       "\n",
       "    var nav_element = $('<div/>')\n",
       "    nav_element.attr('style', 'width: 100%');\n",
       "    this.root.append(nav_element);\n",
       "\n",
       "    // Define a callback function for later on.\n",
       "    function toolbar_event(event) {\n",
       "        return fig.toolbar_button_onclick(event['data']);\n",
       "    }\n",
       "    function toolbar_mouse_event(event) {\n",
       "        return fig.toolbar_button_onmouseover(event['data']);\n",
       "    }\n",
       "\n",
       "    for(var toolbar_ind in mpl.toolbar_items){\n",
       "        var name = mpl.toolbar_items[toolbar_ind][0];\n",
       "        var tooltip = mpl.toolbar_items[toolbar_ind][1];\n",
       "        var image = mpl.toolbar_items[toolbar_ind][2];\n",
       "        var method_name = mpl.toolbar_items[toolbar_ind][3];\n",
       "\n",
       "        if (!name) { continue; };\n",
       "\n",
       "        var button = $('<button class=\"btn btn-default\" href=\"#\" title=\"' + name + '\"><i class=\"fa ' + image + ' fa-lg\"></i></button>');\n",
       "        button.click(method_name, toolbar_event);\n",
       "        button.mouseover(tooltip, toolbar_mouse_event);\n",
       "        nav_element.append(button);\n",
       "    }\n",
       "\n",
       "    // Add the status bar.\n",
       "    var status_bar = $('<span class=\"mpl-message\" style=\"text-align:right; float: right;\"/>');\n",
       "    nav_element.append(status_bar);\n",
       "    this.message = status_bar[0];\n",
       "\n",
       "    // Add the close button to the window.\n",
       "    var buttongrp = $('<div class=\"btn-group inline pull-right\"></div>');\n",
       "    var button = $('<button class=\"btn btn-mini btn-primary\" href=\"#\" title=\"Stop Interaction\"><i class=\"fa fa-power-off icon-remove icon-large\"></i></button>');\n",
       "    button.click(function (evt) { fig.handle_close(fig, {}); } );\n",
       "    button.mouseover('Stop Interaction', toolbar_mouse_event);\n",
       "    buttongrp.append(button);\n",
       "    var titlebar = this.root.find($('.ui-dialog-titlebar'));\n",
       "    titlebar.prepend(buttongrp);\n",
       "}\n",
       "\n",
       "mpl.figure.prototype._root_extra_style = function(el){\n",
       "    var fig = this\n",
       "    el.on(\"remove\", function(){\n",
       "\tfig.close_ws(fig, {});\n",
       "    });\n",
       "}\n",
       "\n",
       "mpl.figure.prototype._canvas_extra_style = function(el){\n",
       "    // this is important to make the div 'focusable\n",
       "    el.attr('tabindex', 0)\n",
       "    // reach out to IPython and tell the keyboard manager to turn it's self\n",
       "    // off when our div gets focus\n",
       "\n",
       "    // location in version 3\n",
       "    if (IPython.notebook.keyboard_manager) {\n",
       "        IPython.notebook.keyboard_manager.register_events(el);\n",
       "    }\n",
       "    else {\n",
       "        // location in version 2\n",
       "        IPython.keyboard_manager.register_events(el);\n",
       "    }\n",
       "\n",
       "}\n",
       "\n",
       "mpl.figure.prototype._key_event_extra = function(event, name) {\n",
       "    var manager = IPython.notebook.keyboard_manager;\n",
       "    if (!manager)\n",
       "        manager = IPython.keyboard_manager;\n",
       "\n",
       "    // Check for shift+enter\n",
       "    if (event.shiftKey && event.which == 13) {\n",
       "        this.canvas_div.blur();\n",
       "        event.shiftKey = false;\n",
       "        // Send a \"J\" for go to next cell\n",
       "        event.which = 74;\n",
       "        event.keyCode = 74;\n",
       "        manager.command_mode();\n",
       "        manager.handle_keydown(event);\n",
       "    }\n",
       "}\n",
       "\n",
       "mpl.figure.prototype.handle_save = function(fig, msg) {\n",
       "    fig.ondownload(fig, null);\n",
       "}\n",
       "\n",
       "\n",
       "mpl.find_output_cell = function(html_output) {\n",
       "    // Return the cell and output element which can be found *uniquely* in the notebook.\n",
       "    // Note - this is a bit hacky, but it is done because the \"notebook_saving.Notebook\"\n",
       "    // IPython event is triggered only after the cells have been serialised, which for\n",
       "    // our purposes (turning an active figure into a static one), is too late.\n",
       "    var cells = IPython.notebook.get_cells();\n",
       "    var ncells = cells.length;\n",
       "    for (var i=0; i<ncells; i++) {\n",
       "        var cell = cells[i];\n",
       "        if (cell.cell_type === 'code'){\n",
       "            for (var j=0; j<cell.output_area.outputs.length; j++) {\n",
       "                var data = cell.output_area.outputs[j];\n",
       "                if (data.data) {\n",
       "                    // IPython >= 3 moved mimebundle to data attribute of output\n",
       "                    data = data.data;\n",
       "                }\n",
       "                if (data['text/html'] == html_output) {\n",
       "                    return [cell, data, j];\n",
       "                }\n",
       "            }\n",
       "        }\n",
       "    }\n",
       "}\n",
       "\n",
       "// Register the function which deals with the matplotlib target/channel.\n",
       "// The kernel may be null if the page has been refreshed.\n",
       "if (IPython.notebook.kernel != null) {\n",
       "    IPython.notebook.kernel.comm_manager.register_target('matplotlib', mpl.mpl_figure_comm);\n",
       "}\n"
      ],
      "text/plain": [
       "<IPython.core.display.Javascript object>"
      ]
     },
     "metadata": {},
     "output_type": "display_data"
    },
    {
     "data": {
      "text/html": [
       "<img src=\"data:image/png;base64,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\">"
      ],
      "text/plain": [
       "<IPython.core.display.HTML object>"
      ]
     },
     "metadata": {},
     "output_type": "display_data"
    }
   ],
   "source": [
    "n = mesh.num_vertices()\n",
    "d = mesh.geometry().dim()\n",
    "\n",
    "# Create the triangulation\n",
    "mesh_coordinates = mesh.coordinates().reshape((n, d))\n",
    "triangles = np.asarray([cell.entities(0) for cell in cells(mesh)])\n",
    "triangulation = tri.Triangulation(mesh_coordinates[:, 0],\n",
    "                                  mesh_coordinates[:, 1],\n",
    "                                  triangles)\n",
    "\n",
    "triangulation.x *=1e6 \n",
    "triangulation.y *=1e6 \n",
    "# Plot the mesh\n",
    "fig = plt.figure(figsize=(7.0, 7.0))\n",
    "plt.triplot(triangulation)\n",
    "plt.xlabel(r'$x(\\mu m)$')\n",
    "plt.ylabel(r'$y(\\mu m)$')\n",
    "\n",
    "plt.savefig('mesh.png',bbox_inches='tight')\n",
    "plt.show()"
   ]
  },
  {
   "cell_type": "markdown",
   "metadata": {},
   "source": [
    "### Define the orders of the fucntion spaces for vector and nodal basis functions"
   ]
  },
  {
   "cell_type": "code",
   "execution_count": 17,
   "metadata": {
    "collapsed": false
   },
   "outputs": [],
   "source": [
    "vector_order = 3\n",
    "nodal_order = 3"
   ]
  },
  {
   "cell_type": "markdown",
   "metadata": {
    "slideshow": {
     "slide_type": "slide"
    }
   },
   "source": [
    "Define the test and trial functions from the combined space here N_i and N_j are Nedelec basis functions and L_i and L_j are Lagrange basis functions"
   ]
  },
  {
   "cell_type": "markdown",
   "metadata": {
    "slideshow": {
     "slide_type": "slide"
    }
   },
   "source": [
    "## Creating the matrix equation."
   ]
  },
  {
   "cell_type": "markdown",
   "metadata": {},
   "source": [
    "$$\\begin{bmatrix}\n",
    "    A_{tt}       & 0 \\\\\n",
    "    0       & 0 \n",
    "\\end{bmatrix}\\begin{bmatrix}\n",
    "    e_t \\\\\n",
    "    e_z      \n",
    "\\end{bmatrix} = -\\beta^2\n",
    "\\begin{bmatrix}\n",
    "    B_{tt}       & B_{tz} \\\\\n",
    "    B_{zt}       & B_{zz} \n",
    "\\end{bmatrix}\\begin{bmatrix}\n",
    "    e_t \\\\\n",
    "    e_z      \n",
    "\\end{bmatrix}\n",
    "$$"
   ]
  },
  {
   "cell_type": "markdown",
   "metadata": {
    "slideshow": {
     "slide_type": "slide"
    }
   },
   "source": [
    "Define the forms (matrix elements) for dispersion analysis into the basis functions"
   ]
  },
  {
   "cell_type": "code",
   "execution_count": 18,
   "metadata": {
    "collapsed": false
   },
   "outputs": [
    {
     "name": "stderr",
     "output_type": "stream",
     "text": [
      "DEBUG:FFC:Reusing form from cache.\n",
      "DEBUG:FFC:Reusing form from cache.\n",
      "DEBUG:FFC:Reusing form from cache.\n",
      "DEBUG:FFC:Reusing form from cache.\n",
      "DEBUG:FFC:Reusing form from cache.\n",
      "DEBUG:FFC:Reusing form from cache.\n",
      "DEBUG:FFC:Reusing form from cache.\n"
     ]
    }
   ],
   "source": [
    "combined_space, A,B, A_complex,B_complex = Matrix_creation(mesh,epsilon_real,epsilon_imag,mu_r,k,k0,vector_order,nodal_order)"
   ]
  },
  {
   "cell_type": "markdown",
   "metadata": {
    "slideshow": {
     "slide_type": "slide"
    }
   },
   "source": [
    "post-multiplication by dx will result in integration over the domain of the mesh at assembly time"
   ]
  },
  {
   "cell_type": "markdown",
   "metadata": {
    "slideshow": {
     "slide_type": "slide"
    }
   },
   "source": [
    "## Implement boundary conditions"
   ]
  },
  {
   "cell_type": "code",
   "execution_count": 19,
   "metadata": {
    "collapsed": false
   },
   "outputs": [],
   "source": [
    "A,B,A_complex,B_complex,electric_wall = Mirror_boundary(mesh,combined_space,A,B,A_complex,B_complex,k)\n",
    "#free_dofs = boundary_marker_locator(A,electric_wall)\n",
    "free_dofs = boundary_marker_locator(A,electric_wall)"
   ]
  },
  {
   "cell_type": "markdown",
   "metadata": {
    "slideshow": {
     "slide_type": "slide"
    }
   },
   "source": [
    "### Free the vectors and make numpy arrays to solve with scipy"
   ]
  },
  {
   "cell_type": "code",
   "execution_count": 22,
   "metadata": {
    "collapsed": false
   },
   "outputs": [
    {
     "data": {
      "text/plain": [
       "False"
      ]
     },
     "execution_count": 22,
     "metadata": {},
     "output_type": "execute_result"
    }
   ],
   "source": [
    "'A_np' in locals()"
   ]
  },
  {
   "cell_type": "markdown",
   "metadata": {
    "slideshow": {
     "slide_type": "-"
    }
   },
   "source": [
    "Find what part of the vectors are not ascociated with the boundary values"
   ]
  },
  {
   "cell_type": "markdown",
   "metadata": {
    "slideshow": {
     "slide_type": "slide"
    }
   },
   "source": [
    "### Solve the eigenvalue system using scipy.linalg.eig"
   ]
  },
  {
   "cell_type": "code",
   "execution_count": null,
   "metadata": {
    "collapsed": false
   },
   "outputs": [],
   "source": [
    "if ('A_np' in locals()) and ('B_np' in locals()):\n",
    "    eigen,ev,A_np,B_np = find_eigenvalues(A,B,A_complex,B_complex,neff_g,1000,k0,free_dofs,k,sparse_,A_np,B_np)\n",
    "else:\n",
    "    eigen,ev,A_np,B_np = find_eigenvalues(A,B,A_complex,B_complex,neff_g,1000,k0,free_dofs,k,sparse_,None,None)"
   ]
  },
  {
   "cell_type": "markdown",
   "metadata": {
    "collapsed": false
   },
   "source": [
    "dot_sparse = csc_matrix.dot\n",
    "eigen, ev =scipy_sparse_eigensolver(dot_sparse(conj_trans(B_np),A_np),dot_sparse(conj_trans(B_np),B_np),neff_g,70,k0)"
   ]
  },
  {
   "cell_type": "markdown",
   "metadata": {
    "slideshow": {
     "slide_type": "slide"
    }
   },
   "source": [
    "Find $\\beta$ from the eigenvalue."
   ]
  },
  {
   "cell_type": "markdown",
   "metadata": {
    "collapsed": false
   },
   "source": [
    "neff_g = 1.4444696250032485-7.8560918745118053e-5j"
   ]
  },
  {
   "cell_type": "code",
   "execution_count": null,
   "metadata": {
    "collapsed": false
   },
   "outputs": [],
   "source": [
    "beta =1j*(eigen)**0.5 \n",
    "beta = np.abs(np.real(beta)) -1j*np.imag(beta)"
   ]
  },
  {
   "cell_type": "markdown",
   "metadata": {
    "slideshow": {
     "slide_type": "slide"
    }
   },
   "source": [
    "sort the calculated values"
   ]
  },
  {
   "cell_type": "code",
   "execution_count": null,
   "metadata": {
    "collapsed": false
   },
   "outputs": [],
   "source": [
    "sort_index = np.argsort(beta.imag)[::-1]"
   ]
  },
  {
   "cell_type": "code",
   "execution_count": null,
   "metadata": {
    "collapsed": false
   },
   "outputs": [],
   "source": [
    "propagating_modes = np.where(((beta[sort_index]/k0).real>nclad.real) & ((beta[sort_index]/k0).real<ncore))\n",
    "propagating_modes = propagating_modes[0][:]"
   ]
  },
  {
   "cell_type": "markdown",
   "metadata": {
    "slideshow": {
     "slide_type": "slide"
    }
   },
   "source": [
    "Print the first four effective indices. ((1.44446963419-7.85620938656e-05j))"
   ]
  },
  {
   "cell_type": "code",
   "execution_count": null,
   "metadata": {
    "collapsed": false
   },
   "outputs": [],
   "source": [
    "print(\"The effective index of the modes are:\")\n",
    "print(beta[sort_index][propagating_modes]/k0)"
   ]
  },
  {
   "cell_type": "code",
   "execution_count": null,
   "metadata": {
    "collapsed": false
   },
   "outputs": [],
   "source": [
    "beta[sort_index][:]/k0"
   ]
  },
  {
   "cell_type": "code",
   "execution_count": null,
   "metadata": {
    "collapsed": false
   },
   "outputs": [],
   "source": [
    "neff_th"
   ]
  },
  {
   "cell_type": "code",
   "execution_count": null,
   "metadata": {
    "collapsed": false
   },
   "outputs": [],
   "source": [
    "neff = beta[sort_index][propagating_modes]/k0"
   ]
  },
  {
   "cell_type": "markdown",
   "metadata": {},
   "source": [
    "Comsol : 1.4444696250032485-7.856091874511805E-5i"
   ]
  },
  {
   "cell_type": "markdown",
   "metadata": {
    "slideshow": {
     "slide_type": "slide"
    }
   },
   "source": [
    "### Plot the results"
   ]
  },
  {
   "cell_type": "code",
   "execution_count": null,
   "metadata": {
    "collapsed": true
   },
   "outputs": [],
   "source": [
    "from scipy.io import savemat"
   ]
  },
  {
   "cell_type": "code",
   "execution_count": null,
   "metadata": {
    "collapsed": false
   },
   "outputs": [],
   "source": [
    "size1,size2 = 512,512\n",
    "min_max = (-3*r_core,3*r_core,-3*r_core,3*r_core)"
   ]
  },
  {
   "cell_type": "code",
   "execution_count": null,
   "metadata": {
    "collapsed": false
   },
   "outputs": [],
   "source": [
    "mode0 = modes(3,size1,size2,min_max,propagating_modes,beta,sort_index,k0)\n",
    "mode0.electric_field_full(k,A,ev,sort_index,free_dofs,combined_space)\n"
   ]
  },
  {
   "cell_type": "code",
   "execution_count": null,
   "metadata": {
    "collapsed": false
   },
   "outputs": [],
   "source": [
    "mode0.plot_electric_field(scales = 1,sp=40,cont_scale=700)"
   ]
  },
  {
   "cell_type": "code",
   "execution_count": null,
   "metadata": {
    "collapsed": false
   },
   "outputs": [],
   "source": [
    "from scipy.io import loadmat\n",
    "def plot_convergence(x,y,name):\n",
    "    fig = plt.figure(figsize=(10,7))\n",
    "    plt.semilogx(x,y,'-o')\n",
    "    plt.xlabel(r'$log(N_{c})$')\n",
    "    plt.ylabel(name)\n",
    "    plt.savefig(name+'.eps',bbox_inches = 'tight')\n",
    "    plt.savefig(name+'.png',bbox_inches = 'tight')\n",
    "    plt.show()\n",
    "N_complex = []\n",
    "A = []\n",
    "I = [0,0,0,9]\n",
    "C = []\n",
    "for refine in range(4):\n",
    "    D = loadmat('convergence'+str(refine)+'.mat')\n",
    "    i = I[refine]\n",
    "    A.append(D['Aeff_simps'][0][i])\n",
    "    #if refine ==2:\n",
    "    #    N_complex.append(1.44446548 -7.87245719e-05j)\n",
    "    #else:\n",
    "    N_complex.append(D['neff'][0][i])\n",
    "    #I.append(i)\n",
    "    C.append(D['cells'][0][0])\n",
    "plot_convergence(C,100*(1/np.abs(neff_th.imag))*np.abs(neff_th.imag*np.ones(len(N_complex)) - np.imag(N_complex)),r'$\\delta \\left(Im(n_{eff})\\right)\\%$')\n",
    "plot_convergence(C,100*(1/Aeff_th)*np.abs(Aeff_th.real*np.ones(len(N_complex)) - np.real(A)),r'$\\delta \\left(A_{eff}\\right)\\%$')\n",
    "plot_convergence(C,100*(1/neff_th.real)*np.abs(neff_th.real*np.ones(len(N_complex)) - np.real(N_complex)),r'$\\delta \\left( Re(n_{eff})\\right)\\%$')"
   ]
  },
  {
   "cell_type": "code",
   "execution_count": null,
   "metadata": {
    "collapsed": false
   },
   "outputs": [],
   "source": [
    "\n",
    "class modes(object):\n",
    "    def __init__(self,mode,size1,size2,min_max,propagating_modes,beta,sort_index,k0):\n",
    "        self.mode = mode\n",
    "        self.mode_idx = propagating_modes[self.mode]\n",
    "        self.neff = beta[sort_index][self.mode_idx]/k0\n",
    "        \n",
    "        self.xmin, self.xmax,self.ymin,self.ymax = min_max\n",
    "        \n",
    "        self.x = np.linspace(self.xmin,self.ymax,size1)\n",
    "        self.y = np.linspace(self.ymin,self.ymax,size2)\n",
    "        self.E = None\n",
    "        self.E_axial = None\n",
    "\n",
    "\n",
    "    def dolfin_functions(self,k,A,ev,sort_index,free_dofs,combined_space):\n",
    "        #post-process the coefficients to map back to the full matrix\n",
    "        coefficiants_global = np.zeros(A.size(0),dtype=np.complex)\n",
    "        coefficiants_global[free_dofs] = ev[:,sort_index[self.mode_idx]]\n",
    "        #Create a Function on the combined space\n",
    "        mode_re = Function(combined_space)\n",
    "        mode_im = Function(combined_space)\n",
    "        #Assign the coefficients of the function to the calculated values\n",
    "        mode_re.vector().set_local(np.real(coefficiants_global))\n",
    "        mode_im.vector().set_local(np.imag(coefficiants_global))\n",
    "        #Split the function into the parts in each of the functions spaces in combined_space\n",
    "        #This is done using DOLFINs Function.split()\n",
    "        (TE_re,TM_re) = mode_re.split()\n",
    "        (TE_im,TM_im) = mode_im.split()\n",
    "        self.TE_re = TE_re\n",
    "        self.TE_im = TE_im\n",
    "        self.TM_re = TM_re\n",
    "        self.TM_im = TM_im\n",
    "        return None#TE_re,TE_re,TM_re,TM_im\n",
    "\n",
    "    def effective_area(self,k,A,ev,sort_index,free_dofs,combined_space,lim):\n",
    "        try:\n",
    "            temp = self.TE_re\n",
    "        except AttributeError:\n",
    "            self.dolfin_functions(k,A,ev,sort_index,free_dofs,combined_space)\n",
    "            pass\n",
    "        integrand1 = dblquad(self.Eabs2, -lim, lim, lambda x: -lim,lambda x: lim)\n",
    "        integrand2 = dblquad(lambda y,x: self.Eabs2(y,x)**2, -lim, lim, lambda x: -lim,lambda x: lim)\n",
    "        \n",
    "        self.Aeff =  integrand1[0]**2/integrand2[0]\n",
    "\n",
    "\n",
    "    def Eabs2(self,y,x):\n",
    "        E_ = self.Efun(y,x)\n",
    "        return (E_[0]*E_[0].conjugate() + E_[1]*E_[1].conjugate()).real\n",
    "    def Efun(self,y,x):\n",
    "        point = Point(x,y)\n",
    "        E = self.TE_re(point)+1j*self.TE_im(point)\n",
    "        return E[0],E[1]\n",
    "\n",
    "\n",
    "    def effective_area_simps(self,k,A,ev,sort_index,free_dofs,combined_space):\n",
    "        if self.E ==None:\n",
    "            self.electric_field_full(k,A,ev,sort_index,free_dofs,combined_space)\n",
    "        \n",
    "        integrand1 = (self.E[:,:,0].conjugate()*self.E[:,:,0] + self.E[:,:,1].conjugate()*self.E[:,:,1]).real   \n",
    "        Over = integration2d_simps(self.x,self.y,integrand1)\n",
    "            \n",
    "        integrand2 = integrand1**2\n",
    "        under = integration2d_simps(self.x,self.y,integrand2)\n",
    "        self.Aeff = Over**2/under    \n",
    "        return Over**2/under\n",
    "    def electric_field_full(self,k,A,ev,sort_index,free_dofs,combined_space):\n",
    "        \"\"\"\n",
    "        Releases the electric field from the calculated eigenvalus and eigen vectors\n",
    "        \n",
    "        Returns::\n",
    "        E[size,size,2],E_axial(Ez)\n",
    "        \"\"\"\n",
    "        try:\n",
    "            temp = self.TE_re\n",
    "        except AttributeError:\n",
    "            self.dolfin_functions(k,A,ev,sort_index,free_dofs,combined_space)\n",
    "            pass\n",
    "        \n",
    "        E = np.zeros([len(self.x),len(self.y),2],dtype = np.complex)\n",
    "        E_axial = np.zeros([len(self.x),len(self.y)], dtype= np.complex)\n",
    "        for i,xx in enumerate(self.x):\n",
    "            for j,yy in enumerate(self.y):\n",
    "                point = Point(xx,yy)\n",
    "                E[i,j,:]     =  self.TE_re(point) + 1j*self.TE_im(point)\n",
    "                E_axial[i,j] =  self.TM_re(point) + 1j*self.TM_im(point)\n",
    "        self.E = E\n",
    "        self.E_axial = E_axial\n",
    "        self.mode_field = np.transpose((np.abs(self.E[:,:,0])**2 + np.abs(self.E[:,:,1])**2+np.abs(self.E_axial[:,:])**2)**0.5)\n",
    "        maxi = np.max(self.mode_field)\n",
    "        self.mode_field /=maxi\n",
    "\n",
    "        return None    \n",
    "\n",
    "    def plot_electric_field(self,sp=10,scales = 500000,cont_scale=90,**kwrds):\n",
    "\n",
    "        fig = plt.figure(figsize=(7.0, 7.0))\n",
    "        xplot = self.x*1e6\n",
    "        yplot = self.y*1e6\n",
    "        X,Y = np.meshgrid(xplot,yplot)\n",
    "        try:\n",
    "            plt.contourf(X,Y,self.mode_field,cont_scale)\n",
    "        except AttributeError:\n",
    "             raise NotImplementedError(\"interpolate before plotting\")\n",
    "\n",
    "        plt.quiver(X[::sp,::sp], Y[::sp,::sp], np.real(self.E[::sp,::sp,0]), np.real(self.E[::sp,::sp,1]),scale = scales,headlength=7)\n",
    "        plt.xlabel(r'$x(\\mu m)$')\n",
    "        plt.ylabel(r'$y(\\mu m)$')\n",
    "        #plt.title(r'mode$=$'+str(self.mode)+', '+'  $n_{eff}=$'+str(self.neff.real)+str(self.neff.imag)+'j')\n",
    "        plt.savefig('mode'+str(self.mode)+'.eps',bbox_inches ='tight')\n",
    "        D = {}\n",
    "        D['X'] = X\n",
    "        D['Y'] = Y\n",
    "        D['Z'] = self.mode_field\n",
    "        D['u'] = np.real(self.E[::sp,::sp,0])\n",
    "        D['v'] = np.real(self.E[::sp,::sp,1])\n",
    "        D['scale'] = scales\n",
    "        D['cont_scale'] = 90\n",
    "        D['sp'] = sp\n",
    "        savemat('mode'+str(self.mode)+'.mat',D)\n",
    "        return None\n"
   ]
  },
  {
   "cell_type": "code",
   "execution_count": null,
   "metadata": {
    "collapsed": false
   },
   "outputs": [],
   "source": [
    "plt.savetxt?"
   ]
  },
  {
   "cell_type": "code",
   "execution_count": null,
   "metadata": {
    "collapsed": false
   },
   "outputs": [],
   "source": [
    "print(mode0.E.shape)"
   ]
  },
  {
   "cell_type": "code",
   "execution_count": null,
   "metadata": {
    "collapsed": false
   },
   "outputs": [],
   "source": [
    "mode0.effective_area(k,A,ev,sort_index,free_dofs,combined_space,r_clad)"
   ]
  },
  {
   "cell_type": "code",
   "execution_count": null,
   "metadata": {
    "collapsed": false
   },
   "outputs": [],
   "source": [
    "mode0.Aeff"
   ]
  },
  {
   "cell_type": "code",
   "execution_count": null,
   "metadata": {
    "collapsed": false
   },
   "outputs": [],
   "source": [
    "mode0.effective_area_simps(k,A,ev,sort_index,free_dofs,combined_space)"
   ]
  },
  {
   "cell_type": "code",
   "execution_count": null,
   "metadata": {
    "collapsed": false
   },
   "outputs": [],
   "source": [
    "nclad"
   ]
  },
  {
   "cell_type": "code",
   "execution_count": null,
   "metadata": {
    "collapsed": false
   },
   "outputs": [],
   "source": [
    "C"
   ]
  },
  {
   "cell_type": "code",
   "execution_count": null,
   "metadata": {
    "collapsed": false
   },
   "outputs": [],
   "source": [
    "mode0.Eabs2(y[0],x[0])"
   ]
  },
  {
   "cell_type": "code",
   "execution_count": null,
   "metadata": {
    "collapsed": false
   },
   "outputs": [],
   "source": [
    "E_ = mode0.Efun(y[0],x[0])"
   ]
  },
  {
   "cell_type": "code",
   "execution_count": null,
   "metadata": {
    "collapsed": false
   },
   "outputs": [],
   "source": [
    "np.abs(mode0.Efun(y[0],x[0]))**2"
   ]
  },
  {
   "cell_type": "code",
   "execution_count": null,
   "metadata": {
    "collapsed": false
   },
   "outputs": [],
   "source": [
    "mode1 = modes(0,size1,size2,min_max,propagating_modes,beta,sort_index,k0)\n",
    "mode1.electric_field_full(k,A,ev,sort_index,free_dofs,combined_space)\n"
   ]
  },
  {
   "cell_type": "code",
   "execution_count": null,
   "metadata": {
    "collapsed": false
   },
   "outputs": [],
   "source": [
    "mode1.effective_area(k,A,ev,sort_index,free_dofs,combined_space,r_clad)"
   ]
  },
  {
   "cell_type": "code",
   "execution_count": null,
   "metadata": {
    "collapsed": false
   },
   "outputs": [],
   "source": [
    "mode1.plot_electric_field(scales = 90000,sp=40)"
   ]
  },
  {
   "cell_type": "code",
   "execution_count": null,
   "metadata": {
    "collapsed": true
   },
   "outputs": [],
   "source": []
  },
  {
   "cell_type": "code",
   "execution_count": null,
   "metadata": {
    "collapsed": true
   },
   "outputs": [],
   "source": []
  },
  {
   "cell_type": "code",
   "execution_count": null,
   "metadata": {
    "collapsed": true
   },
   "outputs": [],
   "source": []
  },
  {
   "cell_type": "code",
   "execution_count": null,
   "metadata": {
    "collapsed": true
   },
   "outputs": [],
   "source": []
  },
  {
   "cell_type": "markdown",
   "metadata": {},
   "source": [
    "# Tests"
   ]
  },
  {
   "cell_type": "markdown",
   "metadata": {},
   "source": [
    "Effective area"
   ]
  },
  {
   "cell_type": "code",
   "execution_count": null,
   "metadata": {
    "collapsed": true
   },
   "outputs": [],
   "source": [
    "def effective():\n",
    "    "
   ]
  },
  {
   "cell_type": "code",
   "execution_count": null,
   "metadata": {
    "collapsed": false
   },
   "outputs": [],
   "source": [
    "if aj:\n",
    "    print\"hello\""
   ]
  },
  {
   "cell_type": "code",
   "execution_count": null,
   "metadata": {
    "collapsed": true
   },
   "outputs": [],
   "source": []
  },
  {
   "cell_type": "code",
   "execution_count": null,
   "metadata": {
    "collapsed": true
   },
   "outputs": [],
   "source": []
  },
  {
   "cell_type": "code",
   "execution_count": null,
   "metadata": {
    "collapsed": true
   },
   "outputs": [],
   "source": []
  },
  {
   "cell_type": "code",
   "execution_count": null,
   "metadata": {
    "collapsed": true
   },
   "outputs": [],
   "source": []
  },
  {
   "cell_type": "code",
   "execution_count": null,
   "metadata": {
    "collapsed": true
   },
   "outputs": [],
   "source": []
  },
  {
   "cell_type": "code",
   "execution_count": null,
   "metadata": {
    "collapsed": true
   },
   "outputs": [],
   "source": []
  },
  {
   "cell_type": "code",
   "execution_count": null,
   "metadata": {
    "collapsed": true
   },
   "outputs": [],
   "source": []
  },
  {
   "cell_type": "markdown",
   "metadata": {
    "collapsed": true
   },
   "source": [
    "def electric_field_full(mode_idx,x,y,k,A,ev,sort_index,free_dofs,combined_space):\n",
    "    \"\"\"\n",
    "    Releases the electric field from the calculated eigenvalus and eigen vectors\n",
    "    \n",
    "    Returns::\n",
    "    E[size,size,2],E_axial(Ez)\n",
    "    \"\"\"\n",
    "\n",
    "    #post-process the coefficients to map back to the full matrix\n",
    "    coefficiants_global = np.zeros(A.size(0),dtype=np.complex)\n",
    "    coefficiants_global[free_dofs] = ev[:,sort_index[mode_idx]]\n",
    "    #Create a Function on the combined space\n",
    "    mode_re = Function(combined_space)\n",
    "    mode_im = Function(combined_space)\n",
    "    #Assign the coefficients of the function to the calculated values\n",
    "    mode_re.vector().set_local(np.real(coefficiants_global))\n",
    "    mode_im.vector().set_local(np.imag(coefficiants_global))\n",
    "    #Split the function into the parts in each of the functions spaces in combined_space\n",
    "    #This is done using DOLFINs Function.split()\n",
    "    (TE_re,TM_re) = mode_re.split()\n",
    "    (TE_im,TM_im) = mode_im.split()\n",
    "\n",
    "    E = np.zeros([len(x),len(y),2],dtype = np.complex)\n",
    "    E_axial = np.zeros([len(x),len(y)], dtype= np.complex)\n",
    "    for i,xx in enumerate(x):\n",
    "        for j,yy in enumerate(y):\n",
    "            point = Point(xx,yy)\n",
    "            E[i,j,:]    =  TE_re(point) + 1j*TE_im(point)\n",
    "            E_axial[i,j] = TM_re(point) + 1j*TM_im(point)\n",
    "    return E,E_axial"
   ]
  },
  {
   "cell_type": "code",
   "execution_count": null,
   "metadata": {
    "collapsed": true
   },
   "outputs": [],
   "source": [
    "x = np.linspace(-r_clad,r_clad,512)\n",
    "y = np.linspace(-r_clad,r_clad,512)"
   ]
  },
  {
   "cell_type": "code",
   "execution_count": null,
   "metadata": {
    "collapsed": true
   },
   "outputs": [],
   "source": [
    "delx = x[1] - x[0]\n",
    "dely = y[1] - y[0]"
   ]
  },
  {
   "cell_type": "code",
   "execution_count": null,
   "metadata": {
    "collapsed": false
   },
   "outputs": [],
   "source": [
    "En,E_axialn = electric_field_full(propagating_modes[0],x,y,k,A,ev,sort_index,free_dofs,combined_space)\n",
    "Em,E_axialm = electric_field_full(propagating_modes[1],x,y,k,A,ev,sort_index,free_dofs,combined_space)"
   ]
  },
  {
   "cell_type": "code",
   "execution_count": null,
   "metadata": {
    "collapsed": false
   },
   "outputs": [],
   "source": [
    "np.max(np.gradient(En[:,:,0],delx,dely)[0] +np.gradient(En[:,:,1],delx,dely)[1] + np.gradient(E_axial))"
   ]
  },
  {
   "cell_type": "code",
   "execution_count": null,
   "metadata": {
    "collapsed": false
   },
   "outputs": [],
   "source": [
    "np.max(np.gradient(En[:,:,0])[2])"
   ]
  },
  {
   "cell_type": "code",
   "execution_count": null,
   "metadata": {
    "collapsed": false
   },
   "outputs": [],
   "source": [
    "def overlap_simps(En,E_axialn,Em,E_axialm,x,y):\n",
    "    integrand1 = np.conjugate(En[:,:,0])*Em[:,:,0] + np.conjugate(En[:,:,1])*Em[:,:,1] + np.conjugate(E_axialn[:,:])*E_axialm[:,:]\n",
    "    Over = integration2d_simps(x,y,integrand1)\n",
    "    \n",
    "    integrand2 = np.abs(En[:,:,0])**2 + np.abs(En[:,:,1])**2 + np.abs(E_axialn[:,:])**2\n",
    "    under1 = integration2d_simps(x,y,integrand2)\n",
    "       \n",
    "    integrand3 = np.abs(Em[:,:,0])**2 + np.abs(Em[:,:,1])**2 + np.abs(E_axialm[:,:])**2\n",
    "    under2 = integration2d_simps(x,y,integrand3)\n",
    "    print(np.max(integrand1))#,integrand2,integrand3)\n",
    "    print(Over,under1,under2)\n",
    "    return np.abs(Over)**2/(under1*under2)\n"
   ]
  },
  {
   "cell_type": "code",
   "execution_count": null,
   "metadata": {
    "collapsed": true
   },
   "outputs": [],
   "source": [
    "integrand1 = np.conjugate(En[:,:,0])*Em[:,:,0] + np.conjugate(En[:,:,1])*Em[:,:,1] + np.conjugate(E_axialn[:,:])*E_axialm[:,:]"
   ]
  },
  {
   "cell_type": "code",
   "execution_count": null,
   "metadata": {
    "collapsed": false
   },
   "outputs": [],
   "source": [
    "X,Y = np.meshgrid(x,y)\n",
    "plt.contourf(X,Y,integrand1)\n",
    "plt.xlim(-r_core,r_core)\n",
    "plt.ylim(-r_core,r_core)\n",
    "plt.colorbar()"
   ]
  },
  {
   "cell_type": "code",
   "execution_count": null,
   "metadata": {
    "collapsed": false
   },
   "outputs": [],
   "source": [
    "overlap_simps(En,E_axialn,Em,E_axialm,x,y)"
   ]
  },
  {
   "cell_type": "code",
   "execution_count": null,
   "metadata": {
    "collapsed": false
   },
   "outputs": [],
   "source": [
    "from testing.Single_mode_fibre import *\n"
   ]
  },
  {
   "cell_type": "code",
   "execution_count": null,
   "metadata": {
    "collapsed": false
   },
   "outputs": [],
   "source": [
    "effective_area_simps(En,E_axialn,x,y)"
   ]
  },
  {
   "cell_type": "code",
   "execution_count": null,
   "metadata": {
    "collapsed": false
   },
   "outputs": [],
   "source": [
    "effective_area_simps(Em,E_axialm,x,y)"
   ]
  },
  {
   "cell_type": "code",
   "execution_count": null,
   "metadata": {
    "collapsed": false
   },
   "outputs": [],
   "source": [
    "#Overlaps_simps(3,4,propagating_modes,x,y)\n",
    "Overlaps_simps(3,4,propagating_modes,x,y,r_core,r_clad,k,beta,k0,A,ev,sort_index,free_dofs,combined_space)"
   ]
  },
  {
   "cell_type": "code",
   "execution_count": null,
   "metadata": {
    "collapsed": true
   },
   "outputs": [],
   "source": []
  },
  {
   "cell_type": "code",
   "execution_count": null,
   "metadata": {
    "collapsed": true
   },
   "outputs": [],
   "source": [
    "import sympy.vector.coordsysrect"
   ]
  },
  {
   "cell_type": "code",
   "execution_count": null,
   "metadata": {
    "collapsed": false
   },
   "outputs": [],
   "source": [
    "from sympy.vector import CoordSysCartesian, divergence,curl\n",
    "R = CoordSysCartesian('R')\n",
    "v1 = R.x*R.y*R.z * (R.i+R.j+R.k)\n",
    "divergence(v1, R)\n",
    "v2 = 2*R.y*R.z*R.j\n",
    "divergence(v2, R)"
   ]
  },
  {
   "cell_type": "code",
   "execution_count": null,
   "metadata": {
    "collapsed": false
   },
   "outputs": [],
   "source": [
    "E = R.x*E[:,:,0] +R.y*E[:,:,1]+ R.z*E_axial"
   ]
  },
  {
   "cell_type": "code",
   "execution_count": null,
   "metadata": {
    "collapsed": true
   },
   "outputs": [],
   "source": [
    "np.diff?"
   ]
  },
  {
   "cell_type": "code",
   "execution_count": null,
   "metadata": {
    "collapsed": false
   },
   "outputs": [],
   "source": [
    "Overlaps_simps(3,3,propagating_modes,x,y,r_core,r_clad,k,beta,k0,A,ev,sort_index,free_dofs,combined_space)"
   ]
  },
  {
   "cell_type": "code",
   "execution_count": null,
   "metadata": {
    "collapsed": false
   },
   "outputs": [],
   "source": [
    "Overlaps_simps(4,4,propagating_modes,x,y,r_core,r_clad,k,beta,k0,A,ev,sort_index,free_dofs,combined_space)"
   ]
  },
  {
   "cell_type": "code",
   "execution_count": null,
   "metadata": {
    "collapsed": false
   },
   "outputs": [],
   "source": [
    "div(combined_space)"
   ]
  },
  {
   "cell_type": "code",
   "execution_count": null,
   "metadata": {
    "collapsed": false
   },
   "outputs": [],
   "source": [
    "E,E_axial = electric_field_full(mode_idx,x,y,k,A,ev,sort_index,free_dofs,combined_space)"
   ]
  },
  {
   "cell_type": "code",
   "execution_count": null,
   "metadata": {
    "collapsed": true
   },
   "outputs": [],
   "source": [
    "def divergence(F):\n",
    "    \"\"\" compute the divergence of n-D scalar field `F` \"\"\"\n",
    "    return reduce(np.add,np.gradient(F))"
   ]
  },
  {
   "cell_type": "code",
   "execution_count": null,
   "metadata": {
    "collapsed": true
   },
   "outputs": [],
   "source": [
    "e_r = n_prof +1j*k_prof"
   ]
  },
  {
   "cell_type": "code",
   "execution_count": null,
   "metadata": {
    "collapsed": false
   },
   "outputs": [],
   "source": [
    "div = np.gradient(e_r)"
   ]
  },
  {
   "cell_type": "code",
   "execution_count": null,
   "metadata": {
    "collapsed": false
   },
   "outputs": [],
   "source": [
    "np.shape(e_r)"
   ]
  },
  {
   "cell_type": "code",
   "execution_count": null,
   "metadata": {
    "collapsed": false
   },
   "outputs": [],
   "source": [
    "np.shape(div)"
   ]
  },
  {
   "cell_type": "code",
   "execution_count": null,
   "metadata": {
    "collapsed": false
   },
   "outputs": [],
   "source": [
    "beta"
   ]
  },
  {
   "cell_type": "code",
   "execution_count": null,
   "metadata": {
    "collapsed": false
   },
   "outputs": [],
   "source": [
    "alpha = np.linspace(-5,5,100)\n",
    "beta = np.copy(alpha)\n",
    "AR,BR =np.meshgrid(alpha,beta)\n",
    "alpha,beta = AR,BR\n",
    "gama = 1/(AR**2 + BR**2)\n",
    "\n",
    "plt.contourf(AR,BR,gama)"
   ]
  },
  {
   "cell_type": "code",
   "execution_count": null,
   "metadata": {
    "collapsed": false
   },
   "outputs": [],
   "source": [
    "plt.contourf(AR,BR,divergence(gama))\n",
    "plt.colorbar()"
   ]
  },
  {
   "cell_type": "code",
   "execution_count": null,
   "metadata": {
    "collapsed": false
   },
   "outputs": [],
   "source": [
    "np.max(divergence(gama))"
   ]
  },
  {
   "cell_type": "code",
   "execution_count": null,
   "metadata": {
    "collapsed": false
   },
   "outputs": [],
   "source": [
    "plt.contourf(X,Y,divergence(E[:,:,0]))#+divergence(np.dot(e_r,E[:,:,1])))#+divergence(E_axial))\n",
    "plt.colorbar()"
   ]
  },
  {
   "cell_type": "code",
   "execution_count": null,
   "metadata": {
    "collapsed": false
   },
   "outputs": [],
   "source": [
    "sympy.__version__"
   ]
  },
  {
   "cell_type": "code",
   "execution_count": null,
   "metadata": {
    "collapsed": true
   },
   "outputs": [],
   "source": [
    "import sympy"
   ]
  },
  {
   "cell_type": "code",
   "execution_count": null,
   "metadata": {
    "collapsed": true
   },
   "outputs": [],
   "source": [
    "coefficiants_global = np.zeros(A.size(0),dtype=np.complex)\n",
    "coefficiants_global[free_dofs] = ev[:,sort_index[mode_idx]]\n",
    "mode_re = Function(combined_space)\n",
    "mode_im = Function(combined_space)\n",
    "mode_re.vector().set_local(np.real(coefficiants_global))\n",
    "mode_im.vector().set_local(np.imag(coefficiants_global))\n",
    "(TE_re,TM_re) = mode_re.split()\n",
    "(TE_im,TM_im) = mode_im.split()\n",
    "E = np.zeros([len(x),len(y),2],dtype = np.complex)\n",
    "E_axial = np.zeros([len(x),len(y)], dtype= np.complex)\n",
    "for i,xx in enumerate(x):\n",
    "    for j,yy in enumerate(y):\n",
    "        point = Point(xx,yy)\n",
    "        E[i,j,:]    =  TE_re(point) + 1j*TE_im(point)\n",
    "        E_axial[i,j] = TM_re(point) + 1j*TM_im(point)\n"
   ]
  },
  {
   "cell_type": "code",
   "execution_count": null,
   "metadata": {
    "collapsed": false
   },
   "outputs": [],
   "source": [
    "TE_re"
   ]
  },
  {
   "cell_type": "code",
   "execution_count": null,
   "metadata": {
    "collapsed": false
   },
   "outputs": [],
   "source": [
    "from scipy.misc import derivative\n"
   ]
  },
  {
   "cell_type": "code",
   "execution_count": null,
   "metadata": {
    "collapsed": false
   },
   "outputs": [],
   "source": [
    "derivative?"
   ]
  },
  {
   "cell_type": "code",
   "execution_count": null,
   "metadata": {
    "collapsed": false
   },
   "outputs": [],
   "source": [
    "y = np.empty_like(x)\n",
    "y[:-1] = (x[1:] - x[:-1]) / delx\n",
    "y[-1] = -x[-1] / delx"
   ]
  },
  {
   "cell_type": "code",
   "execution_count": null,
   "metadata": {
    "collapsed": false
   },
   "outputs": [],
   "source": [
    "delx = x[1]- x[0]"
   ]
  },
  {
   "cell_type": "code",
   "execution_count": null,
   "metadata": {
    "collapsed": false
   },
   "outputs": [],
   "source": [
    "y = np.empty_like(x)"
   ]
  },
  {
   "cell_type": "code",
   "execution_count": null,
   "metadata": {
    "collapsed": false
   },
   "outputs": [],
   "source": [
    "diver = np.gradient(np.dot(e_r,E[:,:,0]))[1]+np.gradient(np.dot(e_r,E[:,:,1]))[1]+np.gradient(np.dot(e_r,E_axial))[0]"
   ]
  },
  {
   "cell_type": "code",
   "execution_count": null,
   "metadata": {
    "collapsed": true
   },
   "outputs": [],
   "source": [
    "diver2 = np.gradient(E[:,:,0])[0]+np.gradient(E[:,:,1])[0]+np.gradient(E_axial)[0]"
   ]
  },
  {
   "cell_type": "code",
   "execution_count": null,
   "metadata": {
    "collapsed": false
   },
   "outputs": [],
   "source": [
    "np.gradient(E[:,:,1])"
   ]
  },
  {
   "cell_type": "code",
   "execution_count": null,
   "metadata": {
    "collapsed": false
   },
   "outputs": [],
   "source": [
    "np.linalg.norm(diver2)"
   ]
  },
  {
   "cell_type": "code",
   "execution_count": null,
   "metadata": {
    "collapsed": false
   },
   "outputs": [],
   "source": [
    "plt.contourf(diver2)\n",
    "plt.colorbar()"
   ]
  },
  {
   "cell_type": "code",
   "execution_count": null,
   "metadata": {
    "collapsed": true
   },
   "outputs": [],
   "source": []
  },
  {
   "cell_type": "code",
   "execution_count": null,
   "metadata": {
    "collapsed": false
   },
   "outputs": [],
   "source": [
    "np.dot(e_r,E[:,:,0])"
   ]
  },
  {
   "cell_type": "code",
   "execution_count": null,
   "metadata": {
    "collapsed": false
   },
   "outputs": [],
   "source": [
    "np.gradient(np.array([[1, 2, 6], [3, 4, 5]], dtype=np.float))"
   ]
  },
  {
   "cell_type": "code",
   "execution_count": null,
   "metadata": {
    "collapsed": false
   },
   "outputs": [],
   "source": [
    "from netCDF4 import Dataset      \n",
    "import numpy as np      \n",
    "import matplotlib.pyplot as plt \n",
    "\n",
    "GridSat = Dataset('analysis_20040713_v11l30flk.nc4','r',format='NETCDF4')\n",
    "missing_data = -9999.0\n",
    "lat = GridSat.variables['lat']   \n",
    "lat = lat[:]     \n",
    "lat[np.where(lat==missing_data)] = np.nan  \n",
    "lat[np.where(lat > 90.0)] = np.nan     \n",
    "\n",
    "lon = GridSat.variables['lon']   \n",
    "lon = lon[:]                \n",
    "lon[np.where(lon==missing_data)] = np.nan\n",
    "\n",
    "\n",
    "uwind_data = GridSat.variables['uwnd']  \n",
    "uwind = GridSat.variables['uwnd'][:]\n",
    "uwind_sf = uwind_data.scale_factor   \n",
    "uwind_ao = uwind_data.add_offset\n",
    "miss_uwind = uwind_data.missing_value\n",
    "\n",
    "uwind[np.where(uwind==miss_uwind)] = np.nan    \n",
    "\n",
    "\n",
    "vwind_data = GridSat.variables['vwnd']  \n",
    "vwind = GridSat.variables['vwnd'][:]\n",
    "vwind_sf = vwind_data.scale_factor    \n",
    "vwind_ao = vwind_data.add_offset\n",
    "miss_vwind = vwind_data.missing_value\n",
    "\n",
    "vwind[np.where(vwind==miss_vwind)] = np.nan  \n",
    "\n",
    "\n",
    "uwind = uwind[2,:,:]\n",
    "vwind = vwind[2,:,:]  \n",
    "\n",
    "dx = 28400.0 # meters calculated from the 0.25 degree spatial gridding \n",
    "dy = 28400.0 # meters calculated from the 0.25 degree spatial gridding \n",
    "\n",
    "#dv_dx, dv_dy = np.gradient(vwind, [dx,dy])\n",
    "#du_dx, du_dy = np.gradient(uwind, [dx,dy])\n",
    "v_dx, dv_dy = np.gradient(vwind, dx,dy)\n",
    "du_dx, du_dy = np.gradient(uwind, dx,dy)"
   ]
  },
  {
   "cell_type": "code",
   "execution_count": null,
   "metadata": {
    "collapsed": false
   },
   "outputs": [],
   "source": [
    "from netCDF4 import Dataset   "
   ]
  },
  {
   "cell_type": "code",
   "execution_count": null,
   "metadata": {
    "collapsed": false
   },
   "outputs": [],
   "source": [
    "E_large = np.zeros([512,512,3],dtype=np.complex)"
   ]
  },
  {
   "cell_type": "code",
   "execution_count": null,
   "metadata": {
    "collapsed": false
   },
   "outputs": [],
   "source": [
    "E_large[:,:,0:2] = E\n",
    "E_large[:,:,-1] =E_axial"
   ]
  },
  {
   "cell_type": "code",
   "execution_count": null,
   "metadata": {
    "collapsed": false
   },
   "outputs": [],
   "source": [
    "dexdx,dexdy,dexdz = np.gradient(E_large,x[1]-x[0],x[1]-x[0],x[1]-x[0])[0][:,:,0], np.gradient(E_large,1,1,1)[0][:,:,1], np.gradient(E_large,1,1,1)[0][:,:,2]"
   ]
  },
  {
   "cell_type": "code",
   "execution_count": null,
   "metadata": {
    "collapsed": false
   },
   "outputs": [],
   "source": [
    "deydx,deydy,deydz = np.gradient(E_large,x[1]-x[0],x[1]-x[0],x[1]-x[0])[1][:,:,0], np.gradient(E_large,1,1,1)[1][:,:,1], np.gradient(E_large,1,1,1)[1][:,:,2]"
   ]
  },
  {
   "cell_type": "code",
   "execution_count": null,
   "metadata": {
    "collapsed": true
   },
   "outputs": [],
   "source": [
    "dezdx,dezdy,dezdz = np.gradient(E_large,x[1]-x[0],x[1]-x[0],x[1]-x[0])[2][:,:,0], np.gradient(E_large,1,1,1)[2][:,:,1], np.gradient(E_large,1,1,1)[2][:,:,2]"
   ]
  },
  {
   "cell_type": "code",
   "execution_count": null,
   "metadata": {
    "collapsed": false
   },
   "outputs": [],
   "source": [
    "dive =dexdx + deydy +dezdz"
   ]
  },
  {
   "cell_type": "code",
   "execution_count": null,
   "metadata": {
    "collapsed": false
   },
   "outputs": [],
   "source": [
    "plt.contourf(dive)"
   ]
  },
  {
   "cell_type": "code",
   "execution_count": null,
   "metadata": {
    "collapsed": true
   },
   "outputs": [],
   "source": []
  },
  {
   "cell_type": "code",
   "execution_count": null,
   "metadata": {
    "collapsed": true
   },
   "outputs": [],
   "source": []
  }
 ],
 "metadata": {
  "kernelspec": {
   "display_name": "Python 2",
   "language": "python",
   "name": "python2"
  },
  "language_info": {
   "codemirror_mode": {
    "name": "ipython",
    "version": 2
   },
   "file_extension": ".py",
   "mimetype": "text/x-python",
   "name": "python",
   "nbconvert_exporter": "python",
   "pygments_lexer": "ipython2",
   "version": "2.7.11+"
  }
 },
 "nbformat": 4,
 "nbformat_minor": 0
}
