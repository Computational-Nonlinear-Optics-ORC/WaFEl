{
 "cells": [
  {
   "cell_type": "markdown",
   "metadata": {
    "slideshow": {
     "slide_type": "slide"
    }
   },
   "source": [
    "## Theory\n",
    "(taken from the fenics book)\n",
    "\n",
    "We are solving the Helmholtz equation:\n",
    "                       "
   ]
  },
  {
   "cell_type": "markdown",
   "metadata": {
    "slideshow": {
     "slide_type": "slide"
    }
   },
   "source": [
    " $$\\nabla \\times \\frac{1}{\\mu_r}\\nabla \\times \\boldsymbol{E} - k_0^2 \\epsilon_r \\boldsymbol{E}=0,$$ with the boundary condition of electric mirrors.\n",
    " $$k_0 = \\frac{2\\pi f_0}{c_0}$$\n",
    " \n",
    " $$\\epsilon_r = (n+\\mathrm{i}k)^2$$"
   ]
  },
  {
   "cell_type": "markdown",
   "metadata": {
    "slideshow": {
     "slide_type": "slide"
    }
   },
   "source": [
    "The functional is:\n",
    "$$F(\\boldsymbol{E}) = \\frac{1}{2} \\int_\\Omega \\left[\\frac{1}{\\mu_r} \\left(\\nabla \\times \\boldsymbol{E}\\right)\\cdot \\left(\\nabla \\times \\boldsymbol{E}\\right) - k^2_0 \\epsilon_r \\boldsymbol{E}\\boldsymbol{E}\\right]dx$$"
   ]
  },
  {
   "cell_type": "markdown",
   "metadata": {
    "slideshow": {
     "slide_type": "slide"
    }
   },
   "source": [
    "In order to find it the vector is split in to the transverse and axial components.\n",
    "\n",
    "$$\\nabla = \\nabla_t + \\nabla_z,$$\n",
    "with $$\\nabla_t = \\hat{e_x}\\frac{\\partial}{\\partial x} + \\hat{e_y}\\frac{\\partial}{\\partial y}$$\n",
    "and $$\\nabla_z = \\hat{e_z}\\frac{\\partial}{\\partial z}$$\n",
    "We also assume that the electric field can be split like:\n",
    "$$\\boldsymbol{E}(x,y,z) = \\left[E_t(x,y) + \\hat{e_z} E_z(x,y) \\right] e^{-\\beta z}$$\n",
    "where $\\beta$ is the complex propagation constant,\n",
    "$$\\boldsymbol{E}_t = \\hat{e_x} E_x + \\hat{e_y} E_y$$ and $$ \\boldsymbol{E}_{axial} = \\hat{e_z} E_z$$"
   ]
  },
  {
   "cell_type": "markdown",
   "metadata": {
    "slideshow": {
     "slide_type": "slide"
    }
   },
   "source": [
    "By splitting the $\\nabla$ and by substituting the above for the electric field the functional becomes:\n",
    "                               $$ F_{\\beta}(\\boldsymbol{E}) =  \\int_{\\Omega} \\frac{1}{\\mu_r} \\left(\\nabla_t \\times \\boldsymbol{E}_{t,\\beta}\\right) \\cdot \\left(\\nabla_t \\times \\boldsymbol{E}_{t,\\beta}\\right) -k^2_0 \\epsilon_r E_{t,\\beta}E_{t,\\beta} \\\\ + \\beta^2 \\left[\\frac{1}{\\mu_r} \\left(\\nabla_t E_z+\\beta E_{t,\\gamma}\\right)\\left(\\nabla_t E_z+\\beta E_{t,\\gamma}\\right) - k^2_0 \\epsilon_r E_z E_z dx \\right]$$"
   ]
  },
  {
   "cell_type": "markdown",
   "metadata": {
    "slideshow": {
     "slide_type": "slide"
    }
   },
   "source": [
    "Since the functional is built now the electric field components need to be discetized in order to be calculated. \n",
    "The axial component can be discretised by nodal basis functions (Lagrandge) but the transverse need to be by two dimensional curl-conforming vector basis functions(Nedelec).\n",
    "\n",
    "The electric field in the nedelec space is described by:\n",
    "$$E_{t} = \\sum_{i=1}^{N_{N}} (e_t)_i N_i$$\n",
    "\n",
    "and the axial in lagrange elements as:\n",
    "\n",
    "$$E_z = \\sum_{i=1}^{N_{L}} (e_z)_i L_i$$\n",
    " Where $N_N$ and $N_L$ are the number of nedelec and lagrange elements respectively. $N_i$, $L_i$ are the basis functions and $e_t$, $e_z$ are the equivalent coefficients."
   ]
  },
  {
   "cell_type": "markdown",
   "metadata": {
    "slideshow": {
     "slide_type": "slide"
    }
   },
   "source": [
    "While the cuttoff method is easier to implement it only prety much finds the cuttoff wavenumber (shown in fenics book and in other papers). This is not what is of interest. I am interested in calculating the propagation constants $\\beta$ and by extension the effective indices and the Electric field that they equate to."
   ]
  },
  {
   "cell_type": "markdown",
   "metadata": {
    "slideshow": {
     "slide_type": "slide"
    }
   },
   "source": [
    "The matrix eqution to be solved is\n",
    "\n",
    "$$\\begin{bmatrix}\n",
    "    A_{tt}       & 0 \\\\\n",
    "    0       & 0 \n",
    "\\end{bmatrix}\\begin{bmatrix}\n",
    "    e_t \\\\\n",
    "    e_z      \n",
    "\\end{bmatrix} = -\\beta^2\n",
    "\\begin{bmatrix}\n",
    "    B_{tt}       & B_{tz} \\\\\n",
    "    B_{zt}       & B_{zz} \n",
    "\\end{bmatrix}\\begin{bmatrix}\n",
    "    e_t \\\\\n",
    "    e_z      \n",
    "\\end{bmatrix}\n",
    "$$"
   ]
  },
  {
   "cell_type": "markdown",
   "metadata": {
    "slideshow": {
     "slide_type": "slide"
    }
   },
   "source": [
    "Where $$A_{tt} = S_{tt} - k^2_0 T_{tt} = \\int_{\\Omega} \\frac{1}{\\mu_r} \\left(\\nabla_t \\times N_i \\right) \\left(\\nabla_t \\times N_j \\right)dx \\\\ - k^2_0 \\int_{\\omega} \\epsilon_r N_i N_jdx$$\n",
    "\n",
    "$$B_{zz} = S_{zz} - k^2_0 T_{zz} = \\int_{\\Omega} \\frac{1}{\\mu_r} \\left(\\nabla_t L_i \\right) \\left(\\nabla_t L_j \\right)dx \\\\ - k^2_0 \\int_{\\omega} \\epsilon_r L_i L_j dx$$"
   ]
  },
  {
   "cell_type": "markdown",
   "metadata": {
    "slideshow": {
     "slide_type": "slide"
    }
   },
   "source": [
    "$$ B_{tt} = \\int_{\\Omega} \\frac{1}{\\mu_r} N_i \\cdot  N_j dx$$\n",
    "\n",
    "$$ B_{tz} = \\int_{\\Omega} \\frac{1}{\\mu_r} N_i \\cdot  \\nabla_t L_j dx$$\n",
    "\n",
    "$$ B_{zt} = \\int_{\\Omega} \\frac{1}{\\mu_r} \\nabla_t L_i \\cdot  N_j dx$$"
   ]
  },
  {
   "cell_type": "markdown",
   "metadata": {
    "slideshow": {
     "slide_type": "slide"
    }
   },
   "source": [
    "### Code\n",
    "Import the required modules"
   ]
  },
  {
   "cell_type": "code",
   "execution_count": 1,
   "metadata": {
    "collapsed": false,
    "slideshow": {
     "slide_type": "slide"
    }
   },
   "outputs": [
    {
     "name": "stderr",
     "output_type": "stream",
     "text": [
      "/usr/local/lib/python2.7/dist-packages/matplotlib/font_manager.py:273: UserWarning: Matplotlib is building the font cache using fc-list. This may take a moment.\n",
      "  warnings.warn('Matplotlib is building the font cache using fc-list. This may take a moment.')\n",
      "/usr/lib/pymodules/python2.7/petsc4py/lib/__init__.py:123: UserWarning: ignored arch: 'arch-linux2-cxx-debug', using: 'linux-gnu-c-opt'\n",
      "  (os.path.pathsep.join(arch_env), arch))\n"
     ]
    }
   ],
   "source": [
    "%matplotlib inline\n",
    "from __future__ import division\n",
    "#from dolfin import *\n",
    "import numpy as np\n",
    "from scipy.constants import c,pi\n",
    "from scipy.sparse.linalg import eigs, eigsh\n",
    "from scipy.linalg import eig\n",
    "from scipy.sparse import csr_matrix, lil_matrix\n",
    "import matplotlib.pylab as plt\n",
    "import os\n",
    "from matplotlib.colors import from_levels_and_colors\n",
    "from dolfin import *\n",
    "import time"
   ]
  },
  {
   "cell_type": "markdown",
   "metadata": {
    "slideshow": {
     "slide_type": "slide"
    }
   },
   "source": [
    "The box domain:"
   ]
  },
  {
   "cell_type": "code",
   "execution_count": 2,
   "metadata": {
    "collapsed": false,
    "slideshow": {
     "slide_type": "-"
    }
   },
   "outputs": [],
   "source": [
    "a = 3e-4\n",
    "b = 3e-4"
   ]
  },
  {
   "cell_type": "markdown",
   "metadata": {
    "slideshow": {
     "slide_type": "slide"
    }
   },
   "source": [
    "Inputs of the problem"
   ]
  },
  {
   "cell_type": "code",
   "execution_count": 3,
   "metadata": {
    "collapsed": false
   },
   "outputs": [],
   "source": [
    "mu_r = 1.0 \n",
    "lamda = 1.55e-6\n",
    "r_core = 1e-5 # radius of core\n",
    "r_clad = 2e-5 #radius of the fibre\n",
    "nclad = 1.444# ref index of cladding\n",
    "ncore = 1.445 # ref index of core\n",
    "neff_g = ncore # Guess of the modes\n",
    "num= 20   #The number of modes\n",
    "#neff_g -= k*1j\n",
    "mesh_refinement = 1 # number of times to uniformly refien the mesh (used for convergence plots and better results)"
   ]
  },
  {
   "cell_type": "code",
   "execution_count": 4,
   "metadata": {
    "collapsed": false
   },
   "outputs": [],
   "source": [
    "if (nclad.imag,ncore.imag) == (0,0):\n",
    "    k =0"
   ]
  },
  {
   "cell_type": "code",
   "execution_count": 5,
   "metadata": {
    "collapsed": false
   },
   "outputs": [],
   "source": [
    "k0 = 2*pi/lamda"
   ]
  },
  {
   "cell_type": "code",
   "execution_count": 6,
   "metadata": {
    "collapsed": false,
    "slideshow": {
     "slide_type": "slide"
    }
   },
   "outputs": [],
   "source": [
    "def ref(x,values = np.zeros(1)):\n",
    "    \n",
    "    point = (x[0]**2+ x[1]**2)**0.5\n",
    "    if  point<= r_core:\n",
    "        values[0] = ncore.real**2 + ncore.imag**2\n",
    "    elif point > r_core and point < r_clad:\n",
    "        values[0] = nclad.real**2 + nclad.imag**2\n",
    "    else:\n",
    "        values[0] = 1.\n",
    "    return values\n",
    "\n",
    "def extinction(x,values = np.zeros(1)):\n",
    "    point = (x[0]**2+ x[1]**2)**0.5\n",
    "    if  point<= r_core:\n",
    "        values[0] = ncore.imag*ncore.real\n",
    "    elif point > r_core and point < r_clad:\n",
    "        values[0] = nclad.imag*ncore.real\n",
    "    else:\n",
    "        values[0] = 0\n",
    "    return values"
   ]
  },
  {
   "cell_type": "code",
   "execution_count": 7,
   "metadata": {
    "collapsed": false,
    "slideshow": {
     "slide_type": "slide"
    }
   },
   "outputs": [],
   "source": [
    "x = np.linspace(-a,a,1000)\n",
    "y = np.linspace(-b,b,1000)\n",
    "X,Y = np.meshgrid(x,y)\n",
    "n_plot = np.zeros(np.shape(X))\n",
    "k_plot = np.zeros(np.shape(X))\n",
    "for i,xx in enumerate(x):\n",
    "    for j,yy in enumerate(y):\n",
    "        n_plot[i,j] = ref([xx,yy])\n",
    "        k_plot[i,j] = extinction([xx,yy])"
   ]
  },
  {
   "cell_type": "code",
   "execution_count": 8,
   "metadata": {
    "collapsed": false
   },
   "outputs": [],
   "source": [
    "cmap1, norm1 = from_levels_and_colors([1,nclad.real,ncore.real], ['red', 'blue', 'green'],extend='max')\n",
    "cmap2, norm2 = from_levels_and_colors([0,nclad.imag*nclad.real,ncore.imag*ncore.real], ['red', 'blue', 'green'],extend='max')"
   ]
  },
  {
   "cell_type": "code",
   "execution_count": 9,
   "metadata": {
    "collapsed": false,
    "slideshow": {
     "slide_type": "slide"
    }
   },
   "outputs": [
    {
     "data": {
      "text/plain": [
       "(-0.00030000000000000003,\n",
       " 0.00030000000000000003,\n",
       " -0.00030000000000000003,\n",
       " 0.00030000000000000003)"
      ]
     },
     "execution_count": 9,
     "metadata": {},
     "output_type": "execute_result"
    },
    {
     "data": {
      "image/png": "[encoded data removed]",
      "text/plain": [
       "<matplotlib.figure.Figure at 0x7f474aa8ac90>"
      ]
     },
     "metadata": {},
     "output_type": "display_data"
    }
   ],
   "source": [
    "fig = plt.figure(figsize=(20.0, 20.0))\n",
    "ax1 = fig.add_subplot(221)\n",
    "ax1.pcolormesh(X,Y,n_plot**0.5, cmap=cmap1, norm=norm1)\n",
    "ax1.set_title('real part profile')\n",
    "ax1.axis('equal')\n",
    "ax2 = fig.add_subplot(222)\n",
    "ax2.pcolormesh(X,Y,k_plot)#, cmap=cmap1, norm=norm1)\n",
    "ax2.set_title('Imaginary part  profile')\n",
    "ax2.axis('equal')\n"
   ]
  },
  {
   "cell_type": "code",
   "execution_count": 10,
   "metadata": {
    "collapsed": false,
    "slideshow": {
     "slide_type": "slide"
    }
   },
   "outputs": [],
   "source": [
    "class epsilon_real(Expression):\n",
    "    def eval(self, values, x):\n",
    "       values = ref(x,values)\n",
    "\n",
    "class epsilon_imag(Expression):\n",
    "    def eval(self, values, x):\n",
    "       values = extinction(x,values)"
   ]
  },
  {
   "cell_type": "markdown",
   "metadata": {
    "slideshow": {
     "slide_type": "slide"
    }
   },
   "source": [
    "## Mesh"
   ]
  },
  {
   "cell_type": "markdown",
   "metadata": {},
   "source": [
    "Create a rectancular mesh with origin (-a,-b) extending to (a,b) or load the gmsh exported mesh"
   ]
  },
  {
   "cell_type": "code",
   "execution_count": 11,
   "metadata": {
    "collapsed": true
   },
   "outputs": [],
   "source": [
    "with open(\"fenics_mesh/original_geometry.geo\", 'r') as content_file:\n",
    "    content = content_file.readlines()"
   ]
  },
  {
   "cell_type": "code",
   "execution_count": 12,
   "metadata": {
    "collapsed": false
   },
   "outputs": [],
   "source": [
    "new_content = []\n",
    "new_content.append('DefineConstant[ a = { '+str(a)+', Path \"Gmsh/Parameters\"}];\\n')\n",
    "new_content.append('DefineConstant[ b = { '+str(b)+', Path \"Gmsh/Parameters\"}];\\n')\n",
    "new_content.append('DefineConstant[ r_core = { '+str(r_core)+', Path \"Gmsh/Parameters\"}];\\n')\n",
    "new_content.append('DefineConstant[ r_clad = { '+str(r_clad)+', Path \"Gmsh/Parameters\"}];\\n')\n",
    "for i in range(4,len(content)):\n",
    "    new_content.append(content[i])\n",
    "with open(\"fenics_mesh/Output.geo\", \"w\") as text_file:\n",
    "    for i in new_content:\n",
    "        text_file.write(i)"
   ]
  },
  {
   "cell_type": "code",
   "execution_count": 13,
   "metadata": {
    "collapsed": false
   },
   "outputs": [
    {
     "name": "stdout",
     "output_type": "stream",
     "text": [
      "Info    : Running 'gmsh fenics_mesh/Output.geo -2 -o fenics_mesh/output_small.msh' [Gmsh 2.8.3, 1 node, max. 8 threads]\n",
      "Info    : Started on Tue Mar  8 17:34:16 2016\n",
      "Info    : Reading 'fenics_mesh/Output.geo'...\n",
      "Info    : Done reading 'fenics_mesh/Output.geo'\n",
      "Info    : Meshing 1D...\n",
      "Info    : Meshing curve 1 (Line)\n",
      "Info    : Meshing curve 2 (Line)\n",
      "Info    : Meshing curve 3 (Line)\n",
      "Info    : Meshing curve 4 (Line)\n",
      "Info    : Meshing curve 5 (Circle)\n",
      "Info    : Meshing curve 6 (Circle)\n",
      "Info    : Done meshing 1D (0.004 s)\n",
      "Info    : Meshing 2D...\n",
      "Info    : Meshing surface 12 (Plane, Delaunay)\n",
      "Info    : Meshing surface 11 (Plane, Delaunay)\n",
      "Info    : Meshing surface 9 (Plane, Delaunay)\n",
      "Info    : Done meshing 2D (0.00637698 s)\n",
      "Info    : 84 vertices 197 elements\n",
      "Info    : Writing 'fenics_mesh/output_small.msh'...\n",
      "Info    : Done writing 'fenics_mesh/output_small.msh'\n",
      "Info    : Stopped on Tue Mar  8 17:34:16 2016\n",
      "\n"
     ]
    }
   ],
   "source": [
    "mesh_geom=os.popen(\"gmsh fenics_mesh/Output.geo -2 -o fenics_mesh/output_small.msh\")\n",
    "print mesh_geom.read()"
   ]
  },
  {
   "cell_type": "code",
   "execution_count": 14,
   "metadata": {
    "collapsed": false
   },
   "outputs": [
    {
     "name": "stdout",
     "output_type": "stream",
     "text": [
      "Info    : Running 'gmsh -refine fenics_mesh/output_small.msh -o fenics_mesh/refine1.msh' [Gmsh 2.8.3, 1 node, max. 8 threads]\n",
      "Info    : Started on Tue Mar  8 17:34:16 2016\n",
      "Info    : Reading 'fenics_mesh/output_small.msh'...\n",
      "Info    : 84 vertices\n",
      "Info    : Vertex numbering is dense\n",
      "Info    : 197 elements\n",
      "Info    : Done reading 'fenics_mesh/output_small.msh'\n",
      "Info    : Refining mesh...\n",
      "Info    : Meshing order 2 (curvilinear on)...\n",
      "Info    : Meshing curve 1 order 2\n",
      "Info    : Meshing curve 2 order 2\n",
      "Info    : Meshing curve 3 order 2\n",
      "Info    : Meshing curve 4 order 2\n",
      "Info    : Meshing curve 5 order 2\n",
      "Info    : Meshing curve 6 order 2\n",
      "Info    : Meshing surface 9 order 2\n",
      "Info    : Meshing surface 11 order 2\n",
      "Info    : Meshing surface 12 order 2\n",
      "Info    : Surface mesh : Worst Face Distorsion Mapping 1 Gamma 0.129397 Nb elem. (0<d<0.2) = 0\n",
      "Info    : Done meshing order 2 (0 s)\n",
      "Info    : Done refining mesh (0.004 s)\n",
      "Info    : Writing 'fenics_mesh/refine1.msh'...\n",
      "Info    : Done writing 'fenics_mesh/refine1.msh'\n",
      "Info    : Stopped on Tue Mar  8 17:34:16 2016\n",
      "\n"
     ]
    }
   ],
   "source": [
    "refine_list = [\"output_small\"]\n",
    "if mesh_refinement !=0:\n",
    "    for i in range(mesh_refinement):\n",
    "        refine_list.append(\"refine\"+str(i+1))\n",
    "    os.popen(\"rm fenics_mesh/refine*\")\n",
    "    for i in range(mesh_refinement):\n",
    "        mesh_dolf = os.popen(\"gmsh -refine fenics_mesh/\"+str(refine_list[i])+\".msh -o fenics_mesh/\"+str(refine_list[i+1])+'.msh')\n",
    "        print mesh_dolf.read()\n",
    "        time.sleep(4)"
   ]
  },
  {
   "cell_type": "code",
   "execution_count": 15,
   "metadata": {
    "collapsed": false
   },
   "outputs": [
    {
     "name": "stdout",
     "output_type": "stream",
     "text": [
      "Converting from Gmsh format (.msh, .gmsh) to DOLFIN XML format\n",
      "Expecting 325 vertices\n",
      "Found all vertices\n",
      "Expecting 640 cells\n",
      "Found all cells\n",
      "Conversion done\n",
      "\n"
     ]
    }
   ],
   "source": [
    "mesh_dolf = os.popen(\"dolfin-convert fenics_mesh/\"+refine_list[-1]+\".msh fenics_mesh/fibre_small.xml\")\n",
    "print mesh_dolf.read()"
   ]
  },
  {
   "cell_type": "code",
   "execution_count": 16,
   "metadata": {
    "collapsed": false
   },
   "outputs": [
    {
     "data": {
      "text/plain": [
       "<dolfin.cpp.io.VTKPlotter; proxy of <Swig Object of type 'std::shared_ptr< dolfin::VTKPlotter > *' at 0x7f474a64fc90> >"
      ]
     },
     "execution_count": 16,
     "metadata": {},
     "output_type": "execute_result"
    }
   ],
   "source": [
    "#mesh =RectangleMesh(Point(-a,-b),Point(a,b),90,90)\n",
    "#mesh = Mesh(\"fibre_small.xml\")\n",
    "mesh = Mesh(\"fenics_mesh/fibre_small.xml\")\n",
    "plot(mesh,interactive=True)"
   ]
  },
  {
   "cell_type": "markdown",
   "metadata": {
    "slideshow": {
     "slide_type": "slide"
    }
   },
   "source": [
    "## Create the function space"
   ]
  },
  {
   "cell_type": "markdown",
   "metadata": {},
   "source": [
    "Define the orders of the fucntion spaces for vector and nodal basis functions"
   ]
  },
  {
   "cell_type": "code",
   "execution_count": 17,
   "metadata": {
    "collapsed": false
   },
   "outputs": [],
   "source": [
    "vector_order = 2\n",
    "nodal_order = 3"
   ]
  },
  {
   "cell_type": "markdown",
   "metadata": {
    "slideshow": {
     "slide_type": "slide"
    }
   },
   "source": [
    "Define the function spaces"
   ]
  },
  {
   "cell_type": "code",
   "execution_count": 18,
   "metadata": {
    "collapsed": false
   },
   "outputs": [
    {
     "name": "stderr",
     "output_type": "stream",
     "text": [
      "DEBUG:FFC:Reusing form from cache.\n",
      "DEBUG:FFC:Reusing form from cache.\n",
      "DEBUG:FFC:Reusing form from cache.\n"
     ]
    }
   ],
   "source": [
    "vector_space = FunctionSpace(mesh,\"Nedelec 1st kind H(curl)\",vector_order)\n",
    "\n",
    "nodal_space = FunctionSpace(mesh,\"Lagrange\",nodal_order)\n",
    "combined_space = vector_space*nodal_space"
   ]
  },
  {
   "cell_type": "markdown",
   "metadata": {
    "slideshow": {
     "slide_type": "slide"
    }
   },
   "source": [
    "Define the test and trial functions from the combined space here N_i and N_j are Nedelec basis functions and L_i and L_j are Lagrange basis functions"
   ]
  },
  {
   "cell_type": "code",
   "execution_count": 19,
   "metadata": {
    "collapsed": false
   },
   "outputs": [],
   "source": [
    "(N_i,L_i) = TestFunctions(combined_space)\n",
    "(N_j,L_j) = TrialFunctions(combined_space)"
   ]
  },
  {
   "cell_type": "markdown",
   "metadata": {
    "slideshow": {
     "slide_type": "slide"
    }
   },
   "source": [
    "## Creating the matrix equation."
   ]
  },
  {
   "cell_type": "markdown",
   "metadata": {},
   "source": [
    "$$\\begin{bmatrix}\n",
    "    A_{tt}       & 0 \\\\\n",
    "    0       & 0 \n",
    "\\end{bmatrix}\\begin{bmatrix}\n",
    "    e_t \\\\\n",
    "    e_z      \n",
    "\\end{bmatrix} = -\\beta^2\n",
    "\\begin{bmatrix}\n",
    "    B_{tt}       & B_{tz} \\\\\n",
    "    B_{zt}       & B_{zz} \n",
    "\\end{bmatrix}\\begin{bmatrix}\n",
    "    e_t \\\\\n",
    "    e_z      \n",
    "\\end{bmatrix}\n",
    "$$"
   ]
  },
  {
   "cell_type": "markdown",
   "metadata": {
    "slideshow": {
     "slide_type": "slide"
    }
   },
   "source": [
    "Define the forms (matrix elements) for dispersion analysis into the basis functions"
   ]
  },
  {
   "cell_type": "code",
   "execution_count": 20,
   "metadata": {
    "collapsed": false
   },
   "outputs": [],
   "source": [
    "e_r_real = epsilon_real()\n",
    "s_tt_ij = 1.0/mu_r*inner(curl(N_i),curl(N_j))\n",
    "t_tt_ij = e_r_real*inner(N_i,N_j)\n",
    "s_zz_ij = (1.0/mu_r) * inner(grad(L_i),grad(L_j))\n",
    "t_zz_ij = e_r_real*inner(L_i,L_j)\n",
    "\n",
    "\n",
    "A_tt_ij = s_tt_ij - k0**2*t_tt_ij\n",
    "B_zz_ij = s_zz_ij - k0**2*t_zz_ij\n",
    "\n",
    "B_tt_ij = 1/mu_r*inner(N_i, N_j)\n",
    "B_tz_ij = 1/mu_r*inner(N_i, grad(L_j))\n",
    "\n",
    "B_zt_ij = 1/mu_r*inner(grad(L_i),N_j)"
   ]
  },
  {
   "cell_type": "markdown",
   "metadata": {
    "slideshow": {
     "slide_type": "slide"
    }
   },
   "source": [
    "post-multiplication by dx will result in integration over the domain of the mesh at assembly time"
   ]
  },
  {
   "cell_type": "code",
   "execution_count": 21,
   "metadata": {
    "collapsed": false
   },
   "outputs": [],
   "source": [
    "A_ij = A_tt_ij*dx\n",
    "B_ij = (B_tt_ij+B_tz_ij+B_zt_ij+B_zz_ij)*dx"
   ]
  },
  {
   "cell_type": "markdown",
   "metadata": {
    "slideshow": {
     "slide_type": "slide"
    }
   },
   "source": [
    "assemble the system Matrices. If there is loss in the system then we create a new set of matrixes and assemble them"
   ]
  },
  {
   "cell_type": "code",
   "execution_count": 22,
   "metadata": {
    "collapsed": false
   },
   "outputs": [
    {
     "name": "stderr",
     "output_type": "stream",
     "text": [
      "DEBUG:FFC:Reusing form from cache.\n",
      "DEBUG:FFC:Reusing form from cache.\n"
     ]
    }
   ],
   "source": [
    "A = assemble(A_ij)\n",
    "B = assemble(B_ij)\n",
    "####This is to try and introduce the complex part\n",
    "if k !=0:\n",
    "    e_r_imag = epsilon_imag()\n",
    "    A_ii_complex = e_r_imag*k0**2*inner(N_i,N_j)*dx\n",
    "    B_ii_complex = e_r_imag*k0**2*inner(L_i,L_j)*dx\n",
    "    A_complex = assemble(A_ii_complex)\n",
    "    B_complex = assemble(B_ii_complex)"
   ]
  },
  {
   "cell_type": "markdown",
   "metadata": {
    "slideshow": {
     "slide_type": "slide"
    }
   },
   "source": [
    "## Implement boundary conditions"
   ]
  },
  {
   "cell_type": "code",
   "execution_count": 23,
   "metadata": {
    "collapsed": false
   },
   "outputs": [],
   "source": [
    "boundary_markers = MeshFunction('size_t',mesh,1)"
   ]
  },
  {
   "cell_type": "markdown",
   "metadata": {
    "slideshow": {
     "slide_type": "-"
    }
   },
   "source": [
    "mark all edges as 0"
   ]
  },
  {
   "cell_type": "code",
   "execution_count": 24,
   "metadata": {
    "collapsed": false
   },
   "outputs": [],
   "source": [
    "boundary_markers.set_all(0)"
   ]
  },
  {
   "cell_type": "markdown",
   "metadata": {
    "slideshow": {
     "slide_type": "-"
    }
   },
   "source": [
    "mark the edges on the boundary as 1"
   ]
  },
  {
   "cell_type": "code",
   "execution_count": 25,
   "metadata": {
    "collapsed": false
   },
   "outputs": [],
   "source": [
    "DomainBoundary().mark(boundary_markers,1)"
   ]
  },
  {
   "cell_type": "code",
   "execution_count": 26,
   "metadata": {
    "collapsed": false
   },
   "outputs": [],
   "source": [
    "electric_wall = DirichletBC(combined_space,Expression((\"0.0\",\"0.0\",\"0.0\"))\n",
    "                            ,boundary_markers,1)"
   ]
  },
  {
   "cell_type": "markdown",
   "metadata": {
    "slideshow": {
     "slide_type": "slide"
    }
   },
   "source": [
    "apply the boundary condition to the assembled matrices"
   ]
  },
  {
   "cell_type": "code",
   "execution_count": 27,
   "metadata": {
    "collapsed": false
   },
   "outputs": [],
   "source": [
    "electric_wall.apply(A)\n",
    "electric_wall.apply(B)\n",
    "if k!=0:\n",
    "    electric_wall.apply(A_complex)\n",
    "    electric_wall.apply(B_complex)"
   ]
  },
  {
   "cell_type": "markdown",
   "metadata": {
    "slideshow": {
     "slide_type": "slide"
    }
   },
   "source": [
    "### Free the vectors and make numpy arrays to solve with scipy"
   ]
  },
  {
   "cell_type": "markdown",
   "metadata": {
    "slideshow": {
     "slide_type": "-"
    }
   },
   "source": [
    "initialise a vector of ones"
   ]
  },
  {
   "cell_type": "code",
   "execution_count": 28,
   "metadata": {
    "collapsed": false
   },
   "outputs": [],
   "source": [
    "indicators = np.ones(A.size(0))"
   ]
  },
  {
   "cell_type": "markdown",
   "metadata": {
    "slideshow": {
     "slide_type": "-"
    }
   },
   "source": [
    "get the boundary indictators to remove the rows and colums associated with the boundary DOFs"
   ]
  },
  {
   "cell_type": "code",
   "execution_count": 29,
   "metadata": {
    "collapsed": false
   },
   "outputs": [],
   "source": [
    "indicators[electric_wall.get_boundary_values().keys()]=0"
   ]
  },
  {
   "cell_type": "markdown",
   "metadata": {
    "slideshow": {
     "slide_type": "-"
    }
   },
   "source": [
    "the free DOFs correspond to the elements of indicators that are equal to 1"
   ]
  },
  {
   "cell_type": "code",
   "execution_count": 30,
   "metadata": {
    "collapsed": false
   },
   "outputs": [],
   "source": [
    "free_dofs = np.where(indicators == 1)[0]"
   ]
  },
  {
   "cell_type": "code",
   "execution_count": 31,
   "metadata": {
    "collapsed": false,
    "slideshow": {
     "slide_type": "slide"
    }
   },
   "outputs": [],
   "source": [
    "try:\n",
    "    if k!=0:\n",
    "        A_np = A.array()[free_dofs,:][:,free_dofs]\n",
    "        B_np = B.array()[free_dofs,:][:,free_dofs]\n",
    "        A_np_complex = A_complex.array()[free_dofs,:][:,free_dofs]\n",
    "        B_np_complex = B_complex.array()[free_dofs,:][:,free_dofs]\n",
    "        A_np = A_np+1j*A_np_complex\n",
    "        B_np = B_np+1j*B_np_complex\n",
    "    else:\n",
    "        A_np = A.array()[free_dofs,:][:,free_dofs]\n",
    "        B_np = B.array()[free_dofs,:][:,free_dofs]\n",
    "    sparse_ = False\n",
    "except MemoryError:\n",
    "    print \"*****************The matrixes are way to large for this system.*****************\"\n",
    "    print \"*********************The sparse Matrixes will now be tried**********************\"\n",
    "    sparse_ = True\n",
    "    pass"
   ]
  },
  {
   "cell_type": "code",
   "execution_count": 32,
   "metadata": {
    "collapsed": false
   },
   "outputs": [],
   "source": [
    "neff_g= nclad"
   ]
  },
  {
   "cell_type": "code",
   "execution_count": 49,
   "metadata": {
    "collapsed": false,
    "slideshow": {
     "slide_type": "slide"
    }
   },
   "outputs": [],
   "source": [
    "def scipy_sparse_eigensolver(A_np_sp,B_np_sp,neff_g,num,k0):\n",
    "    \"\"\"\n",
    "    Uses the scipy eigs to calculate the eigenvalues and eigenvectors of the equation given an effective index guess and\n",
    "    the number of modes needed.\n",
    "    \"\"\"\n",
    "    eigen_g = -neff_g**2*k0**2\n",
    "    eigen2, ev2 = eigs(A_np_sp,num,B_np_sp,sigma = eigen_g,which ='SR',v0=eigen_g*np.ones(np.shape(A_np_sp)[0]))\n",
    "    \n",
    "    return eigen2,ev2\n",
    "def scipy_eigensolver(A_np,B_np):\n",
    "    eigen, ev =  eig(A_np,B_np)\n",
    "    return eigen, ev"
   ]
  },
  {
   "cell_type": "code",
   "execution_count": 50,
   "metadata": {
    "collapsed": false,
    "slideshow": {
     "slide_type": "slide"
    }
   },
   "outputs": [],
   "source": [
    "sparse_ = True"
   ]
  },
  {
   "cell_type": "code",
   "execution_count": 51,
   "metadata": {
    "collapsed": true,
    "slideshow": {
     "slide_type": "slide"
    }
   },
   "outputs": [],
   "source": [
    "def csr_creation(A,B):\n",
    "    A_np = csr_matrix((A.size(0),A.size(1)))\n",
    "    B_np = csr_matrix((B.size(0),B.size(1)))\n",
    "        \n",
    "    for i in range(A.size(1)):\n",
    "        A_np[A.getrow(i)[0],i] =  np.array([A.getrow(i)[1]]).T\n",
    "        B_np[A.getrow(i)[0],i] =  np.array([B.getrow(i)[1]]).T\n",
    "    return A_np, B_np"
   ]
  },
  {
   "cell_type": "code",
   "execution_count": 52,
   "metadata": {
    "collapsed": true
   },
   "outputs": [],
   "source": [
    "def csr_creation(A,B):\n",
    "    A_lil = lil_matrix((A.size(0), A.size(1)))\n",
    "    B_lil = lil_matrix((B.size(0), B.size(1)))\n",
    "        \n",
    "    for i in range(A.size(1)):\n",
    "        A_indices, A_values = A.getrow(i)\n",
    "        B_indices, B_values = B.getrow(i)\n",
    "        A_lil[A_indices, i] =  A_values[:, np.newaxis]\n",
    "        B_lil[B_indices, i] =  B_values[:, np.newaxis]\n",
    "    return A_lil.tocsr(), B_lil.tocsr()"
   ]
  },
  {
   "cell_type": "markdown",
   "metadata": {
    "slideshow": {
     "slide_type": "slide"
    }
   },
   "source": [
    "### Solve the eigenvalue system using scipy.linalg.eig"
   ]
  },
  {
   "cell_type": "code",
   "execution_count": 53,
   "metadata": {
    "collapsed": false
   },
   "outputs": [
    {
     "name": "stdout",
     "output_type": "stream",
     "text": [
      "eigenvalue time\n"
     ]
    }
   ],
   "source": [
    "if sparse_:\n",
    "    A_np, B_np = csr_creation(A,B)\n",
    "    if k != 0:\n",
    "        A_np_complex, B_np_complex = csr_creation(A_complex,B_complex)\n",
    "        A_np += 1j*A_np_complex\n",
    "        B_np += 1j*B_np_complex\n",
    "        del A_np_complex,B_np_complex\n",
    "    A_np = A_np[free_dofs,:][:,free_dofs]\n",
    "    B_np = B_np[free_dofs,:][:,free_dofs]\n",
    "    print \"eigenvalue time\"\n",
    "    eigen, ev = scipy_sparse_eigensolver(A_np,B_np,neff_g,num,k0)\n",
    "else:\n",
    "    eigen, ev = scipy_eigensolver(A_np,B_np)\n"
   ]
  },
  {
   "cell_type": "markdown",
   "metadata": {
    "slideshow": {
     "slide_type": "slide"
    }
   },
   "source": [
    "Find $\\beta$ from the eigenvalue."
   ]
  },
  {
   "cell_type": "code",
   "execution_count": 54,
   "metadata": {
    "collapsed": false
   },
   "outputs": [],
   "source": [
    "beta =1j*(eigen)**0.5 \n",
    "beta = np.abs(np.real(beta)) -1j*np.imag(beta)"
   ]
  },
  {
   "cell_type": "markdown",
   "metadata": {
    "slideshow": {
     "slide_type": "slide"
    }
   },
   "source": [
    "sort the calculated values"
   ]
  },
  {
   "cell_type": "code",
   "execution_count": 55,
   "metadata": {
    "collapsed": false
   },
   "outputs": [],
   "source": [
    "sort_index = np.argsort(beta.real)[::-1]"
   ]
  },
  {
   "cell_type": "code",
   "execution_count": 56,
   "metadata": {
    "collapsed": false
   },
   "outputs": [],
   "source": [
    "first_mode_idx = 0"
   ]
  },
  {
   "cell_type": "code",
   "execution_count": 57,
   "metadata": {
    "collapsed": false
   },
   "outputs": [
    {
     "data": {
      "text/plain": [
       "(array([ 0,  1,  2,  3,  4,  5,  6,  7,  8,  9, 10, 11, 12, 13, 14, 15, 16,\n",
       "        17, 18, 19]),)"
      ]
     },
     "execution_count": 57,
     "metadata": {},
     "output_type": "execute_result"
    }
   ],
   "source": [
    "np.where(((beta[sort_index]/k0).real>nclad.real) & ((beta[sort_index]/k0).real<ncore))"
   ]
  },
  {
   "cell_type": "markdown",
   "metadata": {
    "slideshow": {
     "slide_type": "slide"
    }
   },
   "source": [
    "Print the first four effective indices."
   ]
  },
  {
   "cell_type": "code",
   "execution_count": 58,
   "metadata": {
    "collapsed": false
   },
   "outputs": [
    {
     "name": "stdout",
     "output_type": "stream",
     "text": [
      "The effective index of the most dominant modes are:\n",
      "[ 1.44400477 -4.67572931e-07j  1.44400477 -4.67572931e-07j\n",
      "  1.44400320 +0.00000000e+00j  1.44400319 -2.53415338e-07j\n",
      "  1.44400319 -2.53415338e-07j  1.44400313 -5.13624094e-07j\n",
      "  1.44400313 -5.13624094e-07j  1.44400309 -7.84319136e-07j\n",
      "  1.44400309 -7.84319136e-07j  1.44400299 -1.00841816e-06j\n",
      "  1.44400299 -1.00841816e-06j  1.44400293 -1.52718239e-06j\n",
      "  1.44400293 -1.52718239e-06j  1.44400284 -1.33381707e-06j\n",
      "  1.44400284 -1.33381707e-06j  1.44400262 -1.71003384e-06j\n",
      "  1.44400262 -1.71003384e-06j  1.44400239 -1.91829003e-06j\n",
      "  1.44400239 -1.91829003e-06j  1.44400205 -2.14733262e-06j]\n"
     ]
    }
   ],
   "source": [
    "print(\"The effective index of the most dominant modes are:\")\n",
    "print(beta[sort_index][first_mode_idx:]/k0)\n"
   ]
  },
  {
   "cell_type": "markdown",
   "metadata": {
    "slideshow": {
     "slide_type": "slide"
    }
   },
   "source": [
    "Use the eigenvalues/eigenvectors to release the electric field"
   ]
  },
  {
   "cell_type": "code",
   "execution_count": 59,
   "metadata": {
    "collapsed": false
   },
   "outputs": [],
   "source": [
    "def electric_field(mode_idx,x,y,k,A,ev,first_mode_idx,sort_index):\n",
    "    \"\"\"\n",
    "    Releases the electric field from the calculated eigenvalus and eigen vectors\n",
    "    \n",
    "    Returns::\n",
    "    E[size,size,2],E_axial(Ez)\n",
    "    \"\"\"\n",
    "\n",
    "    #post-process the coefficients to map back to the full matrix\n",
    "    coefficiants_global = np.zeros(A.size(0),dtype=np.complex)\n",
    "    coefficiants_global[free_dofs] = ev[:,sort_index[first_mode_idx+mode_idx]]\n",
    "    #Create a Function on the combined space\n",
    "    mode_re = Function(combined_space)\n",
    "    mode_im = Function(combined_space)\n",
    "    #Assign the coefficients of the function to the calculated values\n",
    "    mode_re.vector().set_local(np.real(coefficiants_global))\n",
    "    mode_im.vector().set_local(np.imag(coefficiants_global))\n",
    "    #Split the function into the parts in each of the functions spaces in combined_space\n",
    "    #This is done using DOLFINs Function.split()\n",
    "    (TE_re,TM_re) = mode_re.split()\n",
    "    (TE_im,TM_im) = mode_im.split()\n",
    "\n",
    "    E = np.zeros([len(x),len(y),2],dtype = np.complex)\n",
    "    E_axial = np.zeros([len(x),len(y)], dtype= np.complex)\n",
    "    for i,xx in enumerate(x):\n",
    "        for j,yy in enumerate(y):\n",
    "            point = Point(xx,yy)\n",
    "            E[i,j,:]    =  TE_re(point) + 1j*TE_im(point)\n",
    "            E_axial[i,j] = TM_re(point) + 1j*TM_im(point)\n",
    "    return E,E_axial"
   ]
  },
  {
   "cell_type": "markdown",
   "metadata": {
    "slideshow": {
     "slide_type": "slide"
    }
   },
   "source": [
    "### Plot the results"
   ]
  },
  {
   "cell_type": "code",
   "execution_count": 70,
   "metadata": {
    "collapsed": false
   },
   "outputs": [],
   "source": [
    "mode_idx = 2\n",
    "size1 = 100\n",
    "size2 = 100\n"
   ]
  },
  {
   "cell_type": "code",
   "execution_count": 71,
   "metadata": {
    "collapsed": false,
    "slideshow": {
     "slide_type": "slide"
    }
   },
   "outputs": [],
   "source": [
    "x = np.linspace(-a,a,size1)\n",
    "y = np.linspace(-a,a,size2)\n",
    "E,E_axial =electric_field(mode_idx,x,y,k,A,ev,first_mode_idx,sort_index)\n",
    "mode_field1 = np.transpose((np.abs(E[:,:,0])**2 + np.abs(E[:,:,1])**2+np.abs(E_axial[:,:])**2)**0.5)\n",
    "\n",
    "maxi = np.max(mode_field1)\n",
    "mode_field1 /=maxi"
   ]
  },
  {
   "cell_type": "code",
   "execution_count": 72,
   "metadata": {
    "collapsed": false,
    "slideshow": {
     "slide_type": "slide"
    }
   },
   "outputs": [
    {
     "data": {
      "image/png": "[encoded data removed]",
      "text/plain": [
       "<matplotlib.figure.Figure at 0x7f474a81e790>"
      ]
     },
     "metadata": {},
     "output_type": "display_data"
    }
   ],
   "source": [
    "fig = plt.figure(figsize=(7.0, 7.0))\n",
    "X,Y = np.meshgrid(x,y)\n",
    "plt.contourf(X,Y,mode_field1,90)\n",
    "#plt.colorbar()\n",
    "#plt.axes(\"equal\")\n",
    "plt.xlabel(r'$x(m)$')\n",
    "plt.ylabel(r'$y(m)$')\n",
    "plt.title(r'mode$=$'+str(mode_idx)+', '+'  $n_{eff}=$'+str((beta[sort_index][mode_idx]/k0).real)+str((beta[sort_index][mode_idx]/k0).imag)+'j')\n",
    "plt.show()"
   ]
  },
  {
   "cell_type": "markdown",
   "metadata": {
    "slideshow": {
     "slide_type": "slide"
    }
   },
   "source": [
    "### Comsol"
   ]
  },
  {
   "cell_type": "code",
   "execution_count": 47,
   "metadata": {
    "collapsed": false,
    "slideshow": {
     "slide_type": "skip"
    }
   },
   "outputs": [],
   "source": [
    "if k==0.0:\n",
    "    comsol_e = np.loadtxt('electric_nok.txt',comments='%')[2:][:]\n",
    "else:\n",
    "    comsol_e = np.loadtxt('electric.txt')[2:][:]\n",
    "    \n"
   ]
  },
  {
   "cell_type": "code",
   "execution_count": 48,
   "metadata": {
    "collapsed": false,
    "slideshow": {
     "slide_type": "slide"
    }
   },
   "outputs": [
    {
     "data": {
      "image/png": "[encoded data removed]",
      "text/plain": [
       "<matplotlib.figure.Figure at 0x7f472ab9ced0>"
      ]
     },
     "metadata": {},
     "output_type": "display_data"
    }
   ],
   "source": [
    "mode_field2 = comsol_e/np.max(comsol_e)\n",
    "x = np.linspace(0,a,np.shape(comsol_e)[1])\n",
    "y = np.linspace(0,b,np.shape(comsol_e)[0])\n",
    "X,Y = np.meshgrid(x,y)\n",
    "plt.contourf(X,Y,mode_field2,90)\n",
    "plt.colorbar()\n",
    "plt.title(r'mode$=$'+str(mode_idx)+', '+'Effective=_index $=$'+str(beta[sort_index][mode_idx]/k0))\n",
    "plt.show()"
   ]
  },
  {
   "cell_type": "markdown",
   "metadata": {
    "slideshow": {
     "slide_type": "slide"
    }
   },
   "source": [
    "\n",
    "Problems to solve:\n",
    "* the polarisation direction using the quivers\n",
    "* does each mode correspond to the electric field it shows? Comsol seems to disagree in some of them\n",
    "* sparse matrices eigenvalue solver is bad. Cant work it\n",
    "* introduce a bound mode with loss\n",
    "* introduce a fibre\n",
    "* PML"
   ]
  },
  {
   "cell_type": "markdown",
   "metadata": {
    "collapsed": true,
    "slideshow": {
     "slide_type": "skip"
    }
   },
   "source": [
    "Junk"
   ]
  },
  {
   "cell_type": "markdown",
   "metadata": {
    "collapsed": false,
    "slideshow": {
     "slide_type": "skip"
    }
   },
   "source": [
    "\"\"\"###sparse try v0 doesnt work\n",
    "if sparsed:\n",
    "    from scipy.sparse.linalg import eigs\n",
    "    A_np = sparse.csr_matrix(A.array()[free_dofs,:][:,free_dofs])#+1j*A_complex.array()[free_dofs,:][:,free_dofs])\n",
    "    A_np_com =  sparse.csr_matrix(A_complex.array()[free_dofs,:][:,free_dofs])\n",
    "    B_np = sparse.csr_matrix(B.array()[free_dofs,:][:,free_dofs])\n",
    "    A_t = PETScMatrix()\n",
    "    B_t = PETScMatrix()\n",
    "    A_t = A_np\n",
    "    if k!=0:\n",
    "        A_np_complex = A_complex.array()[free_dofs,:][:,free_dofs]\n",
    "        B_np_complex = B_complex.array()[free_dofs,:][:,free_dofs]\n",
    "   \n",
    "    \"\"\"\n",
    "    types = 'LI'\n",
    "    expectedn = 2\n",
    "    sigma = -(expectedn/k0)**2\n",
    "    num_modes = 100\n",
    "    eigen,ev = eigs(A_np,k=num_modes,M=B_np,sigma=sigma,which=types)\n",
    "else:\n",
    "    eigen, ev =  eig(A_np,B_np)\n",
    "    \"\"\"\n",
    "\n",
    "import petsc4py, sys\n",
    "from petsc4py import PETSc as Pet\n",
    "pA = Pet.Mat().createAIJ(size=A_np.shape, csr=(A_np.indptr, A_np.indices, A_np.data))\n",
    "pA_com =  Pet.Mat().createAIJ(size=A_np_com.shape, csr=(A_np_com.indptr, A_np_com.indices, A_np_com.data))\n",
    "\n",
    "from slepc4py import SLEPc\n",
    "E = SLEPc.EPS(); E.create()\n",
    "E.setOperators(pA)\n",
    "E.setProblemType(SLEPc.EPS.ProblemType.HEP)\n",
    "E.setFromOptions()\n",
    "E.solve()\n",
    "\n",
    "Print = Pet.Sys.Print\n",
    "\n",
    "Print()\n",
    "Print(\"******************************\")\n",
    "Print(\"*** SLEPc Solution Results ***\")\n",
    "Print(\"******************************\")\n",
    "Print()\n",
    "\n",
    "its = E.getIterationNumber()\n",
    "Print(\"Number of iterations of the method: %d\" % its)\n",
    "\n",
    "eps_type = E.getType()\n",
    "Print(\"Solution method: %s\" % eps_type)\n",
    "\n",
    "nev, ncv, mpd = E.getDimensions()\n",
    "Print(\"Number of requested eigenvalues: %d\" % nev)\n",
    "\n",
    "tol, maxit = E.getTolerances()\n",
    "Print(\"Stopping condition: tol=%.4g, maxit=%d\" % (tol, maxit))\n",
    "\n",
    "\n",
    "nconv = E.getConverged()\n",
    "Print(\"Number of converged eigenpairs %d\" % nconv)\n",
    "\n",
    "if nconv > 0:\n",
    "    # Create the results vectors\n",
    "    vr, wr = A.getVecs()\n",
    "    vi, wi = A.getVecs()\n",
    "    #\n",
    "    Print()\n",
    "    Print(\"        k          ||Ax-kx||/||kx|| \")\n",
    "    Print(\"----------------- ------------------\")\n",
    "    for i in range(nconv):\n",
    "        k = E.getEigenpair(i, vr, vi)\n",
    "        error = E.computeError(i)\n",
    "        if k.imag != 0.0:\n",
    "            Print(\" %9f%+9f j %12g\" % (k.real, k.imag, error))\n",
    "        else:\n",
    "            Print(\" %12f      %12g\" % (k.real, error))\n",
    "    Print()\n",
    "Print()\"\"\""
   ]
  },
  {
   "cell_type": "code",
   "execution_count": null,
   "metadata": {
    "collapsed": true
   },
   "outputs": [],
   "source": []
  },
  {
   "cell_type": "code",
   "execution_count": null,
   "metadata": {
    "collapsed": true
   },
   "outputs": [],
   "source": []
  },
  {
   "cell_type": "code",
   "execution_count": null,
   "metadata": {
    "collapsed": true
   },
   "outputs": [],
   "source": []
  },
  {
   "cell_type": "code",
   "execution_count": null,
   "metadata": {
    "collapsed": true
   },
   "outputs": [],
   "source": []
  },
  {
   "cell_type": "code",
   "execution_count": null,
   "metadata": {
    "collapsed": true
   },
   "outputs": [],
   "source": []
  }
 ],
 "metadata": {
  "kernelspec": {
   "display_name": "Python 2",
   "language": "python",
   "name": "python2"
  },
  "language_info": {
   "codemirror_mode": {
    "name": "ipython",
    "version": 2
   },
   "file_extension": ".py",
   "mimetype": "text/x-python",
   "name": "python",
   "nbconvert_exporter": "python",
   "pygments_lexer": "ipython2",
   "version": "2.7.6"
  }
 },
 "nbformat": 4,
 "nbformat_minor": 0
}
