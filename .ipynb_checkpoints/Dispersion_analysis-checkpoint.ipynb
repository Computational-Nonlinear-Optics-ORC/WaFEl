{
 "cells": [
  {
   "cell_type": "markdown",
   "metadata": {
    "slideshow": {
     "slide_type": "slide"
    }
   },
   "source": [
    "## Theory\n",
    "(taken from the fenics book)\n",
    "\n",
    "We are solving the Helmholtz equation:\n",
    "                       "
   ]
  },
  {
   "cell_type": "markdown",
   "metadata": {
    "slideshow": {
     "slide_type": "slide"
    }
   },
   "source": [
    " $$\\nabla \\times \\frac{1}{\\mu_r}\\nabla \\times \\boldsymbol{E} - k_0^2 \\epsilon_r \\boldsymbol{E}=0,$$ with the boundary condition of electric mirrors.\n",
    " $$k_0 = \\frac{2\\pi f_0}{c_0}$$\n",
    " \n",
    " $$\\epsilon_r = (n+\\mathrm{i}k)^2$$"
   ]
  },
  {
   "cell_type": "markdown",
   "metadata": {
    "slideshow": {
     "slide_type": "slide"
    }
   },
   "source": [
    "The functional is:\n",
    "$$F(\\boldsymbol{E}) = \\frac{1}{2} \\int_\\Omega \\left[\\frac{1}{\\mu_r} \\left(\\nabla \\times \\boldsymbol{E}\\right)\\cdot \\left(\\nabla \\times \\boldsymbol{E}\\right) - k^2_0 \\epsilon_r \\boldsymbol{E}\\boldsymbol{E}\\right]dx$$"
   ]
  },
  {
   "cell_type": "markdown",
   "metadata": {
    "slideshow": {
     "slide_type": "slide"
    }
   },
   "source": [
    "In order to find it the vector is split in to the transverse and axial components.\n",
    "\n",
    "$$\\nabla = \\nabla_t + \\nabla_z,$$\n",
    "with $$\\nabla_t = \\hat{e_x}\\frac{\\partial}{\\partial x} + \\hat{e_y}\\frac{\\partial}{\\partial y}$$\n",
    "and $$\\nabla_z = \\hat{e_z}\\frac{\\partial}{\\partial z}$$\n",
    "We also assume that the electric field can be split like:\n",
    "$$\\boldsymbol{E}(x,y,z) = \\left[E_t(x,y) + \\hat{e_z} E_z(x,y) \\right] e^{-\\beta z}$$\n",
    "where $\\beta$ is the complex propagation constant,\n",
    "$$\\boldsymbol{E}_t = \\hat{e_x} E_x + \\hat{e_y} E_y$$ and $$ \\boldsymbol{E}_{axial} = \\hat{e_z} E_z$$"
   ]
  },
  {
   "cell_type": "markdown",
   "metadata": {
    "slideshow": {
     "slide_type": "slide"
    }
   },
   "source": [
    "By splitting the $\\nabla$ and by substituting the above for the electric field the functional becomes:\n",
    "                               $$ F_{\\beta}(\\boldsymbol{E}) =  \\int_{\\Omega} \\frac{1}{\\mu_r} \\left(\\nabla_t \\times \\boldsymbol{E}_{t,\\beta}\\right) \\cdot \\left(\\nabla_t \\times \\boldsymbol{E}_{t,\\beta}\\right) -k^2_0 \\epsilon_r E_{t,\\beta}E_{t,\\beta} \\\\ + \\beta^2 \\left[\\frac{1}{\\mu_r} \\left(\\nabla_t E_z+\\beta E_{t,\\gamma}\\right)\\left(\\nabla_t E_z+\\beta E_{t,\\gamma}\\right) - k^2_0 \\epsilon_r E_z E_z dx \\right]$$"
   ]
  },
  {
   "cell_type": "markdown",
   "metadata": {
    "slideshow": {
     "slide_type": "slide"
    }
   },
   "source": [
    "Since the functional is built now the electric field components need to be discetized in order to be calculated. \n",
    "The axial component can be discretised by nodal basis functions (Lagrandge) but the transverse need to be by two dimensional curl-conforming vector basis functions(Nedelec).\n",
    "\n",
    "The electric field in the nedelec space is described by:\n",
    "$$E_{t} = \\sum_{i=1}^{N_{N}} (e_t)_i N_i$$\n",
    "\n",
    "and the axial in lagrange elements as:\n",
    "\n",
    "$$E_z = \\sum_{i=1}^{N_{L}} (e_z)_i L_i$$\n",
    " Where $N_N$ and $N_L$ are the number of nedelec and lagrange elements respectively. $N_i$, $L_i$ are the basis functions and $e_t$, $e_z$ are the equivalent coefficients."
   ]
  },
  {
   "cell_type": "markdown",
   "metadata": {
    "slideshow": {
     "slide_type": "slide"
    }
   },
   "source": [
    "While the cuttoff method is easier to implement it only prety much finds the cuttoff wavenumber (shown in fenics book and in other papers). This is not what is of interest. I am interested in calculating the propagation constants $\\beta$ and by extension the effective indices and the Electric field that they equate to."
   ]
  },
  {
   "cell_type": "markdown",
   "metadata": {
    "slideshow": {
     "slide_type": "slide"
    }
   },
   "source": [
    "The matrix eqution to be solved is\n",
    "\n",
    "$$\\begin{bmatrix}\n",
    "    A_{tt}       & 0 \\\\\n",
    "    0       & 0 \n",
    "\\end{bmatrix}\\begin{bmatrix}\n",
    "    e_t \\\\\n",
    "    e_z      \n",
    "\\end{bmatrix} = -\\beta^2\n",
    "\\begin{bmatrix}\n",
    "    B_{tt}       & B_{tz} \\\\\n",
    "    B_{zt}       & B_{zz} \n",
    "\\end{bmatrix}\\begin{bmatrix}\n",
    "    e_t \\\\\n",
    "    e_z      \n",
    "\\end{bmatrix}\n",
    "$$"
   ]
  },
  {
   "cell_type": "markdown",
   "metadata": {
    "slideshow": {
     "slide_type": "slide"
    }
   },
   "source": [
    "Where $$A_{tt} = S_{tt} - k^2_0 T_{tt} = \\int_{\\Omega} \\frac{1}{\\mu_r} \\left(\\nabla_t \\times N_i \\right) \\left(\\nabla_t \\times N_j \\right)dx \\\\ - k^2_0 \\int_{\\omega} \\epsilon_r N_i N_jdx$$\n",
    "\n",
    "$$B_{zz} = S_{zz} - k^2_0 T_{zz} = \\int_{\\Omega} \\frac{1}{\\mu_r} \\left(\\nabla_t L_i \\right) \\left(\\nabla_t L_j \\right)dx \\\\ - k^2_0 \\int_{\\omega} \\epsilon_r L_i L_j dx$$"
   ]
  },
  {
   "cell_type": "markdown",
   "metadata": {
    "slideshow": {
     "slide_type": "slide"
    }
   },
   "source": [
    "$$ B_{tt} = \\int_{\\Omega} \\frac{1}{\\mu_r} N_i \\cdot  N_j dx$$\n",
    "\n",
    "$$ B_{tz} = \\int_{\\Omega} \\frac{1}{\\mu_r} N_i \\cdot  \\nabla_t L_j dx$$\n",
    "\n",
    "$$ B_{zt} = \\int_{\\Omega} \\frac{1}{\\mu_r} \\nabla_t L_i \\cdot  N_j dx$$"
   ]
  },
  {
   "cell_type": "markdown",
   "metadata": {
    "slideshow": {
     "slide_type": "slide"
    }
   },
   "source": [
    "### Code\n",
    "Import the required modules"
   ]
  },
  {
   "cell_type": "code",
   "execution_count": 5,
   "metadata": {
    "collapsed": false,
    "slideshow": {
     "slide_type": "slide"
    }
   },
   "outputs": [
    {
     "name": "stderr",
     "output_type": "stream",
     "text": [
      "/usr/local/lib/python2.7/dist-packages/matplotlib/font_manager.py:273: UserWarning: Matplotlib is building the font cache using fc-list. This may take a moment.\n",
      "  warnings.warn('Matplotlib is building the font cache using fc-list. This may take a moment.')\n"
     ]
    }
   ],
   "source": [
    "%matplotlib inline\n",
    "from __future__ import division#, print_function\n",
    "import numpy as np\n",
    "from scipy.constants import c,pi\n",
    "from scipy.sparse.linalg import eigs, eigsh\n",
    "from scipy.linalg import eig\n",
    "from scipy.sparse import csr_matrix, lil_matrix, csc_matrix\n",
    "import matplotlib.pylab as plt\n",
    "from scipy.integrate import simps\n",
    "import os\n",
    "from matplotlib.colors import from_levels_and_colors\n",
    "from dolfin import *\n",
    "import time\n",
    "from functions_dispersion_analysis import *"
   ]
  },
  {
   "cell_type": "markdown",
   "metadata": {
    "slideshow": {
     "slide_type": "slide"
    }
   },
   "source": [
    "The box domain:"
   ]
  },
  {
   "cell_type": "code",
   "execution_count": 6,
   "metadata": {
    "collapsed": false,
    "slideshow": {
     "slide_type": "-"
    }
   },
   "outputs": [],
   "source": [
    "a = 2e-4\n",
    "b = 2e-4"
   ]
  },
  {
   "cell_type": "markdown",
   "metadata": {
    "slideshow": {
     "slide_type": "slide"
    }
   },
   "source": [
    "Inputs of the problem"
   ]
  },
  {
   "cell_type": "code",
   "execution_count": 7,
   "metadata": {
    "collapsed": false
   },
   "outputs": [],
   "source": [
    "mu_r = 1.0 \n",
    "lamda = 1.55e-6\n",
    "r_core = 1e-5 # radius of core\n",
    "r_clad = 10e-5 #radius of the fibre\n",
    "nclad = 1.444#- 0.1e-4j# ref index of cladding\n",
    "ncore = 1.445 - 1e-4j # ref index of core\n",
    "#neff_g = 1.4445 # Guess of the modes\n",
    "num= 10   #The number of modes guess \n",
    "neff_g= ncore\n",
    "mesh_refinement = 0 # number of times to uniformly refine the mesh (used for convergence plots and better results)"
   ]
  },
  {
   "cell_type": "code",
   "execution_count": 8,
   "metadata": {
    "collapsed": false
   },
   "outputs": [
    {
     "name": "stdout",
     "output_type": "stream",
     "text": [
      "(2.18153612913-0.108843319296j)\n"
     ]
    }
   ],
   "source": [
    "k = is_loss(ncore,nclad)\n",
    "#if k ==0:\n",
    "V = 2*pi/lamda*r_core*(ncore**2 - nclad**2)**0.5\n",
    "print(V)\n",
    "k0 = 2*pi/lamda"
   ]
  },
  {
   "cell_type": "code",
   "execution_count": null,
   "metadata": {
    "collapsed": true
   },
   "outputs": [],
   "source": []
  },
  {
   "cell_type": "code",
   "execution_count": 5,
   "metadata": {
    "collapsed": false,
    "slideshow": {
     "slide_type": "slide"
    }
   },
   "outputs": [],
   "source": [
    "def ref(x,values = np.zeros(1)):\n",
    "    point = (x[0]**2+ x[1]**2)**0.5\n",
    "    if  point<= r_core:\n",
    "        values[0] = ncore.real**2 - ncore.imag**2\n",
    "    elif point > r_core and point <= r_clad:\n",
    "        values[0] = nclad.real**2 - nclad.imag**2\n",
    "    else:\n",
    "        values[0] = 1.\n",
    "    return values\n",
    "\n",
    "def extinction(x,values = np.zeros(1)):\n",
    "    point = (x[0]**2+ x[1]**2)**0.5\n",
    "    if  point<= r_core:\n",
    "        values[0] = 2*ncore.imag*ncore.real\n",
    "    elif point > r_core and point <= r_clad:\n",
    "        values[0] = 2*nclad.imag*ncore.real\n",
    "    else:\n",
    "        values[0] = 0\n",
    "    return values"
   ]
  },
  {
   "cell_type": "code",
   "execution_count": 6,
   "metadata": {
    "collapsed": false,
    "slideshow": {
     "slide_type": "slide"
    }
   },
   "outputs": [
    {
     "data": {
      "image/png": "[encoded data removed]",
      "text/plain": [
       "<matplotlib.figure.Figure at 0x7f3e4c332550>"
      ]
     },
     "metadata": {},
     "output_type": "display_data"
    }
   ],
   "source": [
    "x = np.linspace(-a,a,512)\n",
    "y = np.linspace(-b,b,512)\n",
    "n_prof,k_prof = goemetry_plot(x,y,a,b,ref,extinction,nclad,ncore,r_core,r_clad)\n"
   ]
  },
  {
   "cell_type": "code",
   "execution_count": 7,
   "metadata": {
    "collapsed": false,
    "slideshow": {
     "slide_type": "slide"
    }
   },
   "outputs": [],
   "source": [
    "class epsilon_real(Expression):\n",
    "    def eval(self, values, x):\n",
    "       values = ref(x,values)\n",
    "\n",
    "class epsilon_imag(Expression):\n",
    "    def eval(self, values, x):\n",
    "       values = extinction(x,values)"
   ]
  },
  {
   "cell_type": "markdown",
   "metadata": {
    "slideshow": {
     "slide_type": "slide"
    }
   },
   "source": [
    "## Mesh"
   ]
  },
  {
   "cell_type": "markdown",
   "metadata": {},
   "source": [
    "Load the gmsh file and if asked for refine the mesh."
   ]
  },
  {
   "cell_type": "code",
   "execution_count": 8,
   "metadata": {
    "collapsed": false,
    "scrolled": true
   },
   "outputs": [
    {
     "name": "stdout",
     "output_type": "stream",
     "text": [
      "Info    : Running 'gmsh fenics_mesh/Output.geo -2 -o fenics_mesh/output_small.msh' [Gmsh 2.10.1, 1 node, max. 1 thread]\n",
      "Info    : Started on Mon May 30 16:38:32 2016\n",
      "Info    : Reading 'fenics_mesh/Output.geo'...\n",
      "Info    : Done reading 'fenics_mesh/Output.geo'\n",
      "Info    : Meshing 1D...\n",
      "Info    : Meshing curve 1 (Line)\n",
      "Info    : Meshing curve 2 (Line)\n",
      "Info    : Meshing curve 3 (Line)\n",
      "Info    : Meshing curve 4 (Line)\n",
      "Info    : Meshing curve 5 (Circle)\n",
      "Info    : Meshing curve 6 (Circle)\n",
      "Info    : Done meshing 1D (0 s)\n",
      "Info    : Meshing 2D...\n",
      "Info    : Meshing surface 9 (Plane, Delaunay)\n",
      "Info    : Meshing surface 11 (Plane, Delaunay)\n",
      "Info    : Meshing surface 12 (Plane, Delaunay)\n",
      "Info    : Done meshing 2D (0.00397205 s)\n",
      "Info    : 106 vertices 241 elements\n",
      "Info    : Writing 'fenics_mesh/output_small.msh'...\n",
      "Info    : Done writing 'fenics_mesh/output_small.msh'\n",
      "Info    : Stopped on Mon May 30 16:38:32 2016\n",
      "\n",
      "Converting from Gmsh format (.msh, .gmsh) to DOLFIN XML format\n",
      "Expecting 105 vertices\n",
      "Found all vertices\n",
      "Expecting 204 cells\n",
      "Found all cells\n",
      "Conversion done\n",
      "\n"
     ]
    }
   ],
   "source": [
    "mesh = gmesh_mesh(\"original_geometry.geo\",a,b,r_core,r_clad,mesh_refinement)\n",
    "#plot(mesh,interactive=True)"
   ]
  },
  {
   "cell_type": "code",
   "execution_count": 9,
   "metadata": {
    "collapsed": false
   },
   "outputs": [],
   "source": [
    "#plot(mesh, interactive=True)"
   ]
  },
  {
   "cell_type": "code",
   "execution_count": 10,
   "metadata": {
    "collapsed": false
   },
   "outputs": [
    {
     "data": {
      "text/plain": [
       "204"
      ]
     },
     "execution_count": 10,
     "metadata": {},
     "output_type": "execute_result"
    }
   ],
   "source": [
    "mesh.num_cells()"
   ]
  },
  {
   "cell_type": "markdown",
   "metadata": {},
   "source": [
    "### Define the orders of the fucntion spaces for vector and nodal basis functions"
   ]
  },
  {
   "cell_type": "code",
   "execution_count": 11,
   "metadata": {
    "collapsed": false
   },
   "outputs": [],
   "source": [
    "num_cells = mesh.num_cells()"
   ]
  },
  {
   "cell_type": "code",
   "execution_count": 12,
   "metadata": {
    "collapsed": false
   },
   "outputs": [
    {
     "data": {
      "text/plain": [
       "0.0007651483399008171"
      ]
     },
     "execution_count": 12,
     "metadata": {},
     "output_type": "execute_result"
    }
   ],
   "source": [
    "mesh.hmax()/2"
   ]
  },
  {
   "cell_type": "code",
   "execution_count": 13,
   "metadata": {
    "collapsed": false
   },
   "outputs": [
    {
     "data": {
      "text/plain": [
       "204"
      ]
     },
     "execution_count": 13,
     "metadata": {},
     "output_type": "execute_result"
    }
   ],
   "source": [
    "num_cells"
   ]
  },
  {
   "cell_type": "code",
   "execution_count": 14,
   "metadata": {
    "collapsed": false
   },
   "outputs": [],
   "source": [
    "vector_order = 2\n",
    "nodal_order = 3"
   ]
  },
  {
   "cell_type": "markdown",
   "metadata": {
    "slideshow": {
     "slide_type": "slide"
    }
   },
   "source": [
    "Define the test and trial functions from the combined space here N_i and N_j are Nedelec basis functions and L_i and L_j are Lagrange basis functions"
   ]
  },
  {
   "cell_type": "markdown",
   "metadata": {
    "slideshow": {
     "slide_type": "slide"
    }
   },
   "source": [
    "## Creating the matrix equation."
   ]
  },
  {
   "cell_type": "markdown",
   "metadata": {},
   "source": [
    "$$\\begin{bmatrix}\n",
    "    A_{tt}       & 0 \\\\\n",
    "    0       & 0 \n",
    "\\end{bmatrix}\\begin{bmatrix}\n",
    "    e_t \\\\\n",
    "    e_z      \n",
    "\\end{bmatrix} = -\\beta^2\n",
    "\\begin{bmatrix}\n",
    "    B_{tt}       & B_{tz} \\\\\n",
    "    B_{zt}       & B_{zz} \n",
    "\\end{bmatrix}\\begin{bmatrix}\n",
    "    e_t \\\\\n",
    "    e_z      \n",
    "\\end{bmatrix}\n",
    "$$"
   ]
  },
  {
   "cell_type": "markdown",
   "metadata": {
    "slideshow": {
     "slide_type": "slide"
    }
   },
   "source": [
    "Define the forms (matrix elements) for dispersion analysis into the basis functions"
   ]
  },
  {
   "cell_type": "code",
   "execution_count": 15,
   "metadata": {
    "collapsed": false
   },
   "outputs": [
    {
     "name": "stderr",
     "output_type": "stream",
     "text": [
      "DEBUG:FFC:Reusing form from cache.\n",
      "DEBUG:FFC:Reusing form from cache.\n",
      "DEBUG:FFC:Reusing form from cache.\n",
      "DEBUG:FFC:Reusing form from cache.\n",
      "DEBUG:FFC:Reusing form from cache.\n",
      "DEBUG:FFC:Reusing form from cache.\n",
      "DEBUG:FFC:Reusing form from cache.\n"
     ]
    }
   ],
   "source": [
    "combined_space, A,B, A_complex,B_complex = Matrix_creation(mesh,epsilon_real,epsilon_imag,mu_r,k,k0,vector_order,nodal_order)"
   ]
  },
  {
   "cell_type": "markdown",
   "metadata": {
    "slideshow": {
     "slide_type": "slide"
    }
   },
   "source": [
    "post-multiplication by dx will result in integration over the domain of the mesh at assembly time"
   ]
  },
  {
   "cell_type": "markdown",
   "metadata": {
    "slideshow": {
     "slide_type": "slide"
    }
   },
   "source": [
    "## Implement boundary conditions"
   ]
  },
  {
   "cell_type": "code",
   "execution_count": 16,
   "metadata": {
    "collapsed": false
   },
   "outputs": [],
   "source": [
    "A,B,A_complex,B_complex,electric_wall = Mirror_boundary(mesh,combined_space,A,B,A_complex,B_complex,k)\n",
    "#free_dofs = boundary_marker_locator(A,electric_wall)\n",
    "free_dofs = boundary_marker_locator(A,electric_wall)"
   ]
  },
  {
   "cell_type": "markdown",
   "metadata": {
    "slideshow": {
     "slide_type": "slide"
    }
   },
   "source": [
    "### Free the vectors and make numpy arrays to solve with scipy"
   ]
  },
  {
   "cell_type": "markdown",
   "metadata": {
    "slideshow": {
     "slide_type": "-"
    }
   },
   "source": [
    "Find what part of the vectors are not ascociated with the boundary values"
   ]
  },
  {
   "cell_type": "markdown",
   "metadata": {
    "slideshow": {
     "slide_type": "slide"
    }
   },
   "source": [
    "### Solve the eigenvalue system using scipy.linalg.eig"
   ]
  },
  {
   "cell_type": "code",
   "execution_count": 17,
   "metadata": {
    "collapsed": false
   },
   "outputs": [
    {
     "name": "stdout",
     "output_type": "stream",
     "text": [
      "sparse eigenvalue time\n"
     ]
    }
   ],
   "source": [
    "eigen,ev = find_eigenvalues(A,B,A_complex,B_complex,neff_g,num,k0,free_dofs,k,sparse_=True)"
   ]
  },
  {
   "cell_type": "markdown",
   "metadata": {
    "slideshow": {
     "slide_type": "slide"
    }
   },
   "source": [
    "Find $\\beta$ from the eigenvalue."
   ]
  },
  {
   "cell_type": "code",
   "execution_count": 18,
   "metadata": {
    "collapsed": false
   },
   "outputs": [],
   "source": [
    "beta =1j*(eigen)**0.5 \n",
    "beta = np.abs(np.real(beta)) -1j*np.imag(beta)"
   ]
  },
  {
   "cell_type": "markdown",
   "metadata": {
    "slideshow": {
     "slide_type": "slide"
    }
   },
   "source": [
    "sort the calculated values"
   ]
  },
  {
   "cell_type": "code",
   "execution_count": 19,
   "metadata": {
    "collapsed": false
   },
   "outputs": [],
   "source": [
    "sort_index = np.argsort(beta.real)[::-1]"
   ]
  },
  {
   "cell_type": "code",
   "execution_count": 20,
   "metadata": {
    "collapsed": false
   },
   "outputs": [],
   "source": [
    "propagating_modes = np.where(((beta[sort_index]/k0).real>nclad.real) & ((beta[sort_index]/k0).real<ncore))\n",
    "propagating_modes = propagating_modes[0][:]"
   ]
  },
  {
   "cell_type": "markdown",
   "metadata": {
    "slideshow": {
     "slide_type": "slide"
    }
   },
   "source": [
    "Print the first four effective indices. ((1.44446963419-7.85620938656e-05j))"
   ]
  },
  {
   "cell_type": "code",
   "execution_count": 21,
   "metadata": {
    "collapsed": false
   },
   "outputs": [
    {
     "name": "stdout",
     "output_type": "stream",
     "text": [
      "The effective index of the most dominant modes are:\n",
      "[ 1.44448345 -7.88233073e-05j  1.44448150 -7.85874602e-05j]\n"
     ]
    }
   ],
   "source": [
    "print(\"The effective index of the most dominant modes are:\")\n",
    "print(beta[sort_index][propagating_modes]/k0)\n"
   ]
  },
  {
   "cell_type": "markdown",
   "metadata": {},
   "source": [
    "The effective index of the most dominant modes are:\n",
    "[ 1.44448455+0.j  1.44448260+0.j  1.44429812+0.j]\n",
    "\n",
    "num_cells = 204\n"
   ]
  },
  {
   "cell_type": "markdown",
   "metadata": {},
   "source": [
    "(1.4444751261324063+0j) , (1.4444745265975403+0j)\n",
    "\n",
    "816"
   ]
  },
  {
   "cell_type": "markdown",
   "metadata": {},
   "source": [
    "3264\n",
    "\n",
    "1.44446756+0.j  1.44446633+0.j"
   ]
  },
  {
   "cell_type": "markdown",
   "metadata": {},
   "source": [
    "1.44447035+0.j  1.44447023+0.j\n",
    "\n",
    "13056"
   ]
  },
  {
   "cell_type": "markdown",
   "metadata": {},
   "source": [
    "Comsol : 1.4444696250032485-7.856091874511805E-5i"
   ]
  },
  {
   "cell_type": "markdown",
   "metadata": {},
   "source": [
    "0,0,1\n",
    "N_complex = []"
   ]
  },
  {
   "cell_type": "markdown",
   "metadata": {},
   "source": [
    "from scipy.io import loadmat\n",
    "refine=2\n",
    "\n",
    "D = loadmat('convergence'+str(refine)+'.mat')"
   ]
  },
  {
   "cell_type": "markdown",
   "metadata": {},
   "source": [
    "D"
   ]
  },
  {
   "cell_type": "markdown",
   "metadata": {},
   "source": [
    "lim = D['neff'][0][2]\n",
    "print(lim)\n",
    "print(N_complex)"
   ]
  },
  {
   "cell_type": "markdown",
   "metadata": {},
   "source": [
    "N_complex.append(lim)\n",
    "#for refine in range(4):\n",
    "    "
   ]
  },
  {
   "cell_type": "markdown",
   "metadata": {},
   "source": [
    "from scipy.io import savemat"
   ]
  },
  {
   "cell_type": "markdown",
   "metadata": {},
   "source": [
    "np.abs(np.abs(np.imag(N_complex)) - np.abs(np.ones(len(N_complex)))*7.856091874511805e-5)"
   ]
  },
  {
   "cell_type": "markdown",
   "metadata": {},
   "source": [
    "plotx, ploty = np.log(cells),1e6*np.abs(np.real(N_complex) - np.ones(len(N_complex))*1.4444696250032485) \n",
    "fig = plt.figure(figsize=(20.0, 10.0))\n",
    "plt.plot(plotx,ploty, '-o')\n",
    "plt.xlabel(r'$\\log\\left(Nc\\right)$')\n",
    "plt.ylabel(r'$10^{6} \\cdot \\delta n_{eff}$')\n",
    "plt.savefig(filename='conversion_complex_real.eps',bbox_inches='tight')\n",
    "\n",
    "\n",
    "plotx, ploty = np.log(cells),1e7*np.abs(np.abs(np.imag(N_complex)) - np.abs(np.ones(len(N_complex)))*7.856091874511805e-5)\n",
    "fig = plt.figure(figsize=(20.0, 10.0))\n",
    "plt.plot(plotx,ploty, '-o')\n",
    "plt.xlabel(r'$\\log\\left(Nc\\right)$')\n",
    "plt.ylabel(r'$10^{7} \\cdot \\delta n_{eff}$')\n",
    "plt.savefig(filename='conversion_complex_real.eps',bbox_inches='tight')\n",
    "\n",
    "\n",
    "D = {}\n",
    "D['cells'] = cells\n",
    "D['N_complex'] =  N_complex\n",
    "\n",
    "savemat('neff_complex.mat',D)"
   ]
  },
  {
   "cell_type": "code",
   "execution_count": 22,
   "metadata": {
    "collapsed": true
   },
   "outputs": [],
   "source": [
    "cells = [204,816,3264,13056]"
   ]
  },
  {
   "cell_type": "code",
   "execution_count": 23,
   "metadata": {
    "collapsed": true
   },
   "outputs": [],
   "source": [
    "neff_1 = [1.4444845, 1.4444751261324063, 1.44446756, 1.44447035]"
   ]
  },
  {
   "cell_type": "code",
   "execution_count": 24,
   "metadata": {
    "collapsed": false
   },
   "outputs": [
    {
     "data": {
      "image/png": "[encoded data removed]",
      "text/plain": [
       "<matplotlib.figure.Figure at 0x7f3df78d3b10>"
      ]
     },
     "metadata": {},
     "output_type": "display_data"
    }
   ],
   "source": [
    "fig = plt.figure(figsize=(20.0, 10.0))\n",
    "plt.plot(np.log(cells),1e6*(np.abs(neff_1 - np.ones(len(neff_1))*1.4444708192371853)), '-o')\n",
    "plt.xlabel(r'$\\log\\left(Nc\\right)$')\n",
    "plt.ylabel(r'$10^{6} \\cdot \\delta n_{eff}$')\n",
    "plt.savefig(filename='conversion.eps',bbox_inches='tight')"
   ]
  },
  {
   "cell_type": "markdown",
   "metadata": {
    "slideshow": {
     "slide_type": "slide"
    }
   },
   "source": [
    "Use the eigenvalues/eigenvectors to release the electric field"
   ]
  },
  {
   "cell_type": "markdown",
   "metadata": {
    "slideshow": {
     "slide_type": "slide"
    }
   },
   "source": [
    "### Plot the results"
   ]
  },
  {
   "cell_type": "code",
   "execution_count": 25,
   "metadata": {
    "collapsed": false
   },
   "outputs": [],
   "source": [
    "size1,size2 = 512,512\n",
    "min_max = (-3*r_core,3*r_core,-3*r_core,3*r_core)"
   ]
  },
  {
   "cell_type": "code",
   "execution_count": 26,
   "metadata": {
    "collapsed": false
   },
   "outputs": [],
   "source": [
    "mode0 = modes(1,size1,size2,min_max,propagating_modes,beta,sort_index,k0)\n",
    "mode0.electric_field_full(k,A,ev,sort_index,free_dofs,combined_space)\n"
   ]
  },
  {
   "cell_type": "code",
   "execution_count": 47,
   "metadata": {
    "collapsed": false
   },
   "outputs": [],
   "source": [
    "mode0.effective_area(k,A,ev,sort_index,free_dofs,combined_space,r_clad)"
   ]
  },
  {
   "cell_type": "code",
   "execution_count": 28,
   "metadata": {
    "collapsed": false
   },
   "outputs": [
    {
     "data": {
      "image/png": "[encoded data removed]",
      "text/plain": [
       "<matplotlib.figure.Figure at 0x7f8ef7cd4150>"
      ]
     },
     "metadata": {},
     "output_type": "display_data"
    }
   ],
   "source": [
    "mode0.plot_electric_field(scales = 100000,sp=40)"
   ]
  },
  {
   "cell_type": "code",
   "execution_count": 30,
   "metadata": {
    "collapsed": false
   },
   "outputs": [
    {
     "data": {
      "text/plain": [
       "4.4644440826387074e-10"
      ]
     },
     "execution_count": 30,
     "metadata": {},
     "output_type": "execute_result"
    }
   ],
   "source": [
    "mode0.Aeff"
   ]
  },
  {
   "cell_type": "code",
   "execution_count": 33,
   "metadata": {
    "collapsed": false
   },
   "outputs": [],
   "source": [
    "mode1 = modes(0,size1,size2,min_max,propagating_modes,beta,sort_index,k0)\n",
    "mode1.electric_field_full(k,A,ev,sort_index,free_dofs,combined_space)\n"
   ]
  },
  {
   "cell_type": "code",
   "execution_count": 34,
   "metadata": {
    "collapsed": false
   },
   "outputs": [],
   "source": [
    "mode1.effective_area(k,A,ev,sort_index,free_dofs,combined_space,r_clad)"
   ]
  },
  {
   "cell_type": "code",
   "execution_count": 35,
   "metadata": {
    "collapsed": false
   },
   "outputs": [
    {
     "data": {
      "image/png": "[encoded data removed]",
      "text/plain": [
       "<matplotlib.figure.Figure at 0x7f8ef750b650>"
      ]
     },
     "metadata": {},
     "output_type": "display_data"
    }
   ],
   "source": [
    "mode1.plot_electric_field(scales = 90000,sp=40)"
   ]
  },
  {
   "cell_type": "code",
   "execution_count": null,
   "metadata": {
    "collapsed": true
   },
   "outputs": [],
   "source": []
  },
  {
   "cell_type": "code",
   "execution_count": null,
   "metadata": {
    "collapsed": true
   },
   "outputs": [],
   "source": []
  },
  {
   "cell_type": "code",
   "execution_count": null,
   "metadata": {
    "collapsed": true
   },
   "outputs": [],
   "source": []
  },
  {
   "cell_type": "code",
   "execution_count": null,
   "metadata": {
    "collapsed": true
   },
   "outputs": [],
   "source": []
  },
  {
   "cell_type": "markdown",
   "metadata": {},
   "source": [
    "# Tests"
   ]
  },
  {
   "cell_type": "markdown",
   "metadata": {},
   "source": [
    "Effective area"
   ]
  },
  {
   "cell_type": "code",
   "execution_count": null,
   "metadata": {
    "collapsed": true
   },
   "outputs": [],
   "source": [
    "def effective():\n",
    "    "
   ]
  },
  {
   "cell_type": "code",
   "execution_count": null,
   "metadata": {
    "collapsed": false
   },
   "outputs": [],
   "source": [
    "if aj:\n",
    "    print\"hello\""
   ]
  },
  {
   "cell_type": "code",
   "execution_count": null,
   "metadata": {
    "collapsed": true
   },
   "outputs": [],
   "source": []
  },
  {
   "cell_type": "code",
   "execution_count": null,
   "metadata": {
    "collapsed": true
   },
   "outputs": [],
   "source": []
  },
  {
   "cell_type": "code",
   "execution_count": null,
   "metadata": {
    "collapsed": true
   },
   "outputs": [],
   "source": []
  },
  {
   "cell_type": "code",
   "execution_count": null,
   "metadata": {
    "collapsed": true
   },
   "outputs": [],
   "source": []
  },
  {
   "cell_type": "code",
   "execution_count": null,
   "metadata": {
    "collapsed": true
   },
   "outputs": [],
   "source": []
  },
  {
   "cell_type": "code",
   "execution_count": null,
   "metadata": {
    "collapsed": true
   },
   "outputs": [],
   "source": []
  },
  {
   "cell_type": "code",
   "execution_count": null,
   "metadata": {
    "collapsed": true
   },
   "outputs": [],
   "source": []
  },
  {
   "cell_type": "markdown",
   "metadata": {
    "collapsed": true
   },
   "source": [
    "def electric_field_full(mode_idx,x,y,k,A,ev,sort_index,free_dofs,combined_space):\n",
    "    \"\"\"\n",
    "    Releases the electric field from the calculated eigenvalus and eigen vectors\n",
    "    \n",
    "    Returns::\n",
    "    E[size,size,2],E_axial(Ez)\n",
    "    \"\"\"\n",
    "\n",
    "    #post-process the coefficients to map back to the full matrix\n",
    "    coefficiants_global = np.zeros(A.size(0),dtype=np.complex)\n",
    "    coefficiants_global[free_dofs] = ev[:,sort_index[mode_idx]]\n",
    "    #Create a Function on the combined space\n",
    "    mode_re = Function(combined_space)\n",
    "    mode_im = Function(combined_space)\n",
    "    #Assign the coefficients of the function to the calculated values\n",
    "    mode_re.vector().set_local(np.real(coefficiants_global))\n",
    "    mode_im.vector().set_local(np.imag(coefficiants_global))\n",
    "    #Split the function into the parts in each of the functions spaces in combined_space\n",
    "    #This is done using DOLFINs Function.split()\n",
    "    (TE_re,TM_re) = mode_re.split()\n",
    "    (TE_im,TM_im) = mode_im.split()\n",
    "\n",
    "    E = np.zeros([len(x),len(y),2],dtype = np.complex)\n",
    "    E_axial = np.zeros([len(x),len(y)], dtype= np.complex)\n",
    "    for i,xx in enumerate(x):\n",
    "        for j,yy in enumerate(y):\n",
    "            point = Point(xx,yy)\n",
    "            E[i,j,:]    =  TE_re(point) + 1j*TE_im(point)\n",
    "            E_axial[i,j] = TM_re(point) + 1j*TM_im(point)\n",
    "    return E,E_axial"
   ]
  },
  {
   "cell_type": "code",
   "execution_count": null,
   "metadata": {
    "collapsed": true
   },
   "outputs": [],
   "source": [
    "x = np.linspace(-r_clad,r_clad,512)\n",
    "y = np.linspace(-r_clad,r_clad,512)"
   ]
  },
  {
   "cell_type": "code",
   "execution_count": null,
   "metadata": {
    "collapsed": true
   },
   "outputs": [],
   "source": [
    "delx = x[1] - x[0]\n",
    "dely = y[1] - y[0]"
   ]
  },
  {
   "cell_type": "code",
   "execution_count": null,
   "metadata": {
    "collapsed": false
   },
   "outputs": [],
   "source": [
    "En,E_axialn = electric_field_full(propagating_modes[0],x,y,k,A,ev,sort_index,free_dofs,combined_space)\n",
    "Em,E_axialm = electric_field_full(propagating_modes[1],x,y,k,A,ev,sort_index,free_dofs,combined_space)"
   ]
  },
  {
   "cell_type": "code",
   "execution_count": null,
   "metadata": {
    "collapsed": false
   },
   "outputs": [],
   "source": [
    "np.max(np.gradient(En[:,:,0],delx,dely)[0] +np.gradient(En[:,:,1],delx,dely)[1] + np.gradient(E_axial))"
   ]
  },
  {
   "cell_type": "code",
   "execution_count": null,
   "metadata": {
    "collapsed": false
   },
   "outputs": [],
   "source": [
    "np.max(np.gradient(En[:,:,0])[2])"
   ]
  },
  {
   "cell_type": "code",
   "execution_count": null,
   "metadata": {
    "collapsed": false
   },
   "outputs": [],
   "source": [
    "def overlap_simps(En,E_axialn,Em,E_axialm,x,y):\n",
    "    integrand1 = np.conjugate(En[:,:,0])*Em[:,:,0] + np.conjugate(En[:,:,1])*Em[:,:,1] + np.conjugate(E_axialn[:,:])*E_axialm[:,:]\n",
    "    Over = integration2d_simps(x,y,integrand1)\n",
    "    \n",
    "    integrand2 = np.abs(En[:,:,0])**2 + np.abs(En[:,:,1])**2 + np.abs(E_axialn[:,:])**2\n",
    "    under1 = integration2d_simps(x,y,integrand2)\n",
    "       \n",
    "    integrand3 = np.abs(Em[:,:,0])**2 + np.abs(Em[:,:,1])**2 + np.abs(E_axialm[:,:])**2\n",
    "    under2 = integration2d_simps(x,y,integrand3)\n",
    "    print(np.max(integrand1))#,integrand2,integrand3)\n",
    "    print(Over,under1,under2)\n",
    "    return np.abs(Over)**2/(under1*under2)\n"
   ]
  },
  {
   "cell_type": "code",
   "execution_count": null,
   "metadata": {
    "collapsed": true
   },
   "outputs": [],
   "source": [
    "integrand1 = np.conjugate(En[:,:,0])*Em[:,:,0] + np.conjugate(En[:,:,1])*Em[:,:,1] + np.conjugate(E_axialn[:,:])*E_axialm[:,:]"
   ]
  },
  {
   "cell_type": "code",
   "execution_count": null,
   "metadata": {
    "collapsed": false
   },
   "outputs": [],
   "source": [
    "X,Y = np.meshgrid(x,y)\n",
    "plt.contourf(X,Y,integrand1)\n",
    "plt.xlim(-r_core,r_core)\n",
    "plt.ylim(-r_core,r_core)\n",
    "plt.colorbar()"
   ]
  },
  {
   "cell_type": "code",
   "execution_count": null,
   "metadata": {
    "collapsed": false
   },
   "outputs": [],
   "source": [
    "overlap_simps(En,E_axialn,Em,E_axialm,x,y)"
   ]
  },
  {
   "cell_type": "code",
   "execution_count": null,
   "metadata": {
    "collapsed": false
   },
   "outputs": [],
   "source": [
    "from testing.Single_mode_fibre import *\n"
   ]
  },
  {
   "cell_type": "code",
   "execution_count": null,
   "metadata": {
    "collapsed": false
   },
   "outputs": [],
   "source": [
    "effective_area_simps(En,E_axialn,x,y)"
   ]
  },
  {
   "cell_type": "code",
   "execution_count": null,
   "metadata": {
    "collapsed": false
   },
   "outputs": [],
   "source": [
    "effective_area_simps(Em,E_axialm,x,y)"
   ]
  },
  {
   "cell_type": "code",
   "execution_count": null,
   "metadata": {
    "collapsed": false
   },
   "outputs": [],
   "source": [
    "#Overlaps_simps(3,4,propagating_modes,x,y)\n",
    "Overlaps_simps(3,4,propagating_modes,x,y,r_core,r_clad,k,beta,k0,A,ev,sort_index,free_dofs,combined_space)"
   ]
  },
  {
   "cell_type": "code",
   "execution_count": null,
   "metadata": {
    "collapsed": true
   },
   "outputs": [],
   "source": []
  },
  {
   "cell_type": "code",
   "execution_count": null,
   "metadata": {
    "collapsed": true
   },
   "outputs": [],
   "source": [
    "import sympy.vector.coordsysrect"
   ]
  },
  {
   "cell_type": "code",
   "execution_count": null,
   "metadata": {
    "collapsed": false
   },
   "outputs": [],
   "source": [
    "from sympy.vector import CoordSysCartesian, divergence,curl\n",
    "R = CoordSysCartesian('R')\n",
    "v1 = R.x*R.y*R.z * (R.i+R.j+R.k)\n",
    "divergence(v1, R)\n",
    "v2 = 2*R.y*R.z*R.j\n",
    "divergence(v2, R)"
   ]
  },
  {
   "cell_type": "code",
   "execution_count": null,
   "metadata": {
    "collapsed": false
   },
   "outputs": [],
   "source": [
    "E = R.x*E[:,:,0] +R.y*E[:,:,1]+ R.z*E_axial"
   ]
  },
  {
   "cell_type": "code",
   "execution_count": null,
   "metadata": {
    "collapsed": true
   },
   "outputs": [],
   "source": [
    "np.diff?"
   ]
  },
  {
   "cell_type": "code",
   "execution_count": null,
   "metadata": {
    "collapsed": false
   },
   "outputs": [],
   "source": [
    "Overlaps_simps(3,3,propagating_modes,x,y,r_core,r_clad,k,beta,k0,A,ev,sort_index,free_dofs,combined_space)"
   ]
  },
  {
   "cell_type": "code",
   "execution_count": null,
   "metadata": {
    "collapsed": false
   },
   "outputs": [],
   "source": [
    "Overlaps_simps(4,4,propagating_modes,x,y,r_core,r_clad,k,beta,k0,A,ev,sort_index,free_dofs,combined_space)"
   ]
  },
  {
   "cell_type": "code",
   "execution_count": null,
   "metadata": {
    "collapsed": false
   },
   "outputs": [],
   "source": [
    "div(combined_space)"
   ]
  },
  {
   "cell_type": "code",
   "execution_count": null,
   "metadata": {
    "collapsed": false
   },
   "outputs": [],
   "source": [
    "E,E_axial = electric_field_full(mode_idx,x,y,k,A,ev,sort_index,free_dofs,combined_space)"
   ]
  },
  {
   "cell_type": "code",
   "execution_count": null,
   "metadata": {
    "collapsed": true
   },
   "outputs": [],
   "source": [
    "def divergence(F):\n",
    "    \"\"\" compute the divergence of n-D scalar field `F` \"\"\"\n",
    "    return reduce(np.add,np.gradient(F))"
   ]
  },
  {
   "cell_type": "code",
   "execution_count": null,
   "metadata": {
    "collapsed": true
   },
   "outputs": [],
   "source": [
    "e_r = n_prof +1j*k_prof"
   ]
  },
  {
   "cell_type": "code",
   "execution_count": null,
   "metadata": {
    "collapsed": false
   },
   "outputs": [],
   "source": [
    "div = np.gradient(e_r)"
   ]
  },
  {
   "cell_type": "code",
   "execution_count": null,
   "metadata": {
    "collapsed": false
   },
   "outputs": [],
   "source": [
    "np.shape(e_r)"
   ]
  },
  {
   "cell_type": "code",
   "execution_count": null,
   "metadata": {
    "collapsed": false
   },
   "outputs": [],
   "source": [
    "np.shape(div)"
   ]
  },
  {
   "cell_type": "code",
   "execution_count": null,
   "metadata": {
    "collapsed": false
   },
   "outputs": [],
   "source": [
    "beta"
   ]
  },
  {
   "cell_type": "code",
   "execution_count": null,
   "metadata": {
    "collapsed": false
   },
   "outputs": [],
   "source": [
    "alpha = np.linspace(-5,5,100)\n",
    "beta = np.copy(alpha)\n",
    "AR,BR =np.meshgrid(alpha,beta)\n",
    "alpha,beta = AR,BR\n",
    "gama = 1/(AR**2 + BR**2)\n",
    "\n",
    "plt.contourf(AR,BR,gama)"
   ]
  },
  {
   "cell_type": "code",
   "execution_count": null,
   "metadata": {
    "collapsed": false
   },
   "outputs": [],
   "source": [
    "plt.contourf(AR,BR,divergence(gama))\n",
    "plt.colorbar()"
   ]
  },
  {
   "cell_type": "code",
   "execution_count": null,
   "metadata": {
    "collapsed": false
   },
   "outputs": [],
   "source": [
    "np.max(divergence(gama))"
   ]
  },
  {
   "cell_type": "code",
   "execution_count": null,
   "metadata": {
    "collapsed": false
   },
   "outputs": [],
   "source": [
    "plt.contourf(X,Y,divergence(E[:,:,0]))#+divergence(np.dot(e_r,E[:,:,1])))#+divergence(E_axial))\n",
    "plt.colorbar()"
   ]
  },
  {
   "cell_type": "code",
   "execution_count": null,
   "metadata": {
    "collapsed": false
   },
   "outputs": [],
   "source": [
    "sympy.__version__"
   ]
  },
  {
   "cell_type": "code",
   "execution_count": null,
   "metadata": {
    "collapsed": true
   },
   "outputs": [],
   "source": [
    "import sympy"
   ]
  },
  {
   "cell_type": "code",
   "execution_count": null,
   "metadata": {
    "collapsed": true
   },
   "outputs": [],
   "source": [
    "coefficiants_global = np.zeros(A.size(0),dtype=np.complex)\n",
    "coefficiants_global[free_dofs] = ev[:,sort_index[mode_idx]]\n",
    "mode_re = Function(combined_space)\n",
    "mode_im = Function(combined_space)\n",
    "mode_re.vector().set_local(np.real(coefficiants_global))\n",
    "mode_im.vector().set_local(np.imag(coefficiants_global))\n",
    "(TE_re,TM_re) = mode_re.split()\n",
    "(TE_im,TM_im) = mode_im.split()\n",
    "E = np.zeros([len(x),len(y),2],dtype = np.complex)\n",
    "E_axial = np.zeros([len(x),len(y)], dtype= np.complex)\n",
    "for i,xx in enumerate(x):\n",
    "    for j,yy in enumerate(y):\n",
    "        point = Point(xx,yy)\n",
    "        E[i,j,:]    =  TE_re(point) + 1j*TE_im(point)\n",
    "        E_axial[i,j] = TM_re(point) + 1j*TM_im(point)\n"
   ]
  },
  {
   "cell_type": "code",
   "execution_count": null,
   "metadata": {
    "collapsed": false
   },
   "outputs": [],
   "source": [
    "TE_re"
   ]
  },
  {
   "cell_type": "code",
   "execution_count": null,
   "metadata": {
    "collapsed": false
   },
   "outputs": [],
   "source": [
    "from scipy.misc import derivative\n"
   ]
  },
  {
   "cell_type": "code",
   "execution_count": null,
   "metadata": {
    "collapsed": false
   },
   "outputs": [],
   "source": [
    "derivative?"
   ]
  },
  {
   "cell_type": "code",
   "execution_count": null,
   "metadata": {
    "collapsed": false
   },
   "outputs": [],
   "source": [
    "y = np.empty_like(x)\n",
    "y[:-1] = (x[1:] - x[:-1]) / delx\n",
    "y[-1] = -x[-1] / delx"
   ]
  },
  {
   "cell_type": "code",
   "execution_count": null,
   "metadata": {
    "collapsed": false
   },
   "outputs": [],
   "source": [
    "delx = x[1]- x[0]"
   ]
  },
  {
   "cell_type": "code",
   "execution_count": null,
   "metadata": {
    "collapsed": false
   },
   "outputs": [],
   "source": [
    "y = np.empty_like(x)"
   ]
  },
  {
   "cell_type": "code",
   "execution_count": null,
   "metadata": {
    "collapsed": false
   },
   "outputs": [],
   "source": [
    "diver = np.gradient(np.dot(e_r,E[:,:,0]))[1]+np.gradient(np.dot(e_r,E[:,:,1]))[1]+np.gradient(np.dot(e_r,E_axial))[0]"
   ]
  },
  {
   "cell_type": "code",
   "execution_count": null,
   "metadata": {
    "collapsed": true
   },
   "outputs": [],
   "source": [
    "diver2 = np.gradient(E[:,:,0])[0]+np.gradient(E[:,:,1])[0]+np.gradient(E_axial)[0]"
   ]
  },
  {
   "cell_type": "code",
   "execution_count": null,
   "metadata": {
    "collapsed": false
   },
   "outputs": [],
   "source": [
    "np.gradient(E[:,:,1])"
   ]
  },
  {
   "cell_type": "code",
   "execution_count": null,
   "metadata": {
    "collapsed": false
   },
   "outputs": [],
   "source": [
    "np.linalg.norm(diver2)"
   ]
  },
  {
   "cell_type": "code",
   "execution_count": null,
   "metadata": {
    "collapsed": false
   },
   "outputs": [],
   "source": [
    "plt.contourf(diver2)\n",
    "plt.colorbar()"
   ]
  },
  {
   "cell_type": "code",
   "execution_count": null,
   "metadata": {
    "collapsed": true
   },
   "outputs": [],
   "source": []
  },
  {
   "cell_type": "code",
   "execution_count": null,
   "metadata": {
    "collapsed": false
   },
   "outputs": [],
   "source": [
    "np.dot(e_r,E[:,:,0])"
   ]
  },
  {
   "cell_type": "code",
   "execution_count": null,
   "metadata": {
    "collapsed": false
   },
   "outputs": [],
   "source": [
    "np.gradient(np.array([[1, 2, 6], [3, 4, 5]], dtype=np.float))"
   ]
  },
  {
   "cell_type": "code",
   "execution_count": null,
   "metadata": {
    "collapsed": false
   },
   "outputs": [],
   "source": [
    "from netCDF4 import Dataset      \n",
    "import numpy as np      \n",
    "import matplotlib.pyplot as plt \n",
    "\n",
    "GridSat = Dataset('analysis_20040713_v11l30flk.nc4','r',format='NETCDF4')\n",
    "missing_data = -9999.0\n",
    "lat = GridSat.variables['lat']   \n",
    "lat = lat[:]     \n",
    "lat[np.where(lat==missing_data)] = np.nan  \n",
    "lat[np.where(lat > 90.0)] = np.nan     \n",
    "\n",
    "lon = GridSat.variables['lon']   \n",
    "lon = lon[:]                \n",
    "lon[np.where(lon==missing_data)] = np.nan\n",
    "\n",
    "\n",
    "uwind_data = GridSat.variables['uwnd']  \n",
    "uwind = GridSat.variables['uwnd'][:]\n",
    "uwind_sf = uwind_data.scale_factor   \n",
    "uwind_ao = uwind_data.add_offset\n",
    "miss_uwind = uwind_data.missing_value\n",
    "\n",
    "uwind[np.where(uwind==miss_uwind)] = np.nan    \n",
    "\n",
    "\n",
    "vwind_data = GridSat.variables['vwnd']  \n",
    "vwind = GridSat.variables['vwnd'][:]\n",
    "vwind_sf = vwind_data.scale_factor    \n",
    "vwind_ao = vwind_data.add_offset\n",
    "miss_vwind = vwind_data.missing_value\n",
    "\n",
    "vwind[np.where(vwind==miss_vwind)] = np.nan  \n",
    "\n",
    "\n",
    "uwind = uwind[2,:,:]\n",
    "vwind = vwind[2,:,:]  \n",
    "\n",
    "dx = 28400.0 # meters calculated from the 0.25 degree spatial gridding \n",
    "dy = 28400.0 # meters calculated from the 0.25 degree spatial gridding \n",
    "\n",
    "#dv_dx, dv_dy = np.gradient(vwind, [dx,dy])\n",
    "#du_dx, du_dy = np.gradient(uwind, [dx,dy])\n",
    "v_dx, dv_dy = np.gradient(vwind, dx,dy)\n",
    "du_dx, du_dy = np.gradient(uwind, dx,dy)"
   ]
  },
  {
   "cell_type": "code",
   "execution_count": null,
   "metadata": {
    "collapsed": false
   },
   "outputs": [],
   "source": [
    "from netCDF4 import Dataset   "
   ]
  },
  {
   "cell_type": "code",
   "execution_count": null,
   "metadata": {
    "collapsed": false
   },
   "outputs": [],
   "source": [
    "E_large = np.zeros([512,512,3],dtype=np.complex)"
   ]
  },
  {
   "cell_type": "code",
   "execution_count": null,
   "metadata": {
    "collapsed": false
   },
   "outputs": [],
   "source": [
    "E_large[:,:,0:2] = E\n",
    "E_large[:,:,-1] =E_axial"
   ]
  },
  {
   "cell_type": "code",
   "execution_count": null,
   "metadata": {
    "collapsed": false
   },
   "outputs": [],
   "source": [
    "dexdx,dexdy,dexdz = np.gradient(E_large,x[1]-x[0],x[1]-x[0],x[1]-x[0])[0][:,:,0], np.gradient(E_large,1,1,1)[0][:,:,1], np.gradient(E_large,1,1,1)[0][:,:,2]"
   ]
  },
  {
   "cell_type": "code",
   "execution_count": null,
   "metadata": {
    "collapsed": false
   },
   "outputs": [],
   "source": [
    "deydx,deydy,deydz = np.gradient(E_large,x[1]-x[0],x[1]-x[0],x[1]-x[0])[1][:,:,0], np.gradient(E_large,1,1,1)[1][:,:,1], np.gradient(E_large,1,1,1)[1][:,:,2]"
   ]
  },
  {
   "cell_type": "code",
   "execution_count": null,
   "metadata": {
    "collapsed": true
   },
   "outputs": [],
   "source": [
    "dezdx,dezdy,dezdz = np.gradient(E_large,x[1]-x[0],x[1]-x[0],x[1]-x[0])[2][:,:,0], np.gradient(E_large,1,1,1)[2][:,:,1], np.gradient(E_large,1,1,1)[2][:,:,2]"
   ]
  },
  {
   "cell_type": "code",
   "execution_count": null,
   "metadata": {
    "collapsed": false
   },
   "outputs": [],
   "source": [
    "dive =dexdx + deydy +dezdz"
   ]
  },
  {
   "cell_type": "code",
   "execution_count": null,
   "metadata": {
    "collapsed": false
   },
   "outputs": [],
   "source": [
    "plt.contourf(dive)"
   ]
  },
  {
   "cell_type": "code",
   "execution_count": null,
   "metadata": {
    "collapsed": true
   },
   "outputs": [],
   "source": []
  },
  {
   "cell_type": "code",
   "execution_count": null,
   "metadata": {
    "collapsed": true
   },
   "outputs": [],
   "source": []
  }
 ],
 "metadata": {
  "kernelspec": {
   "display_name": "Python 2",
   "language": "python",
   "name": "python2"
  },
  "language_info": {
   "codemirror_mode": {
    "name": "ipython",
    "version": 2
   },
   "file_extension": ".py",
   "mimetype": "text/x-python",
   "name": "python",
   "nbconvert_exporter": "python",
   "pygments_lexer": "ipython2",
   "version": "2.7.11+"
  }
 },
 "nbformat": 4,
 "nbformat_minor": 0
}
