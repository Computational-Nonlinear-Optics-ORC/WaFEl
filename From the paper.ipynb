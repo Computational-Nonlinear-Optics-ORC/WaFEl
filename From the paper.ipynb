{
 "cells": [
  {
   "cell_type": "code",
   "execution_count": 1,
   "metadata": {
    "collapsed": false
   },
   "outputs": [
    {
     "name": "stderr",
     "output_type": "stream",
     "text": [
      "/usr/lib/pymodules/python2.7/petsc4py/lib/__init__.py:123: UserWarning: ignored arch: 'arch-linux2-cxx-debug', using: 'linux-gnu-c-opt'\n",
      "  (os.path.pathsep.join(arch_env), arch))\n"
     ]
    }
   ],
   "source": [
    "#Import the required modules\n",
    "from dolfin import *\n",
    "import numpy as np"
   ]
  },
  {
   "cell_type": "code",
   "execution_count": 2,
   "metadata": {
    "collapsed": false
   },
   "outputs": [],
   "source": [
    "#The mesh used for the rectangular hollow guides\n",
    "a = 1.0\n",
    "b = 0.5\n"
   ]
  },
  {
   "cell_type": "code",
   "execution_count": 3,
   "metadata": {
    "collapsed": false
   },
   "outputs": [],
   "source": [
    "#Create a rectancular mesh with origin (0,0) extending to (a,b) with 8 edges along the long side and 4 elements along the short side\n",
    "mesh =RectangleMesh(Point(0,0),Point(a,b),8,4)"
   ]
  },
  {
   "cell_type": "code",
   "execution_count": 4,
   "metadata": {
    "collapsed": false
   },
   "outputs": [],
   "source": [
    "#define the orders of the fucntion spaces for vector and nodal basis functions\n",
    "vector_order = 2\n",
    "nodal_order = 3\n"
   ]
  },
  {
   "cell_type": "code",
   "execution_count": 5,
   "metadata": {
    "collapsed": false
   },
   "outputs": [
    {
     "name": "stderr",
     "output_type": "stream",
     "text": [
      "DEBUG:FFC:Reusing form from cache.\n",
      "DEBUG:FFC:Reusing form from cache.\n",
      "DEBUG:FFC:Reusing form from cache.\n"
     ]
    }
   ],
   "source": [
    "#define the function spaces\n",
    "vector_space = FunctionSpace(mesh,\"Nedelec 1st kind H(curl)\",vector_order)\n",
    "nodal_space = FunctionSpace(mesh,\"Lagrange\",nodal_order)\n",
    "combined_space = vector_space*nodal_space"
   ]
  },
  {
   "cell_type": "code",
   "execution_count": 6,
   "metadata": {
    "collapsed": false
   },
   "outputs": [],
   "source": [
    "#Define the test and trial functions from the combined space\n",
    "# here N_v and N_u are Nedelec basis functions and L_v and L_u are Lagrange basis functions\n",
    "(N_i,L_i) = TestFunctions(combined_space)\n",
    "(N_j,L_j) = TrialFunctions(combined_space)"
   ]
  },
  {
   "cell_type": "code",
   "execution_count": 7,
   "metadata": {
    "collapsed": false
   },
   "outputs": [],
   "source": [
    "#specify the relative permittivity and permeability\n",
    "e_r = 1.0\n",
    "u_r = 1.0"
   ]
  },
  {
   "cell_type": "code",
   "execution_count": 8,
   "metadata": {
    "collapsed": false
   },
   "outputs": [],
   "source": [
    "def curl_t(w):\n",
    "    return Dx(w[1], 0) - Dx(w[0], 1)"
   ]
  },
  {
   "cell_type": "code",
   "execution_count": 9,
   "metadata": {
    "collapsed": false
   },
   "outputs": [],
   "source": [
    "#define the forms (matrix elements) for cutoff analysis into the basis fnctions\n",
    "s_tt_ij = 1.0/u_r*inner(curl(N_i),curl(N_j))\n",
    "t_tt_ij = e_r*inner(N_i,N_j)\n",
    "s_zz_ij = 1.0/u_r * inner(grad(L_i),grad(L_j))\n",
    "t_zz_ij = e_r*L_i*L_j\n",
    "#post-multiplication by dx will result in integration over the domain of the mesh at assembly time\n",
    "s_ij =(s_tt_ij+s_zz_ij)*dx\n",
    "t_ij = (t_tt_ij+t_zz_ij)*dx"
   ]
  },
  {
   "cell_type": "code",
   "execution_count": 10,
   "metadata": {
    "collapsed": false
   },
   "outputs": [
    {
     "name": "stderr",
     "output_type": "stream",
     "text": [
      "DEBUG:FFC:Reusing form from cache.\n",
      "DEBUG:FFC:Reusing form from cache.\n"
     ]
    }
   ],
   "source": [
    "#assemble the sysstem Matrices. DOLFIN automtically evaluates each of the forms for all the \n",
    "#relavent test and tial functions combnatuoins ie piossible valies of i and j\n",
    "S = assemble(s_ij)\n",
    "T = assemble(t_ij)\n"
   ]
  },
  {
   "cell_type": "code",
   "execution_count": 11,
   "metadata": {
    "collapsed": false
   },
   "outputs": [],
   "source": [
    "#create a mesh function to mark the edges(dimension 1) in the mesh\n",
    "boundary_markers = MeshFunction('uint',mesh,1)\n",
    "#mark all edges as 0\n",
    "boundary_markers.set_all(0)\n",
    "#mark the edges on the boundary as 1\n",
    "DomainBoundary().mark(boundary_markers,1)"
   ]
  },
  {
   "cell_type": "code",
   "execution_count": 12,
   "metadata": {
    "collapsed": false
   },
   "outputs": [],
   "source": [
    "#create the boundary condition using the combined function space, a zero Expression, and the mesh function\n",
    "#for the edges. Note that the last parameter (1) is used to indicate the edges where the boundary condition must be applied\n",
    "electric_wall = DirichletBC(combined_space,Expression((\"0.0\",\"0.0\",\"0.0\")),boundary_markers,1)\n",
    "#apply the boundary condition to the assembled matrices\n",
    "electric_wall.apply(S)\n",
    "electric_wall.apply(T)"
   ]
  },
  {
   "cell_type": "code",
   "execution_count": 13,
   "metadata": {
    "collapsed": false
   },
   "outputs": [],
   "source": [
    "#initialise a vector of ones\n",
    "indicators = np.ones(S.size(0))\n",
    "#get the boundary indictators to remove the rows and colums associated with the boundary DOFs\n",
    "indicators[electric_wall.get_boundary_values().keys()]=0\n",
    "#the free DOFs correspond to the elements of indicators that are equal to 1\n",
    "free_dofs = np.where(indicators == 1)[0]\n",
    "#convert the dolfin matrices to numpy arrays selecting only the rows and colums associated with the free DOFs\n",
    "S_np = S.array()[free_dofs,:][:,free_dofs]\n",
    "T_np = T.array()[free_dofs,:][:,free_dofs]"
   ]
  },
  {
   "cell_type": "code",
   "execution_count": 14,
   "metadata": {
    "collapsed": false
   },
   "outputs": [],
   "source": [
    "#solve the eigensystem (S_np,T_np) using scipy)]\n",
    "from scipy.linalg import eig\n",
    "k_c_squared,ev = eig(S_np,T_np)\n",
    "#sort the calculated values\n",
    "sort_index = np.argsort(k_c_squared)\n",
    "#skip over the non-physical(zero) eigenmodes\n",
    "first_mode_idx = np.where(k_c_squared[sort_index]>1e-8)[0][0]"
   ]
  },
  {
   "cell_type": "code",
   "execution_count": 15,
   "metadata": {
    "collapsed": false
   },
   "outputs": [
    {
     "name": "stdout",
     "output_type": "stream",
     "text": [
      "The cutoff wavenumbers of the 4 most dominant modes are:\n",
      "[  9.86961866+0.j  39.47928042+0.j  39.47928196+0.j  49.34837428+0.j]\n"
     ]
    }
   ],
   "source": [
    "print(\"The cutoff wavenumbers of the 4 most dominant modes are:\")\n",
    "print(k_c_squared[sort_index][first_mode_idx:first_mode_idx+4])"
   ]
  },
  {
   "cell_type": "code",
   "execution_count": 16,
   "metadata": {
    "collapsed": false
   },
   "outputs": [],
   "source": [
    "#TE_10 mode is the first mode\n",
    "mode_idx = 0\n",
    "#post-process the coefficients to map back to the full matrix\n",
    "coefficiants_global = np.zeros(S.size(0))\n",
    "coefficiants_global[free_dofs] = ev[:,sort_index[first_mode_idx+mode_idx]]\n",
    "#Create a Function on the combined space\n",
    "mode = Function(combined_space)\n",
    "#Assign the coefficients of the function to the calculated values\n",
    "mode.vector().set_local(coefficiants_global)\n",
    "#Split the function into the parts in each of the functions spaces in combined_space\n",
    "#This is done using DOLFINs Function.split()\n",
    "(TE,TM) = mode.split()\n",
    "#Plot the mode using the dolfin plotter\n"
   ]
  },
  {
   "cell_type": "code",
   "execution_count": 17,
   "metadata": {
    "collapsed": false
   },
   "outputs": [],
   "source": [
    "plot(TE,title = \"TE_10 mode\")\n",
    "interactive()"
   ]
  },
  {
   "cell_type": "code",
   "execution_count": 18,
   "metadata": {
    "collapsed": false
   },
   "outputs": [],
   "source": [
    "coefficiants_global = np.zeros(S.size(0))\n",
    "coefficiants_global[free_dofs] = ev[:,sort_index[first_mode_idx+mode_idx]]"
   ]
  },
  {
   "cell_type": "code",
   "execution_count": 57,
   "metadata": {
    "collapsed": false
   },
   "outputs": [],
   "source": [
    "#TE_10 mode is the first mode\n",
    "mode_idx = 3\n",
    "#post-process the coefficients to map back to the full matrix\n",
    "coefficiants_global = np.zeros(S.size(0))\n",
    "coefficiants_global[free_dofs] = ev[:,sort_index[first_mode_idx+mode_idx]]\n",
    "#Create a Function on the combined space\n",
    "mode = Function(combined_space)\n",
    "#Assign the coefficients of the function to the calculated values\n",
    "mode.vector().set_local(coefficiants_global)\n",
    "#Split the function into the parts in each of the functions spaces in combined_space\n",
    "#This is done using DOLFINs Function.split()\n",
    "(TE,TM) = mode.split()\n",
    "#Plot the mode using the dolfin plotter"
   ]
  },
  {
   "cell_type": "code",
   "execution_count": 58,
   "metadata": {
    "collapsed": false
   },
   "outputs": [],
   "source": [
    "plot(TM,title=\"TM_11 mode\")\n",
    "interactive()"
   ]
  },
  {
   "cell_type": "code",
   "execution_count": 21,
   "metadata": {
    "collapsed": false
   },
   "outputs": [
    {
     "data": {
      "text/plain": [
       "array([[  2.42890614e-03,  -4.26559435e-03,   2.90552536e-03, ...,\n",
       "          0.00000000e+00,   0.00000000e+00,   0.00000000e+00],\n",
       "       [  1.34922843e-03,  -4.40257309e-03,   4.94730813e-04, ...,\n",
       "          0.00000000e+00,   0.00000000e+00,   0.00000000e+00],\n",
       "       [ -0.00000000e+00,  -0.00000000e+00,  -0.00000000e+00, ...,\n",
       "          3.91102663e-01,   8.35385806e-02,  -8.45602941e-03],\n",
       "       ..., \n",
       "       [ -2.08628507e-06,   3.54715095e-05,   2.53059122e-05, ...,\n",
       "          0.00000000e+00,   0.00000000e+00,   0.00000000e+00],\n",
       "       [  2.90403488e-05,   6.67313327e-05,  -2.47572575e-05, ...,\n",
       "          0.00000000e+00,   0.00000000e+00,   0.00000000e+00],\n",
       "       [ -0.00000000e+00,  -0.00000000e+00,  -0.00000000e+00, ...,\n",
       "         -1.94603331e-01,  -4.26800459e-01,   2.52950246e-01]])"
      ]
     },
     "execution_count": 21,
     "metadata": {},
     "output_type": "execute_result"
    }
   ],
   "source": [
    "ev"
   ]
  },
  {
   "cell_type": "code",
   "execution_count": 22,
   "metadata": {
    "collapsed": false
   },
   "outputs": [
    {
     "data": {
      "text/plain": [
       "669"
      ]
     },
     "execution_count": 22,
     "metadata": {},
     "output_type": "execute_result"
    }
   ],
   "source": [
    "S.size(0)"
   ]
  },
  {
   "cell_type": "code",
   "execution_count": 54,
   "metadata": {
    "collapsed": false
   },
   "outputs": [],
   "source": []
  },
  {
   "cell_type": "code",
   "execution_count": 55,
   "metadata": {
    "collapsed": false
   },
   "outputs": [],
   "source": [
    "size1 = 100\n",
    "size2 = 100\n",
    "E,E_axial = electric_field(mode_idx,size1,size2,k,S,free_dofs,ev,first_mode_idx)"
   ]
  },
  {
   "cell_type": "code",
   "execution_count": 56,
   "metadata": {
    "collapsed": false
   },
   "outputs": [],
   "source": [
    "mode_field1 = np.transpose((np.abs(E[:,:,0])**2 + np.abs(E[:,:,1])**2+np.abs(E_axial[:,:])**2)**0.5)\n",
    "maxi = np.max(mode_field1)\n",
    "mode_field1 /=maxi\n",
    "x = np.linspace(0,a,size1)\n",
    "y = np.linspace(0,b,size2)\n",
    "X,Y = np.meshgrid(x,y)\n",
    "plt.contourf(X,Y,mode_field1,90)\n",
    "plt.colorbar()\n",
    "#plt.title(r'mode$=$'+str(mode_idx)+', '+' Effective=_index $=$'+str(beta[sort_index][mode_idx]/k0))\n",
    "plt.show()"
   ]
  },
  {
   "cell_type": "code",
   "execution_count": 26,
   "metadata": {
    "collapsed": true
   },
   "outputs": [],
   "source": [
    "import matplotlib.pylab as plt"
   ]
  },
  {
   "cell_type": "code",
   "execution_count": null,
   "metadata": {
    "collapsed": false
   },
   "outputs": [],
   "source": [
    "plot(TM)"
   ]
  },
  {
   "cell_type": "code",
   "execution_count": null,
   "metadata": {
    "collapsed": true
   },
   "outputs": [],
   "source": []
  }
 ],
 "metadata": {
  "kernelspec": {
   "display_name": "Python 2",
   "language": "python",
   "name": "python2"
  },
  "language_info": {
   "codemirror_mode": {
    "name": "ipython",
    "version": 2
   },
   "file_extension": ".py",
   "mimetype": "text/x-python",
   "name": "python",
   "nbconvert_exporter": "python",
   "pygments_lexer": "ipython2",
   "version": "2.7.6"
  }
 },
 "nbformat": 4,
 "nbformat_minor": 0
}
